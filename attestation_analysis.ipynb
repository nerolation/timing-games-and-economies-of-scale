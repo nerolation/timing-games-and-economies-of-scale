{
 "cells": [
  {
   "cell_type": "code",
   "execution_count": 2,
   "id": "c88bc9a8",
   "metadata": {},
   "outputs": [],
   "source": [
    "import os\n",
    "import plotly.graph_objects as go\n",
    "import pandas as pd\n",
    "import numpy as np\n",
    "from helpers import * \n",
    "#from xatu import *\n",
    "import pytz\n",
    "import pyxatu\n",
    "\n",
    "pd.set_option('display.max_colwidth', None)\n",
    "\n",
    "GOOGLE_CREDENTIALS = \"./config/google-creds.json\"\n",
    "\n",
    "try:\n",
    "    os.environ['GOOGLE_APPLICATION_CREDENTIALS']\n",
    "except:\n",
    "    print(f\"setting google credentials as global variable...\")\n",
    "    os.environ['GOOGLE_APPLICATION_CREDENTIALS'] = GOOGLE_CREDENTIALS\n",
    "   \n",
    "\n",
    "COLORS = [\n",
    "    '#377eb8', '#ff7f00', '#4daf4a', '#984ea3', '#f781bf', '#a65628',\n",
    "    '#e41a1c', '#a6cee3', '#999999', '#fdbf6f', '#b2df8a', '#fb9a99',\n",
    "    '#cab2d6', '#1f78b4', '#33a02c', '#ff7f7f', '#8dd3c7', '#ffffb3',\n",
    "    '#bebada', '#fb8072', '#80b1d3', '#fdb462', '#b3de69', '#fccde5',\n",
    "    '#d9d9d9', '#bc80bd', '#ccebc5', '#ffed6f',\n",
    "    '#6a3d9a', '#ffcc00', '#b15928', '#1f78b4', '#e31a1c', '#33a02c',\n",
    "    '#fb9a99', '#e6ab02', '#a6761d', '#666666'\n",
    "]\n",
    "\n",
    "FONTSIZE = 16\n",
    "DATA = \"data2\"\n",
    "\n",
    "def get_time_in_curr_slot(ts, slot):\n",
    "    return (ts - (1654824023000 + (slot-1-4e6)*12000) - 12000) / 1000\n",
    "\n",
    "def parse_datetime(event_time_str):\n",
    "    return datetime.strptime(event_time_str, '%Y-%m-%d %H:%M:%S.%f').replace(tzinfo=pytz.UTC).timestamp()*1000"
   ]
  },
  {
   "cell_type": "code",
   "execution_count": 3,
   "id": "abd531a2",
   "metadata": {},
   "outputs": [
    {
     "name": "stderr",
     "output_type": "stream",
     "text": [
      "2024-08-14 12:40:29,277 - INFO - Clickhouse configs set\n",
      "2024-08-14 12:40:29,278 - INFO - Clickhouse URL: https://clickhouse.analytics.production.platform.ethpandaops.io, User: arg\n"
     ]
    },
    {
     "data": {
      "text/plain": [
       "PyXatu(config_path=/home/devops/.pyxatu_config.json, user=arg, url=https://clickhouse.analytics.production.platform.ethpandaops.io)"
      ]
     },
     "execution_count": 3,
     "metadata": {},
     "output_type": "execute_result"
    }
   ],
   "source": [
    "xatu = pyxatu.PyXatu()\n",
    "xatu"
   ]
  },
  {
   "cell_type": "code",
   "execution_count": 4,
   "id": "d2a4505b",
   "metadata": {},
   "outputs": [
    {
     "name": "stderr",
     "output_type": "stream",
     "text": [
      "2024-08-14 12:40:29,670 - INFO - Executing query: SELECT slot, event_date_time, meta_client_geo_country, meta_client_name FROM default.beacon_api_eth_v1_events_block WHERE slot_start_date_time > NOW() - INTERVAL '365 day' AND meta_network_name = 'mainnet'\n"
     ]
    }
   ],
   "source": [
    "df = xatu.get_blockevent( \n",
    "    time_interval=\"365 day\", \n",
    "    columns=\"slot, event_date_time, meta_client_geo_country, meta_client_name\"\n",
    ").sort_values(\"slot\")\n",
    "\n",
    "df = df[df[\"meta_client_geo_country\"] == \"United States\"]\n",
    "\n",
    "df[\"timestamp\"] = df[\"event_date_time\"].apply(lambda x: parse_datetime(x))\n",
    "\n",
    "df[\"seconds_in_slot\"] = df.apply(lambda x: get_time_in_curr_slot(x[\"timestamp\"], x[\"slot\"]),axis=1)\n",
    "\n",
    "df = df.groupby([\"slot\"])[\"seconds_in_slot\"].min().reset_index().sort_values(\"slot\")"
   ]
  },
  {
   "cell_type": "code",
   "execution_count": 5,
   "id": "6ffafedb",
   "metadata": {},
   "outputs": [
    {
     "name": "stderr",
     "output_type": "stream",
     "text": [
      "2024-08-14 12:43:15,046 - INFO - Executing query: SELECT slot, proposer_validator_index FROM default.canonical_beacon_proposer_duty WHERE slot_start_date_time > NOW() - INTERVAL '365 day' AND meta_network_name = 'mainnet' ORDER BY slot\n"
     ]
    },
    {
     "name": "stdout",
     "output_type": "stream",
     "text": [
      "Downloading: 100%|\u001b[32m████████████████████████████████████████████████████████████████████████████████████████████████████████████████████████████████████████████████\u001b[0m|\u001b[0m"
     ]
    },
    {
     "name": "stderr",
     "output_type": "stream",
     "text": [
      "2024-08-14 12:44:01,274 - INFO - Total time taken 43.93 s.\n",
      "Finished at 2024-08-14 12:44:01.\n"
     ]
    },
    {
     "name": "stdout",
     "output_type": "stream",
     "text": [
      "\n"
     ]
    }
   ],
   "source": [
    "proposer = xatu.get_proposers( \n",
    "    time_interval=\"365 day\", \n",
    "    columns=\"slot, proposer_validator_index\",\n",
    "    orderby=\"slot\"\n",
    ")\n",
    "\n",
    "proposer_labels = pandas_gbq.read_gbq(\"\"\"\n",
    "    SELECT DISTINCT validator_id, label FROM `ethereum-data-nero.ethdata.beaconchain_validators_db` \n",
    "\"\"\")\n",
    "proposer_labels = pd.merge(proposer, proposer_labels, how=\"left\", right_on=\"validator_id\", left_on=\"proposer_validator_index\")[[\"slot\", \"label\"]]\n",
    "proposer_labels[\"label\"] = proposer_labels[\"label\"].fillna(\"unidentified\")\n",
    "proposer_labels[\"label\"] = proposer_labels[\"label\"].apply(lambda x: \"solo staker\" if x.endswith(\".eth\") else x.lower())"
   ]
  },
  {
   "cell_type": "code",
   "execution_count": 6,
   "id": "96a018fb",
   "metadata": {},
   "outputs": [
    {
     "data": {
      "text/html": [
       "<div>\n",
       "<style scoped>\n",
       "    .dataframe tbody tr th:only-of-type {\n",
       "        vertical-align: middle;\n",
       "    }\n",
       "\n",
       "    .dataframe tbody tr th {\n",
       "        vertical-align: top;\n",
       "    }\n",
       "\n",
       "    .dataframe thead th {\n",
       "        text-align: right;\n",
       "    }\n",
       "</style>\n",
       "<table border=\"1\" class=\"dataframe\">\n",
       "  <thead>\n",
       "    <tr style=\"text-align: right;\">\n",
       "      <th></th>\n",
       "      <th>slot</th>\n",
       "      <th>seconds_in_slot</th>\n",
       "      <th>label</th>\n",
       "    </tr>\n",
       "  </thead>\n",
       "  <tbody>\n",
       "    <tr>\n",
       "      <th>13</th>\n",
       "      <td>7106016</td>\n",
       "      <td>4.314</td>\n",
       "      <td>binance</td>\n",
       "    </tr>\n",
       "    <tr>\n",
       "      <th>14</th>\n",
       "      <td>7106017</td>\n",
       "      <td>1.805</td>\n",
       "      <td>unidentified</td>\n",
       "    </tr>\n",
       "    <tr>\n",
       "      <th>15</th>\n",
       "      <td>7106018</td>\n",
       "      <td>2.443</td>\n",
       "      <td>binance</td>\n",
       "    </tr>\n",
       "    <tr>\n",
       "      <th>16</th>\n",
       "      <td>7106019</td>\n",
       "      <td>4.490</td>\n",
       "      <td>unidentified</td>\n",
       "    </tr>\n",
       "    <tr>\n",
       "      <th>17</th>\n",
       "      <td>7106021</td>\n",
       "      <td>2.528</td>\n",
       "      <td>unidentified</td>\n",
       "    </tr>\n",
       "    <tr>\n",
       "      <th>...</th>\n",
       "      <td>...</td>\n",
       "      <td>...</td>\n",
       "      <td>...</td>\n",
       "    </tr>\n",
       "    <tr>\n",
       "      <th>3494052</th>\n",
       "      <td>9733947</td>\n",
       "      <td>0.829</td>\n",
       "      <td>unidentified</td>\n",
       "    </tr>\n",
       "    <tr>\n",
       "      <th>3494053</th>\n",
       "      <td>9733948</td>\n",
       "      <td>1.922</td>\n",
       "      <td>coinbase</td>\n",
       "    </tr>\n",
       "    <tr>\n",
       "      <th>3494054</th>\n",
       "      <td>9733949</td>\n",
       "      <td>1.950</td>\n",
       "      <td>unidentified</td>\n",
       "    </tr>\n",
       "    <tr>\n",
       "      <th>3494055</th>\n",
       "      <td>9733950</td>\n",
       "      <td>3.706</td>\n",
       "      <td>kiln</td>\n",
       "    </tr>\n",
       "    <tr>\n",
       "      <th>3494056</th>\n",
       "      <td>9733951</td>\n",
       "      <td>3.123</td>\n",
       "      <td>everstake</td>\n",
       "    </tr>\n",
       "  </tbody>\n",
       "</table>\n",
       "<p>3494044 rows × 3 columns</p>\n",
       "</div>"
      ],
      "text/plain": [
       "            slot  seconds_in_slot         label\n",
       "13       7106016            4.314       binance\n",
       "14       7106017            1.805  unidentified\n",
       "15       7106018            2.443       binance\n",
       "16       7106019            4.490  unidentified\n",
       "17       7106021            2.528  unidentified\n",
       "...          ...              ...           ...\n",
       "3494052  9733947            0.829  unidentified\n",
       "3494053  9733948            1.922      coinbase\n",
       "3494054  9733949            1.950  unidentified\n",
       "3494055  9733950            3.706          kiln\n",
       "3494056  9733951            3.123     everstake\n",
       "\n",
       "[3494044 rows x 3 columns]"
      ]
     },
     "execution_count": 6,
     "metadata": {},
     "output_type": "execute_result"
    }
   ],
   "source": [
    "df = pd.merge(df, proposer_labels, how=\"left\", left_on=\"slot\", right_on=\"slot\")\n",
    "df.dropna(inplace=True)\n",
    "df"
   ]
  },
  {
   "cell_type": "code",
   "execution_count": null,
   "id": "b9688a6a",
   "metadata": {},
   "outputs": [],
   "source": [
    "def hist_late_performer(_df):   \n",
    "    df = _df.copy()\n",
    "\n",
    "    lido = df[df[\"label\"] == \"lido\"]\n",
    "    solo = df[df[\"label\"] == \"solo staker\"]\n",
    "    kiln = df[df[\"label\"] == \"kiln\"]\n",
    "    coinbase = df[df[\"label\"] == \"coinbase\"]\n",
    "    \n",
    "    def calculate_histogram(data, bins, x_range):\n",
    "        hist, bin_edges = np.histogram(data, bins=bins, range=x_range)\n",
    "        # Normalize to percentage\n",
    "        total_count = np.sum(hist)\n",
    "        hist_normalized = (hist / total_count) * 100\n",
    "        return bin_edges, hist_normalized\n",
    "\n",
    "    x_lido, y_lido = calculate_histogram(lido['seconds_in_slot'], 50, (0, 10.1))\n",
    "    x_solo, y_solo = calculate_histogram(solo['seconds_in_slot'], 50, (0, 10.1))\n",
    "    x_kiln, y_kiln = calculate_histogram(kiln['seconds_in_slot'], 50, (0, 10.1))\n",
    "    x_coinbase, y_coinbase = calculate_histogram(coinbase['seconds_in_slot'], 50, (0, 10.1))\n",
    "\n",
    "    fig = go.Figure()\n",
    "\n",
    "    fig.add_trace(go.Scatter(\n",
    "        x=x_lido,\n",
    "        y=y_lido,\n",
    "        fill='tozeroy',\n",
    "        mode='lines',\n",
    "        name='Lido',\n",
    "        line=dict(color=COLORS[0]),\n",
    "        opacity=0.5\n",
    "    ))\n",
    "    fig.add_trace(go.Scatter(\n",
    "        x=x_solo,\n",
    "        y=y_solo,\n",
    "        fill='tozeroy',\n",
    "        mode='lines',\n",
    "        name='Solo Stakers',\n",
    "        line=dict(color=COLORS[1]),\n",
    "        opacity=0.5\n",
    "    ))\n",
    "    \n",
    "    fig.add_trace(go.Scatter(\n",
    "            x=x_coinbase,\n",
    "            y=y_coinbase,\n",
    "            fill='tozeroy',\n",
    "            mode='lines',\n",
    "            name=f'Coinbase',\n",
    "            line=dict(color=COLORS[3]),\n",
    "            opacity=0.5\n",
    "        ))\n",
    "\n",
    "    fig.add_trace(go.Scatter(\n",
    "            x=x_kiln,\n",
    "            y=y_kiln,\n",
    "            fill='tozeroy',\n",
    "            mode='lines',\n",
    "            name=f'Kiln',\n",
    "            line=dict(color=COLORS[2]),\n",
    "            opacity=0.5\n",
    "        ))\n",
    "\n",
    "    fig.update_layout(\n",
    "        title=f'Blocks First Seen Timing <span style=\"font-size: 16px;\">({slot_to_day(df.slot.min())} - {slot_to_day(df.slot.max())})</span>',\n",
    "        yaxis_title='%',\n",
    "        xaxis_title='seconds in slot',\n",
    "        barmode='stack',\n",
    "        legend_traceorder=\"normal\",\n",
    "        xaxis=dict(\n",
    "            tickmode='linear',\n",
    "            showgrid=True,\n",
    "            gridcolor='lightgrey',\n",
    "            range=[0, 5.01]\n",
    "        ),\n",
    "        yaxis=dict(\n",
    "            showgrid=True,\n",
    "            gridcolor='lightgrey',\n",
    "        ),\n",
    "        height=500,\n",
    "        width=900,\n",
    "        font=dict(\n",
    "            family=\"Ubuntu Mono\",\n",
    "            size=FONTSIZE,\n",
    "            color=\"black\"\n",
    "        ),\n",
    "        legend=dict(\n",
    "            x=1,\n",
    "            y=1,\n",
    "            xanchor='right',\n",
    "            yanchor='top'\n",
    "        ),\n",
    "        plot_bgcolor = \"#FFFFFF\"\n",
    "\n",
    "    )\n",
    "\n",
    "    return fig\n",
    "\n",
    "cs = 30  # 30-day window\n",
    "days_step = 1  # Move one day at a time\n",
    "total_days = 365\n",
    "\n",
    "chunks = (total_days - cs) // days_step + 1\n",
    "for i in os.listdir(\"att_pics\"):\n",
    "    if i.startswith(\"proposer_timing_games_entities_\"):\n",
    "        os.remove(f\"att_pics/{i}\")\n",
    "        \n",
    "for ix in range(chunks)[::2]:\n",
    "    start_slot = df.slot.max() - 7200 * (cs + ix * days_step)\n",
    "    end_slot = df.slot.max() - 7200 * ix * days_step\n",
    "    print(ix, start_slot, end_slot)\n",
    "    fig = hist_late_performer(df[(df[\"slot\"] >= start_slot) & (df[\"slot\"] < end_slot)])\n",
    "    fig.write_image(f\"att_pics/proposer_timing_games_entities_{ix:03}.png\")\n",
    "    print(f\"att_pics/proposer_timing_games_entities_{ix:03}.png\")"
   ]
  },
  {
   "cell_type": "code",
   "execution_count": 8,
   "id": "787064d3",
   "metadata": {},
   "outputs": [
    {
     "name": "stdout",
     "output_type": "stream",
     "text": [
      "GIF saved as att_pics/proposer_timing_games.gif\n"
     ]
    }
   ],
   "source": [
    "from PIL import Image\n",
    "import glob\n",
    "\n",
    "image_files = sorted(glob.glob('att_pics/proposer_timing_games_entities_*.png'), key=lambda x: int(x.split(\".\")[0][-3:]), reverse=True)\n",
    "image_files += [image_files[-1]]*300\n",
    "images = [Image.open(img) for img in image_files]\n",
    "output_path = \"att_pics/proposer_timing_games.gif\"\n",
    "images[0].save(output_path, save_all=True, append_images=images[1:], duration=40, loop=0)\n",
    "print(f\"GIF saved as {output_path}\")"
   ]
  },
  {
   "cell_type": "code",
   "execution_count": 23,
   "id": "efd85389",
   "metadata": {},
   "outputs": [],
   "source": [
    "_df = pd.concat([pd.read_parquet(f\"{DATA}/failed_missed_head/{i}\") for i in os.listdir(f\"{DATA}/failed_missed_head/\")],\n",
    "         ignore_index=True)\n",
    "misses = _df.groupby(\"slot\")[\"validator\"].nunique().reset_index()\n",
    "misses.columns = [\"slot\", \"misses\"]\n",
    "misses = misses[misses[\"slot\"] >= df.slot.min()]\n",
    "misses = misses[misses[\"slot\"] <= df.slot.max()]\n",
    "_df = _df[_df[\"slot\"] >= df.slot.min()]\n",
    "_df = _df[_df[\"slot\"] <= df.slot.max()]"
   ]
  },
  {
   "cell_type": "code",
   "execution_count": 24,
   "id": "db30b309",
   "metadata": {},
   "outputs": [],
   "source": [
    "dfwm = pd.merge(df, misses, left_on=\"slot\", right_on=\"slot\").dropna().drop_duplicates()\n",
    "_dfwml = dfwm[dfwm[\"slot\"] > dfwml.slot.max()-7200*30]\n",
    "largest = _dfwml.groupby(\"label\")[\"slot\"].nunique().reset_index().sort_values(\"slot\", ascending=False).label[0:10].tolist()\n",
    "largest.append(\"solo staker\")\n",
    "_dfwml = _dfwml[_dfwml[\"label\"].isin(largest)]"
   ]
  },
  {
   "cell_type": "code",
   "execution_count": 21,
   "id": "28b5a2b8",
   "metadata": {},
   "outputs": [
    {
     "data": {
      "text/plain": [
       "array(['lido', 'figment', 'unidentified', 'coinbase', 'kiln', 'renzo',\n",
       "       'rocketpool', 'binance', 'ether.fi', 'kraken', 'solo staker'],\n",
       "      dtype=object)"
      ]
     },
     "execution_count": 21,
     "metadata": {},
     "output_type": "execute_result"
    }
   ],
   "source": [
    "dfwml.label.unique()"
   ]
  },
  {
   "cell_type": "code",
   "execution_count": 25,
   "id": "0dc8067e",
   "metadata": {},
   "outputs": [
    {
     "data": {
      "application/vnd.plotly.v1+json": {
       "config": {
        "plotlyServerURL": "https://plot.ly"
       },
       "data": [
        {
         "marker": {
          "color": [
           "#377eb8",
           "#ff7f00",
           "#4daf4a",
           "#984ea3",
           "#f781bf",
           "#a65628",
           "#e41a1c",
           "#a6cee3",
           "#999999",
           "#fdbf6f",
           "#b2df8a",
           "#fb9a99",
           "#cab2d6",
           "#1f78b4",
           "#33a02c",
           "#ff7f7f",
           "#8dd3c7",
           "#ffffb3",
           "#bebada",
           "#fb8072",
           "#80b1d3",
           "#fdb462",
           "#b3de69",
           "#fccde5",
           "#d9d9d9",
           "#bc80bd",
           "#ccebc5",
           "#ffed6f",
           "#6a3d9a",
           "#ffcc00",
           "#b15928",
           "#1f78b4",
           "#e31a1c",
           "#33a02c",
           "#fb9a99",
           "#e6ab02",
           "#a6761d",
           "#666666"
          ]
         },
         "name": "Missed Head Votes Over Proposers",
         "type": "bar",
         "x": [
          "lido",
          "unidentified",
          "coinbase",
          "ether.fi",
          "kiln",
          "binance",
          "figment",
          "kraken",
          "rocketpool",
          "staked.us",
          "solo staker"
         ],
         "y": [
          1.8143709010133913,
          1.954237626818189,
          1.6789580972262055,
          1.7205525037572202,
          10.048311533140486,
          1.3542428536203346,
          1.7798428089359701,
          1.3147761687983923,
          2.19653808949842,
          1.1667518476480376,
          1.8459959162609105
         ]
        }
       ],
       "layout": {
        "barmode": "group",
        "font": {
         "family": "Ubuntu Mono",
         "size": 16
        },
        "height": 550,
        "legend": {
         "x": 1,
         "xanchor": "right",
         "y": 1,
         "yanchor": "top"
        },
        "plot_bgcolor": "white",
        "shapes": [
         {
          "line": {
           "color": "black",
           "dash": "dash",
           "width": 2
          },
          "type": "line",
          "x0": -0.5,
          "x1": 10.5,
          "y0": 100,
          "y1": 100
         }
        ],
        "template": {
         "data": {
          "bar": [
           {
            "error_x": {
             "color": "#2a3f5f"
            },
            "error_y": {
             "color": "#2a3f5f"
            },
            "marker": {
             "line": {
              "color": "#E5ECF6",
              "width": 0.5
             },
             "pattern": {
              "fillmode": "overlay",
              "size": 10,
              "solidity": 0.2
             }
            },
            "type": "bar"
           }
          ],
          "barpolar": [
           {
            "marker": {
             "line": {
              "color": "#E5ECF6",
              "width": 0.5
             },
             "pattern": {
              "fillmode": "overlay",
              "size": 10,
              "solidity": 0.2
             }
            },
            "type": "barpolar"
           }
          ],
          "carpet": [
           {
            "aaxis": {
             "endlinecolor": "#2a3f5f",
             "gridcolor": "white",
             "linecolor": "white",
             "minorgridcolor": "white",
             "startlinecolor": "#2a3f5f"
            },
            "baxis": {
             "endlinecolor": "#2a3f5f",
             "gridcolor": "white",
             "linecolor": "white",
             "minorgridcolor": "white",
             "startlinecolor": "#2a3f5f"
            },
            "type": "carpet"
           }
          ],
          "choropleth": [
           {
            "colorbar": {
             "outlinewidth": 0,
             "ticks": ""
            },
            "type": "choropleth"
           }
          ],
          "contour": [
           {
            "colorbar": {
             "outlinewidth": 0,
             "ticks": ""
            },
            "colorscale": [
             [
              0,
              "#0d0887"
             ],
             [
              0.1111111111111111,
              "#46039f"
             ],
             [
              0.2222222222222222,
              "#7201a8"
             ],
             [
              0.3333333333333333,
              "#9c179e"
             ],
             [
              0.4444444444444444,
              "#bd3786"
             ],
             [
              0.5555555555555556,
              "#d8576b"
             ],
             [
              0.6666666666666666,
              "#ed7953"
             ],
             [
              0.7777777777777778,
              "#fb9f3a"
             ],
             [
              0.8888888888888888,
              "#fdca26"
             ],
             [
              1,
              "#f0f921"
             ]
            ],
            "type": "contour"
           }
          ],
          "contourcarpet": [
           {
            "colorbar": {
             "outlinewidth": 0,
             "ticks": ""
            },
            "type": "contourcarpet"
           }
          ],
          "heatmap": [
           {
            "colorbar": {
             "outlinewidth": 0,
             "ticks": ""
            },
            "colorscale": [
             [
              0,
              "#0d0887"
             ],
             [
              0.1111111111111111,
              "#46039f"
             ],
             [
              0.2222222222222222,
              "#7201a8"
             ],
             [
              0.3333333333333333,
              "#9c179e"
             ],
             [
              0.4444444444444444,
              "#bd3786"
             ],
             [
              0.5555555555555556,
              "#d8576b"
             ],
             [
              0.6666666666666666,
              "#ed7953"
             ],
             [
              0.7777777777777778,
              "#fb9f3a"
             ],
             [
              0.8888888888888888,
              "#fdca26"
             ],
             [
              1,
              "#f0f921"
             ]
            ],
            "type": "heatmap"
           }
          ],
          "heatmapgl": [
           {
            "colorbar": {
             "outlinewidth": 0,
             "ticks": ""
            },
            "colorscale": [
             [
              0,
              "#0d0887"
             ],
             [
              0.1111111111111111,
              "#46039f"
             ],
             [
              0.2222222222222222,
              "#7201a8"
             ],
             [
              0.3333333333333333,
              "#9c179e"
             ],
             [
              0.4444444444444444,
              "#bd3786"
             ],
             [
              0.5555555555555556,
              "#d8576b"
             ],
             [
              0.6666666666666666,
              "#ed7953"
             ],
             [
              0.7777777777777778,
              "#fb9f3a"
             ],
             [
              0.8888888888888888,
              "#fdca26"
             ],
             [
              1,
              "#f0f921"
             ]
            ],
            "type": "heatmapgl"
           }
          ],
          "histogram": [
           {
            "marker": {
             "pattern": {
              "fillmode": "overlay",
              "size": 10,
              "solidity": 0.2
             }
            },
            "type": "histogram"
           }
          ],
          "histogram2d": [
           {
            "colorbar": {
             "outlinewidth": 0,
             "ticks": ""
            },
            "colorscale": [
             [
              0,
              "#0d0887"
             ],
             [
              0.1111111111111111,
              "#46039f"
             ],
             [
              0.2222222222222222,
              "#7201a8"
             ],
             [
              0.3333333333333333,
              "#9c179e"
             ],
             [
              0.4444444444444444,
              "#bd3786"
             ],
             [
              0.5555555555555556,
              "#d8576b"
             ],
             [
              0.6666666666666666,
              "#ed7953"
             ],
             [
              0.7777777777777778,
              "#fb9f3a"
             ],
             [
              0.8888888888888888,
              "#fdca26"
             ],
             [
              1,
              "#f0f921"
             ]
            ],
            "type": "histogram2d"
           }
          ],
          "histogram2dcontour": [
           {
            "colorbar": {
             "outlinewidth": 0,
             "ticks": ""
            },
            "colorscale": [
             [
              0,
              "#0d0887"
             ],
             [
              0.1111111111111111,
              "#46039f"
             ],
             [
              0.2222222222222222,
              "#7201a8"
             ],
             [
              0.3333333333333333,
              "#9c179e"
             ],
             [
              0.4444444444444444,
              "#bd3786"
             ],
             [
              0.5555555555555556,
              "#d8576b"
             ],
             [
              0.6666666666666666,
              "#ed7953"
             ],
             [
              0.7777777777777778,
              "#fb9f3a"
             ],
             [
              0.8888888888888888,
              "#fdca26"
             ],
             [
              1,
              "#f0f921"
             ]
            ],
            "type": "histogram2dcontour"
           }
          ],
          "mesh3d": [
           {
            "colorbar": {
             "outlinewidth": 0,
             "ticks": ""
            },
            "type": "mesh3d"
           }
          ],
          "parcoords": [
           {
            "line": {
             "colorbar": {
              "outlinewidth": 0,
              "ticks": ""
             }
            },
            "type": "parcoords"
           }
          ],
          "pie": [
           {
            "automargin": true,
            "type": "pie"
           }
          ],
          "scatter": [
           {
            "fillpattern": {
             "fillmode": "overlay",
             "size": 10,
             "solidity": 0.2
            },
            "type": "scatter"
           }
          ],
          "scatter3d": [
           {
            "line": {
             "colorbar": {
              "outlinewidth": 0,
              "ticks": ""
             }
            },
            "marker": {
             "colorbar": {
              "outlinewidth": 0,
              "ticks": ""
             }
            },
            "type": "scatter3d"
           }
          ],
          "scattercarpet": [
           {
            "marker": {
             "colorbar": {
              "outlinewidth": 0,
              "ticks": ""
             }
            },
            "type": "scattercarpet"
           }
          ],
          "scattergeo": [
           {
            "marker": {
             "colorbar": {
              "outlinewidth": 0,
              "ticks": ""
             }
            },
            "type": "scattergeo"
           }
          ],
          "scattergl": [
           {
            "marker": {
             "colorbar": {
              "outlinewidth": 0,
              "ticks": ""
             }
            },
            "type": "scattergl"
           }
          ],
          "scattermapbox": [
           {
            "marker": {
             "colorbar": {
              "outlinewidth": 0,
              "ticks": ""
             }
            },
            "type": "scattermapbox"
           }
          ],
          "scatterpolar": [
           {
            "marker": {
             "colorbar": {
              "outlinewidth": 0,
              "ticks": ""
             }
            },
            "type": "scatterpolar"
           }
          ],
          "scatterpolargl": [
           {
            "marker": {
             "colorbar": {
              "outlinewidth": 0,
              "ticks": ""
             }
            },
            "type": "scatterpolargl"
           }
          ],
          "scatterternary": [
           {
            "marker": {
             "colorbar": {
              "outlinewidth": 0,
              "ticks": ""
             }
            },
            "type": "scatterternary"
           }
          ],
          "surface": [
           {
            "colorbar": {
             "outlinewidth": 0,
             "ticks": ""
            },
            "colorscale": [
             [
              0,
              "#0d0887"
             ],
             [
              0.1111111111111111,
              "#46039f"
             ],
             [
              0.2222222222222222,
              "#7201a8"
             ],
             [
              0.3333333333333333,
              "#9c179e"
             ],
             [
              0.4444444444444444,
              "#bd3786"
             ],
             [
              0.5555555555555556,
              "#d8576b"
             ],
             [
              0.6666666666666666,
              "#ed7953"
             ],
             [
              0.7777777777777778,
              "#fb9f3a"
             ],
             [
              0.8888888888888888,
              "#fdca26"
             ],
             [
              1,
              "#f0f921"
             ]
            ],
            "type": "surface"
           }
          ],
          "table": [
           {
            "cells": {
             "fill": {
              "color": "#EBF0F8"
             },
             "line": {
              "color": "white"
             }
            },
            "header": {
             "fill": {
              "color": "#C8D4E3"
             },
             "line": {
              "color": "white"
             }
            },
            "type": "table"
           }
          ]
         },
         "layout": {
          "annotationdefaults": {
           "arrowcolor": "#2a3f5f",
           "arrowhead": 0,
           "arrowwidth": 1
          },
          "autotypenumbers": "strict",
          "coloraxis": {
           "colorbar": {
            "outlinewidth": 0,
            "ticks": ""
           }
          },
          "colorscale": {
           "diverging": [
            [
             0,
             "#8e0152"
            ],
            [
             0.1,
             "#c51b7d"
            ],
            [
             0.2,
             "#de77ae"
            ],
            [
             0.3,
             "#f1b6da"
            ],
            [
             0.4,
             "#fde0ef"
            ],
            [
             0.5,
             "#f7f7f7"
            ],
            [
             0.6,
             "#e6f5d0"
            ],
            [
             0.7,
             "#b8e186"
            ],
            [
             0.8,
             "#7fbc41"
            ],
            [
             0.9,
             "#4d9221"
            ],
            [
             1,
             "#276419"
            ]
           ],
           "sequential": [
            [
             0,
             "#0d0887"
            ],
            [
             0.1111111111111111,
             "#46039f"
            ],
            [
             0.2222222222222222,
             "#7201a8"
            ],
            [
             0.3333333333333333,
             "#9c179e"
            ],
            [
             0.4444444444444444,
             "#bd3786"
            ],
            [
             0.5555555555555556,
             "#d8576b"
            ],
            [
             0.6666666666666666,
             "#ed7953"
            ],
            [
             0.7777777777777778,
             "#fb9f3a"
            ],
            [
             0.8888888888888888,
             "#fdca26"
            ],
            [
             1,
             "#f0f921"
            ]
           ],
           "sequentialminus": [
            [
             0,
             "#0d0887"
            ],
            [
             0.1111111111111111,
             "#46039f"
            ],
            [
             0.2222222222222222,
             "#7201a8"
            ],
            [
             0.3333333333333333,
             "#9c179e"
            ],
            [
             0.4444444444444444,
             "#bd3786"
            ],
            [
             0.5555555555555556,
             "#d8576b"
            ],
            [
             0.6666666666666666,
             "#ed7953"
            ],
            [
             0.7777777777777778,
             "#fb9f3a"
            ],
            [
             0.8888888888888888,
             "#fdca26"
            ],
            [
             1,
             "#f0f921"
            ]
           ]
          },
          "colorway": [
           "#636efa",
           "#EF553B",
           "#00cc96",
           "#ab63fa",
           "#FFA15A",
           "#19d3f3",
           "#FF6692",
           "#B6E880",
           "#FF97FF",
           "#FECB52"
          ],
          "font": {
           "color": "#2a3f5f"
          },
          "geo": {
           "bgcolor": "white",
           "lakecolor": "white",
           "landcolor": "#E5ECF6",
           "showlakes": true,
           "showland": true,
           "subunitcolor": "white"
          },
          "hoverlabel": {
           "align": "left"
          },
          "hovermode": "closest",
          "mapbox": {
           "style": "light"
          },
          "paper_bgcolor": "white",
          "plot_bgcolor": "#E5ECF6",
          "polar": {
           "angularaxis": {
            "gridcolor": "white",
            "linecolor": "white",
            "ticks": ""
           },
           "bgcolor": "#E5ECF6",
           "radialaxis": {
            "gridcolor": "white",
            "linecolor": "white",
            "ticks": ""
           }
          },
          "scene": {
           "xaxis": {
            "backgroundcolor": "#E5ECF6",
            "gridcolor": "white",
            "gridwidth": 2,
            "linecolor": "white",
            "showbackground": true,
            "ticks": "",
            "zerolinecolor": "white"
           },
           "yaxis": {
            "backgroundcolor": "#E5ECF6",
            "gridcolor": "white",
            "gridwidth": 2,
            "linecolor": "white",
            "showbackground": true,
            "ticks": "",
            "zerolinecolor": "white"
           },
           "zaxis": {
            "backgroundcolor": "#E5ECF6",
            "gridcolor": "white",
            "gridwidth": 2,
            "linecolor": "white",
            "showbackground": true,
            "ticks": "",
            "zerolinecolor": "white"
           }
          },
          "shapedefaults": {
           "line": {
            "color": "#2a3f5f"
           }
          },
          "ternary": {
           "aaxis": {
            "gridcolor": "white",
            "linecolor": "white",
            "ticks": ""
           },
           "baxis": {
            "gridcolor": "white",
            "linecolor": "white",
            "ticks": ""
           },
           "bgcolor": "#E5ECF6",
           "caxis": {
            "gridcolor": "white",
            "linecolor": "white",
            "ticks": ""
           }
          },
          "title": {
           "x": 0.05
          },
          "xaxis": {
           "automargin": true,
           "gridcolor": "white",
           "linecolor": "white",
           "ticks": "",
           "title": {
            "standoff": 15
           },
           "zerolinecolor": "white",
           "zerolinewidth": 2
          },
          "yaxis": {
           "automargin": true,
           "gridcolor": "white",
           "linecolor": "white",
           "ticks": "",
           "title": {
            "standoff": 15
           },
           "zerolinecolor": "white",
           "zerolinewidth": 2
          }
         }
        },
        "title": {
         "text": "Missed Head Votes Over Proposers <span style=\"font-size: 16px;\">(2023-08-15 - 2024-08-14)</span>"
        },
        "width": 1200,
        "xaxis": {
         "gridcolor": "lightgray",
         "showgrid": true,
         "tickformat": ",d",
         "title": {}
        },
        "yaxis": {
         "gridcolor": "lightgray",
         "range": [
          0,
          105
         ],
         "showgrid": true,
         "tickvals": [
          0,
          10,
          20,
          30,
          40,
          50,
          60,
          70,
          80,
          90,
          100
         ],
         "title": {
          "text": "missed/failed head votes (%)"
         }
        }
       }
      },
      "text/html": [
       "<div>                            <div id=\"26689f07-5a1f-4342-b6ae-99b0ca51169d\" class=\"plotly-graph-div\" style=\"height:550px; width:1200px;\"></div>            <script type=\"text/javascript\">                require([\"plotly\"], function(Plotly) {                    window.PLOTLYENV=window.PLOTLYENV || {};                                    if (document.getElementById(\"26689f07-5a1f-4342-b6ae-99b0ca51169d\")) {                    Plotly.newPlot(                        \"26689f07-5a1f-4342-b6ae-99b0ca51169d\",                        [{\"marker\":{\"color\":[\"#377eb8\",\"#ff7f00\",\"#4daf4a\",\"#984ea3\",\"#f781bf\",\"#a65628\",\"#e41a1c\",\"#a6cee3\",\"#999999\",\"#fdbf6f\",\"#b2df8a\",\"#fb9a99\",\"#cab2d6\",\"#1f78b4\",\"#33a02c\",\"#ff7f7f\",\"#8dd3c7\",\"#ffffb3\",\"#bebada\",\"#fb8072\",\"#80b1d3\",\"#fdb462\",\"#b3de69\",\"#fccde5\",\"#d9d9d9\",\"#bc80bd\",\"#ccebc5\",\"#ffed6f\",\"#6a3d9a\",\"#ffcc00\",\"#b15928\",\"#1f78b4\",\"#e31a1c\",\"#33a02c\",\"#fb9a99\",\"#e6ab02\",\"#a6761d\",\"#666666\"]},\"name\":\"Missed Head Votes Over Proposers\",\"x\":[\"lido\",\"unidentified\",\"coinbase\",\"ether.fi\",\"kiln\",\"binance\",\"figment\",\"kraken\",\"rocketpool\",\"staked.us\",\"solo staker\"],\"y\":[1.8143709010133913,1.954237626818189,1.6789580972262055,1.7205525037572202,10.048311533140486,1.3542428536203346,1.7798428089359701,1.3147761687983923,2.19653808949842,1.1667518476480376,1.8459959162609105],\"type\":\"bar\"}],                        {\"template\":{\"data\":{\"histogram2dcontour\":[{\"type\":\"histogram2dcontour\",\"colorbar\":{\"outlinewidth\":0,\"ticks\":\"\"},\"colorscale\":[[0.0,\"#0d0887\"],[0.1111111111111111,\"#46039f\"],[0.2222222222222222,\"#7201a8\"],[0.3333333333333333,\"#9c179e\"],[0.4444444444444444,\"#bd3786\"],[0.5555555555555556,\"#d8576b\"],[0.6666666666666666,\"#ed7953\"],[0.7777777777777778,\"#fb9f3a\"],[0.8888888888888888,\"#fdca26\"],[1.0,\"#f0f921\"]]}],\"choropleth\":[{\"type\":\"choropleth\",\"colorbar\":{\"outlinewidth\":0,\"ticks\":\"\"}}],\"histogram2d\":[{\"type\":\"histogram2d\",\"colorbar\":{\"outlinewidth\":0,\"ticks\":\"\"},\"colorscale\":[[0.0,\"#0d0887\"],[0.1111111111111111,\"#46039f\"],[0.2222222222222222,\"#7201a8\"],[0.3333333333333333,\"#9c179e\"],[0.4444444444444444,\"#bd3786\"],[0.5555555555555556,\"#d8576b\"],[0.6666666666666666,\"#ed7953\"],[0.7777777777777778,\"#fb9f3a\"],[0.8888888888888888,\"#fdca26\"],[1.0,\"#f0f921\"]]}],\"heatmap\":[{\"type\":\"heatmap\",\"colorbar\":{\"outlinewidth\":0,\"ticks\":\"\"},\"colorscale\":[[0.0,\"#0d0887\"],[0.1111111111111111,\"#46039f\"],[0.2222222222222222,\"#7201a8\"],[0.3333333333333333,\"#9c179e\"],[0.4444444444444444,\"#bd3786\"],[0.5555555555555556,\"#d8576b\"],[0.6666666666666666,\"#ed7953\"],[0.7777777777777778,\"#fb9f3a\"],[0.8888888888888888,\"#fdca26\"],[1.0,\"#f0f921\"]]}],\"heatmapgl\":[{\"type\":\"heatmapgl\",\"colorbar\":{\"outlinewidth\":0,\"ticks\":\"\"},\"colorscale\":[[0.0,\"#0d0887\"],[0.1111111111111111,\"#46039f\"],[0.2222222222222222,\"#7201a8\"],[0.3333333333333333,\"#9c179e\"],[0.4444444444444444,\"#bd3786\"],[0.5555555555555556,\"#d8576b\"],[0.6666666666666666,\"#ed7953\"],[0.7777777777777778,\"#fb9f3a\"],[0.8888888888888888,\"#fdca26\"],[1.0,\"#f0f921\"]]}],\"contourcarpet\":[{\"type\":\"contourcarpet\",\"colorbar\":{\"outlinewidth\":0,\"ticks\":\"\"}}],\"contour\":[{\"type\":\"contour\",\"colorbar\":{\"outlinewidth\":0,\"ticks\":\"\"},\"colorscale\":[[0.0,\"#0d0887\"],[0.1111111111111111,\"#46039f\"],[0.2222222222222222,\"#7201a8\"],[0.3333333333333333,\"#9c179e\"],[0.4444444444444444,\"#bd3786\"],[0.5555555555555556,\"#d8576b\"],[0.6666666666666666,\"#ed7953\"],[0.7777777777777778,\"#fb9f3a\"],[0.8888888888888888,\"#fdca26\"],[1.0,\"#f0f921\"]]}],\"surface\":[{\"type\":\"surface\",\"colorbar\":{\"outlinewidth\":0,\"ticks\":\"\"},\"colorscale\":[[0.0,\"#0d0887\"],[0.1111111111111111,\"#46039f\"],[0.2222222222222222,\"#7201a8\"],[0.3333333333333333,\"#9c179e\"],[0.4444444444444444,\"#bd3786\"],[0.5555555555555556,\"#d8576b\"],[0.6666666666666666,\"#ed7953\"],[0.7777777777777778,\"#fb9f3a\"],[0.8888888888888888,\"#fdca26\"],[1.0,\"#f0f921\"]]}],\"mesh3d\":[{\"type\":\"mesh3d\",\"colorbar\":{\"outlinewidth\":0,\"ticks\":\"\"}}],\"scatter\":[{\"fillpattern\":{\"fillmode\":\"overlay\",\"size\":10,\"solidity\":0.2},\"type\":\"scatter\"}],\"parcoords\":[{\"type\":\"parcoords\",\"line\":{\"colorbar\":{\"outlinewidth\":0,\"ticks\":\"\"}}}],\"scatterpolargl\":[{\"type\":\"scatterpolargl\",\"marker\":{\"colorbar\":{\"outlinewidth\":0,\"ticks\":\"\"}}}],\"bar\":[{\"error_x\":{\"color\":\"#2a3f5f\"},\"error_y\":{\"color\":\"#2a3f5f\"},\"marker\":{\"line\":{\"color\":\"#E5ECF6\",\"width\":0.5},\"pattern\":{\"fillmode\":\"overlay\",\"size\":10,\"solidity\":0.2}},\"type\":\"bar\"}],\"scattergeo\":[{\"type\":\"scattergeo\",\"marker\":{\"colorbar\":{\"outlinewidth\":0,\"ticks\":\"\"}}}],\"scatterpolar\":[{\"type\":\"scatterpolar\",\"marker\":{\"colorbar\":{\"outlinewidth\":0,\"ticks\":\"\"}}}],\"histogram\":[{\"marker\":{\"pattern\":{\"fillmode\":\"overlay\",\"size\":10,\"solidity\":0.2}},\"type\":\"histogram\"}],\"scattergl\":[{\"type\":\"scattergl\",\"marker\":{\"colorbar\":{\"outlinewidth\":0,\"ticks\":\"\"}}}],\"scatter3d\":[{\"type\":\"scatter3d\",\"line\":{\"colorbar\":{\"outlinewidth\":0,\"ticks\":\"\"}},\"marker\":{\"colorbar\":{\"outlinewidth\":0,\"ticks\":\"\"}}}],\"scattermapbox\":[{\"type\":\"scattermapbox\",\"marker\":{\"colorbar\":{\"outlinewidth\":0,\"ticks\":\"\"}}}],\"scatterternary\":[{\"type\":\"scatterternary\",\"marker\":{\"colorbar\":{\"outlinewidth\":0,\"ticks\":\"\"}}}],\"scattercarpet\":[{\"type\":\"scattercarpet\",\"marker\":{\"colorbar\":{\"outlinewidth\":0,\"ticks\":\"\"}}}],\"carpet\":[{\"aaxis\":{\"endlinecolor\":\"#2a3f5f\",\"gridcolor\":\"white\",\"linecolor\":\"white\",\"minorgridcolor\":\"white\",\"startlinecolor\":\"#2a3f5f\"},\"baxis\":{\"endlinecolor\":\"#2a3f5f\",\"gridcolor\":\"white\",\"linecolor\":\"white\",\"minorgridcolor\":\"white\",\"startlinecolor\":\"#2a3f5f\"},\"type\":\"carpet\"}],\"table\":[{\"cells\":{\"fill\":{\"color\":\"#EBF0F8\"},\"line\":{\"color\":\"white\"}},\"header\":{\"fill\":{\"color\":\"#C8D4E3\"},\"line\":{\"color\":\"white\"}},\"type\":\"table\"}],\"barpolar\":[{\"marker\":{\"line\":{\"color\":\"#E5ECF6\",\"width\":0.5},\"pattern\":{\"fillmode\":\"overlay\",\"size\":10,\"solidity\":0.2}},\"type\":\"barpolar\"}],\"pie\":[{\"automargin\":true,\"type\":\"pie\"}]},\"layout\":{\"autotypenumbers\":\"strict\",\"colorway\":[\"#636efa\",\"#EF553B\",\"#00cc96\",\"#ab63fa\",\"#FFA15A\",\"#19d3f3\",\"#FF6692\",\"#B6E880\",\"#FF97FF\",\"#FECB52\"],\"font\":{\"color\":\"#2a3f5f\"},\"hovermode\":\"closest\",\"hoverlabel\":{\"align\":\"left\"},\"paper_bgcolor\":\"white\",\"plot_bgcolor\":\"#E5ECF6\",\"polar\":{\"bgcolor\":\"#E5ECF6\",\"angularaxis\":{\"gridcolor\":\"white\",\"linecolor\":\"white\",\"ticks\":\"\"},\"radialaxis\":{\"gridcolor\":\"white\",\"linecolor\":\"white\",\"ticks\":\"\"}},\"ternary\":{\"bgcolor\":\"#E5ECF6\",\"aaxis\":{\"gridcolor\":\"white\",\"linecolor\":\"white\",\"ticks\":\"\"},\"baxis\":{\"gridcolor\":\"white\",\"linecolor\":\"white\",\"ticks\":\"\"},\"caxis\":{\"gridcolor\":\"white\",\"linecolor\":\"white\",\"ticks\":\"\"}},\"coloraxis\":{\"colorbar\":{\"outlinewidth\":0,\"ticks\":\"\"}},\"colorscale\":{\"sequential\":[[0.0,\"#0d0887\"],[0.1111111111111111,\"#46039f\"],[0.2222222222222222,\"#7201a8\"],[0.3333333333333333,\"#9c179e\"],[0.4444444444444444,\"#bd3786\"],[0.5555555555555556,\"#d8576b\"],[0.6666666666666666,\"#ed7953\"],[0.7777777777777778,\"#fb9f3a\"],[0.8888888888888888,\"#fdca26\"],[1.0,\"#f0f921\"]],\"sequentialminus\":[[0.0,\"#0d0887\"],[0.1111111111111111,\"#46039f\"],[0.2222222222222222,\"#7201a8\"],[0.3333333333333333,\"#9c179e\"],[0.4444444444444444,\"#bd3786\"],[0.5555555555555556,\"#d8576b\"],[0.6666666666666666,\"#ed7953\"],[0.7777777777777778,\"#fb9f3a\"],[0.8888888888888888,\"#fdca26\"],[1.0,\"#f0f921\"]],\"diverging\":[[0,\"#8e0152\"],[0.1,\"#c51b7d\"],[0.2,\"#de77ae\"],[0.3,\"#f1b6da\"],[0.4,\"#fde0ef\"],[0.5,\"#f7f7f7\"],[0.6,\"#e6f5d0\"],[0.7,\"#b8e186\"],[0.8,\"#7fbc41\"],[0.9,\"#4d9221\"],[1,\"#276419\"]]},\"xaxis\":{\"gridcolor\":\"white\",\"linecolor\":\"white\",\"ticks\":\"\",\"title\":{\"standoff\":15},\"zerolinecolor\":\"white\",\"automargin\":true,\"zerolinewidth\":2},\"yaxis\":{\"gridcolor\":\"white\",\"linecolor\":\"white\",\"ticks\":\"\",\"title\":{\"standoff\":15},\"zerolinecolor\":\"white\",\"automargin\":true,\"zerolinewidth\":2},\"scene\":{\"xaxis\":{\"backgroundcolor\":\"#E5ECF6\",\"gridcolor\":\"white\",\"linecolor\":\"white\",\"showbackground\":true,\"ticks\":\"\",\"zerolinecolor\":\"white\",\"gridwidth\":2},\"yaxis\":{\"backgroundcolor\":\"#E5ECF6\",\"gridcolor\":\"white\",\"linecolor\":\"white\",\"showbackground\":true,\"ticks\":\"\",\"zerolinecolor\":\"white\",\"gridwidth\":2},\"zaxis\":{\"backgroundcolor\":\"#E5ECF6\",\"gridcolor\":\"white\",\"linecolor\":\"white\",\"showbackground\":true,\"ticks\":\"\",\"zerolinecolor\":\"white\",\"gridwidth\":2}},\"shapedefaults\":{\"line\":{\"color\":\"#2a3f5f\"}},\"annotationdefaults\":{\"arrowcolor\":\"#2a3f5f\",\"arrowhead\":0,\"arrowwidth\":1},\"geo\":{\"bgcolor\":\"white\",\"landcolor\":\"#E5ECF6\",\"subunitcolor\":\"white\",\"showland\":true,\"showlakes\":true,\"lakecolor\":\"white\"},\"title\":{\"x\":0.05},\"mapbox\":{\"style\":\"light\"}}},\"shapes\":[{\"line\":{\"color\":\"black\",\"dash\":\"dash\",\"width\":2},\"type\":\"line\",\"x0\":-0.5,\"x1\":10.5,\"y0\":100,\"y1\":100}],\"font\":{\"family\":\"Ubuntu Mono\",\"size\":16},\"legend\":{\"x\":1,\"y\":1,\"xanchor\":\"right\",\"yanchor\":\"top\"},\"xaxis\":{\"title\":{},\"showgrid\":true,\"gridcolor\":\"lightgray\",\"tickformat\":\",d\"},\"yaxis\":{\"title\":{\"text\":\"missed\\u002ffailed head votes (%)\"},\"showgrid\":true,\"gridcolor\":\"lightgray\",\"range\":[0,105],\"tickvals\":[0,10,20,30,40,50,60,70,80,90,100]},\"title\":{\"text\":\"Missed Head Votes Over Proposers \\u003cspan style=\\\"font-size: 16px;\\\"\\u003e(2023-08-15 - 2024-08-14)\\u003c\\u002fspan\\u003e\"},\"barmode\":\"group\",\"plot_bgcolor\":\"white\",\"height\":550,\"width\":1200},                        {\"responsive\": true}                    ).then(function(){\n",
       "                            \n",
       "var gd = document.getElementById('26689f07-5a1f-4342-b6ae-99b0ca51169d');\n",
       "var x = new MutationObserver(function (mutations, observer) {{\n",
       "        var display = window.getComputedStyle(gd).display;\n",
       "        if (!display || display === 'none') {{\n",
       "            console.log([gd, 'removed!']);\n",
       "            Plotly.purge(gd);\n",
       "            observer.disconnect();\n",
       "        }}\n",
       "}});\n",
       "\n",
       "// Listen for the removal of the full notebook cells\n",
       "var notebookContainer = gd.closest('#notebook-container');\n",
       "if (notebookContainer) {{\n",
       "    x.observe(notebookContainer, {childList: true});\n",
       "}}\n",
       "\n",
       "// Listen for the clearing of the current output cell\n",
       "var outputEl = gd.closest('.output');\n",
       "if (outputEl) {{\n",
       "    x.observe(outputEl, {childList: true});\n",
       "}}\n",
       "\n",
       "                        })                };                });            </script>        </div>"
      ]
     },
     "metadata": {},
     "output_type": "display_data"
    }
   ],
   "source": [
    "fig = go.Figure()\n",
    "for i in [_dfwml]:\n",
    "    missed_head_votes_over_label = i.groupby(\"label\")[\"misses\"].mean().reset_index()\n",
    "    missed_head_votes_over_label[\"per\"] = missed_head_votes_over_label[\"misses\"] / 32800 * 100    \n",
    "    missed_head_votes_over_label.set_index(\"label\", inplace=True)\n",
    "    missed_head_votes_over_label = missed_head_votes_over_label.loc[largest]\n",
    "    missed_head_votes_over_label.reset_index(inplace=True)\n",
    "    fig.add_trace(go.Bar(\n",
    "            x=missed_head_votes_over_label['label'],\n",
    "            y=missed_head_votes_over_label['per'],\n",
    "            name='Missed Head Votes Over Proposers',\n",
    "            marker_color=COLORS\n",
    "        ))\n",
    "\n",
    "fig.add_shape(\n",
    "    type=\"line\",\n",
    "    x0=-0.5, x1=10.5, y0=100, y1=100,\n",
    "    line=dict(color=\"black\", width=2, dash=\"dash\")\n",
    ")\n",
    "\n",
    "fig.update_layout(\n",
    "    title=f'Missed Head Votes Over Proposers <span style=\"font-size: 16px;\">({slot_to_day(df.slot.min())} - {slot_to_day(df.slot.max())})</span>',\n",
    "    xaxis_title=None,\n",
    "    yaxis_title=f'missed/failed head votes (%)',\n",
    "    barmode='group',\n",
    "    plot_bgcolor='white',\n",
    "    font=dict(family=\"Ubuntu Mono\", size=FONTSIZE),\n",
    "    legend=dict(\n",
    "        x=1,\n",
    "        y=1,\n",
    "        xanchor='right',\n",
    "        yanchor='top'\n",
    "    ),\n",
    "    xaxis=dict(showgrid=True, gridcolor='lightgray', tickformat=\",d\"),\n",
    "    yaxis=dict(showgrid=True, gridcolor='lightgray',range=[0,105], tickvals=list(range(0,101,10))),\n",
    "    height=550,\n",
    "    width=1200,\n",
    "    )\n",
    "fig.write_image(f\"att_pics/missed_head_votes_over_proposers.png\")\n",
    "fig.show()"
   ]
  },
  {
   "cell_type": "code",
   "execution_count": 28,
   "id": "a35341b8",
   "metadata": {},
   "outputs": [
    {
     "name": "stdout",
     "output_type": "stream",
     "text": [
      "Downloading: 100%|\u001b[32m████████████████████████████████████████████████████████████████████████████████████████████████████████████████████████████████████████████████\u001b[0m|\u001b[0m"
     ]
    },
    {
     "name": "stderr",
     "output_type": "stream",
     "text": [
      "2024-08-14 12:57:41,584 - INFO - Total time taken 38.34 s.\n",
      "Finished at 2024-08-14 12:57:41.\n"
     ]
    },
    {
     "name": "stdout",
     "output_type": "stream",
     "text": [
      "\n"
     ]
    }
   ],
   "source": [
    "validator_labels = pandas_gbq.read_gbq(\"\"\"\n",
    "    SELECT DISTINCT validator_id, label FROM `ethereum-data-nero.ethdata.beaconchain_validators_db` \n",
    "\"\"\")\n",
    "validator_labels[\"label\"] = validator_labels[\"label\"].apply(lambda x: \"unidentified\" if x == None else x)\n",
    "validator_labels[\"label\"] = validator_labels[\"label\"].fillna(\"unidentified\")\n",
    "validator_labels[\"label\"] = validator_labels[\"label\"].apply(lambda x: \"solo staker\" if x.endswith(\".eth\") else x.lower())\n",
    "\n",
    "def merge_labels(df, labels, left_on=\"validator\", right_on=\"validator_id\", nlargest=15, add=None):\n",
    "    df = pd.merge(df, labels, how=\"left\", left_on=left_on, right_on=right_on).drop(right_on, axis=1)\n",
    "    df[\"label\"] = df[\"label\"].apply(lambda x: \"unidentified\" if x == None else x)\n",
    "    df[\"label\"] = df[\"label\"].fillna(\"unidentified\")\n",
    "    df[\"label\"] = df[\"label\"].apply(lambda x: \"solo staker\" if x.endswith(\".eth\") else x.lower())\n",
    "    largest = df.groupby(\"label\")[left_on].sum().reset_index().sort_values(left_on, ascending=False)[\"label\"].tolist()[0:nlargest]\n",
    "    if add:\n",
    "        largest += add\n",
    "    if \"solo staker\" not in largest:\n",
    "        largest.append(\"solo staker\")\n",
    "    df[\"label\"] = df[\"label\"].apply(lambda x: x if x in largest else \"other\")\n",
    "    if \"other\" not in largest:\n",
    "        largest.append(\"other\")\n",
    "    return df, largest\n",
    "\n",
    "_df = _df[_df[\"slot\"] >= _df[\"slot\"].max() - 7200*31]\n",
    "all_missed_head_votes, _ = merge_labels(_df, validator_labels, left_on=\"validator\", right_on=\"validator_id\")"
   ]
  },
  {
   "cell_type": "code",
   "execution_count": 29,
   "id": "6ec02b9f",
   "metadata": {},
   "outputs": [],
   "source": [
    "all_kiln_slots = dfwml[dfwml[\"label\"] == \"kiln\"].slot.tolist()\n",
    "all_lido_slots = dfwml[dfwml[\"label\"] == \"lido\"].slot.tolist()\n",
    "all_renzo_slots = dfwml[dfwml[\"label\"] == \"renzo\"].slot.tolist()\n",
    "all_etherfi_slots = dfwml[dfwml[\"label\"] == \"ether.fi\"].slot.tolist()\n",
    "all_coinbase_slots = dfwml[dfwml[\"label\"] == \"coinbase\"].slot.tolist()\n",
    "\n",
    "missed_head_votes_for_kiln_slots = all_missed_head_votes[all_missed_head_votes[\"slot\"].isin(all_kiln_slots)]\n",
    "missed_head_votes_for_lido_slots = all_missed_head_votes[all_missed_head_votes[\"slot\"].isin(all_lido_slots)]\n",
    "missed_head_votes_for_etherfi_slots = all_missed_head_votes[all_missed_head_votes[\"slot\"].isin(all_etherfi_slots)]\n",
    "missed_head_votes_for_coinbase_slots = all_missed_head_votes[all_missed_head_votes[\"slot\"].isin(all_coinbase_slots)]\n",
    "\n",
    "all_kiln_gr = missed_head_votes_for_kiln_slots[[\"validator\", \"slot\", \"label\"]].drop_duplicates().groupby(\"label\")[\"validator\"].count().reset_index()\n",
    "all_lido_gr = missed_head_votes_for_lido_slots[[\"validator\", \"slot\", \"label\"]].drop_duplicates().groupby(\"label\")[\"validator\"].count().reset_index()\n",
    "all_etherfi_gr = missed_head_votes_for_etherfi_slots[[\"validator\", \"slot\", \"label\"]].drop_duplicates().groupby(\"label\")[\"validator\"].count().reset_index()\n",
    "all_coinbase_gr = missed_head_votes_for_coinbase_slots[[\"validator\", \"slot\", \"label\"]].drop_duplicates().groupby(\"label\")[\"validator\"].count().reset_index()\n",
    "\n",
    "all_kiln_gr[\"share\"] = all_kiln_gr[\"validator\"]/len(missed_head_votes_for_kiln_slots[[\"validator\", \"slot\", \"label\"]].drop_duplicates().index) * 100\n",
    "all_lido_gr[\"share\"] = all_lido_gr[\"validator\"]/len(missed_head_votes_for_lido_slots[[\"validator\", \"slot\", \"label\"]].drop_duplicates().index) * 100\n",
    "all_etherfi_gr[\"share\"] = all_etherfi_gr[\"validator\"]/len(missed_head_votes_for_etherfi_slots[[\"validator\", \"slot\", \"label\"]].drop_duplicates().index) * 100\n",
    "all_coinbase_gr[\"share\"] = all_coinbase_gr[\"validator\"]/len(missed_head_votes_for_coinbase_slots[[\"validator\", \"slot\", \"label\"]].drop_duplicates().index) * 100\n",
    "\n",
    "total_validator_share = all_missed_head_votes.groupby(\"label\")[\"validator\"].count().reset_index().sort_values(\"validator\", ascending=False)\n",
    "total_validator_share[\"share\"] = total_validator_share[\"validator\"]/all_missed_head_votes.validator.count()*100\n",
    "\n",
    "all_kiln_shares = pd.merge(all_kiln_gr[[\"label\", \"share\"]], total_validator_share[[\"label\", \"share\"]], left_on=\"label\", right_on=\"label\")\n",
    "all_lido_shares = pd.merge(all_lido_gr[[\"label\", \"share\"]], total_validator_share[[\"label\", \"share\"]], left_on=\"label\", right_on=\"label\")\n",
    "all_etherfi_shares = pd.merge(all_etherfi_gr[[\"label\", \"share\"]], total_validator_share[[\"label\", \"share\"]], left_on=\"label\", right_on=\"label\")\n",
    "all_coinbase_shares = pd.merge(all_coinbase_gr[[\"label\", \"share\"]], total_validator_share[[\"label\", \"share\"]], left_on=\"label\", right_on=\"label\")\n",
    "\n",
    "all_kiln_shares.drop(\"share_y\", axis=1, inplace=True)\n",
    "all_etherfi_shares.drop(\"share_y\", axis=1, inplace=True)\n",
    "all_coinbase_shares.drop(\"share_y\", axis=1, inplace=True)\n",
    "\n",
    "all_lido_shares.columns = [\"label\", \"share_lido_proposer\", \"total_share\"]\n",
    "all_kiln_shares.columns = [\"label\", \"share_kiln_proposer\"]\n",
    "all_etherfi_shares.columns = [\"label\", \"share_etherfi_proposer\"]\n",
    "all_coinbase_shares.columns = [\"label\", \"share_coinbase_proposer\"]\n",
    "\n",
    "all_kiln_shares[\"delta_kiln_proposer\"] = all_kiln_shares[\"share_kiln_proposer\"] / all_lido_shares[\"total_share\"]\n",
    "all_lido_shares[\"delta_lido_proposer\"] = all_lido_shares[\"share_lido_proposer\"] / all_lido_shares[\"total_share\"]\n",
    "all_etherfi_shares[\"delta_etherfi_proposer\"] = all_etherfi_shares[\"share_etherfi_proposer\"] / all_lido_shares[\"total_share\"]\n",
    "all_coinbase_shares[\"delta_coinbase_proposer\"] = all_coinbase_shares[\"share_coinbase_proposer\"] / all_lido_shares[\"total_share\"]\n",
    "\n",
    "missed_based_on_proposer = pd.merge(pd.merge(pd.merge(all_lido_shares, all_kiln_shares, left_on=\"label\", right_on=\"label\"), all_etherfi_shares, left_on=\"label\", right_on=\"label\"), all_coinbase_shares, left_on=\"label\", right_on=\"label\")\n",
    "missed_based_on_proposer = missed_based_on_proposer.sort_values(\"total_share\", ascending=False).reset_index(drop=True)\n",
    "missed_based_on_proposer = missed_based_on_proposer[missed_based_on_proposer[\"label\"] != \"unidentified\"]\n",
    "missed_based_on_proposer = missed_based_on_proposer[missed_based_on_proposer[\"label\"].isin(largest[:8])]\n"
   ]
  },
  {
   "cell_type": "code",
   "execution_count": 30,
   "id": "0190f5b7",
   "metadata": {},
   "outputs": [
    {
     "data": {
      "application/vnd.plotly.v1+json": {
       "config": {
        "plotlyServerURL": "https://plot.ly"
       },
       "data": [
        {
         "marker": {
          "color": "#377eb8"
         },
         "name": "Lido",
         "type": "bar",
         "x": [
          "lido",
          "coinbase",
          "binance",
          "kraken",
          "figment",
          "ether.fi",
          "kiln"
         ],
         "y": [
          0.9168156724912301,
          1.0142429688406955,
          1.0831625001627083,
          1.016282477729959,
          0.912122882024506,
          0.8280734226684465,
          0.941772447962416
         ]
        },
        {
         "marker": {
          "color": "#ff7f00"
         },
         "name": "Coinbase",
         "type": "bar",
         "x": [
          "lido",
          "coinbase",
          "binance",
          "kraken",
          "figment",
          "ether.fi",
          "kiln"
         ],
         "y": [
          0.9080983805752433,
          1.0508532328747129,
          1.0485393646870018,
          0.9153409472694981,
          0.8143754398331954,
          0.8269779572609788,
          0.9850111910083975
         ]
        },
        {
         "marker": {
          "color": "#4daf4a"
         },
         "name": "Kiln",
         "type": "bar",
         "x": [
          "lido",
          "coinbase",
          "binance",
          "kraken",
          "figment",
          "ether.fi",
          "kiln"
         ],
         "y": [
          1.1068505409890261,
          1.0305124121971347,
          0.8854575957031289,
          1.1639623231774319,
          1.4707179010361366,
          1.2034026499353896,
          0.7519467679328387
         ]
        },
        {
         "marker": {
          "color": "#984ea3"
         },
         "name": "EtherFi",
         "type": "bar",
         "x": [
          "lido",
          "coinbase",
          "binance",
          "kraken",
          "figment",
          "ether.fi",
          "kiln"
         ],
         "y": [
          0.9051723073297244,
          1.0681852888793764,
          1.1044572565219999,
          0.9599651231560529,
          0.6882900659529402,
          0.8031708548879132,
          1.0350390902430933
         ]
        }
       ],
       "layout": {
        "barmode": "group",
        "font": {
         "color": "black",
         "family": "Ubuntu Mono",
         "size": 16
        },
        "height": 550,
        "legend": {
         "title": {
          "text": "Proposer"
         },
         "x": 1.1,
         "xanchor": "right",
         "y": 1,
         "yanchor": "top"
        },
        "plot_bgcolor": "white",
        "shapes": [
         {
          "line": {
           "color": "black",
           "dash": "dash",
           "width": 2
          },
          "type": "line",
          "x0": -0.5,
          "x1": 6.5,
          "y0": 1,
          "y1": 1
         }
        ],
        "template": {
         "data": {
          "bar": [
           {
            "error_x": {
             "color": "#2a3f5f"
            },
            "error_y": {
             "color": "#2a3f5f"
            },
            "marker": {
             "line": {
              "color": "#E5ECF6",
              "width": 0.5
             },
             "pattern": {
              "fillmode": "overlay",
              "size": 10,
              "solidity": 0.2
             }
            },
            "type": "bar"
           }
          ],
          "barpolar": [
           {
            "marker": {
             "line": {
              "color": "#E5ECF6",
              "width": 0.5
             },
             "pattern": {
              "fillmode": "overlay",
              "size": 10,
              "solidity": 0.2
             }
            },
            "type": "barpolar"
           }
          ],
          "carpet": [
           {
            "aaxis": {
             "endlinecolor": "#2a3f5f",
             "gridcolor": "white",
             "linecolor": "white",
             "minorgridcolor": "white",
             "startlinecolor": "#2a3f5f"
            },
            "baxis": {
             "endlinecolor": "#2a3f5f",
             "gridcolor": "white",
             "linecolor": "white",
             "minorgridcolor": "white",
             "startlinecolor": "#2a3f5f"
            },
            "type": "carpet"
           }
          ],
          "choropleth": [
           {
            "colorbar": {
             "outlinewidth": 0,
             "ticks": ""
            },
            "type": "choropleth"
           }
          ],
          "contour": [
           {
            "colorbar": {
             "outlinewidth": 0,
             "ticks": ""
            },
            "colorscale": [
             [
              0,
              "#0d0887"
             ],
             [
              0.1111111111111111,
              "#46039f"
             ],
             [
              0.2222222222222222,
              "#7201a8"
             ],
             [
              0.3333333333333333,
              "#9c179e"
             ],
             [
              0.4444444444444444,
              "#bd3786"
             ],
             [
              0.5555555555555556,
              "#d8576b"
             ],
             [
              0.6666666666666666,
              "#ed7953"
             ],
             [
              0.7777777777777778,
              "#fb9f3a"
             ],
             [
              0.8888888888888888,
              "#fdca26"
             ],
             [
              1,
              "#f0f921"
             ]
            ],
            "type": "contour"
           }
          ],
          "contourcarpet": [
           {
            "colorbar": {
             "outlinewidth": 0,
             "ticks": ""
            },
            "type": "contourcarpet"
           }
          ],
          "heatmap": [
           {
            "colorbar": {
             "outlinewidth": 0,
             "ticks": ""
            },
            "colorscale": [
             [
              0,
              "#0d0887"
             ],
             [
              0.1111111111111111,
              "#46039f"
             ],
             [
              0.2222222222222222,
              "#7201a8"
             ],
             [
              0.3333333333333333,
              "#9c179e"
             ],
             [
              0.4444444444444444,
              "#bd3786"
             ],
             [
              0.5555555555555556,
              "#d8576b"
             ],
             [
              0.6666666666666666,
              "#ed7953"
             ],
             [
              0.7777777777777778,
              "#fb9f3a"
             ],
             [
              0.8888888888888888,
              "#fdca26"
             ],
             [
              1,
              "#f0f921"
             ]
            ],
            "type": "heatmap"
           }
          ],
          "heatmapgl": [
           {
            "colorbar": {
             "outlinewidth": 0,
             "ticks": ""
            },
            "colorscale": [
             [
              0,
              "#0d0887"
             ],
             [
              0.1111111111111111,
              "#46039f"
             ],
             [
              0.2222222222222222,
              "#7201a8"
             ],
             [
              0.3333333333333333,
              "#9c179e"
             ],
             [
              0.4444444444444444,
              "#bd3786"
             ],
             [
              0.5555555555555556,
              "#d8576b"
             ],
             [
              0.6666666666666666,
              "#ed7953"
             ],
             [
              0.7777777777777778,
              "#fb9f3a"
             ],
             [
              0.8888888888888888,
              "#fdca26"
             ],
             [
              1,
              "#f0f921"
             ]
            ],
            "type": "heatmapgl"
           }
          ],
          "histogram": [
           {
            "marker": {
             "pattern": {
              "fillmode": "overlay",
              "size": 10,
              "solidity": 0.2
             }
            },
            "type": "histogram"
           }
          ],
          "histogram2d": [
           {
            "colorbar": {
             "outlinewidth": 0,
             "ticks": ""
            },
            "colorscale": [
             [
              0,
              "#0d0887"
             ],
             [
              0.1111111111111111,
              "#46039f"
             ],
             [
              0.2222222222222222,
              "#7201a8"
             ],
             [
              0.3333333333333333,
              "#9c179e"
             ],
             [
              0.4444444444444444,
              "#bd3786"
             ],
             [
              0.5555555555555556,
              "#d8576b"
             ],
             [
              0.6666666666666666,
              "#ed7953"
             ],
             [
              0.7777777777777778,
              "#fb9f3a"
             ],
             [
              0.8888888888888888,
              "#fdca26"
             ],
             [
              1,
              "#f0f921"
             ]
            ],
            "type": "histogram2d"
           }
          ],
          "histogram2dcontour": [
           {
            "colorbar": {
             "outlinewidth": 0,
             "ticks": ""
            },
            "colorscale": [
             [
              0,
              "#0d0887"
             ],
             [
              0.1111111111111111,
              "#46039f"
             ],
             [
              0.2222222222222222,
              "#7201a8"
             ],
             [
              0.3333333333333333,
              "#9c179e"
             ],
             [
              0.4444444444444444,
              "#bd3786"
             ],
             [
              0.5555555555555556,
              "#d8576b"
             ],
             [
              0.6666666666666666,
              "#ed7953"
             ],
             [
              0.7777777777777778,
              "#fb9f3a"
             ],
             [
              0.8888888888888888,
              "#fdca26"
             ],
             [
              1,
              "#f0f921"
             ]
            ],
            "type": "histogram2dcontour"
           }
          ],
          "mesh3d": [
           {
            "colorbar": {
             "outlinewidth": 0,
             "ticks": ""
            },
            "type": "mesh3d"
           }
          ],
          "parcoords": [
           {
            "line": {
             "colorbar": {
              "outlinewidth": 0,
              "ticks": ""
             }
            },
            "type": "parcoords"
           }
          ],
          "pie": [
           {
            "automargin": true,
            "type": "pie"
           }
          ],
          "scatter": [
           {
            "fillpattern": {
             "fillmode": "overlay",
             "size": 10,
             "solidity": 0.2
            },
            "type": "scatter"
           }
          ],
          "scatter3d": [
           {
            "line": {
             "colorbar": {
              "outlinewidth": 0,
              "ticks": ""
             }
            },
            "marker": {
             "colorbar": {
              "outlinewidth": 0,
              "ticks": ""
             }
            },
            "type": "scatter3d"
           }
          ],
          "scattercarpet": [
           {
            "marker": {
             "colorbar": {
              "outlinewidth": 0,
              "ticks": ""
             }
            },
            "type": "scattercarpet"
           }
          ],
          "scattergeo": [
           {
            "marker": {
             "colorbar": {
              "outlinewidth": 0,
              "ticks": ""
             }
            },
            "type": "scattergeo"
           }
          ],
          "scattergl": [
           {
            "marker": {
             "colorbar": {
              "outlinewidth": 0,
              "ticks": ""
             }
            },
            "type": "scattergl"
           }
          ],
          "scattermapbox": [
           {
            "marker": {
             "colorbar": {
              "outlinewidth": 0,
              "ticks": ""
             }
            },
            "type": "scattermapbox"
           }
          ],
          "scatterpolar": [
           {
            "marker": {
             "colorbar": {
              "outlinewidth": 0,
              "ticks": ""
             }
            },
            "type": "scatterpolar"
           }
          ],
          "scatterpolargl": [
           {
            "marker": {
             "colorbar": {
              "outlinewidth": 0,
              "ticks": ""
             }
            },
            "type": "scatterpolargl"
           }
          ],
          "scatterternary": [
           {
            "marker": {
             "colorbar": {
              "outlinewidth": 0,
              "ticks": ""
             }
            },
            "type": "scatterternary"
           }
          ],
          "surface": [
           {
            "colorbar": {
             "outlinewidth": 0,
             "ticks": ""
            },
            "colorscale": [
             [
              0,
              "#0d0887"
             ],
             [
              0.1111111111111111,
              "#46039f"
             ],
             [
              0.2222222222222222,
              "#7201a8"
             ],
             [
              0.3333333333333333,
              "#9c179e"
             ],
             [
              0.4444444444444444,
              "#bd3786"
             ],
             [
              0.5555555555555556,
              "#d8576b"
             ],
             [
              0.6666666666666666,
              "#ed7953"
             ],
             [
              0.7777777777777778,
              "#fb9f3a"
             ],
             [
              0.8888888888888888,
              "#fdca26"
             ],
             [
              1,
              "#f0f921"
             ]
            ],
            "type": "surface"
           }
          ],
          "table": [
           {
            "cells": {
             "fill": {
              "color": "#EBF0F8"
             },
             "line": {
              "color": "white"
             }
            },
            "header": {
             "fill": {
              "color": "#C8D4E3"
             },
             "line": {
              "color": "white"
             }
            },
            "type": "table"
           }
          ]
         },
         "layout": {
          "annotationdefaults": {
           "arrowcolor": "#2a3f5f",
           "arrowhead": 0,
           "arrowwidth": 1
          },
          "autotypenumbers": "strict",
          "coloraxis": {
           "colorbar": {
            "outlinewidth": 0,
            "ticks": ""
           }
          },
          "colorscale": {
           "diverging": [
            [
             0,
             "#8e0152"
            ],
            [
             0.1,
             "#c51b7d"
            ],
            [
             0.2,
             "#de77ae"
            ],
            [
             0.3,
             "#f1b6da"
            ],
            [
             0.4,
             "#fde0ef"
            ],
            [
             0.5,
             "#f7f7f7"
            ],
            [
             0.6,
             "#e6f5d0"
            ],
            [
             0.7,
             "#b8e186"
            ],
            [
             0.8,
             "#7fbc41"
            ],
            [
             0.9,
             "#4d9221"
            ],
            [
             1,
             "#276419"
            ]
           ],
           "sequential": [
            [
             0,
             "#0d0887"
            ],
            [
             0.1111111111111111,
             "#46039f"
            ],
            [
             0.2222222222222222,
             "#7201a8"
            ],
            [
             0.3333333333333333,
             "#9c179e"
            ],
            [
             0.4444444444444444,
             "#bd3786"
            ],
            [
             0.5555555555555556,
             "#d8576b"
            ],
            [
             0.6666666666666666,
             "#ed7953"
            ],
            [
             0.7777777777777778,
             "#fb9f3a"
            ],
            [
             0.8888888888888888,
             "#fdca26"
            ],
            [
             1,
             "#f0f921"
            ]
           ],
           "sequentialminus": [
            [
             0,
             "#0d0887"
            ],
            [
             0.1111111111111111,
             "#46039f"
            ],
            [
             0.2222222222222222,
             "#7201a8"
            ],
            [
             0.3333333333333333,
             "#9c179e"
            ],
            [
             0.4444444444444444,
             "#bd3786"
            ],
            [
             0.5555555555555556,
             "#d8576b"
            ],
            [
             0.6666666666666666,
             "#ed7953"
            ],
            [
             0.7777777777777778,
             "#fb9f3a"
            ],
            [
             0.8888888888888888,
             "#fdca26"
            ],
            [
             1,
             "#f0f921"
            ]
           ]
          },
          "colorway": [
           "#636efa",
           "#EF553B",
           "#00cc96",
           "#ab63fa",
           "#FFA15A",
           "#19d3f3",
           "#FF6692",
           "#B6E880",
           "#FF97FF",
           "#FECB52"
          ],
          "font": {
           "color": "#2a3f5f"
          },
          "geo": {
           "bgcolor": "white",
           "lakecolor": "white",
           "landcolor": "#E5ECF6",
           "showlakes": true,
           "showland": true,
           "subunitcolor": "white"
          },
          "hoverlabel": {
           "align": "left"
          },
          "hovermode": "closest",
          "mapbox": {
           "style": "light"
          },
          "paper_bgcolor": "white",
          "plot_bgcolor": "#E5ECF6",
          "polar": {
           "angularaxis": {
            "gridcolor": "white",
            "linecolor": "white",
            "ticks": ""
           },
           "bgcolor": "#E5ECF6",
           "radialaxis": {
            "gridcolor": "white",
            "linecolor": "white",
            "ticks": ""
           }
          },
          "scene": {
           "xaxis": {
            "backgroundcolor": "#E5ECF6",
            "gridcolor": "white",
            "gridwidth": 2,
            "linecolor": "white",
            "showbackground": true,
            "ticks": "",
            "zerolinecolor": "white"
           },
           "yaxis": {
            "backgroundcolor": "#E5ECF6",
            "gridcolor": "white",
            "gridwidth": 2,
            "linecolor": "white",
            "showbackground": true,
            "ticks": "",
            "zerolinecolor": "white"
           },
           "zaxis": {
            "backgroundcolor": "#E5ECF6",
            "gridcolor": "white",
            "gridwidth": 2,
            "linecolor": "white",
            "showbackground": true,
            "ticks": "",
            "zerolinecolor": "white"
           }
          },
          "shapedefaults": {
           "line": {
            "color": "#2a3f5f"
           }
          },
          "ternary": {
           "aaxis": {
            "gridcolor": "white",
            "linecolor": "white",
            "ticks": ""
           },
           "baxis": {
            "gridcolor": "white",
            "linecolor": "white",
            "ticks": ""
           },
           "bgcolor": "#E5ECF6",
           "caxis": {
            "gridcolor": "white",
            "linecolor": "white",
            "ticks": ""
           }
          },
          "title": {
           "x": 0.05
          },
          "xaxis": {
           "automargin": true,
           "gridcolor": "white",
           "linecolor": "white",
           "ticks": "",
           "title": {
            "standoff": 15
           },
           "zerolinecolor": "white",
           "zerolinewidth": 2
          },
          "yaxis": {
           "automargin": true,
           "gridcolor": "white",
           "linecolor": "white",
           "ticks": "",
           "title": {
            "standoff": 15
           },
           "zerolinecolor": "white",
           "zerolinewidth": 2
          }
         }
        },
        "title": {
         "text": "Missed Head Votes over Different Proposers <span style=\"font-size: 16px;\">(2023-08-15 - 2024-08-14)</span>"
        },
        "width": 1200,
        "xaxis": {
         "gridcolor": "lightgray",
         "showgrid": true,
         "tickformat": ",d",
         "title": {}
        },
        "yaxis": {
         "gridcolor": "lightgray",
         "showgrid": true,
         "title": {
          "text": "share for specific proposer / total share"
         }
        }
       }
      },
      "text/html": [
       "<div>                            <div id=\"5a01ec65-e0ce-45ea-9d79-3e3523794f62\" class=\"plotly-graph-div\" style=\"height:550px; width:1200px;\"></div>            <script type=\"text/javascript\">                require([\"plotly\"], function(Plotly) {                    window.PLOTLYENV=window.PLOTLYENV || {};                                    if (document.getElementById(\"5a01ec65-e0ce-45ea-9d79-3e3523794f62\")) {                    Plotly.newPlot(                        \"5a01ec65-e0ce-45ea-9d79-3e3523794f62\",                        [{\"marker\":{\"color\":\"#377eb8\"},\"name\":\"Lido\",\"x\":[\"lido\",\"coinbase\",\"binance\",\"kraken\",\"figment\",\"ether.fi\",\"kiln\"],\"y\":[0.9168156724912301,1.0142429688406955,1.0831625001627083,1.016282477729959,0.912122882024506,0.8280734226684465,0.941772447962416],\"type\":\"bar\"},{\"marker\":{\"color\":\"#ff7f00\"},\"name\":\"Coinbase\",\"x\":[\"lido\",\"coinbase\",\"binance\",\"kraken\",\"figment\",\"ether.fi\",\"kiln\"],\"y\":[0.9080983805752433,1.0508532328747129,1.0485393646870018,0.9153409472694981,0.8143754398331954,0.8269779572609788,0.9850111910083975],\"type\":\"bar\"},{\"marker\":{\"color\":\"#4daf4a\"},\"name\":\"Kiln\",\"x\":[\"lido\",\"coinbase\",\"binance\",\"kraken\",\"figment\",\"ether.fi\",\"kiln\"],\"y\":[1.1068505409890261,1.0305124121971347,0.8854575957031289,1.1639623231774319,1.4707179010361366,1.2034026499353896,0.7519467679328387],\"type\":\"bar\"},{\"marker\":{\"color\":\"#984ea3\"},\"name\":\"EtherFi\",\"x\":[\"lido\",\"coinbase\",\"binance\",\"kraken\",\"figment\",\"ether.fi\",\"kiln\"],\"y\":[0.9051723073297244,1.0681852888793764,1.1044572565219999,0.9599651231560529,0.6882900659529402,0.8031708548879132,1.0350390902430933],\"type\":\"bar\"}],                        {\"template\":{\"data\":{\"histogram2dcontour\":[{\"type\":\"histogram2dcontour\",\"colorbar\":{\"outlinewidth\":0,\"ticks\":\"\"},\"colorscale\":[[0.0,\"#0d0887\"],[0.1111111111111111,\"#46039f\"],[0.2222222222222222,\"#7201a8\"],[0.3333333333333333,\"#9c179e\"],[0.4444444444444444,\"#bd3786\"],[0.5555555555555556,\"#d8576b\"],[0.6666666666666666,\"#ed7953\"],[0.7777777777777778,\"#fb9f3a\"],[0.8888888888888888,\"#fdca26\"],[1.0,\"#f0f921\"]]}],\"choropleth\":[{\"type\":\"choropleth\",\"colorbar\":{\"outlinewidth\":0,\"ticks\":\"\"}}],\"histogram2d\":[{\"type\":\"histogram2d\",\"colorbar\":{\"outlinewidth\":0,\"ticks\":\"\"},\"colorscale\":[[0.0,\"#0d0887\"],[0.1111111111111111,\"#46039f\"],[0.2222222222222222,\"#7201a8\"],[0.3333333333333333,\"#9c179e\"],[0.4444444444444444,\"#bd3786\"],[0.5555555555555556,\"#d8576b\"],[0.6666666666666666,\"#ed7953\"],[0.7777777777777778,\"#fb9f3a\"],[0.8888888888888888,\"#fdca26\"],[1.0,\"#f0f921\"]]}],\"heatmap\":[{\"type\":\"heatmap\",\"colorbar\":{\"outlinewidth\":0,\"ticks\":\"\"},\"colorscale\":[[0.0,\"#0d0887\"],[0.1111111111111111,\"#46039f\"],[0.2222222222222222,\"#7201a8\"],[0.3333333333333333,\"#9c179e\"],[0.4444444444444444,\"#bd3786\"],[0.5555555555555556,\"#d8576b\"],[0.6666666666666666,\"#ed7953\"],[0.7777777777777778,\"#fb9f3a\"],[0.8888888888888888,\"#fdca26\"],[1.0,\"#f0f921\"]]}],\"heatmapgl\":[{\"type\":\"heatmapgl\",\"colorbar\":{\"outlinewidth\":0,\"ticks\":\"\"},\"colorscale\":[[0.0,\"#0d0887\"],[0.1111111111111111,\"#46039f\"],[0.2222222222222222,\"#7201a8\"],[0.3333333333333333,\"#9c179e\"],[0.4444444444444444,\"#bd3786\"],[0.5555555555555556,\"#d8576b\"],[0.6666666666666666,\"#ed7953\"],[0.7777777777777778,\"#fb9f3a\"],[0.8888888888888888,\"#fdca26\"],[1.0,\"#f0f921\"]]}],\"contourcarpet\":[{\"type\":\"contourcarpet\",\"colorbar\":{\"outlinewidth\":0,\"ticks\":\"\"}}],\"contour\":[{\"type\":\"contour\",\"colorbar\":{\"outlinewidth\":0,\"ticks\":\"\"},\"colorscale\":[[0.0,\"#0d0887\"],[0.1111111111111111,\"#46039f\"],[0.2222222222222222,\"#7201a8\"],[0.3333333333333333,\"#9c179e\"],[0.4444444444444444,\"#bd3786\"],[0.5555555555555556,\"#d8576b\"],[0.6666666666666666,\"#ed7953\"],[0.7777777777777778,\"#fb9f3a\"],[0.8888888888888888,\"#fdca26\"],[1.0,\"#f0f921\"]]}],\"surface\":[{\"type\":\"surface\",\"colorbar\":{\"outlinewidth\":0,\"ticks\":\"\"},\"colorscale\":[[0.0,\"#0d0887\"],[0.1111111111111111,\"#46039f\"],[0.2222222222222222,\"#7201a8\"],[0.3333333333333333,\"#9c179e\"],[0.4444444444444444,\"#bd3786\"],[0.5555555555555556,\"#d8576b\"],[0.6666666666666666,\"#ed7953\"],[0.7777777777777778,\"#fb9f3a\"],[0.8888888888888888,\"#fdca26\"],[1.0,\"#f0f921\"]]}],\"mesh3d\":[{\"type\":\"mesh3d\",\"colorbar\":{\"outlinewidth\":0,\"ticks\":\"\"}}],\"scatter\":[{\"fillpattern\":{\"fillmode\":\"overlay\",\"size\":10,\"solidity\":0.2},\"type\":\"scatter\"}],\"parcoords\":[{\"type\":\"parcoords\",\"line\":{\"colorbar\":{\"outlinewidth\":0,\"ticks\":\"\"}}}],\"scatterpolargl\":[{\"type\":\"scatterpolargl\",\"marker\":{\"colorbar\":{\"outlinewidth\":0,\"ticks\":\"\"}}}],\"bar\":[{\"error_x\":{\"color\":\"#2a3f5f\"},\"error_y\":{\"color\":\"#2a3f5f\"},\"marker\":{\"line\":{\"color\":\"#E5ECF6\",\"width\":0.5},\"pattern\":{\"fillmode\":\"overlay\",\"size\":10,\"solidity\":0.2}},\"type\":\"bar\"}],\"scattergeo\":[{\"type\":\"scattergeo\",\"marker\":{\"colorbar\":{\"outlinewidth\":0,\"ticks\":\"\"}}}],\"scatterpolar\":[{\"type\":\"scatterpolar\",\"marker\":{\"colorbar\":{\"outlinewidth\":0,\"ticks\":\"\"}}}],\"histogram\":[{\"marker\":{\"pattern\":{\"fillmode\":\"overlay\",\"size\":10,\"solidity\":0.2}},\"type\":\"histogram\"}],\"scattergl\":[{\"type\":\"scattergl\",\"marker\":{\"colorbar\":{\"outlinewidth\":0,\"ticks\":\"\"}}}],\"scatter3d\":[{\"type\":\"scatter3d\",\"line\":{\"colorbar\":{\"outlinewidth\":0,\"ticks\":\"\"}},\"marker\":{\"colorbar\":{\"outlinewidth\":0,\"ticks\":\"\"}}}],\"scattermapbox\":[{\"type\":\"scattermapbox\",\"marker\":{\"colorbar\":{\"outlinewidth\":0,\"ticks\":\"\"}}}],\"scatterternary\":[{\"type\":\"scatterternary\",\"marker\":{\"colorbar\":{\"outlinewidth\":0,\"ticks\":\"\"}}}],\"scattercarpet\":[{\"type\":\"scattercarpet\",\"marker\":{\"colorbar\":{\"outlinewidth\":0,\"ticks\":\"\"}}}],\"carpet\":[{\"aaxis\":{\"endlinecolor\":\"#2a3f5f\",\"gridcolor\":\"white\",\"linecolor\":\"white\",\"minorgridcolor\":\"white\",\"startlinecolor\":\"#2a3f5f\"},\"baxis\":{\"endlinecolor\":\"#2a3f5f\",\"gridcolor\":\"white\",\"linecolor\":\"white\",\"minorgridcolor\":\"white\",\"startlinecolor\":\"#2a3f5f\"},\"type\":\"carpet\"}],\"table\":[{\"cells\":{\"fill\":{\"color\":\"#EBF0F8\"},\"line\":{\"color\":\"white\"}},\"header\":{\"fill\":{\"color\":\"#C8D4E3\"},\"line\":{\"color\":\"white\"}},\"type\":\"table\"}],\"barpolar\":[{\"marker\":{\"line\":{\"color\":\"#E5ECF6\",\"width\":0.5},\"pattern\":{\"fillmode\":\"overlay\",\"size\":10,\"solidity\":0.2}},\"type\":\"barpolar\"}],\"pie\":[{\"automargin\":true,\"type\":\"pie\"}]},\"layout\":{\"autotypenumbers\":\"strict\",\"colorway\":[\"#636efa\",\"#EF553B\",\"#00cc96\",\"#ab63fa\",\"#FFA15A\",\"#19d3f3\",\"#FF6692\",\"#B6E880\",\"#FF97FF\",\"#FECB52\"],\"font\":{\"color\":\"#2a3f5f\"},\"hovermode\":\"closest\",\"hoverlabel\":{\"align\":\"left\"},\"paper_bgcolor\":\"white\",\"plot_bgcolor\":\"#E5ECF6\",\"polar\":{\"bgcolor\":\"#E5ECF6\",\"angularaxis\":{\"gridcolor\":\"white\",\"linecolor\":\"white\",\"ticks\":\"\"},\"radialaxis\":{\"gridcolor\":\"white\",\"linecolor\":\"white\",\"ticks\":\"\"}},\"ternary\":{\"bgcolor\":\"#E5ECF6\",\"aaxis\":{\"gridcolor\":\"white\",\"linecolor\":\"white\",\"ticks\":\"\"},\"baxis\":{\"gridcolor\":\"white\",\"linecolor\":\"white\",\"ticks\":\"\"},\"caxis\":{\"gridcolor\":\"white\",\"linecolor\":\"white\",\"ticks\":\"\"}},\"coloraxis\":{\"colorbar\":{\"outlinewidth\":0,\"ticks\":\"\"}},\"colorscale\":{\"sequential\":[[0.0,\"#0d0887\"],[0.1111111111111111,\"#46039f\"],[0.2222222222222222,\"#7201a8\"],[0.3333333333333333,\"#9c179e\"],[0.4444444444444444,\"#bd3786\"],[0.5555555555555556,\"#d8576b\"],[0.6666666666666666,\"#ed7953\"],[0.7777777777777778,\"#fb9f3a\"],[0.8888888888888888,\"#fdca26\"],[1.0,\"#f0f921\"]],\"sequentialminus\":[[0.0,\"#0d0887\"],[0.1111111111111111,\"#46039f\"],[0.2222222222222222,\"#7201a8\"],[0.3333333333333333,\"#9c179e\"],[0.4444444444444444,\"#bd3786\"],[0.5555555555555556,\"#d8576b\"],[0.6666666666666666,\"#ed7953\"],[0.7777777777777778,\"#fb9f3a\"],[0.8888888888888888,\"#fdca26\"],[1.0,\"#f0f921\"]],\"diverging\":[[0,\"#8e0152\"],[0.1,\"#c51b7d\"],[0.2,\"#de77ae\"],[0.3,\"#f1b6da\"],[0.4,\"#fde0ef\"],[0.5,\"#f7f7f7\"],[0.6,\"#e6f5d0\"],[0.7,\"#b8e186\"],[0.8,\"#7fbc41\"],[0.9,\"#4d9221\"],[1,\"#276419\"]]},\"xaxis\":{\"gridcolor\":\"white\",\"linecolor\":\"white\",\"ticks\":\"\",\"title\":{\"standoff\":15},\"zerolinecolor\":\"white\",\"automargin\":true,\"zerolinewidth\":2},\"yaxis\":{\"gridcolor\":\"white\",\"linecolor\":\"white\",\"ticks\":\"\",\"title\":{\"standoff\":15},\"zerolinecolor\":\"white\",\"automargin\":true,\"zerolinewidth\":2},\"scene\":{\"xaxis\":{\"backgroundcolor\":\"#E5ECF6\",\"gridcolor\":\"white\",\"linecolor\":\"white\",\"showbackground\":true,\"ticks\":\"\",\"zerolinecolor\":\"white\",\"gridwidth\":2},\"yaxis\":{\"backgroundcolor\":\"#E5ECF6\",\"gridcolor\":\"white\",\"linecolor\":\"white\",\"showbackground\":true,\"ticks\":\"\",\"zerolinecolor\":\"white\",\"gridwidth\":2},\"zaxis\":{\"backgroundcolor\":\"#E5ECF6\",\"gridcolor\":\"white\",\"linecolor\":\"white\",\"showbackground\":true,\"ticks\":\"\",\"zerolinecolor\":\"white\",\"gridwidth\":2}},\"shapedefaults\":{\"line\":{\"color\":\"#2a3f5f\"}},\"annotationdefaults\":{\"arrowcolor\":\"#2a3f5f\",\"arrowhead\":0,\"arrowwidth\":1},\"geo\":{\"bgcolor\":\"white\",\"landcolor\":\"#E5ECF6\",\"subunitcolor\":\"white\",\"showland\":true,\"showlakes\":true,\"lakecolor\":\"white\"},\"title\":{\"x\":0.05},\"mapbox\":{\"style\":\"light\"}}},\"font\":{\"family\":\"Ubuntu Mono\",\"size\":16,\"color\":\"black\"},\"legend\":{\"title\":{\"text\":\"Proposer\"},\"x\":1.1,\"y\":1,\"xanchor\":\"right\",\"yanchor\":\"top\"},\"xaxis\":{\"title\":{},\"showgrid\":true,\"gridcolor\":\"lightgray\",\"tickformat\":\",d\"},\"yaxis\":{\"title\":{\"text\":\"share for specific proposer \\u002f total share\"},\"showgrid\":true,\"gridcolor\":\"lightgray\"},\"barmode\":\"group\",\"title\":{\"text\":\"Missed Head Votes over Different Proposers \\u003cspan style=\\\"font-size: 16px;\\\"\\u003e(2023-08-15 - 2024-08-14)\\u003c\\u002fspan\\u003e\"},\"height\":550,\"width\":1200,\"plot_bgcolor\":\"white\",\"shapes\":[{\"line\":{\"color\":\"black\",\"dash\":\"dash\",\"width\":2},\"type\":\"line\",\"x0\":-0.5,\"x1\":6.5,\"y0\":1,\"y1\":1}]},                        {\"responsive\": true}                    ).then(function(){\n",
       "                            \n",
       "var gd = document.getElementById('5a01ec65-e0ce-45ea-9d79-3e3523794f62');\n",
       "var x = new MutationObserver(function (mutations, observer) {{\n",
       "        var display = window.getComputedStyle(gd).display;\n",
       "        if (!display || display === 'none') {{\n",
       "            console.log([gd, 'removed!']);\n",
       "            Plotly.purge(gd);\n",
       "            observer.disconnect();\n",
       "        }}\n",
       "}});\n",
       "\n",
       "// Listen for the removal of the full notebook cells\n",
       "var notebookContainer = gd.closest('#notebook-container');\n",
       "if (notebookContainer) {{\n",
       "    x.observe(notebookContainer, {childList: true});\n",
       "}}\n",
       "\n",
       "// Listen for the clearing of the current output cell\n",
       "var outputEl = gd.closest('.output');\n",
       "if (outputEl) {{\n",
       "    x.observe(outputEl, {childList: true});\n",
       "}}\n",
       "\n",
       "                        })                };                });            </script>        </div>"
      ]
     },
     "metadata": {},
     "output_type": "display_data"
    }
   ],
   "source": [
    "fig = go.Figure()\n",
    "\n",
    "fig.add_trace(go.Bar(\n",
    "    x=missed_based_on_proposer['label'],\n",
    "    y=missed_based_on_proposer['delta_lido_proposer'],\n",
    "    name='Lido',\n",
    "    marker_color=COLORS[0],\n",
    "))\n",
    "\n",
    "fig.add_trace(go.Bar(\n",
    "    x=missed_based_on_proposer['label'],\n",
    "    y=missed_based_on_proposer['delta_coinbase_proposer'],\n",
    "    name='Coinbase',\n",
    "    marker_color=COLORS[1],\n",
    "))\n",
    "\n",
    "fig.add_trace(go.Bar(\n",
    "    x=missed_based_on_proposer['label'],\n",
    "    y=missed_based_on_proposer['delta_kiln_proposer'],\n",
    "    name='Kiln',\n",
    "    marker_color=COLORS[2],\n",
    "))\n",
    "\n",
    "fig.add_trace(go.Bar(\n",
    "    x=missed_based_on_proposer['label'],\n",
    "    y=missed_based_on_proposer['delta_etherfi_proposer'],\n",
    "    name='EtherFi',\n",
    "    marker_color=COLORS[3],\n",
    "))\n",
    "\n",
    "fig.update_layout(\n",
    "    barmode='group',\n",
    "    title=f'Missed Head Votes over Different Proposers <span style=\"font-size: 16px;\">({slot_to_day(df.slot.min())} - {slot_to_day(df.slot.max())})</span>',\n",
    "    xaxis_title=None,\n",
    "    yaxis_title=\"share for specific proposer / total share\",\n",
    "    legend_title='Proposer',\n",
    "    font=dict(\n",
    "        family=\"Ubuntu Mono\",\n",
    "        size=FONTSIZE,\n",
    "        color=\"black\"\n",
    "    ),\n",
    "    legend=dict(\n",
    "        x=1.1,\n",
    "        y=1,\n",
    "        xanchor='right',\n",
    "        yanchor='top'\n",
    "    ),\n",
    "    xaxis=dict(showgrid=True, gridcolor='lightgray', tickformat=\",d\"),\n",
    "    yaxis=dict(showgrid=True, gridcolor='lightgray',),\n",
    "    height=550,\n",
    "    width=1200,\n",
    "    plot_bgcolor='white',\n",
    ")\n",
    "\n",
    "fig.add_shape(\n",
    "    type=\"line\",\n",
    "    x0=-0.5, x1=len(missed_based_on_proposer['label']) - 0.5, y0=1, y1=1,\n",
    "    line=dict(color=\"black\", width=2, dash=\"dash\")\n",
    ")\n",
    "\n",
    "fig.write_image(f\"att_pics/missed_head_votes_over_proposers_percentage.png\")\n",
    "fig.show()"
   ]
  },
  {
   "cell_type": "code",
   "execution_count": 31,
   "id": "e11ccd59",
   "metadata": {},
   "outputs": [],
   "source": [
    "lidoco = set(validator_labels[validator_labels[\"label\"].isin([\"kiln\", \"lido\", \"coinbase\"])].validator_id.tolist())\n",
    "\n",
    "def parse_datetime(event_time_str):\n",
    "    return datetime.strptime(event_time_str, '%Y-%m-%d %H:%M:%S.%f').replace(tzinfo=pytz.UTC).timestamp()*1000\n",
    " \n",
    "SLOT_0_TIMESTAMP_MS = 1606824023000\n",
    "SLOT_DURATION_MS = 12000\n",
    "\n",
    "def get_seconds_in_slot(first_seen_ts: int, slot: int) -> float:\n",
    "    slot_offset = slot * SLOT_DURATION_MS\n",
    "    time_in_slot_ms = (first_seen_ts * 1000 - SLOT_0_TIMESTAMP_MS - slot_offset) % SLOT_DURATION_MS\n",
    "    return round(time_in_slot_ms / 1000, 3)"
   ]
  },
  {
   "cell_type": "code",
   "execution_count": 32,
   "id": "c51ab99e",
   "metadata": {},
   "outputs": [
    {
     "data": {
      "text/plain": [
       "420"
      ]
     },
     "execution_count": 32,
     "metadata": {},
     "output_type": "execute_result"
    }
   ],
   "source": [
    "try: \n",
    "    known = pd.read_parquet(\"./att_pics/known_timing_attestations.parquet\")\n",
    "except:\n",
    "    known = pd.DataFrame(columns=[\"slot\"])\n",
    "known_epochs = set([i//32 for i in known.slot.unique().tolist()])\n",
    "len(known_epochs)"
   ]
  },
  {
   "cell_type": "code",
   "execution_count": 40,
   "id": "dee58302",
   "metadata": {},
   "outputs": [],
   "source": [
    "CORRECT_HEAD_TIMING = \"correct_head_timing\"\n",
    "FAILED_HEAD_TIMING = \"wrong_head_timing\"\n",
    "\n",
    "def merge_labels(df, labels, left_on=\"validator\", right_on=\"validator_id\", nlargest=15):\n",
    "    return pd.merge(df, labels, how=\"left\", left_on=left_on, right_on=right_on).drop(right_on, axis=1)\n",
    "\n",
    "wtiming = sorted([int(i.split(\".\")[0]) for i in os.listdir(f\"data2/{FAILED_HEAD_TIMING}\")], reverse=True)\n",
    "\n",
    "timing_df = []\n",
    "for ix, i in enumerate(wtiming):\n",
    "    break\n",
    "    if i in known_epochs:\n",
    "        print(f\"epoch {i} already known\")\n",
    "        continue\n",
    "    print(ix, i)\n",
    "    _df = pd.read_parquet(f\"data2/{CORRECT_HEAD_TIMING}/{i}.parquet\").drop_duplicates()\n",
    "    _df = merge_labels(_df, validator_labels, left_on=\"attesting_validator_index\", right_on=\"validator_id\")\n",
    "    _df = _df[_df[\"attesting_validator_index\"].isin(lidoco)]        \n",
    "    _df['event_date_time'] = _df[\"event_date_time\"].apply(lambda x: parse_datetime(x))\n",
    "    _df[\"event_date_time\"] = _df.apply(lambda x: get_time_in_curr_slot(x[\"event_date_time\"], x[\"slot\"]),axis=1)\n",
    "    timing_df.append(_df)\n",
    "    if ix >= 620:\n",
    "        break\n",
    "\n",
    "try:\n",
    "    timing_df = pd.concat(timing_df, ignore_index=True)\n",
    "    timing_df.columns = [\"slot\", \"attesting_validator_index\", \"seconds_in_slot\"]\n",
    "\n",
    "\n",
    "    timing_df = merge_labels(timing_df, validator_labels, left_on=\"attesting_validator_index\", right_on=\"validator_id\")\n",
    "    timing_df = timing_df[timing_df[\"label\"].isin([\"kiln\", \"lido\", \"coinbase\"])]\n",
    "\n",
    "except:\n",
    "    pass\n",
    "try:\n",
    "    raise\n",
    "    timing_df = pd.concat([known, timing_df], ignore_index=True).drop_duplicates()\n",
    "    timing_df.to_parquet(\"./att_pics/known_timing_attestations.parquet\")\n",
    "except:\n",
    "    timing_df = known"
   ]
  },
  {
   "cell_type": "code",
   "execution_count": 42,
   "id": "a63d4e8d",
   "metadata": {},
   "outputs": [
    {
     "data": {
      "application/vnd.plotly.v1+json": {
       "config": {
        "plotlyServerURL": "https://plot.ly"
       },
       "data": [
        {
         "line": {
          "color": "#377eb8",
          "width": 3
         },
         "mode": "lines",
         "name": "Cumulative Density",
         "type": "scatter",
         "x": [
          0.791,
          1.008,
          1.229,
          1.334,
          1.495,
          1.567,
          1.578,
          1.611,
          1.654,
          1.691,
          1.705,
          1.737,
          1.739,
          1.761,
          1.774,
          1.778,
          1.784,
          1.788,
          1.806,
          1.809,
          1.83,
          1.839,
          1.881,
          1.882,
          1.895,
          1.909,
          1.911,
          1.915,
          1.93,
          1.943,
          1.965,
          1.978,
          1.979,
          1.984,
          1.995,
          1.999,
          2.008,
          2.011,
          2.012,
          2.021,
          2.024,
          2.027,
          2.027,
          2.032,
          2.035,
          2.04,
          2.045,
          2.045,
          2.047,
          2.053,
          2.058,
          2.08,
          2.081,
          2.084,
          2.085,
          2.088,
          2.09,
          2.092,
          2.094,
          2.102,
          2.103,
          2.105,
          2.105,
          2.106,
          2.113,
          2.114,
          2.116,
          2.117,
          2.118,
          2.125,
          2.127,
          2.13,
          2.132,
          2.133,
          2.136,
          2.138,
          2.141,
          2.145,
          2.148,
          2.148,
          2.149,
          2.152,
          2.158,
          2.163,
          2.172,
          2.177,
          2.177,
          2.183,
          2.189,
          2.193,
          2.194,
          2.194,
          2.208,
          2.21,
          2.213,
          2.216,
          2.223,
          2.223,
          2.226,
          2.227,
          2.228,
          2.23,
          2.231,
          2.232,
          2.235,
          2.239,
          2.245,
          2.253,
          2.258,
          2.264,
          2.266,
          2.273,
          2.279,
          2.286,
          2.288,
          2.289,
          2.291,
          2.293,
          2.294,
          2.299,
          2.299,
          2.3,
          2.309,
          2.309,
          2.315,
          2.316,
          2.319,
          2.319,
          2.322,
          2.322,
          2.329,
          2.332,
          2.333,
          2.336,
          2.337,
          2.338,
          2.344,
          2.351,
          2.352,
          2.353,
          2.353,
          2.353,
          2.354,
          2.364,
          2.365,
          2.371,
          2.373,
          2.375,
          2.376,
          2.377,
          2.38,
          2.382,
          2.382,
          2.385,
          2.389,
          2.39,
          2.392,
          2.393,
          2.398,
          2.399,
          2.399,
          2.403,
          2.412,
          2.413,
          2.414,
          2.414,
          2.415,
          2.416,
          2.417,
          2.418,
          2.42,
          2.422,
          2.426,
          2.427,
          2.431,
          2.433,
          2.433,
          2.433,
          2.437,
          2.438,
          2.439,
          2.439,
          2.441,
          2.444,
          2.446,
          2.446,
          2.448,
          2.449,
          2.45,
          2.45,
          2.453,
          2.454,
          2.454,
          2.455,
          2.455,
          2.457,
          2.457,
          2.458,
          2.461,
          2.463,
          2.464,
          2.468,
          2.471,
          2.472,
          2.474,
          2.482,
          2.482,
          2.482,
          2.483,
          2.484,
          2.485,
          2.485,
          2.491,
          2.494,
          2.497,
          2.499,
          2.499,
          2.5,
          2.503,
          2.503,
          2.503,
          2.506,
          2.511,
          2.512,
          2.514,
          2.516,
          2.517,
          2.518,
          2.52,
          2.522,
          2.522,
          2.527,
          2.527,
          2.528,
          2.529,
          2.532,
          2.534,
          2.537,
          2.537,
          2.539,
          2.54,
          2.54,
          2.542,
          2.542,
          2.543,
          2.545,
          2.545,
          2.545,
          2.546,
          2.547,
          2.548,
          2.553,
          2.555,
          2.561,
          2.561,
          2.565,
          2.566,
          2.569,
          2.57,
          2.571,
          2.572,
          2.575,
          2.575,
          2.577,
          2.581,
          2.581,
          2.581,
          2.584,
          2.588,
          2.593,
          2.597,
          2.6,
          2.601,
          2.603,
          2.606,
          2.607,
          2.609,
          2.609,
          2.61,
          2.612,
          2.613,
          2.613,
          2.614,
          2.615,
          2.616,
          2.619,
          2.619,
          2.621,
          2.621,
          2.623,
          2.628,
          2.629,
          2.63,
          2.631,
          2.631,
          2.631,
          2.633,
          2.635,
          2.636,
          2.636,
          2.639,
          2.639,
          2.64,
          2.641,
          2.642,
          2.642,
          2.643,
          2.644,
          2.644,
          2.644,
          2.645,
          2.647,
          2.649,
          2.655,
          2.658,
          2.659,
          2.661,
          2.662,
          2.665,
          2.665,
          2.665,
          2.666,
          2.67,
          2.673,
          2.673,
          2.674,
          2.676,
          2.677,
          2.678,
          2.678,
          2.678,
          2.679,
          2.691,
          2.692,
          2.693,
          2.693,
          2.697,
          2.701,
          2.701,
          2.704,
          2.704,
          2.706,
          2.706,
          2.708,
          2.708,
          2.709,
          2.709,
          2.711,
          2.711,
          2.714,
          2.715,
          2.716,
          2.718,
          2.718,
          2.719,
          2.719,
          2.719,
          2.725,
          2.726,
          2.729,
          2.73,
          2.731,
          2.733,
          2.733,
          2.734,
          2.736,
          2.738,
          2.738,
          2.741,
          2.742,
          2.742,
          2.743,
          2.743,
          2.743,
          2.744,
          2.744,
          2.745,
          2.745,
          2.746,
          2.748,
          2.748,
          2.749,
          2.751,
          2.751,
          2.756,
          2.758,
          2.765,
          2.765,
          2.765,
          2.766,
          2.766,
          2.766,
          2.767,
          2.768,
          2.772,
          2.772,
          2.773,
          2.773,
          2.774,
          2.774,
          2.777,
          2.78,
          2.786,
          2.788,
          2.791,
          2.792,
          2.792,
          2.794,
          2.795,
          2.795,
          2.796,
          2.8,
          2.8,
          2.801,
          2.804,
          2.807,
          2.807,
          2.808,
          2.808,
          2.808,
          2.809,
          2.81,
          2.812,
          2.812,
          2.813,
          2.814,
          2.814,
          2.819,
          2.82,
          2.821,
          2.821,
          2.822,
          2.823,
          2.824,
          2.826,
          2.828,
          2.83,
          2.834,
          2.834,
          2.834,
          2.835,
          2.835,
          2.836,
          2.837,
          2.84,
          2.84,
          2.841,
          2.843,
          2.844,
          2.847,
          2.853,
          2.853,
          2.853,
          2.855,
          2.856,
          2.856,
          2.859,
          2.859,
          2.862,
          2.862,
          2.862,
          2.863,
          2.866,
          2.868,
          2.868,
          2.872,
          2.876,
          2.877,
          2.877,
          2.879,
          2.882,
          2.882,
          2.887,
          2.887,
          2.887,
          2.888,
          2.89,
          2.892,
          2.892,
          2.895,
          2.895,
          2.895,
          2.896,
          2.897,
          2.899,
          2.906,
          2.907,
          2.908,
          2.909,
          2.91,
          2.913,
          2.914,
          2.92,
          2.921,
          2.921,
          2.922,
          2.922,
          2.923,
          2.927,
          2.927,
          2.932,
          2.932,
          2.933,
          2.945,
          2.95,
          2.951,
          2.951,
          2.953,
          2.953,
          2.953,
          2.954,
          2.954,
          2.958,
          2.96,
          2.962,
          2.964,
          2.964,
          2.965,
          2.967,
          2.967,
          2.968,
          2.968,
          2.97,
          2.977,
          2.978,
          2.986,
          2.99,
          2.993,
          2.995,
          2.995,
          2.995,
          2.996,
          2.997,
          2.999,
          3.002,
          3.002,
          3.002,
          3.002,
          3.003,
          3.004,
          3.006,
          3.009,
          3.014,
          3.019,
          3.02,
          3.021,
          3.021,
          3.022,
          3.023,
          3.025,
          3.025,
          3.026,
          3.027,
          3.03,
          3.032,
          3.037,
          3.038,
          3.04,
          3.041,
          3.043,
          3.043,
          3.045,
          3.045,
          3.045,
          3.047,
          3.047,
          3.048,
          3.049,
          3.049,
          3.05,
          3.051,
          3.053,
          3.054,
          3.06,
          3.062,
          3.064,
          3.065,
          3.067,
          3.069,
          3.073,
          3.075,
          3.075,
          3.076,
          3.077,
          3.079,
          3.08,
          3.081,
          3.081,
          3.083,
          3.089,
          3.09,
          3.094,
          3.094,
          3.094,
          3.096,
          3.097,
          3.098,
          3.098,
          3.099,
          3.099,
          3.104,
          3.105,
          3.105,
          3.106,
          3.11,
          3.111,
          3.113,
          3.118,
          3.119,
          3.119,
          3.121,
          3.122,
          3.124,
          3.126,
          3.129,
          3.13,
          3.13,
          3.132,
          3.134,
          3.136,
          3.137,
          3.139,
          3.14,
          3.143,
          3.144,
          3.147,
          3.148,
          3.15,
          3.152,
          3.153,
          3.155,
          3.157,
          3.158,
          3.16,
          3.161,
          3.162,
          3.164,
          3.167,
          3.167,
          3.169,
          3.17,
          3.173,
          3.175,
          3.177,
          3.182,
          3.183,
          3.191,
          3.191,
          3.194,
          3.194,
          3.195,
          3.198,
          3.198,
          3.199,
          3.201,
          3.202,
          3.206,
          3.213,
          3.214,
          3.216,
          3.217,
          3.221,
          3.221,
          3.228,
          3.232,
          3.235,
          3.236,
          3.237,
          3.245,
          3.245,
          3.246,
          3.248,
          3.252,
          3.256,
          3.261,
          3.262,
          3.266,
          3.268,
          3.27,
          3.27,
          3.27,
          3.271,
          3.275,
          3.277,
          3.278,
          3.279,
          3.282,
          3.286,
          3.289,
          3.29,
          3.291,
          3.292,
          3.294,
          3.296,
          3.296,
          3.301,
          3.303,
          3.304,
          3.306,
          3.307,
          3.308,
          3.314,
          3.315,
          3.315,
          3.318,
          3.322,
          3.323,
          3.323,
          3.324,
          3.327,
          3.335,
          3.336,
          3.338,
          3.338,
          3.338,
          3.341,
          3.343,
          3.346,
          3.35,
          3.351,
          3.351,
          3.355,
          3.356,
          3.357,
          3.359,
          3.36,
          3.361,
          3.363,
          3.365,
          3.366,
          3.368,
          3.37,
          3.372,
          3.378,
          3.38,
          3.386,
          3.389,
          3.391,
          3.391,
          3.396,
          3.396,
          3.4,
          3.404,
          3.417,
          3.418,
          3.419,
          3.424,
          3.429,
          3.435,
          3.437,
          3.438,
          3.446,
          3.449,
          3.451,
          3.452,
          3.463,
          3.467,
          3.469,
          3.471,
          3.474,
          3.475,
          3.475,
          3.476,
          3.477,
          3.485,
          3.498,
          3.508,
          3.51,
          3.515,
          3.518,
          3.522,
          3.523,
          3.525,
          3.526,
          3.528,
          3.537,
          3.542,
          3.544,
          3.549,
          3.564,
          3.57,
          3.574,
          3.58,
          3.582,
          3.584,
          3.587,
          3.587,
          3.588,
          3.591,
          3.593,
          3.595,
          3.596,
          3.608,
          3.609,
          3.61,
          3.616,
          3.616,
          3.62,
          3.622,
          3.625,
          3.627,
          3.628,
          3.632,
          3.64,
          3.64,
          3.642,
          3.645,
          3.65,
          3.652,
          3.653,
          3.663,
          3.667,
          3.667,
          3.668,
          3.67,
          3.67,
          3.672,
          3.674,
          3.677,
          3.679,
          3.68,
          3.683,
          3.683,
          3.685,
          3.69,
          3.69,
          3.701,
          3.702,
          3.707,
          3.709,
          3.71,
          3.711,
          3.711,
          3.724,
          3.727,
          3.733,
          3.735,
          3.737,
          3.743,
          3.747,
          3.748,
          3.754,
          3.761,
          3.767,
          3.779,
          3.78,
          3.789,
          3.79,
          3.803,
          3.81,
          3.812,
          3.812,
          3.816,
          3.827,
          3.832,
          3.844,
          3.864,
          3.865,
          3.876,
          3.88,
          3.884,
          3.887,
          3.89,
          3.896,
          3.904,
          3.907,
          3.91,
          3.915,
          3.92,
          3.93,
          3.934,
          3.939,
          3.942,
          3.943,
          3.966,
          3.967,
          3.967,
          3.968,
          3.968,
          3.971,
          3.979,
          3.981,
          3.984,
          3.99,
          3.991,
          4,
          4.01,
          4.011,
          4.012,
          4.013,
          4.013,
          4.014,
          4.018,
          4.024,
          4.028,
          4.029,
          4.031,
          4.043,
          4.043,
          4.05,
          4.069,
          4.072,
          4.075,
          4.076,
          4.08,
          4.089,
          4.089,
          4.09,
          4.092,
          4.095,
          4.1,
          4.102,
          4.104,
          4.109,
          4.112,
          4.113,
          4.114,
          4.115,
          4.118,
          4.121,
          4.121,
          4.123,
          4.126,
          4.126,
          4.128,
          4.135,
          4.135,
          4.137,
          4.137,
          4.141,
          4.142,
          4.142,
          4.143,
          4.145,
          4.145,
          4.147,
          4.147,
          4.147,
          4.148,
          4.149,
          4.151,
          4.153,
          4.153,
          4.154,
          4.156,
          4.156,
          4.157,
          4.157,
          4.159,
          4.161,
          4.161,
          4.162,
          4.165,
          4.166,
          4.169,
          4.17,
          4.18,
          4.18,
          4.187,
          4.188,
          4.19,
          4.191,
          4.191,
          4.192,
          4.196,
          4.197,
          4.198,
          4.198,
          4.199,
          4.201,
          4.203,
          4.203,
          4.205,
          4.207,
          4.208,
          4.208,
          4.209,
          4.21,
          4.215,
          4.22,
          4.221,
          4.223,
          4.225,
          4.226,
          4.233,
          4.234,
          4.234,
          4.235,
          4.24,
          4.24,
          4.24,
          4.241,
          4.241,
          4.242,
          4.245,
          4.245,
          4.246,
          4.247,
          4.247,
          4.25,
          4.25,
          4.252,
          4.252,
          4.252,
          4.253,
          4.254,
          4.254,
          4.255,
          4.255,
          4.256,
          4.258,
          4.259,
          4.259,
          4.26,
          4.261,
          4.261,
          4.261,
          4.262,
          4.262,
          4.264,
          4.265,
          4.267,
          4.268,
          4.273,
          4.276,
          4.279,
          4.283,
          4.283,
          4.283,
          4.284,
          4.287,
          4.287,
          4.291,
          4.294,
          4.305,
          4.309,
          4.309,
          4.31,
          4.313,
          4.314,
          4.315,
          4.315,
          4.316,
          4.317,
          4.318,
          4.322,
          4.325,
          4.326,
          4.327,
          4.33,
          4.333,
          4.337,
          4.337,
          4.337,
          4.338,
          4.343,
          4.345,
          4.346,
          4.346,
          4.347,
          4.348,
          4.349,
          4.353,
          4.357,
          4.357,
          4.358,
          4.36,
          4.36,
          4.36,
          4.362,
          4.363,
          4.365,
          4.366,
          4.366,
          4.367,
          4.368,
          4.371,
          4.373,
          4.374,
          4.375,
          4.376,
          4.378,
          4.382,
          4.383,
          4.384,
          4.385,
          4.385,
          4.386,
          4.389,
          4.392,
          4.394,
          4.399,
          4.401,
          4.402,
          4.403,
          4.404,
          4.404,
          4.405,
          4.406,
          4.406,
          4.407,
          4.407,
          4.408,
          4.409,
          4.409,
          4.41,
          4.414,
          4.417,
          4.417,
          4.417,
          4.42,
          4.421,
          4.428,
          4.429,
          4.43,
          4.432,
          4.432,
          4.435,
          4.437,
          4.44,
          4.44,
          4.442,
          4.443,
          4.443,
          4.445,
          4.45,
          4.452,
          4.452,
          4.456,
          4.459,
          4.461,
          4.462,
          4.462,
          4.466,
          4.468,
          4.469,
          4.469,
          4.47,
          4.471,
          4.475,
          4.477,
          4.479,
          4.48,
          4.481,
          4.482,
          4.484,
          4.489,
          4.49,
          4.494,
          4.495,
          4.495,
          4.499,
          4.501,
          4.501,
          4.502,
          4.506,
          4.506,
          4.506,
          4.507,
          4.508,
          4.509,
          4.513,
          4.513,
          4.514,
          4.515,
          4.517,
          4.518,
          4.52,
          4.52,
          4.521,
          4.524,
          4.525,
          4.525,
          4.527,
          4.527,
          4.528,
          4.529,
          4.53,
          4.531,
          4.532,
          4.532,
          4.532,
          4.533,
          4.534,
          4.534,
          4.536,
          4.537,
          4.539,
          4.54,
          4.54,
          4.542,
          4.543,
          4.546,
          4.548,
          4.55,
          4.551,
          4.557,
          4.559,
          4.568,
          4.575,
          4.576,
          4.576,
          4.579,
          4.579,
          4.581,
          4.582,
          4.582,
          4.583,
          4.584,
          4.588,
          4.589,
          4.589,
          4.59,
          4.59,
          4.591,
          4.591,
          4.591,
          4.591,
          4.594,
          4.595,
          4.599,
          4.6,
          4.6,
          4.604,
          4.605,
          4.606,
          4.61,
          4.61,
          4.611,
          4.612,
          4.612,
          4.614,
          4.615,
          4.617,
          4.618,
          4.621,
          4.622,
          4.626,
          4.627,
          4.627,
          4.627,
          4.629,
          4.63,
          4.631,
          4.631,
          4.631,
          4.632,
          4.637,
          4.637,
          4.637,
          4.637,
          4.646,
          4.649,
          4.655,
          4.655,
          4.655,
          4.655,
          4.659,
          4.66,
          4.662,
          4.663,
          4.665,
          4.666,
          4.666,
          4.669,
          4.669,
          4.67,
          4.671,
          4.672,
          4.672,
          4.673,
          4.673,
          4.673,
          4.677,
          4.678,
          4.68,
          4.681,
          4.684,
          4.685,
          4.687,
          4.69,
          4.691,
          4.692,
          4.692,
          4.694,
          4.694,
          4.694,
          4.697,
          4.701,
          4.704,
          4.705,
          4.706,
          4.71,
          4.71,
          4.712,
          4.712,
          4.713,
          4.715,
          4.718,
          4.723,
          4.723,
          4.727,
          4.731,
          4.732,
          4.733,
          4.735,
          4.737,
          4.738,
          4.739,
          4.743,
          4.744,
          4.746,
          4.747,
          4.75,
          4.75,
          4.751,
          4.752,
          4.752,
          4.753,
          4.754,
          4.756,
          4.757,
          4.758,
          4.759,
          4.76,
          4.762,
          4.763,
          4.765,
          4.766,
          4.767,
          4.767,
          4.768,
          4.775,
          4.775,
          4.778,
          4.78,
          4.78,
          4.782,
          4.782,
          4.784,
          4.785,
          4.785,
          4.786,
          4.787,
          4.788,
          4.789,
          4.792,
          4.792,
          4.796,
          4.797,
          4.799,
          4.804,
          4.804,
          4.804,
          4.804,
          4.806,
          4.806,
          4.807,
          4.808,
          4.816,
          4.822,
          4.823,
          4.824,
          4.831,
          4.832,
          4.836,
          4.838,
          4.84,
          4.841,
          4.843,
          4.844,
          4.847,
          4.848,
          4.851,
          4.853,
          4.861,
          4.863,
          4.864,
          4.866,
          4.867,
          4.868,
          4.87,
          4.871,
          4.873,
          4.873,
          4.874,
          4.877,
          4.878,
          4.879,
          4.879,
          4.882,
          4.883,
          4.883,
          4.886,
          4.888,
          4.889,
          4.891,
          4.893,
          4.893,
          4.897,
          4.898,
          4.898,
          4.899,
          4.902,
          4.904,
          4.905,
          4.905,
          4.908,
          4.909,
          4.911,
          4.912,
          4.914,
          4.916,
          4.917,
          4.918,
          4.918,
          4.918,
          4.919,
          4.921,
          4.923,
          4.923,
          4.923,
          4.924,
          4.926,
          4.926,
          4.931,
          4.933,
          4.933,
          4.933,
          4.933,
          4.937,
          4.937,
          4.937,
          4.938,
          4.939,
          4.94,
          4.94,
          4.942,
          4.947,
          4.95,
          4.952,
          4.952,
          4.953,
          4.954,
          4.956,
          4.956,
          4.957,
          4.958,
          4.958,
          4.959,
          4.963,
          4.963,
          4.964,
          4.969,
          4.969,
          4.97,
          4.97,
          4.97,
          4.97,
          4.974,
          4.975,
          4.978,
          4.98,
          4.98,
          4.982,
          4.982,
          4.983,
          4.983,
          4.984,
          4.986,
          4.989,
          4.991,
          4.992,
          4.994,
          4.996,
          4.999,
          4.999,
          5.003,
          5.003,
          5.006,
          5.006,
          5.01,
          5.011,
          5.014,
          5.014,
          5.019,
          5.022,
          5.022,
          5.023,
          5.023,
          5.023,
          5.026,
          5.028,
          5.028,
          5.029,
          5.03,
          5.032,
          5.034,
          5.037,
          5.038,
          5.039,
          5.041,
          5.042,
          5.045,
          5.05,
          5.054,
          5.055,
          5.056,
          5.058,
          5.058,
          5.059,
          5.062,
          5.063,
          5.064,
          5.067,
          5.069,
          5.073,
          5.073,
          5.074,
          5.074,
          5.076,
          5.08,
          5.08,
          5.08,
          5.083,
          5.083,
          5.084,
          5.085,
          5.089,
          5.089,
          5.09,
          5.09,
          5.091,
          5.093,
          5.093,
          5.094,
          5.098,
          5.103,
          5.106,
          5.107,
          5.107,
          5.114,
          5.115,
          5.118,
          5.12,
          5.121,
          5.121,
          5.126,
          5.133,
          5.136,
          5.136,
          5.138,
          5.139,
          5.148,
          5.149,
          5.149,
          5.15,
          5.15,
          5.151,
          5.155,
          5.156,
          5.159,
          5.164,
          5.165,
          5.167,
          5.17,
          5.17,
          5.171,
          5.172,
          5.175,
          5.175,
          5.185,
          5.19,
          5.192,
          5.197,
          5.198,
          5.202,
          5.202,
          5.202,
          5.203,
          5.203,
          5.205,
          5.207,
          5.208,
          5.215,
          5.215,
          5.22,
          5.222,
          5.222,
          5.223,
          5.226,
          5.228,
          5.228,
          5.232,
          5.233,
          5.234,
          5.236,
          5.243,
          5.243,
          5.245,
          5.245,
          5.246,
          5.246,
          5.248,
          5.249,
          5.25,
          5.25,
          5.252,
          5.253,
          5.257,
          5.259,
          5.259,
          5.261,
          5.262,
          5.262,
          5.263,
          5.265,
          5.265,
          5.268,
          5.269,
          5.27,
          5.278,
          5.281,
          5.283,
          5.283,
          5.287,
          5.288,
          5.294,
          5.297,
          5.298,
          5.301,
          5.302,
          5.305,
          5.305,
          5.31,
          5.314,
          5.316,
          5.317,
          5.319,
          5.32,
          5.321,
          5.323,
          5.325,
          5.328,
          5.331,
          5.332,
          5.335,
          5.336,
          5.338,
          5.339,
          5.344,
          5.346,
          5.349,
          5.349,
          5.35,
          5.351,
          5.358,
          5.358,
          5.358,
          5.371,
          5.371,
          5.374,
          5.376,
          5.376,
          5.378,
          5.379,
          5.379,
          5.389,
          5.391,
          5.392,
          5.393,
          5.394,
          5.401,
          5.406,
          5.407,
          5.415,
          5.415,
          5.422,
          5.424,
          5.427,
          5.431,
          5.431,
          5.449,
          5.449,
          5.456,
          5.461,
          5.461,
          5.461,
          5.463,
          5.469,
          5.472,
          5.472,
          5.475,
          5.48,
          5.483,
          5.494,
          5.494,
          5.504,
          5.512,
          5.518,
          5.521,
          5.524,
          5.532,
          5.532,
          5.535,
          5.535,
          5.536,
          5.537,
          5.541,
          5.546,
          5.553,
          5.558,
          5.571,
          5.572,
          5.574,
          5.576,
          5.58,
          5.582,
          5.583,
          5.588,
          5.608,
          5.615,
          5.619,
          5.633,
          5.655,
          5.662,
          5.663,
          5.664,
          5.673,
          5.681,
          5.683,
          5.685,
          5.686,
          5.691,
          5.694,
          5.697,
          5.7,
          5.7,
          5.709,
          5.712,
          5.717,
          5.717,
          5.718,
          5.721,
          5.722,
          5.73,
          5.731,
          5.738,
          5.74,
          5.766,
          5.769,
          5.77,
          5.773,
          5.785,
          5.81,
          5.814,
          5.819,
          5.826,
          5.852,
          5.853,
          5.854,
          5.857,
          5.875,
          5.878,
          5.881,
          5.896,
          5.899,
          5.899,
          5.905,
          5.919,
          5.92,
          5.929,
          5.934,
          5.938,
          5.948,
          5.948,
          5.952,
          5.952,
          5.965,
          5.967,
          5.969,
          5.974,
          5.977,
          5.999,
          6.004,
          6.014,
          6.028,
          6.04,
          6.061,
          6.065,
          6.077,
          6.088,
          6.094,
          6.121,
          6.141,
          6.144,
          6.145,
          6.147,
          6.181,
          6.182,
          6.187,
          6.194,
          6.211,
          6.232,
          6.254,
          6.265,
          6.282,
          6.315,
          6.316,
          6.331,
          6.336,
          6.373,
          6.379,
          6.412,
          6.424,
          6.432,
          6.444,
          6.467,
          6.485,
          6.518,
          6.528,
          6.559,
          6.564,
          6.606,
          6.625,
          6.628,
          6.669,
          6.721,
          6.756,
          6.766,
          6.772,
          6.806,
          6.845,
          6.938,
          7.009,
          7.166,
          7.189,
          7.354,
          7.59,
          7.59,
          7.595,
          7.634,
          7.845,
          7.896,
          8.265,
          8.334,
          8.692,
          8.824,
          8.914,
          9.105,
          9.593,
          10.78,
          11.178,
          12.221,
          14.09
         ],
         "y": [
          0.0005390835579514825,
          0.001078167115902965,
          0.0016172506738544475,
          0.00215633423180593,
          0.0026954177897574125,
          0.003234501347708895,
          0.0037735849056603774,
          0.00431266846361186,
          0.004851752021563342,
          0.005390835579514825,
          0.005929919137466307,
          0.00646900269541779,
          0.007008086253369272,
          0.007547169811320755,
          0.008086253369272238,
          0.00862533692722372,
          0.009164420485175202,
          0.009703504043126684,
          0.010242587601078167,
          0.01078167115902965,
          0.011320754716981131,
          0.011859838274932614,
          0.012398921832884097,
          0.01293800539083558,
          0.013477088948787063,
          0.014016172506738544,
          0.014555256064690027,
          0.01509433962264151,
          0.015633423180592992,
          0.016172506738544475,
          0.016711590296495958,
          0.01725067385444744,
          0.01778975741239892,
          0.018328840970350403,
          0.018867924528301886,
          0.01940700808625337,
          0.019946091644204852,
          0.020485175202156335,
          0.021024258760107817,
          0.0215633423180593,
          0.022102425876010783,
          0.022641509433962263,
          0.023180592991913745,
          0.02371967654986523,
          0.02425876010781671,
          0.024797843665768194,
          0.025336927223719677,
          0.02587601078167116,
          0.026415094339622643,
          0.026954177897574125,
          0.027493261455525605,
          0.028032345013477088,
          0.02857142857142857,
          0.029110512129380053,
          0.029649595687331536,
          0.03018867924528302,
          0.030727762803234502,
          0.031266846361185985,
          0.031805929919137464,
          0.03234501347708895,
          0.03288409703504043,
          0.033423180592991916,
          0.033962264150943396,
          0.03450134770889488,
          0.03504043126684636,
          0.03557951482479784,
          0.03611859838274933,
          0.036657681940700806,
          0.03719676549865229,
          0.03773584905660377,
          0.03827493261455526,
          0.03881401617250674,
          0.039353099730458224,
          0.039892183288409704,
          0.04043126684636118,
          0.04097035040431267,
          0.04150943396226415,
          0.042048517520215635,
          0.042587601078167114,
          0.0431266846361186,
          0.04366576819407008,
          0.044204851752021566,
          0.044743935309973046,
          0.045283018867924525,
          0.04582210242587601,
          0.04636118598382749,
          0.04690026954177898,
          0.04743935309973046,
          0.04797843665768194,
          0.04851752021563342,
          0.04905660377358491,
          0.04959568733153639,
          0.05013477088948787,
          0.050673854447439354,
          0.05121293800539083,
          0.05175202156334232,
          0.0522911051212938,
          0.052830188679245285,
          0.053369272237196765,
          0.05390835579514825,
          0.05444743935309973,
          0.05498652291105121,
          0.055525606469002696,
          0.056064690026954175,
          0.05660377358490566,
          0.05714285714285714,
          0.05768194070080863,
          0.05822102425876011,
          0.05876010781671159,
          0.05929919137466307,
          0.05983827493261455,
          0.06037735849056604,
          0.06091644204851752,
          0.061455525606469004,
          0.06199460916442048,
          0.06253369272237197,
          0.06307277628032346,
          0.06361185983827493,
          0.06415094339622641,
          0.0646900269541779,
          0.06522911051212937,
          0.06576819407008086,
          0.06630727762803235,
          0.06684636118598383,
          0.0673854447439353,
          0.06792452830188679,
          0.06846361185983828,
          0.06900269541778976,
          0.06954177897574124,
          0.07008086253369272,
          0.07061994609164421,
          0.07115902964959568,
          0.07169811320754717,
          0.07223719676549865,
          0.07277628032345014,
          0.07331536388140161,
          0.0738544474393531,
          0.07439353099730459,
          0.07493261455525606,
          0.07547169811320754,
          0.07601078167115903,
          0.07654986522911052,
          0.07708894878706199,
          0.07762803234501348,
          0.07816711590296496,
          0.07870619946091645,
          0.07924528301886792,
          0.07978436657681941,
          0.0803234501347709,
          0.08086253369272237,
          0.08140161725067385,
          0.08194070080862534,
          0.08247978436657682,
          0.0830188679245283,
          0.08355795148247978,
          0.08409703504043127,
          0.08463611859838274,
          0.08517520215633423,
          0.08571428571428572,
          0.0862533692722372,
          0.08679245283018867,
          0.08733153638814016,
          0.08787061994609165,
          0.08840970350404313,
          0.0889487870619946,
          0.08948787061994609,
          0.09002695417789758,
          0.09056603773584905,
          0.09110512129380054,
          0.09164420485175202,
          0.09218328840970351,
          0.09272237196765498,
          0.09326145552560647,
          0.09380053908355795,
          0.09433962264150944,
          0.09487870619946091,
          0.0954177897574124,
          0.09595687331536389,
          0.09649595687331536,
          0.09703504043126684,
          0.09757412398921833,
          0.09811320754716982,
          0.09865229110512129,
          0.09919137466307278,
          0.09973045822102426,
          0.10026954177897573,
          0.10080862533692722,
          0.10134770889487871,
          0.1018867924528302,
          0.10242587601078167,
          0.10296495956873315,
          0.10350404312668464,
          0.10404312668463613,
          0.1045822102425876,
          0.10512129380053908,
          0.10566037735849057,
          0.10619946091644204,
          0.10673854447439353,
          0.10727762803234502,
          0.1078167115902965,
          0.10835579514824797,
          0.10889487870619946,
          0.10943396226415095,
          0.10997304582210242,
          0.1105121293800539,
          0.11105121293800539,
          0.11159029649595688,
          0.11212938005390835,
          0.11266846361185984,
          0.11320754716981132,
          0.11374663072776281,
          0.11428571428571428,
          0.11482479784366577,
          0.11536388140161725,
          0.11590296495956873,
          0.11644204851752021,
          0.1169811320754717,
          0.11752021563342319,
          0.11805929919137466,
          0.11859838274932614,
          0.11913746630727763,
          0.1196765498652291,
          0.12021563342318059,
          0.12075471698113208,
          0.12129380053908356,
          0.12183288409703504,
          0.12237196765498652,
          0.12291105121293801,
          0.1234501347708895,
          0.12398921832884097,
          0.12452830188679245,
          0.12506738544474394,
          0.12560646900269543,
          0.1261455525606469,
          0.12668463611859837,
          0.12722371967654986,
          0.12776280323450134,
          0.12830188679245283,
          0.12884097035040432,
          0.1293800539083558,
          0.1299191374663073,
          0.13045822102425875,
          0.13099730458221023,
          0.13153638814016172,
          0.1320754716981132,
          0.1326145552560647,
          0.13315363881401618,
          0.13369272237196766,
          0.13423180592991915,
          0.1347708894878706,
          0.1353099730458221,
          0.13584905660377358,
          0.13638814016172507,
          0.13692722371967656,
          0.13746630727762804,
          0.13800539083557953,
          0.138544474393531,
          0.13908355795148247,
          0.13962264150943396,
          0.14016172506738545,
          0.14070080862533693,
          0.14123989218328842,
          0.1417789757412399,
          0.14231805929919136,
          0.14285714285714285,
          0.14339622641509434,
          0.14393530997304582,
          0.1444743935309973,
          0.1450134770889488,
          0.14555256064690028,
          0.14609164420485174,
          0.14663072776280323,
          0.1471698113207547,
          0.1477088948787062,
          0.14824797843665768,
          0.14878706199460917,
          0.14932614555256066,
          0.14986522911051212,
          0.1504043126684636,
          0.1509433962264151,
          0.15148247978436657,
          0.15202156334231806,
          0.15256064690026955,
          0.15309973045822103,
          0.15363881401617252,
          0.15417789757412398,
          0.15471698113207547,
          0.15525606469002695,
          0.15579514824797844,
          0.15633423180592992,
          0.1568733153638814,
          0.1574123989218329,
          0.15795148247978436,
          0.15849056603773584,
          0.15902964959568733,
          0.15956873315363881,
          0.1601078167115903,
          0.1606469002695418,
          0.16118598382749327,
          0.16172506738544473,
          0.16226415094339622,
          0.1628032345013477,
          0.1633423180592992,
          0.16388140161725068,
          0.16442048517520216,
          0.16495956873315365,
          0.1654986522911051,
          0.1660377358490566,
          0.16657681940700808,
          0.16711590296495957,
          0.16765498652291105,
          0.16819407008086254,
          0.16873315363881403,
          0.16927223719676548,
          0.16981132075471697,
          0.17035040431266846,
          0.17088948787061994,
          0.17142857142857143,
          0.17196765498652292,
          0.1725067385444744,
          0.1730458221024259,
          0.17358490566037735,
          0.17412398921832883,
          0.17466307277628032,
          0.1752021563342318,
          0.1757412398921833,
          0.17628032345013478,
          0.17681940700808627,
          0.17735849056603772,
          0.1778975741239892,
          0.1784366576819407,
          0.17897574123989218,
          0.17951482479784367,
          0.18005390835579516,
          0.18059299191374664,
          0.1811320754716981,
          0.1816711590296496,
          0.18221024258760107,
          0.18274932614555256,
          0.18328840970350405,
          0.18382749326145553,
          0.18436657681940702,
          0.18490566037735848,
          0.18544474393530996,
          0.18598382749326145,
          0.18652291105121294,
          0.18706199460916442,
          0.1876010781671159,
          0.1881401617250674,
          0.18867924528301888,
          0.18921832884097034,
          0.18975741239892183,
          0.1902964959568733,
          0.1908355795148248,
          0.19137466307277629,
          0.19191374663072777,
          0.19245283018867926,
          0.19299191374663072,
          0.1935309973045822,
          0.1940700808625337,
          0.19460916442048518,
          0.19514824797843666,
          0.19568733153638815,
          0.19622641509433963,
          0.1967654986522911,
          0.19730458221024258,
          0.19784366576819407,
          0.19838274932614555,
          0.19892183288409704,
          0.19946091644204852,
          0.2,
          0.20053908355795147,
          0.20107816711590296,
          0.20161725067385444,
          0.20215633423180593,
          0.20269541778975741,
          0.2032345013477089,
          0.2037735849056604,
          0.20431266846361185,
          0.20485175202156333,
          0.20539083557951482,
          0.2059299191374663,
          0.2064690026954178,
          0.20700808625336928,
          0.20754716981132076,
          0.20808625336927225,
          0.2086253369272237,
          0.2091644204851752,
          0.20970350404312668,
          0.21024258760107817,
          0.21078167115902965,
          0.21132075471698114,
          0.21185983827493263,
          0.21239892183288409,
          0.21293800539083557,
          0.21347708894878706,
          0.21401617250673854,
          0.21455525606469003,
          0.21509433962264152,
          0.215633423180593,
          0.21617250673854446,
          0.21671159029649595,
          0.21725067385444743,
          0.21778975741239892,
          0.2183288409703504,
          0.2188679245283019,
          0.21940700808625338,
          0.21994609164420484,
          0.22048517520215632,
          0.2210242587601078,
          0.2215633423180593,
          0.22210242587601078,
          0.22264150943396227,
          0.22318059299191376,
          0.22371967654986524,
          0.2242587601078167,
          0.2247978436657682,
          0.22533692722371967,
          0.22587601078167116,
          0.22641509433962265,
          0.22695417789757413,
          0.22749326145552562,
          0.22803234501347708,
          0.22857142857142856,
          0.22911051212938005,
          0.22964959568733154,
          0.23018867924528302,
          0.2307277628032345,
          0.231266846361186,
          0.23180592991913745,
          0.23234501347708894,
          0.23288409703504043,
          0.2334231805929919,
          0.2339622641509434,
          0.23450134770889489,
          0.23504043126684637,
          0.23557951482479783,
          0.23611859838274932,
          0.2366576819407008,
          0.2371967654986523,
          0.23773584905660378,
          0.23827493261455526,
          0.23881401617250675,
          0.2393530997304582,
          0.2398921832884097,
          0.24043126684636118,
          0.24097035040431267,
          0.24150943396226415,
          0.24204851752021564,
          0.24258760107816713,
          0.2431266846361186,
          0.24366576819407007,
          0.24420485175202156,
          0.24474393530997304,
          0.24528301886792453,
          0.24582210242587602,
          0.2463611859838275,
          0.246900269541779,
          0.24743935309973045,
          0.24797843665768193,
          0.24851752021563342,
          0.2490566037735849,
          0.2495956873315364,
          0.2501347708894879,
          0.25067385444743934,
          0.25121293800539085,
          0.2517520215633423,
          0.2522911051212938,
          0.2528301886792453,
          0.25336927223719674,
          0.25390835579514826,
          0.2544474393530997,
          0.2549865229110512,
          0.2555256064690027,
          0.2560646900269542,
          0.25660377358490566,
          0.2571428571428571,
          0.25768194070080863,
          0.2582210242587601,
          0.2587601078167116,
          0.25929919137466306,
          0.2598382749326146,
          0.26037735849056604,
          0.2609164420485175,
          0.261455525606469,
          0.26199460916442047,
          0.262533692722372,
          0.26307277628032344,
          0.26361185983827495,
          0.2641509433962264,
          0.26469002695417787,
          0.2652291105121294,
          0.26576819407008084,
          0.26630727762803236,
          0.2668463611859838,
          0.26738544474393533,
          0.2679245283018868,
          0.2684636118598383,
          0.26900269541778976,
          0.2695417789757412,
          0.27008086253369273,
          0.2706199460916442,
          0.2711590296495957,
          0.27169811320754716,
          0.2722371967654987,
          0.27277628032345014,
          0.2733153638814016,
          0.2738544474393531,
          0.27439353099730457,
          0.2749326145552561,
          0.27547169811320754,
          0.27601078167115906,
          0.2765498652291105,
          0.277088948787062,
          0.2776280323450135,
          0.27816711590296495,
          0.27870619946091646,
          0.2792452830188679,
          0.27978436657681943,
          0.2803234501347709,
          0.28086253369272235,
          0.28140161725067386,
          0.2819407008086253,
          0.28247978436657684,
          0.2830188679245283,
          0.2835579514824798,
          0.28409703504043127,
          0.2846361185983827,
          0.28517520215633424,
          0.2857142857142857,
          0.2862533692722372,
          0.28679245283018867,
          0.2873315363881402,
          0.28787061994609164,
          0.2884097035040431,
          0.2889487870619946,
          0.2894878706199461,
          0.2900269541778976,
          0.29056603773584905,
          0.29110512129380056,
          0.291644204851752,
          0.2921832884097035,
          0.292722371967655,
          0.29326145552560645,
          0.29380053908355797,
          0.2943396226415094,
          0.29487870619946094,
          0.2954177897574124,
          0.29595687331536386,
          0.29649595687331537,
          0.29703504043126683,
          0.29757412398921834,
          0.2981132075471698,
          0.2986522911051213,
          0.2991913746630728,
          0.29973045822102423,
          0.30026954177897575,
          0.3008086253369272,
          0.3013477088948787,
          0.3018867924528302,
          0.3024258760107817,
          0.30296495956873315,
          0.3035040431266846,
          0.3040431266846361,
          0.3045822102425876,
          0.3051212938005391,
          0.30566037735849055,
          0.30619946091644207,
          0.3067385444743935,
          0.30727762803234504,
          0.3078167115902965,
          0.30835579514824796,
          0.30889487870619947,
          0.30943396226415093,
          0.30997304582210244,
          0.3105121293800539,
          0.3110512129380054,
          0.3115902964959569,
          0.31212938005390833,
          0.31266846361185985,
          0.3132075471698113,
          0.3137466307277628,
          0.3142857142857143,
          0.3148247978436658,
          0.31536388140161725,
          0.3159029649595687,
          0.3164420485175202,
          0.3169811320754717,
          0.3175202156334232,
          0.31805929919137466,
          0.31859838274932617,
          0.31913746630727763,
          0.3196765498652291,
          0.3202156334231806,
          0.32075471698113206,
          0.3212938005390836,
          0.32183288409703503,
          0.32237196765498655,
          0.322911051212938,
          0.32345013477088946,
          0.323989218328841,
          0.32452830188679244,
          0.32506738544474395,
          0.3256064690026954,
          0.3261455525606469,
          0.3266846361185984,
          0.32722371967654984,
          0.32776280323450135,
          0.3283018867924528,
          0.3288409703504043,
          0.3293800539083558,
          0.3299191374663073,
          0.33045822102425876,
          0.3309973045822102,
          0.33153638814016173,
          0.3320754716981132,
          0.3326145552560647,
          0.33315363881401616,
          0.3336927223719677,
          0.33423180592991913,
          0.3347708894878706,
          0.3353099730458221,
          0.33584905660377357,
          0.3363881401617251,
          0.33692722371967654,
          0.33746630727762805,
          0.3380053908355795,
          0.33854447439353097,
          0.3390835579514825,
          0.33962264150943394,
          0.34016172506738546,
          0.3407008086253369,
          0.34123989218328843,
          0.3417789757412399,
          0.3423180592991914,
          0.34285714285714286,
          0.3433962264150943,
          0.34393530997304583,
          0.3444743935309973,
          0.3450134770889488,
          0.34555256064690026,
          0.3460916442048518,
          0.34663072776280324,
          0.3471698113207547,
          0.3477088948787062,
          0.34824797843665767,
          0.3487870619946092,
          0.34932614555256064,
          0.34986522911051215,
          0.3504043126684636,
          0.35094339622641507,
          0.3514824797843666,
          0.35202156334231804,
          0.35256064690026956,
          0.353099730458221,
          0.35363881401617253,
          0.354177897574124,
          0.35471698113207545,
          0.35525606469002696,
          0.3557951482479784,
          0.35633423180592994,
          0.3568733153638814,
          0.3574123989218329,
          0.35795148247978437,
          0.3584905660377358,
          0.35902964959568734,
          0.3595687331536388,
          0.3601078167115903,
          0.36064690026954177,
          0.3611859838274933,
          0.36172506738544474,
          0.3622641509433962,
          0.3628032345013477,
          0.3633423180592992,
          0.3638814016172507,
          0.36442048517520215,
          0.36495956873315366,
          0.3654986522911051,
          0.3660377358490566,
          0.3665768194070081,
          0.36711590296495955,
          0.36765498652291106,
          0.3681940700808625,
          0.36873315363881404,
          0.3692722371967655,
          0.36981132075471695,
          0.37035040431266847,
          0.3708894878706199,
          0.37142857142857144,
          0.3719676549865229,
          0.3725067385444744,
          0.3730458221024259,
          0.37358490566037733,
          0.37412398921832885,
          0.3746630727762803,
          0.3752021563342318,
          0.3757412398921833,
          0.3762803234501348,
          0.37681940700808625,
          0.37735849056603776,
          0.3778975741239892,
          0.3784366576819407,
          0.3789757412398922,
          0.37951482479784365,
          0.38005390835579517,
          0.3805929919137466,
          0.38113207547169814,
          0.3816711590296496,
          0.38221024258760106,
          0.38274932614555257,
          0.38328840970350403,
          0.38382749326145554,
          0.384366576819407,
          0.3849056603773585,
          0.38544474393531,
          0.38598382749326143,
          0.38652291105121295,
          0.3870619946091644,
          0.3876010781671159,
          0.3881401617250674,
          0.3886792452830189,
          0.38921832884097035,
          0.3897574123989218,
          0.3902964959568733,
          0.3908355795148248,
          0.3913746630727763,
          0.39191374663072776,
          0.39245283018867927,
          0.3929919137466307,
          0.3935309973045822,
          0.3940700808625337,
          0.39460916442048516,
          0.3951482479784367,
          0.39568733153638813,
          0.39622641509433965,
          0.3967654986522911,
          0.39730458221024256,
          0.3978436657681941,
          0.39838274932614554,
          0.39892183288409705,
          0.3994609164420485,
          0.4,
          0.4005390835579515,
          0.40107816711590294,
          0.40161725067385445,
          0.4021563342318059,
          0.4026954177897574,
          0.4032345013477089,
          0.4037735849056604,
          0.40431266846361186,
          0.4048517520215633,
          0.40539083557951483,
          0.4059299191374663,
          0.4064690026954178,
          0.40700808625336926,
          0.4075471698113208,
          0.40808625336927223,
          0.4086253369272237,
          0.4091644204851752,
          0.40970350404312667,
          0.4102425876010782,
          0.41078167115902964,
          0.41132075471698115,
          0.4118598382749326,
          0.4123989218328841,
          0.4129380053908356,
          0.41347708894878704,
          0.41401617250673856,
          0.41455525606469,
          0.41509433962264153,
          0.415633423180593,
          0.4161725067385445,
          0.41671159029649596,
          0.4172506738544474,
          0.41778975741239893,
          0.4183288409703504,
          0.4188679245283019,
          0.41940700808625336,
          0.4199460916442049,
          0.42048517520215634,
          0.4210242587601078,
          0.4215633423180593,
          0.42210242587601077,
          0.4226415094339623,
          0.42318059299191374,
          0.42371967654986525,
          0.4242587601078167,
          0.42479784366576817,
          0.4253369272237197,
          0.42587601078167114,
          0.42641509433962266,
          0.4269541778975741,
          0.42749326145552563,
          0.4280323450134771,
          0.42857142857142855,
          0.42911051212938006,
          0.4296495956873315,
          0.43018867924528303,
          0.4307277628032345,
          0.431266846361186,
          0.43180592991913747,
          0.4323450134770889,
          0.43288409703504044,
          0.4334231805929919,
          0.4339622641509434,
          0.43450134770889487,
          0.4350404312668464,
          0.43557951482479784,
          0.4361185983827493,
          0.4366576819407008,
          0.4371967654986523,
          0.4377358490566038,
          0.43827493261455525,
          0.43881401617250676,
          0.4393530997304582,
          0.4398921832884097,
          0.4404312668463612,
          0.44097035040431265,
          0.44150943396226416,
          0.4420485175202156,
          0.44258760107816714,
          0.4431266846361186,
          0.44366576819407005,
          0.44420485175202157,
          0.444743935309973,
          0.44528301886792454,
          0.445822102425876,
          0.4463611859838275,
          0.44690026954177897,
          0.4474393530997305,
          0.44797843665768194,
          0.4485175202156334,
          0.4490566037735849,
          0.4495956873315364,
          0.4501347708894879,
          0.45067385444743935,
          0.45121293800539086,
          0.4517520215633423,
          0.4522911051212938,
          0.4528301886792453,
          0.45336927223719675,
          0.45390835579514827,
          0.4544474393530997,
          0.45498652291105124,
          0.4555256064690027,
          0.45606469002695416,
          0.45660377358490567,
          0.45714285714285713,
          0.45768194070080864,
          0.4582210242587601,
          0.4587601078167116,
          0.4592991913746631,
          0.45983827493261453,
          0.46037735849056605,
          0.4609164420485175,
          0.461455525606469,
          0.4619946091644205,
          0.462533692722372,
          0.46307277628032345,
          0.4636118598382749,
          0.4641509433962264,
          0.4646900269541779,
          0.4652291105121294,
          0.46576819407008085,
          0.46630727762803237,
          0.4668463611859838,
          0.4673854447439353,
          0.4679245283018868,
          0.46846361185983826,
          0.46900269541778977,
          0.46954177897574123,
          0.47008086253369274,
          0.4706199460916442,
          0.47115902964959566,
          0.4716981132075472,
          0.47223719676549863,
          0.47277628032345015,
          0.4733153638814016,
          0.4738544474393531,
          0.4743935309973046,
          0.47493261455525604,
          0.47547169811320755,
          0.476010781671159,
          0.4765498652291105,
          0.477088948787062,
          0.4776280323450135,
          0.47816711590296496,
          0.4787061994609164,
          0.47924528301886793,
          0.4797843665768194,
          0.4803234501347709,
          0.48086253369272236,
          0.4814016172506739,
          0.48194070080862533,
          0.48247978436657685,
          0.4830188679245283,
          0.48355795148247976,
          0.4840970350404313,
          0.48463611859838274,
          0.48517520215633425,
          0.4857142857142857,
          0.4862533692722372,
          0.4867924528301887,
          0.48733153638814014,
          0.48787061994609165,
          0.4884097035040431,
          0.4889487870619946,
          0.4894878706199461,
          0.4900269541778976,
          0.49056603773584906,
          0.4911051212938005,
          0.49164420485175203,
          0.4921832884097035,
          0.492722371967655,
          0.49326145552560646,
          0.493800539083558,
          0.49433962264150944,
          0.4948787061994609,
          0.4954177897574124,
          0.49595687331536387,
          0.4964959568733154,
          0.49703504043126684,
          0.49757412398921835,
          0.4981132075471698,
          0.49865229110512127,
          0.4991913746630728,
          0.49973045822102424,
          0.5002695417789758,
          0.5008086253369273,
          0.5013477088948787,
          0.5018867924528302,
          0.5024258760107817,
          0.5029649595687331,
          0.5035040431266846,
          0.5040431266846361,
          0.5045822102425876,
          0.505121293800539,
          0.5056603773584906,
          0.5061994609164421,
          0.5067385444743935,
          0.507277628032345,
          0.5078167115902965,
          0.508355795148248,
          0.5088948787061994,
          0.5094339622641509,
          0.5099730458221025,
          0.5105121293800539,
          0.5110512129380054,
          0.5115902964959569,
          0.5121293800539084,
          0.5126684636118598,
          0.5132075471698113,
          0.5137466307277628,
          0.5142857142857142,
          0.5148247978436657,
          0.5153638814016173,
          0.5159029649595688,
          0.5164420485175202,
          0.5169811320754717,
          0.5175202156334232,
          0.5180592991913746,
          0.5185983827493261,
          0.5191374663072776,
          0.5196765498652292,
          0.5202156334231806,
          0.5207547169811321,
          0.5212938005390836,
          0.521832884097035,
          0.5223719676549865,
          0.522911051212938,
          0.5234501347708895,
          0.5239892183288409,
          0.5245283018867924,
          0.525067385444744,
          0.5256064690026954,
          0.5261455525606469,
          0.5266846361185984,
          0.5272237196765499,
          0.5277628032345013,
          0.5283018867924528,
          0.5288409703504043,
          0.5293800539083557,
          0.5299191374663073,
          0.5304582210242588,
          0.5309973045822103,
          0.5315363881401617,
          0.5320754716981132,
          0.5326145552560647,
          0.5331536388140161,
          0.5336927223719676,
          0.5342318059299191,
          0.5347708894878707,
          0.5353099730458221,
          0.5358490566037736,
          0.5363881401617251,
          0.5369272237196766,
          0.537466307277628,
          0.5380053908355795,
          0.538544474393531,
          0.5390835579514824,
          0.539622641509434,
          0.5401617250673855,
          0.540700808625337,
          0.5412398921832884,
          0.5417789757412399,
          0.5423180592991914,
          0.5428571428571428,
          0.5433962264150943,
          0.5439353099730458,
          0.5444743935309974,
          0.5450134770889488,
          0.5455525606469003,
          0.5460916442048518,
          0.5466307277628032,
          0.5471698113207547,
          0.5477088948787062,
          0.5482479784366577,
          0.5487870619946091,
          0.5493261455525607,
          0.5498652291105122,
          0.5504043126684636,
          0.5509433962264151,
          0.5514824797843666,
          0.5520215633423181,
          0.5525606469002695,
          0.553099730458221,
          0.5536388140161725,
          0.554177897574124,
          0.5547169811320755,
          0.555256064690027,
          0.5557951482479785,
          0.5563342318059299,
          0.5568733153638814,
          0.5574123989218329,
          0.5579514824797843,
          0.5584905660377358,
          0.5590296495956874,
          0.5595687331536389,
          0.5601078167115903,
          0.5606469002695418,
          0.5611859838274933,
          0.5617250673854447,
          0.5622641509433962,
          0.5628032345013477,
          0.5633423180592992,
          0.5638814016172506,
          0.5644204851752022,
          0.5649595687331537,
          0.5654986522911051,
          0.5660377358490566,
          0.5665768194070081,
          0.5671159029649596,
          0.567654986522911,
          0.5681940700808625,
          0.568733153638814,
          0.5692722371967655,
          0.569811320754717,
          0.5703504043126685,
          0.57088948787062,
          0.5714285714285714,
          0.5719676549865229,
          0.5725067385444744,
          0.5730458221024258,
          0.5735849056603773,
          0.5741239892183289,
          0.5746630727762804,
          0.5752021563342318,
          0.5757412398921833,
          0.5762803234501348,
          0.5768194070080862,
          0.5773584905660377,
          0.5778975741239892,
          0.5784366576819407,
          0.5789757412398921,
          0.5795148247978437,
          0.5800539083557952,
          0.5805929919137466,
          0.5811320754716981,
          0.5816711590296496,
          0.5822102425876011,
          0.5827493261455525,
          0.583288409703504,
          0.5838274932614556,
          0.584366576819407,
          0.5849056603773585,
          0.58544474393531,
          0.5859838274932615,
          0.5865229110512129,
          0.5870619946091644,
          0.5876010781671159,
          0.5881401617250673,
          0.5886792452830188,
          0.5892183288409704,
          0.5897574123989219,
          0.5902964959568733,
          0.5908355795148248,
          0.5913746630727763,
          0.5919137466307277,
          0.5924528301886792,
          0.5929919137466307,
          0.5935309973045823,
          0.5940700808625337,
          0.5946091644204852,
          0.5951482479784367,
          0.5956873315363881,
          0.5962264150943396,
          0.5967654986522911,
          0.5973045822102426,
          0.597843665768194,
          0.5983827493261455,
          0.5989218328840971,
          0.5994609164420485,
          0.6,
          0.6005390835579515,
          0.601078167115903,
          0.6016172506738544,
          0.6021563342318059,
          0.6026954177897574,
          0.6032345013477088,
          0.6037735849056604,
          0.6043126684636119,
          0.6048517520215634,
          0.6053908355795148,
          0.6059299191374663,
          0.6064690026954178,
          0.6070080862533692,
          0.6075471698113207,
          0.6080862533692722,
          0.6086253369272238,
          0.6091644204851752,
          0.6097035040431267,
          0.6102425876010782,
          0.6107816711590297,
          0.6113207547169811,
          0.6118598382749326,
          0.6123989218328841,
          0.6129380053908355,
          0.613477088948787,
          0.6140161725067386,
          0.6145552560646901,
          0.6150943396226415,
          0.615633423180593,
          0.6161725067385445,
          0.6167115902964959,
          0.6172506738544474,
          0.6177897574123989,
          0.6183288409703505,
          0.6188679245283019,
          0.6194070080862534,
          0.6199460916442049,
          0.6204851752021563,
          0.6210242587601078,
          0.6215633423180593,
          0.6221024258760108,
          0.6226415094339622,
          0.6231805929919138,
          0.6237196765498653,
          0.6242587601078167,
          0.6247978436657682,
          0.6253369272237197,
          0.6258760107816712,
          0.6264150943396226,
          0.6269541778975741,
          0.6274932614555256,
          0.628032345013477,
          0.6285714285714286,
          0.6291105121293801,
          0.6296495956873316,
          0.630188679245283,
          0.6307277628032345,
          0.631266846361186,
          0.6318059299191374,
          0.6323450134770889,
          0.6328840970350404,
          0.633423180592992,
          0.6339622641509434,
          0.6345013477088949,
          0.6350404312668464,
          0.6355795148247978,
          0.6361185983827493,
          0.6366576819407008,
          0.6371967654986523,
          0.6377358490566037,
          0.6382749326145553,
          0.6388140161725068,
          0.6393530997304582,
          0.6398921832884097,
          0.6404312668463612,
          0.6409703504043127,
          0.6415094339622641,
          0.6420485175202156,
          0.6425876010781671,
          0.6431266846361186,
          0.6436657681940701,
          0.6442048517520216,
          0.6447439353099731,
          0.6452830188679245,
          0.645822102425876,
          0.6463611859838275,
          0.6469002695417789,
          0.6474393530997304,
          0.647978436657682,
          0.6485175202156335,
          0.6490566037735849,
          0.6495956873315364,
          0.6501347708894879,
          0.6506738544474393,
          0.6512129380053908,
          0.6517520215633423,
          0.6522911051212938,
          0.6528301886792452,
          0.6533692722371968,
          0.6539083557951483,
          0.6544474393530997,
          0.6549865229110512,
          0.6555256064690027,
          0.6560646900269542,
          0.6566037735849056,
          0.6571428571428571,
          0.6576819407008087,
          0.6582210242587601,
          0.6587601078167116,
          0.6592991913746631,
          0.6598382749326146,
          0.660377358490566,
          0.6609164420485175,
          0.661455525606469,
          0.6619946091644204,
          0.662533692722372,
          0.6630727762803235,
          0.663611859838275,
          0.6641509433962264,
          0.6646900269541779,
          0.6652291105121294,
          0.6657681940700808,
          0.6663072776280323,
          0.6668463611859838,
          0.6673854447439354,
          0.6679245283018868,
          0.6684636118598383,
          0.6690026954177898,
          0.6695417789757412,
          0.6700808625336927,
          0.6706199460916442,
          0.6711590296495957,
          0.6716981132075471,
          0.6722371967654986,
          0.6727762803234502,
          0.6733153638814016,
          0.6738544474393531,
          0.6743935309973046,
          0.6749326145552561,
          0.6754716981132075,
          0.676010781671159,
          0.6765498652291105,
          0.6770889487870619,
          0.6776280323450135,
          0.678167115902965,
          0.6787061994609165,
          0.6792452830188679,
          0.6797843665768194,
          0.6803234501347709,
          0.6808625336927224,
          0.6814016172506738,
          0.6819407008086253,
          0.6824797843665769,
          0.6830188679245283,
          0.6835579514824798,
          0.6840970350404313,
          0.6846361185983828,
          0.6851752021563342,
          0.6857142857142857,
          0.6862533692722372,
          0.6867924528301886,
          0.6873315363881402,
          0.6878706199460917,
          0.6884097035040432,
          0.6889487870619946,
          0.6894878706199461,
          0.6900269541778976,
          0.690566037735849,
          0.6911051212938005,
          0.691644204851752,
          0.6921832884097036,
          0.692722371967655,
          0.6932614555256065,
          0.693800539083558,
          0.6943396226415094,
          0.6948787061994609,
          0.6954177897574124,
          0.6959568733153639,
          0.6964959568733153,
          0.6970350404312669,
          0.6975741239892184,
          0.6981132075471698,
          0.6986522911051213,
          0.6991913746630728,
          0.6997304582210243,
          0.7002695417789757,
          0.7008086253369272,
          0.7013477088948787,
          0.7018867924528301,
          0.7024258760107817,
          0.7029649595687332,
          0.7035040431266847,
          0.7040431266846361,
          0.7045822102425876,
          0.7051212938005391,
          0.7056603773584905,
          0.706199460916442,
          0.7067385444743935,
          0.7072776280323451,
          0.7078167115902965,
          0.708355795148248,
          0.7088948787061995,
          0.7094339622641509,
          0.7099730458221024,
          0.7105121293800539,
          0.7110512129380054,
          0.7115902964959568,
          0.7121293800539084,
          0.7126684636118599,
          0.7132075471698113,
          0.7137466307277628,
          0.7142857142857143,
          0.7148247978436658,
          0.7153638814016172,
          0.7159029649595687,
          0.7164420485175202,
          0.7169811320754716,
          0.7175202156334232,
          0.7180592991913747,
          0.7185983827493262,
          0.7191374663072776,
          0.7196765498652291,
          0.7202156334231806,
          0.720754716981132,
          0.7212938005390835,
          0.721832884097035,
          0.7223719676549866,
          0.722911051212938,
          0.7234501347708895,
          0.723989218328841,
          0.7245283018867924,
          0.7250673854447439,
          0.7256064690026954,
          0.726145552560647,
          0.7266846361185983,
          0.7272237196765499,
          0.7277628032345014,
          0.7283018867924528,
          0.7288409703504043,
          0.7293800539083558,
          0.7299191374663073,
          0.7304582210242587,
          0.7309973045822102,
          0.7315363881401618,
          0.7320754716981132,
          0.7326145552560647,
          0.7331536388140162,
          0.7336927223719677,
          0.7342318059299191,
          0.7347708894878706,
          0.7353099730458221,
          0.7358490566037735,
          0.736388140161725,
          0.7369272237196766,
          0.7374663072776281,
          0.7380053908355795,
          0.738544474393531,
          0.7390835579514825,
          0.7396226415094339,
          0.7401617250673854,
          0.7407008086253369,
          0.7412398921832885,
          0.7417789757412399,
          0.7423180592991914,
          0.7428571428571429,
          0.7433962264150943,
          0.7439353099730458,
          0.7444743935309973,
          0.7450134770889488,
          0.7455525606469002,
          0.7460916442048517,
          0.7466307277628033,
          0.7471698113207547,
          0.7477088948787062,
          0.7482479784366577,
          0.7487870619946092,
          0.7493261455525606,
          0.7498652291105121,
          0.7504043126684636,
          0.7509433962264151,
          0.7514824797843666,
          0.7520215633423181,
          0.7525606469002696,
          0.753099730458221,
          0.7536388140161725,
          0.754177897574124,
          0.7547169811320755,
          0.7552560646900269,
          0.7557951482479784,
          0.75633423180593,
          0.7568733153638814,
          0.7574123989218329,
          0.7579514824797844,
          0.7584905660377359,
          0.7590296495956873,
          0.7595687331536388,
          0.7601078167115903,
          0.7606469002695417,
          0.7611859838274933,
          0.7617250673854448,
          0.7622641509433963,
          0.7628032345013477,
          0.7633423180592992,
          0.7638814016172507,
          0.7644204851752021,
          0.7649595687331536,
          0.7654986522911051,
          0.7660377358490567,
          0.7665768194070081,
          0.7671159029649596,
          0.7676549865229111,
          0.7681940700808625,
          0.768733153638814,
          0.7692722371967655,
          0.769811320754717,
          0.7703504043126684,
          0.77088948787062,
          0.7714285714285715,
          0.7719676549865229,
          0.7725067385444744,
          0.7730458221024259,
          0.7735849056603774,
          0.7741239892183288,
          0.7746630727762803,
          0.7752021563342318,
          0.7757412398921832,
          0.7762803234501348,
          0.7768194070080863,
          0.7773584905660378,
          0.7778975741239892,
          0.7784366576819407,
          0.7789757412398922,
          0.7795148247978436,
          0.7800539083557951,
          0.7805929919137466,
          0.7811320754716982,
          0.7816711590296496,
          0.7822102425876011,
          0.7827493261455526,
          0.783288409703504,
          0.7838274932614555,
          0.784366576819407,
          0.7849056603773585,
          0.7854447439353099,
          0.7859838274932615,
          0.786522911051213,
          0.7870619946091644,
          0.7876010781671159,
          0.7881401617250674,
          0.7886792452830189,
          0.7892183288409703,
          0.7897574123989218,
          0.7902964959568733,
          0.7908355795148247,
          0.7913746630727763,
          0.7919137466307278,
          0.7924528301886793,
          0.7929919137466307,
          0.7935309973045822,
          0.7940700808625337,
          0.7946091644204851,
          0.7951482479784366,
          0.7956873315363882,
          0.7962264150943397,
          0.7967654986522911,
          0.7973045822102426,
          0.7978436657681941,
          0.7983827493261455,
          0.798921832884097,
          0.7994609164420485,
          0.8,
          0.8005390835579514,
          0.801078167115903,
          0.8016172506738545,
          0.8021563342318059,
          0.8026954177897574,
          0.8032345013477089,
          0.8037735849056604,
          0.8043126684636118,
          0.8048517520215633,
          0.8053908355795149,
          0.8059299191374663,
          0.8064690026954178,
          0.8070080862533693,
          0.8075471698113208,
          0.8080862533692722,
          0.8086253369272237,
          0.8091644204851752,
          0.8097035040431266,
          0.8102425876010781,
          0.8107816711590297,
          0.8113207547169812,
          0.8118598382749326,
          0.8123989218328841,
          0.8129380053908356,
          0.813477088948787,
          0.8140161725067385,
          0.81455525606469,
          0.8150943396226416,
          0.815633423180593,
          0.8161725067385445,
          0.816711590296496,
          0.8172506738544474,
          0.8177897574123989,
          0.8183288409703504,
          0.8188679245283019,
          0.8194070080862533,
          0.8199460916442048,
          0.8204851752021564,
          0.8210242587601078,
          0.8215633423180593,
          0.8221024258760108,
          0.8226415094339623,
          0.8231805929919137,
          0.8237196765498652,
          0.8242587601078167,
          0.8247978436657682,
          0.8253369272237197,
          0.8258760107816712,
          0.8264150943396227,
          0.8269541778975741,
          0.8274932614555256,
          0.8280323450134771,
          0.8285714285714286,
          0.82911051212938,
          0.8296495956873315,
          0.8301886792452831,
          0.8307277628032345,
          0.831266846361186,
          0.8318059299191375,
          0.832345013477089,
          0.8328840970350404,
          0.8334231805929919,
          0.8339622641509434,
          0.8345013477088948,
          0.8350404312668464,
          0.8355795148247979,
          0.8361185983827494,
          0.8366576819407008,
          0.8371967654986523,
          0.8377358490566038,
          0.8382749326145552,
          0.8388140161725067,
          0.8393530997304582,
          0.8398921832884098,
          0.8404312668463612,
          0.8409703504043127,
          0.8415094339622642,
          0.8420485175202156,
          0.8425876010781671,
          0.8431266846361186,
          0.8436657681940701,
          0.8442048517520215,
          0.844743935309973,
          0.8452830188679246,
          0.845822102425876,
          0.8463611859838275,
          0.846900269541779,
          0.8474393530997305,
          0.8479784366576819,
          0.8485175202156334,
          0.8490566037735849,
          0.8495956873315363,
          0.8501347708894879,
          0.8506738544474394,
          0.8512129380053909,
          0.8517520215633423,
          0.8522911051212938,
          0.8528301886792453,
          0.8533692722371967,
          0.8539083557951482,
          0.8544474393530997,
          0.8549865229110513,
          0.8555256064690027,
          0.8560646900269542,
          0.8566037735849057,
          0.8571428571428571,
          0.8576819407008086,
          0.8582210242587601,
          0.8587601078167116,
          0.859299191374663,
          0.8598382749326146,
          0.8603773584905661,
          0.8609164420485175,
          0.861455525606469,
          0.8619946091644205,
          0.862533692722372,
          0.8630727762803234,
          0.8636118598382749,
          0.8641509433962264,
          0.8646900269541778,
          0.8652291105121294,
          0.8657681940700809,
          0.8663072776280324,
          0.8668463611859838,
          0.8673854447439353,
          0.8679245283018868,
          0.8684636118598382,
          0.8690026954177897,
          0.8695417789757413,
          0.8700808625336928,
          0.8706199460916442,
          0.8711590296495957,
          0.8716981132075472,
          0.8722371967654986,
          0.8727762803234501,
          0.8733153638814016,
          0.8738544474393531,
          0.8743935309973045,
          0.8749326145552561,
          0.8754716981132076,
          0.876010781671159,
          0.8765498652291105,
          0.877088948787062,
          0.8776280323450135,
          0.8781671159029649,
          0.8787061994609164,
          0.879245283018868,
          0.8797843665768194,
          0.8803234501347709,
          0.8808625336927224,
          0.8814016172506739,
          0.8819407008086253,
          0.8824797843665768,
          0.8830188679245283,
          0.8835579514824797,
          0.8840970350404312,
          0.8846361185983828,
          0.8851752021563343,
          0.8857142857142857,
          0.8862533692722372,
          0.8867924528301887,
          0.8873315363881401,
          0.8878706199460916,
          0.8884097035040431,
          0.8889487870619946,
          0.889487870619946,
          0.8900269541778976,
          0.8905660377358491,
          0.8911051212938005,
          0.891644204851752,
          0.8921832884097035,
          0.892722371967655,
          0.8932614555256064,
          0.8938005390835579,
          0.8943396226415095,
          0.894878706199461,
          0.8954177897574124,
          0.8959568733153639,
          0.8964959568733154,
          0.8970350404312668,
          0.8975741239892183,
          0.8981132075471698,
          0.8986522911051213,
          0.8991913746630728,
          0.8997304582210243,
          0.9002695417789758,
          0.9008086253369272,
          0.9013477088948787,
          0.9018867924528302,
          0.9024258760107817,
          0.9029649595687331,
          0.9035040431266846,
          0.9040431266846362,
          0.9045822102425876,
          0.9051212938005391,
          0.9056603773584906,
          0.9061994609164421,
          0.9067385444743935,
          0.907277628032345,
          0.9078167115902965,
          0.9083557951482479,
          0.9088948787061994,
          0.909433962264151,
          0.9099730458221025,
          0.9105121293800539,
          0.9110512129380054,
          0.9115902964959569,
          0.9121293800539083,
          0.9126684636118598,
          0.9132075471698113,
          0.9137466307277629,
          0.9142857142857143,
          0.9148247978436658,
          0.9153638814016173,
          0.9159029649595687,
          0.9164420485175202,
          0.9169811320754717,
          0.9175202156334232,
          0.9180592991913746,
          0.9185983827493261,
          0.9191374663072777,
          0.9196765498652291,
          0.9202156334231806,
          0.9207547169811321,
          0.9212938005390836,
          0.921832884097035,
          0.9223719676549865,
          0.922911051212938,
          0.9234501347708894,
          0.923989218328841,
          0.9245283018867925,
          0.925067385444744,
          0.9256064690026954,
          0.9261455525606469,
          0.9266846361185984,
          0.9272237196765498,
          0.9277628032345013,
          0.9283018867924528,
          0.9288409703504044,
          0.9293800539083558,
          0.9299191374663073,
          0.9304582210242588,
          0.9309973045822102,
          0.9315363881401617,
          0.9320754716981132,
          0.9326145552560647,
          0.9331536388140161,
          0.9336927223719677,
          0.9342318059299192,
          0.9347708894878706,
          0.9353099730458221,
          0.9358490566037736,
          0.9363881401617251,
          0.9369272237196765,
          0.937466307277628,
          0.9380053908355795,
          0.938544474393531,
          0.9390835579514825,
          0.939622641509434,
          0.9401617250673855,
          0.9407008086253369,
          0.9412398921832884,
          0.9417789757412399,
          0.9423180592991913,
          0.9428571428571428,
          0.9433962264150944,
          0.9439353099730459,
          0.9444743935309973,
          0.9450134770889488,
          0.9455525606469003,
          0.9460916442048517,
          0.9466307277628032,
          0.9471698113207547,
          0.9477088948787062,
          0.9482479784366576,
          0.9487870619946092,
          0.9493261455525607,
          0.9498652291105121,
          0.9504043126684636,
          0.9509433962264151,
          0.9514824797843666,
          0.952021563342318,
          0.9525606469002695,
          0.953099730458221,
          0.9536388140161725,
          0.954177897574124,
          0.9547169811320755,
          0.955256064690027,
          0.9557951482479784,
          0.9563342318059299,
          0.9568733153638814,
          0.9574123989218328,
          0.9579514824797843,
          0.9584905660377359,
          0.9590296495956874,
          0.9595687331536388,
          0.9601078167115903,
          0.9606469002695418,
          0.9611859838274932,
          0.9617250673854447,
          0.9622641509433962,
          0.9628032345013477,
          0.9633423180592992,
          0.9638814016172507,
          0.9644204851752022,
          0.9649595687331537,
          0.9654986522911051,
          0.9660377358490566,
          0.9665768194070081,
          0.9671159029649595,
          0.967654986522911,
          0.9681940700808626,
          0.9687331536388141,
          0.9692722371967655,
          0.969811320754717,
          0.9703504043126685,
          0.9708894878706199,
          0.9714285714285714,
          0.9719676549865229,
          0.9725067385444744,
          0.9730458221024259,
          0.9735849056603774,
          0.9741239892183289,
          0.9746630727762803,
          0.9752021563342318,
          0.9757412398921833,
          0.9762803234501348,
          0.9768194070080862,
          0.9773584905660377,
          0.9778975741239893,
          0.9784366576819407,
          0.9789757412398922,
          0.9795148247978437,
          0.9800539083557952,
          0.9805929919137466,
          0.9811320754716981,
          0.9816711590296496,
          0.982210242587601,
          0.9827493261455525,
          0.9832884097035041,
          0.9838274932614556,
          0.984366576819407,
          0.9849056603773585,
          0.98544474393531,
          0.9859838274932614,
          0.9865229110512129,
          0.9870619946091644,
          0.987601078167116,
          0.9881401617250674,
          0.9886792452830189,
          0.9892183288409704,
          0.9897574123989218,
          0.9902964959568733,
          0.9908355795148248,
          0.9913746630727763,
          0.9919137466307277,
          0.9924528301886792,
          0.9929919137466308,
          0.9935309973045822,
          0.9940700808625337,
          0.9946091644204852,
          0.9951482479784367,
          0.9956873315363881,
          0.9962264150943396,
          0.9967654986522911,
          0.9973045822102425,
          0.997843665768194,
          0.9983827493261456,
          0.9989218328840971,
          0.9994609164420485,
          1
         ]
        }
       ],
       "layout": {
        "barmode": "stack",
        "font": {
         "color": "black",
         "family": "Ubuntu Mono",
         "size": 16
        },
        "height": 500,
        "legend": {
         "traceorder": "normal",
         "x": 1,
         "xanchor": "right",
         "y": 1,
         "yanchor": "top"
        },
        "plot_bgcolor": "#FFFFFF",
        "template": {
         "data": {
          "bar": [
           {
            "error_x": {
             "color": "#2a3f5f"
            },
            "error_y": {
             "color": "#2a3f5f"
            },
            "marker": {
             "line": {
              "color": "#E5ECF6",
              "width": 0.5
             },
             "pattern": {
              "fillmode": "overlay",
              "size": 10,
              "solidity": 0.2
             }
            },
            "type": "bar"
           }
          ],
          "barpolar": [
           {
            "marker": {
             "line": {
              "color": "#E5ECF6",
              "width": 0.5
             },
             "pattern": {
              "fillmode": "overlay",
              "size": 10,
              "solidity": 0.2
             }
            },
            "type": "barpolar"
           }
          ],
          "carpet": [
           {
            "aaxis": {
             "endlinecolor": "#2a3f5f",
             "gridcolor": "white",
             "linecolor": "white",
             "minorgridcolor": "white",
             "startlinecolor": "#2a3f5f"
            },
            "baxis": {
             "endlinecolor": "#2a3f5f",
             "gridcolor": "white",
             "linecolor": "white",
             "minorgridcolor": "white",
             "startlinecolor": "#2a3f5f"
            },
            "type": "carpet"
           }
          ],
          "choropleth": [
           {
            "colorbar": {
             "outlinewidth": 0,
             "ticks": ""
            },
            "type": "choropleth"
           }
          ],
          "contour": [
           {
            "colorbar": {
             "outlinewidth": 0,
             "ticks": ""
            },
            "colorscale": [
             [
              0,
              "#0d0887"
             ],
             [
              0.1111111111111111,
              "#46039f"
             ],
             [
              0.2222222222222222,
              "#7201a8"
             ],
             [
              0.3333333333333333,
              "#9c179e"
             ],
             [
              0.4444444444444444,
              "#bd3786"
             ],
             [
              0.5555555555555556,
              "#d8576b"
             ],
             [
              0.6666666666666666,
              "#ed7953"
             ],
             [
              0.7777777777777778,
              "#fb9f3a"
             ],
             [
              0.8888888888888888,
              "#fdca26"
             ],
             [
              1,
              "#f0f921"
             ]
            ],
            "type": "contour"
           }
          ],
          "contourcarpet": [
           {
            "colorbar": {
             "outlinewidth": 0,
             "ticks": ""
            },
            "type": "contourcarpet"
           }
          ],
          "heatmap": [
           {
            "colorbar": {
             "outlinewidth": 0,
             "ticks": ""
            },
            "colorscale": [
             [
              0,
              "#0d0887"
             ],
             [
              0.1111111111111111,
              "#46039f"
             ],
             [
              0.2222222222222222,
              "#7201a8"
             ],
             [
              0.3333333333333333,
              "#9c179e"
             ],
             [
              0.4444444444444444,
              "#bd3786"
             ],
             [
              0.5555555555555556,
              "#d8576b"
             ],
             [
              0.6666666666666666,
              "#ed7953"
             ],
             [
              0.7777777777777778,
              "#fb9f3a"
             ],
             [
              0.8888888888888888,
              "#fdca26"
             ],
             [
              1,
              "#f0f921"
             ]
            ],
            "type": "heatmap"
           }
          ],
          "heatmapgl": [
           {
            "colorbar": {
             "outlinewidth": 0,
             "ticks": ""
            },
            "colorscale": [
             [
              0,
              "#0d0887"
             ],
             [
              0.1111111111111111,
              "#46039f"
             ],
             [
              0.2222222222222222,
              "#7201a8"
             ],
             [
              0.3333333333333333,
              "#9c179e"
             ],
             [
              0.4444444444444444,
              "#bd3786"
             ],
             [
              0.5555555555555556,
              "#d8576b"
             ],
             [
              0.6666666666666666,
              "#ed7953"
             ],
             [
              0.7777777777777778,
              "#fb9f3a"
             ],
             [
              0.8888888888888888,
              "#fdca26"
             ],
             [
              1,
              "#f0f921"
             ]
            ],
            "type": "heatmapgl"
           }
          ],
          "histogram": [
           {
            "marker": {
             "pattern": {
              "fillmode": "overlay",
              "size": 10,
              "solidity": 0.2
             }
            },
            "type": "histogram"
           }
          ],
          "histogram2d": [
           {
            "colorbar": {
             "outlinewidth": 0,
             "ticks": ""
            },
            "colorscale": [
             [
              0,
              "#0d0887"
             ],
             [
              0.1111111111111111,
              "#46039f"
             ],
             [
              0.2222222222222222,
              "#7201a8"
             ],
             [
              0.3333333333333333,
              "#9c179e"
             ],
             [
              0.4444444444444444,
              "#bd3786"
             ],
             [
              0.5555555555555556,
              "#d8576b"
             ],
             [
              0.6666666666666666,
              "#ed7953"
             ],
             [
              0.7777777777777778,
              "#fb9f3a"
             ],
             [
              0.8888888888888888,
              "#fdca26"
             ],
             [
              1,
              "#f0f921"
             ]
            ],
            "type": "histogram2d"
           }
          ],
          "histogram2dcontour": [
           {
            "colorbar": {
             "outlinewidth": 0,
             "ticks": ""
            },
            "colorscale": [
             [
              0,
              "#0d0887"
             ],
             [
              0.1111111111111111,
              "#46039f"
             ],
             [
              0.2222222222222222,
              "#7201a8"
             ],
             [
              0.3333333333333333,
              "#9c179e"
             ],
             [
              0.4444444444444444,
              "#bd3786"
             ],
             [
              0.5555555555555556,
              "#d8576b"
             ],
             [
              0.6666666666666666,
              "#ed7953"
             ],
             [
              0.7777777777777778,
              "#fb9f3a"
             ],
             [
              0.8888888888888888,
              "#fdca26"
             ],
             [
              1,
              "#f0f921"
             ]
            ],
            "type": "histogram2dcontour"
           }
          ],
          "mesh3d": [
           {
            "colorbar": {
             "outlinewidth": 0,
             "ticks": ""
            },
            "type": "mesh3d"
           }
          ],
          "parcoords": [
           {
            "line": {
             "colorbar": {
              "outlinewidth": 0,
              "ticks": ""
             }
            },
            "type": "parcoords"
           }
          ],
          "pie": [
           {
            "automargin": true,
            "type": "pie"
           }
          ],
          "scatter": [
           {
            "fillpattern": {
             "fillmode": "overlay",
             "size": 10,
             "solidity": 0.2
            },
            "type": "scatter"
           }
          ],
          "scatter3d": [
           {
            "line": {
             "colorbar": {
              "outlinewidth": 0,
              "ticks": ""
             }
            },
            "marker": {
             "colorbar": {
              "outlinewidth": 0,
              "ticks": ""
             }
            },
            "type": "scatter3d"
           }
          ],
          "scattercarpet": [
           {
            "marker": {
             "colorbar": {
              "outlinewidth": 0,
              "ticks": ""
             }
            },
            "type": "scattercarpet"
           }
          ],
          "scattergeo": [
           {
            "marker": {
             "colorbar": {
              "outlinewidth": 0,
              "ticks": ""
             }
            },
            "type": "scattergeo"
           }
          ],
          "scattergl": [
           {
            "marker": {
             "colorbar": {
              "outlinewidth": 0,
              "ticks": ""
             }
            },
            "type": "scattergl"
           }
          ],
          "scattermapbox": [
           {
            "marker": {
             "colorbar": {
              "outlinewidth": 0,
              "ticks": ""
             }
            },
            "type": "scattermapbox"
           }
          ],
          "scatterpolar": [
           {
            "marker": {
             "colorbar": {
              "outlinewidth": 0,
              "ticks": ""
             }
            },
            "type": "scatterpolar"
           }
          ],
          "scatterpolargl": [
           {
            "marker": {
             "colorbar": {
              "outlinewidth": 0,
              "ticks": ""
             }
            },
            "type": "scatterpolargl"
           }
          ],
          "scatterternary": [
           {
            "marker": {
             "colorbar": {
              "outlinewidth": 0,
              "ticks": ""
             }
            },
            "type": "scatterternary"
           }
          ],
          "surface": [
           {
            "colorbar": {
             "outlinewidth": 0,
             "ticks": ""
            },
            "colorscale": [
             [
              0,
              "#0d0887"
             ],
             [
              0.1111111111111111,
              "#46039f"
             ],
             [
              0.2222222222222222,
              "#7201a8"
             ],
             [
              0.3333333333333333,
              "#9c179e"
             ],
             [
              0.4444444444444444,
              "#bd3786"
             ],
             [
              0.5555555555555556,
              "#d8576b"
             ],
             [
              0.6666666666666666,
              "#ed7953"
             ],
             [
              0.7777777777777778,
              "#fb9f3a"
             ],
             [
              0.8888888888888888,
              "#fdca26"
             ],
             [
              1,
              "#f0f921"
             ]
            ],
            "type": "surface"
           }
          ],
          "table": [
           {
            "cells": {
             "fill": {
              "color": "#EBF0F8"
             },
             "line": {
              "color": "white"
             }
            },
            "header": {
             "fill": {
              "color": "#C8D4E3"
             },
             "line": {
              "color": "white"
             }
            },
            "type": "table"
           }
          ]
         },
         "layout": {
          "annotationdefaults": {
           "arrowcolor": "#2a3f5f",
           "arrowhead": 0,
           "arrowwidth": 1
          },
          "autotypenumbers": "strict",
          "coloraxis": {
           "colorbar": {
            "outlinewidth": 0,
            "ticks": ""
           }
          },
          "colorscale": {
           "diverging": [
            [
             0,
             "#8e0152"
            ],
            [
             0.1,
             "#c51b7d"
            ],
            [
             0.2,
             "#de77ae"
            ],
            [
             0.3,
             "#f1b6da"
            ],
            [
             0.4,
             "#fde0ef"
            ],
            [
             0.5,
             "#f7f7f7"
            ],
            [
             0.6,
             "#e6f5d0"
            ],
            [
             0.7,
             "#b8e186"
            ],
            [
             0.8,
             "#7fbc41"
            ],
            [
             0.9,
             "#4d9221"
            ],
            [
             1,
             "#276419"
            ]
           ],
           "sequential": [
            [
             0,
             "#0d0887"
            ],
            [
             0.1111111111111111,
             "#46039f"
            ],
            [
             0.2222222222222222,
             "#7201a8"
            ],
            [
             0.3333333333333333,
             "#9c179e"
            ],
            [
             0.4444444444444444,
             "#bd3786"
            ],
            [
             0.5555555555555556,
             "#d8576b"
            ],
            [
             0.6666666666666666,
             "#ed7953"
            ],
            [
             0.7777777777777778,
             "#fb9f3a"
            ],
            [
             0.8888888888888888,
             "#fdca26"
            ],
            [
             1,
             "#f0f921"
            ]
           ],
           "sequentialminus": [
            [
             0,
             "#0d0887"
            ],
            [
             0.1111111111111111,
             "#46039f"
            ],
            [
             0.2222222222222222,
             "#7201a8"
            ],
            [
             0.3333333333333333,
             "#9c179e"
            ],
            [
             0.4444444444444444,
             "#bd3786"
            ],
            [
             0.5555555555555556,
             "#d8576b"
            ],
            [
             0.6666666666666666,
             "#ed7953"
            ],
            [
             0.7777777777777778,
             "#fb9f3a"
            ],
            [
             0.8888888888888888,
             "#fdca26"
            ],
            [
             1,
             "#f0f921"
            ]
           ]
          },
          "colorway": [
           "#636efa",
           "#EF553B",
           "#00cc96",
           "#ab63fa",
           "#FFA15A",
           "#19d3f3",
           "#FF6692",
           "#B6E880",
           "#FF97FF",
           "#FECB52"
          ],
          "font": {
           "color": "#2a3f5f"
          },
          "geo": {
           "bgcolor": "white",
           "lakecolor": "white",
           "landcolor": "#E5ECF6",
           "showlakes": true,
           "showland": true,
           "subunitcolor": "white"
          },
          "hoverlabel": {
           "align": "left"
          },
          "hovermode": "closest",
          "mapbox": {
           "style": "light"
          },
          "paper_bgcolor": "white",
          "plot_bgcolor": "#E5ECF6",
          "polar": {
           "angularaxis": {
            "gridcolor": "white",
            "linecolor": "white",
            "ticks": ""
           },
           "bgcolor": "#E5ECF6",
           "radialaxis": {
            "gridcolor": "white",
            "linecolor": "white",
            "ticks": ""
           }
          },
          "scene": {
           "xaxis": {
            "backgroundcolor": "#E5ECF6",
            "gridcolor": "white",
            "gridwidth": 2,
            "linecolor": "white",
            "showbackground": true,
            "ticks": "",
            "zerolinecolor": "white"
           },
           "yaxis": {
            "backgroundcolor": "#E5ECF6",
            "gridcolor": "white",
            "gridwidth": 2,
            "linecolor": "white",
            "showbackground": true,
            "ticks": "",
            "zerolinecolor": "white"
           },
           "zaxis": {
            "backgroundcolor": "#E5ECF6",
            "gridcolor": "white",
            "gridwidth": 2,
            "linecolor": "white",
            "showbackground": true,
            "ticks": "",
            "zerolinecolor": "white"
           }
          },
          "shapedefaults": {
           "line": {
            "color": "#2a3f5f"
           }
          },
          "ternary": {
           "aaxis": {
            "gridcolor": "white",
            "linecolor": "white",
            "ticks": ""
           },
           "baxis": {
            "gridcolor": "white",
            "linecolor": "white",
            "ticks": ""
           },
           "bgcolor": "#E5ECF6",
           "caxis": {
            "gridcolor": "white",
            "linecolor": "white",
            "ticks": ""
           }
          },
          "title": {
           "x": 0.05
          },
          "xaxis": {
           "automargin": true,
           "gridcolor": "white",
           "linecolor": "white",
           "ticks": "",
           "title": {
            "standoff": 15
           },
           "zerolinecolor": "white",
           "zerolinewidth": 2
          },
          "yaxis": {
           "automargin": true,
           "gridcolor": "white",
           "linecolor": "white",
           "ticks": "",
           "title": {
            "standoff": 15
           },
           "zerolinecolor": "white",
           "zerolinewidth": 2
          }
         }
        },
        "title": {
         "text": "Cum. Distribution of Attestations First Seen Timing <span style=\"font-size: 16px;\">(epoch 300,037 - 301,696)</span>"
        },
        "width": 1200,
        "xaxis": {
         "gridcolor": "lightgrey",
         "showgrid": true,
         "tickmode": "linear",
         "title": {
          "text": "seconds in slot"
         }
        },
        "yaxis": {
         "gridcolor": "lightgrey",
         "showgrid": true,
         "title": {
          "text": "cumulative probability"
         }
        }
       }
      },
      "text/html": [
       "<div>                            <div id=\"c4f6c665-a762-47c2-bba1-96b594d94693\" class=\"plotly-graph-div\" style=\"height:500px; width:1200px;\"></div>            <script type=\"text/javascript\">                require([\"plotly\"], function(Plotly) {                    window.PLOTLYENV=window.PLOTLYENV || {};                                    if (document.getElementById(\"c4f6c665-a762-47c2-bba1-96b594d94693\")) {                    Plotly.newPlot(                        \"c4f6c665-a762-47c2-bba1-96b594d94693\",                        [{\"line\":{\"color\":\"#377eb8\",\"width\":3},\"mode\":\"lines\",\"name\":\"Cumulative Density\",\"x\":[0.791,1.008,1.229,1.334,1.495,1.567,1.578,1.611,1.654,1.691,1.705,1.737,1.739,1.761,1.774,1.778,1.784,1.788,1.806,1.809,1.83,1.839,1.881,1.882,1.895,1.909,1.911,1.915,1.93,1.943,1.965,1.978,1.979,1.984,1.995,1.999,2.008,2.011,2.012,2.021,2.024,2.027,2.027,2.032,2.035,2.04,2.045,2.045,2.047,2.053,2.058,2.08,2.081,2.084,2.085,2.088,2.09,2.092,2.094,2.102,2.103,2.105,2.105,2.106,2.113,2.114,2.116,2.117,2.118,2.125,2.127,2.13,2.132,2.133,2.136,2.138,2.141,2.145,2.148,2.148,2.149,2.152,2.158,2.163,2.172,2.177,2.177,2.183,2.189,2.193,2.194,2.194,2.208,2.21,2.213,2.216,2.223,2.223,2.226,2.227,2.228,2.23,2.231,2.232,2.235,2.239,2.245,2.253,2.258,2.264,2.266,2.273,2.279,2.286,2.288,2.289,2.291,2.293,2.294,2.299,2.299,2.3,2.309,2.309,2.315,2.316,2.319,2.319,2.322,2.322,2.329,2.332,2.333,2.336,2.337,2.338,2.344,2.351,2.352,2.353,2.353,2.353,2.354,2.364,2.365,2.371,2.373,2.375,2.376,2.377,2.38,2.382,2.382,2.385,2.389,2.39,2.392,2.393,2.398,2.399,2.399,2.403,2.412,2.413,2.414,2.414,2.415,2.416,2.417,2.418,2.42,2.422,2.426,2.427,2.431,2.433,2.433,2.433,2.437,2.438,2.439,2.439,2.441,2.444,2.446,2.446,2.448,2.449,2.45,2.45,2.453,2.454,2.454,2.455,2.455,2.457,2.457,2.458,2.461,2.463,2.464,2.468,2.471,2.472,2.474,2.482,2.482,2.482,2.483,2.484,2.485,2.485,2.491,2.494,2.497,2.499,2.499,2.5,2.503,2.503,2.503,2.506,2.511,2.512,2.514,2.516,2.517,2.518,2.52,2.522,2.522,2.527,2.527,2.528,2.529,2.532,2.534,2.537,2.537,2.539,2.54,2.54,2.542,2.542,2.543,2.545,2.545,2.545,2.546,2.547,2.548,2.553,2.555,2.561,2.561,2.565,2.566,2.569,2.57,2.571,2.572,2.575,2.575,2.577,2.581,2.581,2.581,2.584,2.588,2.593,2.597,2.6,2.601,2.603,2.606,2.607,2.609,2.609,2.61,2.612,2.613,2.613,2.614,2.615,2.616,2.619,2.619,2.621,2.621,2.623,2.628,2.629,2.63,2.631,2.631,2.631,2.633,2.635,2.636,2.636,2.639,2.639,2.64,2.641,2.642,2.642,2.643,2.644,2.644,2.644,2.645,2.647,2.649,2.655,2.658,2.659,2.661,2.662,2.665,2.665,2.665,2.666,2.67,2.673,2.673,2.674,2.676,2.677,2.678,2.678,2.678,2.679,2.691,2.692,2.693,2.693,2.697,2.701,2.701,2.704,2.704,2.706,2.706,2.708,2.708,2.709,2.709,2.711,2.711,2.714,2.715,2.716,2.718,2.718,2.719,2.719,2.719,2.725,2.726,2.729,2.73,2.731,2.733,2.733,2.734,2.736,2.738,2.738,2.741,2.742,2.742,2.743,2.743,2.743,2.744,2.744,2.745,2.745,2.746,2.748,2.748,2.749,2.751,2.751,2.756,2.758,2.765,2.765,2.765,2.766,2.766,2.766,2.767,2.768,2.772,2.772,2.773,2.773,2.774,2.774,2.777,2.78,2.786,2.788,2.791,2.792,2.792,2.794,2.795,2.795,2.796,2.8,2.8,2.801,2.804,2.807,2.807,2.808,2.808,2.808,2.809,2.81,2.812,2.812,2.813,2.814,2.814,2.819,2.82,2.821,2.821,2.822,2.823,2.824,2.826,2.828,2.83,2.834,2.834,2.834,2.835,2.835,2.836,2.837,2.84,2.84,2.841,2.843,2.844,2.847,2.853,2.853,2.853,2.855,2.856,2.856,2.859,2.859,2.862,2.862,2.862,2.863,2.866,2.868,2.868,2.872,2.876,2.877,2.877,2.879,2.882,2.882,2.887,2.887,2.887,2.888,2.89,2.892,2.892,2.895,2.895,2.895,2.896,2.897,2.899,2.906,2.907,2.908,2.909,2.91,2.913,2.914,2.92,2.921,2.921,2.922,2.922,2.923,2.927,2.927,2.932,2.932,2.933,2.945,2.95,2.951,2.951,2.953,2.953,2.953,2.954,2.954,2.958,2.96,2.962,2.964,2.964,2.965,2.967,2.967,2.968,2.968,2.97,2.977,2.978,2.986,2.99,2.993,2.995,2.995,2.995,2.996,2.997,2.999,3.002,3.002,3.002,3.002,3.003,3.004,3.006,3.009,3.014,3.019,3.02,3.021,3.021,3.022,3.023,3.025,3.025,3.026,3.027,3.03,3.032,3.037,3.038,3.04,3.041,3.043,3.043,3.045,3.045,3.045,3.047,3.047,3.048,3.049,3.049,3.05,3.051,3.053,3.054,3.06,3.062,3.064,3.065,3.067,3.069,3.073,3.075,3.075,3.076,3.077,3.079,3.08,3.081,3.081,3.083,3.089,3.09,3.094,3.094,3.094,3.096,3.097,3.098,3.098,3.099,3.099,3.104,3.105,3.105,3.106,3.11,3.111,3.113,3.118,3.119,3.119,3.121,3.122,3.124,3.126,3.129,3.13,3.13,3.132,3.134,3.136,3.137,3.139,3.14,3.143,3.144,3.147,3.148,3.15,3.152,3.153,3.155,3.157,3.158,3.16,3.161,3.162,3.164,3.167,3.167,3.169,3.17,3.173,3.175,3.177,3.182,3.183,3.191,3.191,3.194,3.194,3.195,3.198,3.198,3.199,3.201,3.202,3.206,3.213,3.214,3.216,3.217,3.221,3.221,3.228,3.232,3.235,3.236,3.237,3.245,3.245,3.246,3.248,3.252,3.256,3.261,3.262,3.266,3.268,3.27,3.27,3.27,3.271,3.275,3.277,3.278,3.279,3.282,3.286,3.289,3.29,3.291,3.292,3.294,3.296,3.296,3.301,3.303,3.304,3.306,3.307,3.308,3.314,3.315,3.315,3.318,3.322,3.323,3.323,3.324,3.327,3.335,3.336,3.338,3.338,3.338,3.341,3.343,3.346,3.35,3.351,3.351,3.355,3.356,3.357,3.359,3.36,3.361,3.363,3.365,3.366,3.368,3.37,3.372,3.378,3.38,3.386,3.389,3.391,3.391,3.396,3.396,3.4,3.404,3.417,3.418,3.419,3.424,3.429,3.435,3.437,3.438,3.446,3.449,3.451,3.452,3.463,3.467,3.469,3.471,3.474,3.475,3.475,3.476,3.477,3.485,3.498,3.508,3.51,3.515,3.518,3.522,3.523,3.525,3.526,3.528,3.537,3.542,3.544,3.549,3.564,3.57,3.574,3.58,3.582,3.584,3.587,3.587,3.588,3.591,3.593,3.595,3.596,3.608,3.609,3.61,3.616,3.616,3.62,3.622,3.625,3.627,3.628,3.632,3.64,3.64,3.642,3.645,3.65,3.652,3.653,3.663,3.667,3.667,3.668,3.67,3.67,3.672,3.674,3.677,3.679,3.68,3.683,3.683,3.685,3.69,3.69,3.701,3.702,3.707,3.709,3.71,3.711,3.711,3.724,3.727,3.733,3.735,3.737,3.743,3.747,3.748,3.754,3.761,3.767,3.779,3.78,3.789,3.79,3.803,3.81,3.812,3.812,3.816,3.827,3.832,3.844,3.864,3.865,3.876,3.88,3.884,3.887,3.89,3.896,3.904,3.907,3.91,3.915,3.92,3.93,3.934,3.939,3.942,3.943,3.966,3.967,3.967,3.968,3.968,3.971,3.979,3.981,3.984,3.99,3.991,4.0,4.01,4.011,4.012,4.013,4.013,4.014,4.018,4.024,4.028,4.029,4.031,4.043,4.043,4.05,4.069,4.072,4.075,4.076,4.08,4.089,4.089,4.09,4.092,4.095,4.1,4.102,4.104,4.109,4.112,4.113,4.114,4.115,4.118,4.121,4.121,4.123,4.126,4.126,4.128,4.135,4.135,4.137,4.137,4.141,4.142,4.142,4.143,4.145,4.145,4.147,4.147,4.147,4.148,4.149,4.151,4.153,4.153,4.154,4.156,4.156,4.157,4.157,4.159,4.161,4.161,4.162,4.165,4.166,4.169,4.17,4.18,4.18,4.187,4.188,4.19,4.191,4.191,4.192,4.196,4.197,4.198,4.198,4.199,4.201,4.203,4.203,4.205,4.207,4.208,4.208,4.209,4.21,4.215,4.22,4.221,4.223,4.225,4.226,4.233,4.234,4.234,4.235,4.24,4.24,4.24,4.241,4.241,4.242,4.245,4.245,4.246,4.247,4.247,4.25,4.25,4.252,4.252,4.252,4.253,4.254,4.254,4.255,4.255,4.256,4.258,4.259,4.259,4.26,4.261,4.261,4.261,4.262,4.262,4.264,4.265,4.267,4.268,4.273,4.276,4.279,4.283,4.283,4.283,4.284,4.287,4.287,4.291,4.294,4.305,4.309,4.309,4.31,4.313,4.314,4.315,4.315,4.316,4.317,4.318,4.322,4.325,4.326,4.327,4.33,4.333,4.337,4.337,4.337,4.338,4.343,4.345,4.346,4.346,4.347,4.348,4.349,4.353,4.357,4.357,4.358,4.36,4.36,4.36,4.362,4.363,4.365,4.366,4.366,4.367,4.368,4.371,4.373,4.374,4.375,4.376,4.378,4.382,4.383,4.384,4.385,4.385,4.386,4.389,4.392,4.394,4.399,4.401,4.402,4.403,4.404,4.404,4.405,4.406,4.406,4.407,4.407,4.408,4.409,4.409,4.41,4.414,4.417,4.417,4.417,4.42,4.421,4.428,4.429,4.43,4.432,4.432,4.435,4.437,4.44,4.44,4.442,4.443,4.443,4.445,4.45,4.452,4.452,4.456,4.459,4.461,4.462,4.462,4.466,4.468,4.469,4.469,4.47,4.471,4.475,4.477,4.479,4.48,4.481,4.482,4.484,4.489,4.49,4.494,4.495,4.495,4.499,4.501,4.501,4.502,4.506,4.506,4.506,4.507,4.508,4.509,4.513,4.513,4.514,4.515,4.517,4.518,4.52,4.52,4.521,4.524,4.525,4.525,4.527,4.527,4.528,4.529,4.53,4.531,4.532,4.532,4.532,4.533,4.534,4.534,4.536,4.537,4.539,4.54,4.54,4.542,4.543,4.546,4.548,4.55,4.551,4.557,4.559,4.568,4.575,4.576,4.576,4.579,4.579,4.581,4.582,4.582,4.583,4.584,4.588,4.589,4.589,4.59,4.59,4.591,4.591,4.591,4.591,4.594,4.595,4.599,4.6,4.6,4.604,4.605,4.606,4.61,4.61,4.611,4.612,4.612,4.614,4.615,4.617,4.618,4.621,4.622,4.626,4.627,4.627,4.627,4.629,4.63,4.631,4.631,4.631,4.632,4.637,4.637,4.637,4.637,4.646,4.649,4.655,4.655,4.655,4.655,4.659,4.66,4.662,4.663,4.665,4.666,4.666,4.669,4.669,4.67,4.671,4.672,4.672,4.673,4.673,4.673,4.677,4.678,4.68,4.681,4.684,4.685,4.687,4.69,4.691,4.692,4.692,4.694,4.694,4.694,4.697,4.701,4.704,4.705,4.706,4.71,4.71,4.712,4.712,4.713,4.715,4.718,4.723,4.723,4.727,4.731,4.732,4.733,4.735,4.737,4.738,4.739,4.743,4.744,4.746,4.747,4.75,4.75,4.751,4.752,4.752,4.753,4.754,4.756,4.757,4.758,4.759,4.76,4.762,4.763,4.765,4.766,4.767,4.767,4.768,4.775,4.775,4.778,4.78,4.78,4.782,4.782,4.784,4.785,4.785,4.786,4.787,4.788,4.789,4.792,4.792,4.796,4.797,4.799,4.804,4.804,4.804,4.804,4.806,4.806,4.807,4.808,4.816,4.822,4.823,4.824,4.831,4.832,4.836,4.838,4.84,4.841,4.843,4.844,4.847,4.848,4.851,4.853,4.861,4.863,4.864,4.866,4.867,4.868,4.87,4.871,4.873,4.873,4.874,4.877,4.878,4.879,4.879,4.882,4.883,4.883,4.886,4.888,4.889,4.891,4.893,4.893,4.897,4.898,4.898,4.899,4.902,4.904,4.905,4.905,4.908,4.909,4.911,4.912,4.914,4.916,4.917,4.918,4.918,4.918,4.919,4.921,4.923,4.923,4.923,4.924,4.926,4.926,4.931,4.933,4.933,4.933,4.933,4.937,4.937,4.937,4.938,4.939,4.94,4.94,4.942,4.947,4.95,4.952,4.952,4.953,4.954,4.956,4.956,4.957,4.958,4.958,4.959,4.963,4.963,4.964,4.969,4.969,4.97,4.97,4.97,4.97,4.974,4.975,4.978,4.98,4.98,4.982,4.982,4.983,4.983,4.984,4.986,4.989,4.991,4.992,4.994,4.996,4.999,4.999,5.003,5.003,5.006,5.006,5.01,5.011,5.014,5.014,5.019,5.022,5.022,5.023,5.023,5.023,5.026,5.028,5.028,5.029,5.03,5.032,5.034,5.037,5.038,5.039,5.041,5.042,5.045,5.05,5.054,5.055,5.056,5.058,5.058,5.059,5.062,5.063,5.064,5.067,5.069,5.073,5.073,5.074,5.074,5.076,5.08,5.08,5.08,5.083,5.083,5.084,5.085,5.089,5.089,5.09,5.09,5.091,5.093,5.093,5.094,5.098,5.103,5.106,5.107,5.107,5.114,5.115,5.118,5.12,5.121,5.121,5.126,5.133,5.136,5.136,5.138,5.139,5.148,5.149,5.149,5.15,5.15,5.151,5.155,5.156,5.159,5.164,5.165,5.167,5.17,5.17,5.171,5.172,5.175,5.175,5.185,5.19,5.192,5.197,5.198,5.202,5.202,5.202,5.203,5.203,5.205,5.207,5.208,5.215,5.215,5.22,5.222,5.222,5.223,5.226,5.228,5.228,5.232,5.233,5.234,5.236,5.243,5.243,5.245,5.245,5.246,5.246,5.248,5.249,5.25,5.25,5.252,5.253,5.257,5.259,5.259,5.261,5.262,5.262,5.263,5.265,5.265,5.268,5.269,5.27,5.278,5.281,5.283,5.283,5.287,5.288,5.294,5.297,5.298,5.301,5.302,5.305,5.305,5.31,5.314,5.316,5.317,5.319,5.32,5.321,5.323,5.325,5.328,5.331,5.332,5.335,5.336,5.338,5.339,5.344,5.346,5.349,5.349,5.35,5.351,5.358,5.358,5.358,5.371,5.371,5.374,5.376,5.376,5.378,5.379,5.379,5.389,5.391,5.392,5.393,5.394,5.401,5.406,5.407,5.415,5.415,5.422,5.424,5.427,5.431,5.431,5.449,5.449,5.456,5.461,5.461,5.461,5.463,5.469,5.472,5.472,5.475,5.48,5.483,5.494,5.494,5.504,5.512,5.518,5.521,5.524,5.532,5.532,5.535,5.535,5.536,5.537,5.541,5.546,5.553,5.558,5.571,5.572,5.574,5.576,5.58,5.582,5.583,5.588,5.608,5.615,5.619,5.633,5.655,5.662,5.663,5.664,5.673,5.681,5.683,5.685,5.686,5.691,5.694,5.697,5.7,5.7,5.709,5.712,5.717,5.717,5.718,5.721,5.722,5.73,5.731,5.738,5.74,5.766,5.769,5.77,5.773,5.785,5.81,5.814,5.819,5.826,5.852,5.853,5.854,5.857,5.875,5.878,5.881,5.896,5.899,5.899,5.905,5.919,5.92,5.929,5.934,5.938,5.948,5.948,5.952,5.952,5.965,5.967,5.969,5.974,5.977,5.999,6.004,6.014,6.028,6.04,6.061,6.065,6.077,6.088,6.094,6.121,6.141,6.144,6.145,6.147,6.181,6.182,6.187,6.194,6.211,6.232,6.254,6.265,6.282,6.315,6.316,6.331,6.336,6.373,6.379,6.412,6.424,6.432,6.444,6.467,6.485,6.518,6.528,6.559,6.564,6.606,6.625,6.628,6.669,6.721,6.756,6.766,6.772,6.806,6.845,6.938,7.009,7.166,7.189,7.354,7.59,7.59,7.595,7.634,7.845,7.896,8.265,8.334,8.692,8.824,8.914,9.105,9.593,10.78,11.178,12.221,14.09],\"y\":[0.0005390835579514825,0.001078167115902965,0.0016172506738544475,0.00215633423180593,0.0026954177897574125,0.003234501347708895,0.0037735849056603774,0.00431266846361186,0.004851752021563342,0.005390835579514825,0.005929919137466307,0.00646900269541779,0.007008086253369272,0.007547169811320755,0.008086253369272238,0.00862533692722372,0.009164420485175202,0.009703504043126684,0.010242587601078167,0.01078167115902965,0.011320754716981131,0.011859838274932614,0.012398921832884097,0.01293800539083558,0.013477088948787063,0.014016172506738544,0.014555256064690027,0.01509433962264151,0.015633423180592992,0.016172506738544475,0.016711590296495958,0.01725067385444744,0.01778975741239892,0.018328840970350403,0.018867924528301886,0.01940700808625337,0.019946091644204852,0.020485175202156335,0.021024258760107817,0.0215633423180593,0.022102425876010783,0.022641509433962263,0.023180592991913745,0.02371967654986523,0.02425876010781671,0.024797843665768194,0.025336927223719677,0.02587601078167116,0.026415094339622643,0.026954177897574125,0.027493261455525605,0.028032345013477088,0.02857142857142857,0.029110512129380053,0.029649595687331536,0.03018867924528302,0.030727762803234502,0.031266846361185985,0.031805929919137464,0.03234501347708895,0.03288409703504043,0.033423180592991916,0.033962264150943396,0.03450134770889488,0.03504043126684636,0.03557951482479784,0.03611859838274933,0.036657681940700806,0.03719676549865229,0.03773584905660377,0.03827493261455526,0.03881401617250674,0.039353099730458224,0.039892183288409704,0.04043126684636118,0.04097035040431267,0.04150943396226415,0.042048517520215635,0.042587601078167114,0.0431266846361186,0.04366576819407008,0.044204851752021566,0.044743935309973046,0.045283018867924525,0.04582210242587601,0.04636118598382749,0.04690026954177898,0.04743935309973046,0.04797843665768194,0.04851752021563342,0.04905660377358491,0.04959568733153639,0.05013477088948787,0.050673854447439354,0.05121293800539083,0.05175202156334232,0.0522911051212938,0.052830188679245285,0.053369272237196765,0.05390835579514825,0.05444743935309973,0.05498652291105121,0.055525606469002696,0.056064690026954175,0.05660377358490566,0.05714285714285714,0.05768194070080863,0.05822102425876011,0.05876010781671159,0.05929919137466307,0.05983827493261455,0.06037735849056604,0.06091644204851752,0.061455525606469004,0.06199460916442048,0.06253369272237197,0.06307277628032346,0.06361185983827493,0.06415094339622641,0.0646900269541779,0.06522911051212937,0.06576819407008086,0.06630727762803235,0.06684636118598383,0.0673854447439353,0.06792452830188679,0.06846361185983828,0.06900269541778976,0.06954177897574124,0.07008086253369272,0.07061994609164421,0.07115902964959568,0.07169811320754717,0.07223719676549865,0.07277628032345014,0.07331536388140161,0.0738544474393531,0.07439353099730459,0.07493261455525606,0.07547169811320754,0.07601078167115903,0.07654986522911052,0.07708894878706199,0.07762803234501348,0.07816711590296496,0.07870619946091645,0.07924528301886792,0.07978436657681941,0.0803234501347709,0.08086253369272237,0.08140161725067385,0.08194070080862534,0.08247978436657682,0.0830188679245283,0.08355795148247978,0.08409703504043127,0.08463611859838274,0.08517520215633423,0.08571428571428572,0.0862533692722372,0.08679245283018867,0.08733153638814016,0.08787061994609165,0.08840970350404313,0.0889487870619946,0.08948787061994609,0.09002695417789758,0.09056603773584905,0.09110512129380054,0.09164420485175202,0.09218328840970351,0.09272237196765498,0.09326145552560647,0.09380053908355795,0.09433962264150944,0.09487870619946091,0.0954177897574124,0.09595687331536389,0.09649595687331536,0.09703504043126684,0.09757412398921833,0.09811320754716982,0.09865229110512129,0.09919137466307278,0.09973045822102426,0.10026954177897573,0.10080862533692722,0.10134770889487871,0.1018867924528302,0.10242587601078167,0.10296495956873315,0.10350404312668464,0.10404312668463613,0.1045822102425876,0.10512129380053908,0.10566037735849057,0.10619946091644204,0.10673854447439353,0.10727762803234502,0.1078167115902965,0.10835579514824797,0.10889487870619946,0.10943396226415095,0.10997304582210242,0.1105121293800539,0.11105121293800539,0.11159029649595688,0.11212938005390835,0.11266846361185984,0.11320754716981132,0.11374663072776281,0.11428571428571428,0.11482479784366577,0.11536388140161725,0.11590296495956873,0.11644204851752021,0.1169811320754717,0.11752021563342319,0.11805929919137466,0.11859838274932614,0.11913746630727763,0.1196765498652291,0.12021563342318059,0.12075471698113208,0.12129380053908356,0.12183288409703504,0.12237196765498652,0.12291105121293801,0.1234501347708895,0.12398921832884097,0.12452830188679245,0.12506738544474394,0.12560646900269543,0.1261455525606469,0.12668463611859837,0.12722371967654986,0.12776280323450134,0.12830188679245283,0.12884097035040432,0.1293800539083558,0.1299191374663073,0.13045822102425875,0.13099730458221023,0.13153638814016172,0.1320754716981132,0.1326145552560647,0.13315363881401618,0.13369272237196766,0.13423180592991915,0.1347708894878706,0.1353099730458221,0.13584905660377358,0.13638814016172507,0.13692722371967656,0.13746630727762804,0.13800539083557953,0.138544474393531,0.13908355795148247,0.13962264150943396,0.14016172506738545,0.14070080862533693,0.14123989218328842,0.1417789757412399,0.14231805929919136,0.14285714285714285,0.14339622641509434,0.14393530997304582,0.1444743935309973,0.1450134770889488,0.14555256064690028,0.14609164420485174,0.14663072776280323,0.1471698113207547,0.1477088948787062,0.14824797843665768,0.14878706199460917,0.14932614555256066,0.14986522911051212,0.1504043126684636,0.1509433962264151,0.15148247978436657,0.15202156334231806,0.15256064690026955,0.15309973045822103,0.15363881401617252,0.15417789757412398,0.15471698113207547,0.15525606469002695,0.15579514824797844,0.15633423180592992,0.1568733153638814,0.1574123989218329,0.15795148247978436,0.15849056603773584,0.15902964959568733,0.15956873315363881,0.1601078167115903,0.1606469002695418,0.16118598382749327,0.16172506738544473,0.16226415094339622,0.1628032345013477,0.1633423180592992,0.16388140161725068,0.16442048517520216,0.16495956873315365,0.1654986522911051,0.1660377358490566,0.16657681940700808,0.16711590296495957,0.16765498652291105,0.16819407008086254,0.16873315363881403,0.16927223719676548,0.16981132075471697,0.17035040431266846,0.17088948787061994,0.17142857142857143,0.17196765498652292,0.1725067385444744,0.1730458221024259,0.17358490566037735,0.17412398921832883,0.17466307277628032,0.1752021563342318,0.1757412398921833,0.17628032345013478,0.17681940700808627,0.17735849056603772,0.1778975741239892,0.1784366576819407,0.17897574123989218,0.17951482479784367,0.18005390835579516,0.18059299191374664,0.1811320754716981,0.1816711590296496,0.18221024258760107,0.18274932614555256,0.18328840970350405,0.18382749326145553,0.18436657681940702,0.18490566037735848,0.18544474393530996,0.18598382749326145,0.18652291105121294,0.18706199460916442,0.1876010781671159,0.1881401617250674,0.18867924528301888,0.18921832884097034,0.18975741239892183,0.1902964959568733,0.1908355795148248,0.19137466307277629,0.19191374663072777,0.19245283018867926,0.19299191374663072,0.1935309973045822,0.1940700808625337,0.19460916442048518,0.19514824797843666,0.19568733153638815,0.19622641509433963,0.1967654986522911,0.19730458221024258,0.19784366576819407,0.19838274932614555,0.19892183288409704,0.19946091644204852,0.2,0.20053908355795147,0.20107816711590296,0.20161725067385444,0.20215633423180593,0.20269541778975741,0.2032345013477089,0.2037735849056604,0.20431266846361185,0.20485175202156333,0.20539083557951482,0.2059299191374663,0.2064690026954178,0.20700808625336928,0.20754716981132076,0.20808625336927225,0.2086253369272237,0.2091644204851752,0.20970350404312668,0.21024258760107817,0.21078167115902965,0.21132075471698114,0.21185983827493263,0.21239892183288409,0.21293800539083557,0.21347708894878706,0.21401617250673854,0.21455525606469003,0.21509433962264152,0.215633423180593,0.21617250673854446,0.21671159029649595,0.21725067385444743,0.21778975741239892,0.2183288409703504,0.2188679245283019,0.21940700808625338,0.21994609164420484,0.22048517520215632,0.2210242587601078,0.2215633423180593,0.22210242587601078,0.22264150943396227,0.22318059299191376,0.22371967654986524,0.2242587601078167,0.2247978436657682,0.22533692722371967,0.22587601078167116,0.22641509433962265,0.22695417789757413,0.22749326145552562,0.22803234501347708,0.22857142857142856,0.22911051212938005,0.22964959568733154,0.23018867924528302,0.2307277628032345,0.231266846361186,0.23180592991913745,0.23234501347708894,0.23288409703504043,0.2334231805929919,0.2339622641509434,0.23450134770889489,0.23504043126684637,0.23557951482479783,0.23611859838274932,0.2366576819407008,0.2371967654986523,0.23773584905660378,0.23827493261455526,0.23881401617250675,0.2393530997304582,0.2398921832884097,0.24043126684636118,0.24097035040431267,0.24150943396226415,0.24204851752021564,0.24258760107816713,0.2431266846361186,0.24366576819407007,0.24420485175202156,0.24474393530997304,0.24528301886792453,0.24582210242587602,0.2463611859838275,0.246900269541779,0.24743935309973045,0.24797843665768193,0.24851752021563342,0.2490566037735849,0.2495956873315364,0.2501347708894879,0.25067385444743934,0.25121293800539085,0.2517520215633423,0.2522911051212938,0.2528301886792453,0.25336927223719674,0.25390835579514826,0.2544474393530997,0.2549865229110512,0.2555256064690027,0.2560646900269542,0.25660377358490566,0.2571428571428571,0.25768194070080863,0.2582210242587601,0.2587601078167116,0.25929919137466306,0.2598382749326146,0.26037735849056604,0.2609164420485175,0.261455525606469,0.26199460916442047,0.262533692722372,0.26307277628032344,0.26361185983827495,0.2641509433962264,0.26469002695417787,0.2652291105121294,0.26576819407008084,0.26630727762803236,0.2668463611859838,0.26738544474393533,0.2679245283018868,0.2684636118598383,0.26900269541778976,0.2695417789757412,0.27008086253369273,0.2706199460916442,0.2711590296495957,0.27169811320754716,0.2722371967654987,0.27277628032345014,0.2733153638814016,0.2738544474393531,0.27439353099730457,0.2749326145552561,0.27547169811320754,0.27601078167115906,0.2765498652291105,0.277088948787062,0.2776280323450135,0.27816711590296495,0.27870619946091646,0.2792452830188679,0.27978436657681943,0.2803234501347709,0.28086253369272235,0.28140161725067386,0.2819407008086253,0.28247978436657684,0.2830188679245283,0.2835579514824798,0.28409703504043127,0.2846361185983827,0.28517520215633424,0.2857142857142857,0.2862533692722372,0.28679245283018867,0.2873315363881402,0.28787061994609164,0.2884097035040431,0.2889487870619946,0.2894878706199461,0.2900269541778976,0.29056603773584905,0.29110512129380056,0.291644204851752,0.2921832884097035,0.292722371967655,0.29326145552560645,0.29380053908355797,0.2943396226415094,0.29487870619946094,0.2954177897574124,0.29595687331536386,0.29649595687331537,0.29703504043126683,0.29757412398921834,0.2981132075471698,0.2986522911051213,0.2991913746630728,0.29973045822102423,0.30026954177897575,0.3008086253369272,0.3013477088948787,0.3018867924528302,0.3024258760107817,0.30296495956873315,0.3035040431266846,0.3040431266846361,0.3045822102425876,0.3051212938005391,0.30566037735849055,0.30619946091644207,0.3067385444743935,0.30727762803234504,0.3078167115902965,0.30835579514824796,0.30889487870619947,0.30943396226415093,0.30997304582210244,0.3105121293800539,0.3110512129380054,0.3115902964959569,0.31212938005390833,0.31266846361185985,0.3132075471698113,0.3137466307277628,0.3142857142857143,0.3148247978436658,0.31536388140161725,0.3159029649595687,0.3164420485175202,0.3169811320754717,0.3175202156334232,0.31805929919137466,0.31859838274932617,0.31913746630727763,0.3196765498652291,0.3202156334231806,0.32075471698113206,0.3212938005390836,0.32183288409703503,0.32237196765498655,0.322911051212938,0.32345013477088946,0.323989218328841,0.32452830188679244,0.32506738544474395,0.3256064690026954,0.3261455525606469,0.3266846361185984,0.32722371967654984,0.32776280323450135,0.3283018867924528,0.3288409703504043,0.3293800539083558,0.3299191374663073,0.33045822102425876,0.3309973045822102,0.33153638814016173,0.3320754716981132,0.3326145552560647,0.33315363881401616,0.3336927223719677,0.33423180592991913,0.3347708894878706,0.3353099730458221,0.33584905660377357,0.3363881401617251,0.33692722371967654,0.33746630727762805,0.3380053908355795,0.33854447439353097,0.3390835579514825,0.33962264150943394,0.34016172506738546,0.3407008086253369,0.34123989218328843,0.3417789757412399,0.3423180592991914,0.34285714285714286,0.3433962264150943,0.34393530997304583,0.3444743935309973,0.3450134770889488,0.34555256064690026,0.3460916442048518,0.34663072776280324,0.3471698113207547,0.3477088948787062,0.34824797843665767,0.3487870619946092,0.34932614555256064,0.34986522911051215,0.3504043126684636,0.35094339622641507,0.3514824797843666,0.35202156334231804,0.35256064690026956,0.353099730458221,0.35363881401617253,0.354177897574124,0.35471698113207545,0.35525606469002696,0.3557951482479784,0.35633423180592994,0.3568733153638814,0.3574123989218329,0.35795148247978437,0.3584905660377358,0.35902964959568734,0.3595687331536388,0.3601078167115903,0.36064690026954177,0.3611859838274933,0.36172506738544474,0.3622641509433962,0.3628032345013477,0.3633423180592992,0.3638814016172507,0.36442048517520215,0.36495956873315366,0.3654986522911051,0.3660377358490566,0.3665768194070081,0.36711590296495955,0.36765498652291106,0.3681940700808625,0.36873315363881404,0.3692722371967655,0.36981132075471695,0.37035040431266847,0.3708894878706199,0.37142857142857144,0.3719676549865229,0.3725067385444744,0.3730458221024259,0.37358490566037733,0.37412398921832885,0.3746630727762803,0.3752021563342318,0.3757412398921833,0.3762803234501348,0.37681940700808625,0.37735849056603776,0.3778975741239892,0.3784366576819407,0.3789757412398922,0.37951482479784365,0.38005390835579517,0.3805929919137466,0.38113207547169814,0.3816711590296496,0.38221024258760106,0.38274932614555257,0.38328840970350403,0.38382749326145554,0.384366576819407,0.3849056603773585,0.38544474393531,0.38598382749326143,0.38652291105121295,0.3870619946091644,0.3876010781671159,0.3881401617250674,0.3886792452830189,0.38921832884097035,0.3897574123989218,0.3902964959568733,0.3908355795148248,0.3913746630727763,0.39191374663072776,0.39245283018867927,0.3929919137466307,0.3935309973045822,0.3940700808625337,0.39460916442048516,0.3951482479784367,0.39568733153638813,0.39622641509433965,0.3967654986522911,0.39730458221024256,0.3978436657681941,0.39838274932614554,0.39892183288409705,0.3994609164420485,0.4,0.4005390835579515,0.40107816711590294,0.40161725067385445,0.4021563342318059,0.4026954177897574,0.4032345013477089,0.4037735849056604,0.40431266846361186,0.4048517520215633,0.40539083557951483,0.4059299191374663,0.4064690026954178,0.40700808625336926,0.4075471698113208,0.40808625336927223,0.4086253369272237,0.4091644204851752,0.40970350404312667,0.4102425876010782,0.41078167115902964,0.41132075471698115,0.4118598382749326,0.4123989218328841,0.4129380053908356,0.41347708894878704,0.41401617250673856,0.41455525606469,0.41509433962264153,0.415633423180593,0.4161725067385445,0.41671159029649596,0.4172506738544474,0.41778975741239893,0.4183288409703504,0.4188679245283019,0.41940700808625336,0.4199460916442049,0.42048517520215634,0.4210242587601078,0.4215633423180593,0.42210242587601077,0.4226415094339623,0.42318059299191374,0.42371967654986525,0.4242587601078167,0.42479784366576817,0.4253369272237197,0.42587601078167114,0.42641509433962266,0.4269541778975741,0.42749326145552563,0.4280323450134771,0.42857142857142855,0.42911051212938006,0.4296495956873315,0.43018867924528303,0.4307277628032345,0.431266846361186,0.43180592991913747,0.4323450134770889,0.43288409703504044,0.4334231805929919,0.4339622641509434,0.43450134770889487,0.4350404312668464,0.43557951482479784,0.4361185983827493,0.4366576819407008,0.4371967654986523,0.4377358490566038,0.43827493261455525,0.43881401617250676,0.4393530997304582,0.4398921832884097,0.4404312668463612,0.44097035040431265,0.44150943396226416,0.4420485175202156,0.44258760107816714,0.4431266846361186,0.44366576819407005,0.44420485175202157,0.444743935309973,0.44528301886792454,0.445822102425876,0.4463611859838275,0.44690026954177897,0.4474393530997305,0.44797843665768194,0.4485175202156334,0.4490566037735849,0.4495956873315364,0.4501347708894879,0.45067385444743935,0.45121293800539086,0.4517520215633423,0.4522911051212938,0.4528301886792453,0.45336927223719675,0.45390835579514827,0.4544474393530997,0.45498652291105124,0.4555256064690027,0.45606469002695416,0.45660377358490567,0.45714285714285713,0.45768194070080864,0.4582210242587601,0.4587601078167116,0.4592991913746631,0.45983827493261453,0.46037735849056605,0.4609164420485175,0.461455525606469,0.4619946091644205,0.462533692722372,0.46307277628032345,0.4636118598382749,0.4641509433962264,0.4646900269541779,0.4652291105121294,0.46576819407008085,0.46630727762803237,0.4668463611859838,0.4673854447439353,0.4679245283018868,0.46846361185983826,0.46900269541778977,0.46954177897574123,0.47008086253369274,0.4706199460916442,0.47115902964959566,0.4716981132075472,0.47223719676549863,0.47277628032345015,0.4733153638814016,0.4738544474393531,0.4743935309973046,0.47493261455525604,0.47547169811320755,0.476010781671159,0.4765498652291105,0.477088948787062,0.4776280323450135,0.47816711590296496,0.4787061994609164,0.47924528301886793,0.4797843665768194,0.4803234501347709,0.48086253369272236,0.4814016172506739,0.48194070080862533,0.48247978436657685,0.4830188679245283,0.48355795148247976,0.4840970350404313,0.48463611859838274,0.48517520215633425,0.4857142857142857,0.4862533692722372,0.4867924528301887,0.48733153638814014,0.48787061994609165,0.4884097035040431,0.4889487870619946,0.4894878706199461,0.4900269541778976,0.49056603773584906,0.4911051212938005,0.49164420485175203,0.4921832884097035,0.492722371967655,0.49326145552560646,0.493800539083558,0.49433962264150944,0.4948787061994609,0.4954177897574124,0.49595687331536387,0.4964959568733154,0.49703504043126684,0.49757412398921835,0.4981132075471698,0.49865229110512127,0.4991913746630728,0.49973045822102424,0.5002695417789758,0.5008086253369273,0.5013477088948787,0.5018867924528302,0.5024258760107817,0.5029649595687331,0.5035040431266846,0.5040431266846361,0.5045822102425876,0.505121293800539,0.5056603773584906,0.5061994609164421,0.5067385444743935,0.507277628032345,0.5078167115902965,0.508355795148248,0.5088948787061994,0.5094339622641509,0.5099730458221025,0.5105121293800539,0.5110512129380054,0.5115902964959569,0.5121293800539084,0.5126684636118598,0.5132075471698113,0.5137466307277628,0.5142857142857142,0.5148247978436657,0.5153638814016173,0.5159029649595688,0.5164420485175202,0.5169811320754717,0.5175202156334232,0.5180592991913746,0.5185983827493261,0.5191374663072776,0.5196765498652292,0.5202156334231806,0.5207547169811321,0.5212938005390836,0.521832884097035,0.5223719676549865,0.522911051212938,0.5234501347708895,0.5239892183288409,0.5245283018867924,0.525067385444744,0.5256064690026954,0.5261455525606469,0.5266846361185984,0.5272237196765499,0.5277628032345013,0.5283018867924528,0.5288409703504043,0.5293800539083557,0.5299191374663073,0.5304582210242588,0.5309973045822103,0.5315363881401617,0.5320754716981132,0.5326145552560647,0.5331536388140161,0.5336927223719676,0.5342318059299191,0.5347708894878707,0.5353099730458221,0.5358490566037736,0.5363881401617251,0.5369272237196766,0.537466307277628,0.5380053908355795,0.538544474393531,0.5390835579514824,0.539622641509434,0.5401617250673855,0.540700808625337,0.5412398921832884,0.5417789757412399,0.5423180592991914,0.5428571428571428,0.5433962264150943,0.5439353099730458,0.5444743935309974,0.5450134770889488,0.5455525606469003,0.5460916442048518,0.5466307277628032,0.5471698113207547,0.5477088948787062,0.5482479784366577,0.5487870619946091,0.5493261455525607,0.5498652291105122,0.5504043126684636,0.5509433962264151,0.5514824797843666,0.5520215633423181,0.5525606469002695,0.553099730458221,0.5536388140161725,0.554177897574124,0.5547169811320755,0.555256064690027,0.5557951482479785,0.5563342318059299,0.5568733153638814,0.5574123989218329,0.5579514824797843,0.5584905660377358,0.5590296495956874,0.5595687331536389,0.5601078167115903,0.5606469002695418,0.5611859838274933,0.5617250673854447,0.5622641509433962,0.5628032345013477,0.5633423180592992,0.5638814016172506,0.5644204851752022,0.5649595687331537,0.5654986522911051,0.5660377358490566,0.5665768194070081,0.5671159029649596,0.567654986522911,0.5681940700808625,0.568733153638814,0.5692722371967655,0.569811320754717,0.5703504043126685,0.57088948787062,0.5714285714285714,0.5719676549865229,0.5725067385444744,0.5730458221024258,0.5735849056603773,0.5741239892183289,0.5746630727762804,0.5752021563342318,0.5757412398921833,0.5762803234501348,0.5768194070080862,0.5773584905660377,0.5778975741239892,0.5784366576819407,0.5789757412398921,0.5795148247978437,0.5800539083557952,0.5805929919137466,0.5811320754716981,0.5816711590296496,0.5822102425876011,0.5827493261455525,0.583288409703504,0.5838274932614556,0.584366576819407,0.5849056603773585,0.58544474393531,0.5859838274932615,0.5865229110512129,0.5870619946091644,0.5876010781671159,0.5881401617250673,0.5886792452830188,0.5892183288409704,0.5897574123989219,0.5902964959568733,0.5908355795148248,0.5913746630727763,0.5919137466307277,0.5924528301886792,0.5929919137466307,0.5935309973045823,0.5940700808625337,0.5946091644204852,0.5951482479784367,0.5956873315363881,0.5962264150943396,0.5967654986522911,0.5973045822102426,0.597843665768194,0.5983827493261455,0.5989218328840971,0.5994609164420485,0.6,0.6005390835579515,0.601078167115903,0.6016172506738544,0.6021563342318059,0.6026954177897574,0.6032345013477088,0.6037735849056604,0.6043126684636119,0.6048517520215634,0.6053908355795148,0.6059299191374663,0.6064690026954178,0.6070080862533692,0.6075471698113207,0.6080862533692722,0.6086253369272238,0.6091644204851752,0.6097035040431267,0.6102425876010782,0.6107816711590297,0.6113207547169811,0.6118598382749326,0.6123989218328841,0.6129380053908355,0.613477088948787,0.6140161725067386,0.6145552560646901,0.6150943396226415,0.615633423180593,0.6161725067385445,0.6167115902964959,0.6172506738544474,0.6177897574123989,0.6183288409703505,0.6188679245283019,0.6194070080862534,0.6199460916442049,0.6204851752021563,0.6210242587601078,0.6215633423180593,0.6221024258760108,0.6226415094339622,0.6231805929919138,0.6237196765498653,0.6242587601078167,0.6247978436657682,0.6253369272237197,0.6258760107816712,0.6264150943396226,0.6269541778975741,0.6274932614555256,0.628032345013477,0.6285714285714286,0.6291105121293801,0.6296495956873316,0.630188679245283,0.6307277628032345,0.631266846361186,0.6318059299191374,0.6323450134770889,0.6328840970350404,0.633423180592992,0.6339622641509434,0.6345013477088949,0.6350404312668464,0.6355795148247978,0.6361185983827493,0.6366576819407008,0.6371967654986523,0.6377358490566037,0.6382749326145553,0.6388140161725068,0.6393530997304582,0.6398921832884097,0.6404312668463612,0.6409703504043127,0.6415094339622641,0.6420485175202156,0.6425876010781671,0.6431266846361186,0.6436657681940701,0.6442048517520216,0.6447439353099731,0.6452830188679245,0.645822102425876,0.6463611859838275,0.6469002695417789,0.6474393530997304,0.647978436657682,0.6485175202156335,0.6490566037735849,0.6495956873315364,0.6501347708894879,0.6506738544474393,0.6512129380053908,0.6517520215633423,0.6522911051212938,0.6528301886792452,0.6533692722371968,0.6539083557951483,0.6544474393530997,0.6549865229110512,0.6555256064690027,0.6560646900269542,0.6566037735849056,0.6571428571428571,0.6576819407008087,0.6582210242587601,0.6587601078167116,0.6592991913746631,0.6598382749326146,0.660377358490566,0.6609164420485175,0.661455525606469,0.6619946091644204,0.662533692722372,0.6630727762803235,0.663611859838275,0.6641509433962264,0.6646900269541779,0.6652291105121294,0.6657681940700808,0.6663072776280323,0.6668463611859838,0.6673854447439354,0.6679245283018868,0.6684636118598383,0.6690026954177898,0.6695417789757412,0.6700808625336927,0.6706199460916442,0.6711590296495957,0.6716981132075471,0.6722371967654986,0.6727762803234502,0.6733153638814016,0.6738544474393531,0.6743935309973046,0.6749326145552561,0.6754716981132075,0.676010781671159,0.6765498652291105,0.6770889487870619,0.6776280323450135,0.678167115902965,0.6787061994609165,0.6792452830188679,0.6797843665768194,0.6803234501347709,0.6808625336927224,0.6814016172506738,0.6819407008086253,0.6824797843665769,0.6830188679245283,0.6835579514824798,0.6840970350404313,0.6846361185983828,0.6851752021563342,0.6857142857142857,0.6862533692722372,0.6867924528301886,0.6873315363881402,0.6878706199460917,0.6884097035040432,0.6889487870619946,0.6894878706199461,0.6900269541778976,0.690566037735849,0.6911051212938005,0.691644204851752,0.6921832884097036,0.692722371967655,0.6932614555256065,0.693800539083558,0.6943396226415094,0.6948787061994609,0.6954177897574124,0.6959568733153639,0.6964959568733153,0.6970350404312669,0.6975741239892184,0.6981132075471698,0.6986522911051213,0.6991913746630728,0.6997304582210243,0.7002695417789757,0.7008086253369272,0.7013477088948787,0.7018867924528301,0.7024258760107817,0.7029649595687332,0.7035040431266847,0.7040431266846361,0.7045822102425876,0.7051212938005391,0.7056603773584905,0.706199460916442,0.7067385444743935,0.7072776280323451,0.7078167115902965,0.708355795148248,0.7088948787061995,0.7094339622641509,0.7099730458221024,0.7105121293800539,0.7110512129380054,0.7115902964959568,0.7121293800539084,0.7126684636118599,0.7132075471698113,0.7137466307277628,0.7142857142857143,0.7148247978436658,0.7153638814016172,0.7159029649595687,0.7164420485175202,0.7169811320754716,0.7175202156334232,0.7180592991913747,0.7185983827493262,0.7191374663072776,0.7196765498652291,0.7202156334231806,0.720754716981132,0.7212938005390835,0.721832884097035,0.7223719676549866,0.722911051212938,0.7234501347708895,0.723989218328841,0.7245283018867924,0.7250673854447439,0.7256064690026954,0.726145552560647,0.7266846361185983,0.7272237196765499,0.7277628032345014,0.7283018867924528,0.7288409703504043,0.7293800539083558,0.7299191374663073,0.7304582210242587,0.7309973045822102,0.7315363881401618,0.7320754716981132,0.7326145552560647,0.7331536388140162,0.7336927223719677,0.7342318059299191,0.7347708894878706,0.7353099730458221,0.7358490566037735,0.736388140161725,0.7369272237196766,0.7374663072776281,0.7380053908355795,0.738544474393531,0.7390835579514825,0.7396226415094339,0.7401617250673854,0.7407008086253369,0.7412398921832885,0.7417789757412399,0.7423180592991914,0.7428571428571429,0.7433962264150943,0.7439353099730458,0.7444743935309973,0.7450134770889488,0.7455525606469002,0.7460916442048517,0.7466307277628033,0.7471698113207547,0.7477088948787062,0.7482479784366577,0.7487870619946092,0.7493261455525606,0.7498652291105121,0.7504043126684636,0.7509433962264151,0.7514824797843666,0.7520215633423181,0.7525606469002696,0.753099730458221,0.7536388140161725,0.754177897574124,0.7547169811320755,0.7552560646900269,0.7557951482479784,0.75633423180593,0.7568733153638814,0.7574123989218329,0.7579514824797844,0.7584905660377359,0.7590296495956873,0.7595687331536388,0.7601078167115903,0.7606469002695417,0.7611859838274933,0.7617250673854448,0.7622641509433963,0.7628032345013477,0.7633423180592992,0.7638814016172507,0.7644204851752021,0.7649595687331536,0.7654986522911051,0.7660377358490567,0.7665768194070081,0.7671159029649596,0.7676549865229111,0.7681940700808625,0.768733153638814,0.7692722371967655,0.769811320754717,0.7703504043126684,0.77088948787062,0.7714285714285715,0.7719676549865229,0.7725067385444744,0.7730458221024259,0.7735849056603774,0.7741239892183288,0.7746630727762803,0.7752021563342318,0.7757412398921832,0.7762803234501348,0.7768194070080863,0.7773584905660378,0.7778975741239892,0.7784366576819407,0.7789757412398922,0.7795148247978436,0.7800539083557951,0.7805929919137466,0.7811320754716982,0.7816711590296496,0.7822102425876011,0.7827493261455526,0.783288409703504,0.7838274932614555,0.784366576819407,0.7849056603773585,0.7854447439353099,0.7859838274932615,0.786522911051213,0.7870619946091644,0.7876010781671159,0.7881401617250674,0.7886792452830189,0.7892183288409703,0.7897574123989218,0.7902964959568733,0.7908355795148247,0.7913746630727763,0.7919137466307278,0.7924528301886793,0.7929919137466307,0.7935309973045822,0.7940700808625337,0.7946091644204851,0.7951482479784366,0.7956873315363882,0.7962264150943397,0.7967654986522911,0.7973045822102426,0.7978436657681941,0.7983827493261455,0.798921832884097,0.7994609164420485,0.8,0.8005390835579514,0.801078167115903,0.8016172506738545,0.8021563342318059,0.8026954177897574,0.8032345013477089,0.8037735849056604,0.8043126684636118,0.8048517520215633,0.8053908355795149,0.8059299191374663,0.8064690026954178,0.8070080862533693,0.8075471698113208,0.8080862533692722,0.8086253369272237,0.8091644204851752,0.8097035040431266,0.8102425876010781,0.8107816711590297,0.8113207547169812,0.8118598382749326,0.8123989218328841,0.8129380053908356,0.813477088948787,0.8140161725067385,0.81455525606469,0.8150943396226416,0.815633423180593,0.8161725067385445,0.816711590296496,0.8172506738544474,0.8177897574123989,0.8183288409703504,0.8188679245283019,0.8194070080862533,0.8199460916442048,0.8204851752021564,0.8210242587601078,0.8215633423180593,0.8221024258760108,0.8226415094339623,0.8231805929919137,0.8237196765498652,0.8242587601078167,0.8247978436657682,0.8253369272237197,0.8258760107816712,0.8264150943396227,0.8269541778975741,0.8274932614555256,0.8280323450134771,0.8285714285714286,0.82911051212938,0.8296495956873315,0.8301886792452831,0.8307277628032345,0.831266846361186,0.8318059299191375,0.832345013477089,0.8328840970350404,0.8334231805929919,0.8339622641509434,0.8345013477088948,0.8350404312668464,0.8355795148247979,0.8361185983827494,0.8366576819407008,0.8371967654986523,0.8377358490566038,0.8382749326145552,0.8388140161725067,0.8393530997304582,0.8398921832884098,0.8404312668463612,0.8409703504043127,0.8415094339622642,0.8420485175202156,0.8425876010781671,0.8431266846361186,0.8436657681940701,0.8442048517520215,0.844743935309973,0.8452830188679246,0.845822102425876,0.8463611859838275,0.846900269541779,0.8474393530997305,0.8479784366576819,0.8485175202156334,0.8490566037735849,0.8495956873315363,0.8501347708894879,0.8506738544474394,0.8512129380053909,0.8517520215633423,0.8522911051212938,0.8528301886792453,0.8533692722371967,0.8539083557951482,0.8544474393530997,0.8549865229110513,0.8555256064690027,0.8560646900269542,0.8566037735849057,0.8571428571428571,0.8576819407008086,0.8582210242587601,0.8587601078167116,0.859299191374663,0.8598382749326146,0.8603773584905661,0.8609164420485175,0.861455525606469,0.8619946091644205,0.862533692722372,0.8630727762803234,0.8636118598382749,0.8641509433962264,0.8646900269541778,0.8652291105121294,0.8657681940700809,0.8663072776280324,0.8668463611859838,0.8673854447439353,0.8679245283018868,0.8684636118598382,0.8690026954177897,0.8695417789757413,0.8700808625336928,0.8706199460916442,0.8711590296495957,0.8716981132075472,0.8722371967654986,0.8727762803234501,0.8733153638814016,0.8738544474393531,0.8743935309973045,0.8749326145552561,0.8754716981132076,0.876010781671159,0.8765498652291105,0.877088948787062,0.8776280323450135,0.8781671159029649,0.8787061994609164,0.879245283018868,0.8797843665768194,0.8803234501347709,0.8808625336927224,0.8814016172506739,0.8819407008086253,0.8824797843665768,0.8830188679245283,0.8835579514824797,0.8840970350404312,0.8846361185983828,0.8851752021563343,0.8857142857142857,0.8862533692722372,0.8867924528301887,0.8873315363881401,0.8878706199460916,0.8884097035040431,0.8889487870619946,0.889487870619946,0.8900269541778976,0.8905660377358491,0.8911051212938005,0.891644204851752,0.8921832884097035,0.892722371967655,0.8932614555256064,0.8938005390835579,0.8943396226415095,0.894878706199461,0.8954177897574124,0.8959568733153639,0.8964959568733154,0.8970350404312668,0.8975741239892183,0.8981132075471698,0.8986522911051213,0.8991913746630728,0.8997304582210243,0.9002695417789758,0.9008086253369272,0.9013477088948787,0.9018867924528302,0.9024258760107817,0.9029649595687331,0.9035040431266846,0.9040431266846362,0.9045822102425876,0.9051212938005391,0.9056603773584906,0.9061994609164421,0.9067385444743935,0.907277628032345,0.9078167115902965,0.9083557951482479,0.9088948787061994,0.909433962264151,0.9099730458221025,0.9105121293800539,0.9110512129380054,0.9115902964959569,0.9121293800539083,0.9126684636118598,0.9132075471698113,0.9137466307277629,0.9142857142857143,0.9148247978436658,0.9153638814016173,0.9159029649595687,0.9164420485175202,0.9169811320754717,0.9175202156334232,0.9180592991913746,0.9185983827493261,0.9191374663072777,0.9196765498652291,0.9202156334231806,0.9207547169811321,0.9212938005390836,0.921832884097035,0.9223719676549865,0.922911051212938,0.9234501347708894,0.923989218328841,0.9245283018867925,0.925067385444744,0.9256064690026954,0.9261455525606469,0.9266846361185984,0.9272237196765498,0.9277628032345013,0.9283018867924528,0.9288409703504044,0.9293800539083558,0.9299191374663073,0.9304582210242588,0.9309973045822102,0.9315363881401617,0.9320754716981132,0.9326145552560647,0.9331536388140161,0.9336927223719677,0.9342318059299192,0.9347708894878706,0.9353099730458221,0.9358490566037736,0.9363881401617251,0.9369272237196765,0.937466307277628,0.9380053908355795,0.938544474393531,0.9390835579514825,0.939622641509434,0.9401617250673855,0.9407008086253369,0.9412398921832884,0.9417789757412399,0.9423180592991913,0.9428571428571428,0.9433962264150944,0.9439353099730459,0.9444743935309973,0.9450134770889488,0.9455525606469003,0.9460916442048517,0.9466307277628032,0.9471698113207547,0.9477088948787062,0.9482479784366576,0.9487870619946092,0.9493261455525607,0.9498652291105121,0.9504043126684636,0.9509433962264151,0.9514824797843666,0.952021563342318,0.9525606469002695,0.953099730458221,0.9536388140161725,0.954177897574124,0.9547169811320755,0.955256064690027,0.9557951482479784,0.9563342318059299,0.9568733153638814,0.9574123989218328,0.9579514824797843,0.9584905660377359,0.9590296495956874,0.9595687331536388,0.9601078167115903,0.9606469002695418,0.9611859838274932,0.9617250673854447,0.9622641509433962,0.9628032345013477,0.9633423180592992,0.9638814016172507,0.9644204851752022,0.9649595687331537,0.9654986522911051,0.9660377358490566,0.9665768194070081,0.9671159029649595,0.967654986522911,0.9681940700808626,0.9687331536388141,0.9692722371967655,0.969811320754717,0.9703504043126685,0.9708894878706199,0.9714285714285714,0.9719676549865229,0.9725067385444744,0.9730458221024259,0.9735849056603774,0.9741239892183289,0.9746630727762803,0.9752021563342318,0.9757412398921833,0.9762803234501348,0.9768194070080862,0.9773584905660377,0.9778975741239893,0.9784366576819407,0.9789757412398922,0.9795148247978437,0.9800539083557952,0.9805929919137466,0.9811320754716981,0.9816711590296496,0.982210242587601,0.9827493261455525,0.9832884097035041,0.9838274932614556,0.984366576819407,0.9849056603773585,0.98544474393531,0.9859838274932614,0.9865229110512129,0.9870619946091644,0.987601078167116,0.9881401617250674,0.9886792452830189,0.9892183288409704,0.9897574123989218,0.9902964959568733,0.9908355795148248,0.9913746630727763,0.9919137466307277,0.9924528301886792,0.9929919137466308,0.9935309973045822,0.9940700808625337,0.9946091644204852,0.9951482479784367,0.9956873315363881,0.9962264150943396,0.9967654986522911,0.9973045822102425,0.997843665768194,0.9983827493261456,0.9989218328840971,0.9994609164420485,1.0],\"type\":\"scatter\"}],                        {\"template\":{\"data\":{\"histogram2dcontour\":[{\"type\":\"histogram2dcontour\",\"colorbar\":{\"outlinewidth\":0,\"ticks\":\"\"},\"colorscale\":[[0.0,\"#0d0887\"],[0.1111111111111111,\"#46039f\"],[0.2222222222222222,\"#7201a8\"],[0.3333333333333333,\"#9c179e\"],[0.4444444444444444,\"#bd3786\"],[0.5555555555555556,\"#d8576b\"],[0.6666666666666666,\"#ed7953\"],[0.7777777777777778,\"#fb9f3a\"],[0.8888888888888888,\"#fdca26\"],[1.0,\"#f0f921\"]]}],\"choropleth\":[{\"type\":\"choropleth\",\"colorbar\":{\"outlinewidth\":0,\"ticks\":\"\"}}],\"histogram2d\":[{\"type\":\"histogram2d\",\"colorbar\":{\"outlinewidth\":0,\"ticks\":\"\"},\"colorscale\":[[0.0,\"#0d0887\"],[0.1111111111111111,\"#46039f\"],[0.2222222222222222,\"#7201a8\"],[0.3333333333333333,\"#9c179e\"],[0.4444444444444444,\"#bd3786\"],[0.5555555555555556,\"#d8576b\"],[0.6666666666666666,\"#ed7953\"],[0.7777777777777778,\"#fb9f3a\"],[0.8888888888888888,\"#fdca26\"],[1.0,\"#f0f921\"]]}],\"heatmap\":[{\"type\":\"heatmap\",\"colorbar\":{\"outlinewidth\":0,\"ticks\":\"\"},\"colorscale\":[[0.0,\"#0d0887\"],[0.1111111111111111,\"#46039f\"],[0.2222222222222222,\"#7201a8\"],[0.3333333333333333,\"#9c179e\"],[0.4444444444444444,\"#bd3786\"],[0.5555555555555556,\"#d8576b\"],[0.6666666666666666,\"#ed7953\"],[0.7777777777777778,\"#fb9f3a\"],[0.8888888888888888,\"#fdca26\"],[1.0,\"#f0f921\"]]}],\"heatmapgl\":[{\"type\":\"heatmapgl\",\"colorbar\":{\"outlinewidth\":0,\"ticks\":\"\"},\"colorscale\":[[0.0,\"#0d0887\"],[0.1111111111111111,\"#46039f\"],[0.2222222222222222,\"#7201a8\"],[0.3333333333333333,\"#9c179e\"],[0.4444444444444444,\"#bd3786\"],[0.5555555555555556,\"#d8576b\"],[0.6666666666666666,\"#ed7953\"],[0.7777777777777778,\"#fb9f3a\"],[0.8888888888888888,\"#fdca26\"],[1.0,\"#f0f921\"]]}],\"contourcarpet\":[{\"type\":\"contourcarpet\",\"colorbar\":{\"outlinewidth\":0,\"ticks\":\"\"}}],\"contour\":[{\"type\":\"contour\",\"colorbar\":{\"outlinewidth\":0,\"ticks\":\"\"},\"colorscale\":[[0.0,\"#0d0887\"],[0.1111111111111111,\"#46039f\"],[0.2222222222222222,\"#7201a8\"],[0.3333333333333333,\"#9c179e\"],[0.4444444444444444,\"#bd3786\"],[0.5555555555555556,\"#d8576b\"],[0.6666666666666666,\"#ed7953\"],[0.7777777777777778,\"#fb9f3a\"],[0.8888888888888888,\"#fdca26\"],[1.0,\"#f0f921\"]]}],\"surface\":[{\"type\":\"surface\",\"colorbar\":{\"outlinewidth\":0,\"ticks\":\"\"},\"colorscale\":[[0.0,\"#0d0887\"],[0.1111111111111111,\"#46039f\"],[0.2222222222222222,\"#7201a8\"],[0.3333333333333333,\"#9c179e\"],[0.4444444444444444,\"#bd3786\"],[0.5555555555555556,\"#d8576b\"],[0.6666666666666666,\"#ed7953\"],[0.7777777777777778,\"#fb9f3a\"],[0.8888888888888888,\"#fdca26\"],[1.0,\"#f0f921\"]]}],\"mesh3d\":[{\"type\":\"mesh3d\",\"colorbar\":{\"outlinewidth\":0,\"ticks\":\"\"}}],\"scatter\":[{\"fillpattern\":{\"fillmode\":\"overlay\",\"size\":10,\"solidity\":0.2},\"type\":\"scatter\"}],\"parcoords\":[{\"type\":\"parcoords\",\"line\":{\"colorbar\":{\"outlinewidth\":0,\"ticks\":\"\"}}}],\"scatterpolargl\":[{\"type\":\"scatterpolargl\",\"marker\":{\"colorbar\":{\"outlinewidth\":0,\"ticks\":\"\"}}}],\"bar\":[{\"error_x\":{\"color\":\"#2a3f5f\"},\"error_y\":{\"color\":\"#2a3f5f\"},\"marker\":{\"line\":{\"color\":\"#E5ECF6\",\"width\":0.5},\"pattern\":{\"fillmode\":\"overlay\",\"size\":10,\"solidity\":0.2}},\"type\":\"bar\"}],\"scattergeo\":[{\"type\":\"scattergeo\",\"marker\":{\"colorbar\":{\"outlinewidth\":0,\"ticks\":\"\"}}}],\"scatterpolar\":[{\"type\":\"scatterpolar\",\"marker\":{\"colorbar\":{\"outlinewidth\":0,\"ticks\":\"\"}}}],\"histogram\":[{\"marker\":{\"pattern\":{\"fillmode\":\"overlay\",\"size\":10,\"solidity\":0.2}},\"type\":\"histogram\"}],\"scattergl\":[{\"type\":\"scattergl\",\"marker\":{\"colorbar\":{\"outlinewidth\":0,\"ticks\":\"\"}}}],\"scatter3d\":[{\"type\":\"scatter3d\",\"line\":{\"colorbar\":{\"outlinewidth\":0,\"ticks\":\"\"}},\"marker\":{\"colorbar\":{\"outlinewidth\":0,\"ticks\":\"\"}}}],\"scattermapbox\":[{\"type\":\"scattermapbox\",\"marker\":{\"colorbar\":{\"outlinewidth\":0,\"ticks\":\"\"}}}],\"scatterternary\":[{\"type\":\"scatterternary\",\"marker\":{\"colorbar\":{\"outlinewidth\":0,\"ticks\":\"\"}}}],\"scattercarpet\":[{\"type\":\"scattercarpet\",\"marker\":{\"colorbar\":{\"outlinewidth\":0,\"ticks\":\"\"}}}],\"carpet\":[{\"aaxis\":{\"endlinecolor\":\"#2a3f5f\",\"gridcolor\":\"white\",\"linecolor\":\"white\",\"minorgridcolor\":\"white\",\"startlinecolor\":\"#2a3f5f\"},\"baxis\":{\"endlinecolor\":\"#2a3f5f\",\"gridcolor\":\"white\",\"linecolor\":\"white\",\"minorgridcolor\":\"white\",\"startlinecolor\":\"#2a3f5f\"},\"type\":\"carpet\"}],\"table\":[{\"cells\":{\"fill\":{\"color\":\"#EBF0F8\"},\"line\":{\"color\":\"white\"}},\"header\":{\"fill\":{\"color\":\"#C8D4E3\"},\"line\":{\"color\":\"white\"}},\"type\":\"table\"}],\"barpolar\":[{\"marker\":{\"line\":{\"color\":\"#E5ECF6\",\"width\":0.5},\"pattern\":{\"fillmode\":\"overlay\",\"size\":10,\"solidity\":0.2}},\"type\":\"barpolar\"}],\"pie\":[{\"automargin\":true,\"type\":\"pie\"}]},\"layout\":{\"autotypenumbers\":\"strict\",\"colorway\":[\"#636efa\",\"#EF553B\",\"#00cc96\",\"#ab63fa\",\"#FFA15A\",\"#19d3f3\",\"#FF6692\",\"#B6E880\",\"#FF97FF\",\"#FECB52\"],\"font\":{\"color\":\"#2a3f5f\"},\"hovermode\":\"closest\",\"hoverlabel\":{\"align\":\"left\"},\"paper_bgcolor\":\"white\",\"plot_bgcolor\":\"#E5ECF6\",\"polar\":{\"bgcolor\":\"#E5ECF6\",\"angularaxis\":{\"gridcolor\":\"white\",\"linecolor\":\"white\",\"ticks\":\"\"},\"radialaxis\":{\"gridcolor\":\"white\",\"linecolor\":\"white\",\"ticks\":\"\"}},\"ternary\":{\"bgcolor\":\"#E5ECF6\",\"aaxis\":{\"gridcolor\":\"white\",\"linecolor\":\"white\",\"ticks\":\"\"},\"baxis\":{\"gridcolor\":\"white\",\"linecolor\":\"white\",\"ticks\":\"\"},\"caxis\":{\"gridcolor\":\"white\",\"linecolor\":\"white\",\"ticks\":\"\"}},\"coloraxis\":{\"colorbar\":{\"outlinewidth\":0,\"ticks\":\"\"}},\"colorscale\":{\"sequential\":[[0.0,\"#0d0887\"],[0.1111111111111111,\"#46039f\"],[0.2222222222222222,\"#7201a8\"],[0.3333333333333333,\"#9c179e\"],[0.4444444444444444,\"#bd3786\"],[0.5555555555555556,\"#d8576b\"],[0.6666666666666666,\"#ed7953\"],[0.7777777777777778,\"#fb9f3a\"],[0.8888888888888888,\"#fdca26\"],[1.0,\"#f0f921\"]],\"sequentialminus\":[[0.0,\"#0d0887\"],[0.1111111111111111,\"#46039f\"],[0.2222222222222222,\"#7201a8\"],[0.3333333333333333,\"#9c179e\"],[0.4444444444444444,\"#bd3786\"],[0.5555555555555556,\"#d8576b\"],[0.6666666666666666,\"#ed7953\"],[0.7777777777777778,\"#fb9f3a\"],[0.8888888888888888,\"#fdca26\"],[1.0,\"#f0f921\"]],\"diverging\":[[0,\"#8e0152\"],[0.1,\"#c51b7d\"],[0.2,\"#de77ae\"],[0.3,\"#f1b6da\"],[0.4,\"#fde0ef\"],[0.5,\"#f7f7f7\"],[0.6,\"#e6f5d0\"],[0.7,\"#b8e186\"],[0.8,\"#7fbc41\"],[0.9,\"#4d9221\"],[1,\"#276419\"]]},\"xaxis\":{\"gridcolor\":\"white\",\"linecolor\":\"white\",\"ticks\":\"\",\"title\":{\"standoff\":15},\"zerolinecolor\":\"white\",\"automargin\":true,\"zerolinewidth\":2},\"yaxis\":{\"gridcolor\":\"white\",\"linecolor\":\"white\",\"ticks\":\"\",\"title\":{\"standoff\":15},\"zerolinecolor\":\"white\",\"automargin\":true,\"zerolinewidth\":2},\"scene\":{\"xaxis\":{\"backgroundcolor\":\"#E5ECF6\",\"gridcolor\":\"white\",\"linecolor\":\"white\",\"showbackground\":true,\"ticks\":\"\",\"zerolinecolor\":\"white\",\"gridwidth\":2},\"yaxis\":{\"backgroundcolor\":\"#E5ECF6\",\"gridcolor\":\"white\",\"linecolor\":\"white\",\"showbackground\":true,\"ticks\":\"\",\"zerolinecolor\":\"white\",\"gridwidth\":2},\"zaxis\":{\"backgroundcolor\":\"#E5ECF6\",\"gridcolor\":\"white\",\"linecolor\":\"white\",\"showbackground\":true,\"ticks\":\"\",\"zerolinecolor\":\"white\",\"gridwidth\":2}},\"shapedefaults\":{\"line\":{\"color\":\"#2a3f5f\"}},\"annotationdefaults\":{\"arrowcolor\":\"#2a3f5f\",\"arrowhead\":0,\"arrowwidth\":1},\"geo\":{\"bgcolor\":\"white\",\"landcolor\":\"#E5ECF6\",\"subunitcolor\":\"white\",\"showland\":true,\"showlakes\":true,\"lakecolor\":\"white\"},\"title\":{\"x\":0.05},\"mapbox\":{\"style\":\"light\"}}},\"legend\":{\"traceorder\":\"normal\",\"x\":1,\"y\":1,\"xanchor\":\"right\",\"yanchor\":\"top\"},\"xaxis\":{\"title\":{\"text\":\"seconds in slot\"},\"tickmode\":\"linear\",\"showgrid\":true,\"gridcolor\":\"lightgrey\"},\"yaxis\":{\"title\":{\"text\":\"cumulative probability\"},\"showgrid\":true,\"gridcolor\":\"lightgrey\"},\"font\":{\"family\":\"Ubuntu Mono\",\"size\":16,\"color\":\"black\"},\"title\":{\"text\":\"Cum. Distribution of Attestations First Seen Timing \\u003cspan style=\\\"font-size: 16px;\\\"\\u003e(epoch 300,037 - 301,696)\\u003c\\u002fspan\\u003e\"},\"barmode\":\"stack\",\"height\":500,\"width\":1200,\"plot_bgcolor\":\"#FFFFFF\"},                        {\"responsive\": true}                    ).then(function(){\n",
       "                            \n",
       "var gd = document.getElementById('c4f6c665-a762-47c2-bba1-96b594d94693');\n",
       "var x = new MutationObserver(function (mutations, observer) {{\n",
       "        var display = window.getComputedStyle(gd).display;\n",
       "        if (!display || display === 'none') {{\n",
       "            console.log([gd, 'removed!']);\n",
       "            Plotly.purge(gd);\n",
       "            observer.disconnect();\n",
       "        }}\n",
       "}});\n",
       "\n",
       "// Listen for the removal of the full notebook cells\n",
       "var notebookContainer = gd.closest('#notebook-container');\n",
       "if (notebookContainer) {{\n",
       "    x.observe(notebookContainer, {childList: true});\n",
       "}}\n",
       "\n",
       "// Listen for the clearing of the current output cell\n",
       "var outputEl = gd.closest('.output');\n",
       "if (outputEl) {{\n",
       "    x.observe(outputEl, {childList: true});\n",
       "}}\n",
       "\n",
       "                        })                };                });            </script>        </div>"
      ]
     },
     "metadata": {},
     "output_type": "display_data"
    }
   ],
   "source": [
    "import numpy as np\n",
    "import plotly.graph_objects as go\n",
    "\n",
    "def attestations_cdf(gg):\n",
    "\n",
    "    data = gg.seconds_in_slot.tolist()[::100000]\n",
    "    data.sort()\n",
    "\n",
    "    data_array = np.array(data)\n",
    "\n",
    "    cum_freq = np.cumsum(np.ones_like(data_array))\n",
    "    cum_density = cum_freq / cum_freq[-1]\n",
    "\n",
    "    cumulative_density = list(zip(data_array, cum_density))\n",
    "    fig = go.Figure()\n",
    "\n",
    "    fig.add_trace(go.Scatter(\n",
    "        x=data_array,\n",
    "        y=cum_density,\n",
    "        mode='lines',\n",
    "        name='Cumulative Density',\n",
    "        line=dict(color=COLORS[0], width=3),\n",
    "    ))\n",
    "\n",
    "    fig.update_layout(\n",
    "            title=f'Cum. Distribution of Attestations First Seen Timing <span style=\"font-size: 16px;\">(epoch {gg.slot.min() //32:,} - {gg.slot.max() // 32:,})</span>',\n",
    "            yaxis_title='cumulative probability',\n",
    "            xaxis_title='seconds in slot',\n",
    "            barmode='stack',\n",
    "            legend_traceorder=\"normal\",\n",
    "            xaxis=dict(\n",
    "                tickmode='linear',\n",
    "                showgrid=True,\n",
    "                gridcolor='lightgrey',\n",
    "            ),\n",
    "            yaxis=dict(\n",
    "                showgrid=True,\n",
    "                gridcolor='lightgrey',\n",
    "            ),\n",
    "            height=500,\n",
    "            width=1200,\n",
    "            font=dict(\n",
    "                family=\"Ubuntu Mono\",\n",
    "                size=FONTSIZE,\n",
    "                color=\"black\"\n",
    "            ),\n",
    "            legend=dict(\n",
    "                x=1,\n",
    "                y=1,\n",
    "                xanchor='right',\n",
    "                yanchor='top'\n",
    "            ),\n",
    "            plot_bgcolor = \"#FFFFFF\"\n",
    "        )\n",
    "\n",
    "    return fig, cumulative_density\n",
    "\n",
    "fig, cumulative_density = attestations_cdf(timing_df)\n",
    "fig.write_image(f\"att_pics/attestations_cdf.png\")\n",
    "fig.show()"
   ]
  },
  {
   "cell_type": "code",
   "execution_count": 45,
   "id": "4474f373",
   "metadata": {},
   "outputs": [],
   "source": [
    "import numpy as np\n",
    "from scipy.interpolate import interp1d\n",
    "\n",
    "CONSTANT_BROADCAST_TIME = 0\n",
    "\n",
    "times = np.array([point[0] for point in cumulative_density])\n",
    "cumulative_attestations = np.array([point[1] for point in cumulative_density])\n",
    "cumulative_attestation_func = interp1d(times, cumulative_attestations, kind='linear', fill_value=\"extrapolate\")\n",
    "\n",
    "# Function to calculate the latest time a proposer with x% control can safely propose a block\n",
    "def calculate_latest_proposal_time(x):\n",
    "    if x >= 0.4:\n",
    "        return 11.999\n",
    "    threshold = 0.4 / (1 - x)\n",
    "    \n",
    "    for t in np.linspace(times[0], times[-1], 1000):\n",
    "        if cumulative_attestation_func(t) > threshold:\n",
    "            # The proposer must act before this point\n",
    "            return t\n",
    "    return None"
   ]
  },
  {
   "cell_type": "code",
   "execution_count": 46,
   "id": "c0567e58",
   "metadata": {},
   "outputs": [
    {
     "name": "stdout",
     "output_type": "stream",
     "text": [
      "For every 1% increase in validators, the proposal time delay increases by 0.03 seconds.\n",
      "slope:  0.03141705705705707\n"
     ]
    }
   ],
   "source": [
    "def get_slope():\n",
    "    x_values = np.linspace(0.01, 0.31, 31)\n",
    "    latest_times = [calculate_latest_proposal_time(x)-CONSTANT_BROADCAST_TIME for x in x_values]\n",
    "    x1, x2 = 5, 30\n",
    "    y1 = calculate_latest_proposal_time(x1/100) - CONSTANT_BROADCAST_TIME\n",
    "    y2 = calculate_latest_proposal_time(x2/100) - CONSTANT_BROADCAST_TIME\n",
    "    slope = (y2 - y1) / (x2 - x1)\n",
    "    print(f\"For every 1% increase in validators, the proposal time delay increases by {slope:.2f} seconds.\")\n",
    "    print(\"slope: \", slope)\n",
    "get_slope()"
   ]
  },
  {
   "cell_type": "code",
   "execution_count": 47,
   "id": "b778f9b8",
   "metadata": {},
   "outputs": [
    {
     "name": "stdout",
     "output_type": "stream",
     "text": [
      "For every 1% increase in validators, the proposal time delay increases by 0.03 seconds.\n"
     ]
    },
    {
     "data": {
      "application/vnd.plotly.v1+json": {
       "config": {
        "plotlyServerURL": "https://plot.ly"
       },
       "data": [
        {
         "line": {
          "color": "#FF6347",
          "width": 3
         },
         "marker": {
          "color": "#4682B4",
          "size": 8
         },
         "mode": "lines+markers",
         "name": "Latest Proposal Time",
         "type": "scatter",
         "x": [
          1,
          2,
          3,
          4,
          5,
          6.000000000000001,
          6.999999999999999,
          8,
          9,
          10,
          11,
          12,
          13,
          14.000000000000002,
          15.000000000000002,
          16,
          17,
          18.000000000000004,
          19,
          20,
          21.000000000000004,
          22,
          23,
          24.000000000000004,
          25,
          26,
          27,
          28.000000000000004,
          29.000000000000004,
          30,
          31
         ],
         "y": [
          3.4401501501501497,
          3.4800870870870866,
          3.493399399399399,
          3.533336336336336,
          3.573273273273273,
          3.5998978978978977,
          3.626522522522522,
          3.6531471471471466,
          3.6797717717717715,
          3.693084084084084,
          3.733021021021021,
          3.7729579579579577,
          3.826207207207207,
          3.8927687687687684,
          3.9460180180180178,
          3.999267267267267,
          4.025891891891892,
          4.092453453453453,
          4.119078078078078,
          4.145702702702702,
          4.159015015015015,
          4.172327327327327,
          4.198951951951952,
          4.212264264264264,
          4.252201201201201,
          4.252201201201201,
          4.265513513513513,
          4.292138138138138,
          4.318762762762763,
          4.3586996996997,
          4.372012012012012
         ]
        },
        {
         "line": {
          "color": "Green",
          "dash": "solid",
          "width": 2
         },
         "mode": "lines",
         "name": "Slope Line",
         "type": "scatter",
         "x": [
          5,
          30
         ],
         "y": [
          3.573273273273273,
          4.3586996996997
         ]
        }
       ],
       "layout": {
        "font": {
         "color": "black",
         "family": "Ubuntu Mono",
         "size": 14
        },
        "height": 500,
        "paper_bgcolor": "#FFFFFF",
        "plot_bgcolor": "#FFFFFF",
        "shapes": [
         {
          "line": {
           "color": "Black",
           "dash": "dashdot",
           "width": 2
          },
          "type": "line",
          "x0": 5,
          "x1": 5,
          "y0": 3.4,
          "y1": 3.573273273273273
         },
         {
          "line": {
           "color": "Black",
           "dash": "dashdot",
           "width": 2
          },
          "type": "line",
          "x0": 0,
          "x1": 5,
          "y0": 3.573273273273273,
          "y1": 3.573273273273273
         },
         {
          "line": {
           "color": "Black",
           "dash": "dashdot",
           "width": 2
          },
          "type": "line",
          "x0": 30,
          "x1": 30,
          "y0": 3.4,
          "y1": 4.3586996996997
         },
         {
          "line": {
           "color": "Black",
           "dash": "dashdot",
           "width": 2
          },
          "type": "line",
          "x0": 0,
          "x1": 30,
          "y0": 4.3586996996997,
          "y1": 4.3586996996997
         }
        ],
        "showlegend": false,
        "template": {
         "data": {
          "bar": [
           {
            "error_x": {
             "color": "#2a3f5f"
            },
            "error_y": {
             "color": "#2a3f5f"
            },
            "marker": {
             "line": {
              "color": "#E5ECF6",
              "width": 0.5
             },
             "pattern": {
              "fillmode": "overlay",
              "size": 10,
              "solidity": 0.2
             }
            },
            "type": "bar"
           }
          ],
          "barpolar": [
           {
            "marker": {
             "line": {
              "color": "#E5ECF6",
              "width": 0.5
             },
             "pattern": {
              "fillmode": "overlay",
              "size": 10,
              "solidity": 0.2
             }
            },
            "type": "barpolar"
           }
          ],
          "carpet": [
           {
            "aaxis": {
             "endlinecolor": "#2a3f5f",
             "gridcolor": "white",
             "linecolor": "white",
             "minorgridcolor": "white",
             "startlinecolor": "#2a3f5f"
            },
            "baxis": {
             "endlinecolor": "#2a3f5f",
             "gridcolor": "white",
             "linecolor": "white",
             "minorgridcolor": "white",
             "startlinecolor": "#2a3f5f"
            },
            "type": "carpet"
           }
          ],
          "choropleth": [
           {
            "colorbar": {
             "outlinewidth": 0,
             "ticks": ""
            },
            "type": "choropleth"
           }
          ],
          "contour": [
           {
            "colorbar": {
             "outlinewidth": 0,
             "ticks": ""
            },
            "colorscale": [
             [
              0,
              "#0d0887"
             ],
             [
              0.1111111111111111,
              "#46039f"
             ],
             [
              0.2222222222222222,
              "#7201a8"
             ],
             [
              0.3333333333333333,
              "#9c179e"
             ],
             [
              0.4444444444444444,
              "#bd3786"
             ],
             [
              0.5555555555555556,
              "#d8576b"
             ],
             [
              0.6666666666666666,
              "#ed7953"
             ],
             [
              0.7777777777777778,
              "#fb9f3a"
             ],
             [
              0.8888888888888888,
              "#fdca26"
             ],
             [
              1,
              "#f0f921"
             ]
            ],
            "type": "contour"
           }
          ],
          "contourcarpet": [
           {
            "colorbar": {
             "outlinewidth": 0,
             "ticks": ""
            },
            "type": "contourcarpet"
           }
          ],
          "heatmap": [
           {
            "colorbar": {
             "outlinewidth": 0,
             "ticks": ""
            },
            "colorscale": [
             [
              0,
              "#0d0887"
             ],
             [
              0.1111111111111111,
              "#46039f"
             ],
             [
              0.2222222222222222,
              "#7201a8"
             ],
             [
              0.3333333333333333,
              "#9c179e"
             ],
             [
              0.4444444444444444,
              "#bd3786"
             ],
             [
              0.5555555555555556,
              "#d8576b"
             ],
             [
              0.6666666666666666,
              "#ed7953"
             ],
             [
              0.7777777777777778,
              "#fb9f3a"
             ],
             [
              0.8888888888888888,
              "#fdca26"
             ],
             [
              1,
              "#f0f921"
             ]
            ],
            "type": "heatmap"
           }
          ],
          "heatmapgl": [
           {
            "colorbar": {
             "outlinewidth": 0,
             "ticks": ""
            },
            "colorscale": [
             [
              0,
              "#0d0887"
             ],
             [
              0.1111111111111111,
              "#46039f"
             ],
             [
              0.2222222222222222,
              "#7201a8"
             ],
             [
              0.3333333333333333,
              "#9c179e"
             ],
             [
              0.4444444444444444,
              "#bd3786"
             ],
             [
              0.5555555555555556,
              "#d8576b"
             ],
             [
              0.6666666666666666,
              "#ed7953"
             ],
             [
              0.7777777777777778,
              "#fb9f3a"
             ],
             [
              0.8888888888888888,
              "#fdca26"
             ],
             [
              1,
              "#f0f921"
             ]
            ],
            "type": "heatmapgl"
           }
          ],
          "histogram": [
           {
            "marker": {
             "pattern": {
              "fillmode": "overlay",
              "size": 10,
              "solidity": 0.2
             }
            },
            "type": "histogram"
           }
          ],
          "histogram2d": [
           {
            "colorbar": {
             "outlinewidth": 0,
             "ticks": ""
            },
            "colorscale": [
             [
              0,
              "#0d0887"
             ],
             [
              0.1111111111111111,
              "#46039f"
             ],
             [
              0.2222222222222222,
              "#7201a8"
             ],
             [
              0.3333333333333333,
              "#9c179e"
             ],
             [
              0.4444444444444444,
              "#bd3786"
             ],
             [
              0.5555555555555556,
              "#d8576b"
             ],
             [
              0.6666666666666666,
              "#ed7953"
             ],
             [
              0.7777777777777778,
              "#fb9f3a"
             ],
             [
              0.8888888888888888,
              "#fdca26"
             ],
             [
              1,
              "#f0f921"
             ]
            ],
            "type": "histogram2d"
           }
          ],
          "histogram2dcontour": [
           {
            "colorbar": {
             "outlinewidth": 0,
             "ticks": ""
            },
            "colorscale": [
             [
              0,
              "#0d0887"
             ],
             [
              0.1111111111111111,
              "#46039f"
             ],
             [
              0.2222222222222222,
              "#7201a8"
             ],
             [
              0.3333333333333333,
              "#9c179e"
             ],
             [
              0.4444444444444444,
              "#bd3786"
             ],
             [
              0.5555555555555556,
              "#d8576b"
             ],
             [
              0.6666666666666666,
              "#ed7953"
             ],
             [
              0.7777777777777778,
              "#fb9f3a"
             ],
             [
              0.8888888888888888,
              "#fdca26"
             ],
             [
              1,
              "#f0f921"
             ]
            ],
            "type": "histogram2dcontour"
           }
          ],
          "mesh3d": [
           {
            "colorbar": {
             "outlinewidth": 0,
             "ticks": ""
            },
            "type": "mesh3d"
           }
          ],
          "parcoords": [
           {
            "line": {
             "colorbar": {
              "outlinewidth": 0,
              "ticks": ""
             }
            },
            "type": "parcoords"
           }
          ],
          "pie": [
           {
            "automargin": true,
            "type": "pie"
           }
          ],
          "scatter": [
           {
            "fillpattern": {
             "fillmode": "overlay",
             "size": 10,
             "solidity": 0.2
            },
            "type": "scatter"
           }
          ],
          "scatter3d": [
           {
            "line": {
             "colorbar": {
              "outlinewidth": 0,
              "ticks": ""
             }
            },
            "marker": {
             "colorbar": {
              "outlinewidth": 0,
              "ticks": ""
             }
            },
            "type": "scatter3d"
           }
          ],
          "scattercarpet": [
           {
            "marker": {
             "colorbar": {
              "outlinewidth": 0,
              "ticks": ""
             }
            },
            "type": "scattercarpet"
           }
          ],
          "scattergeo": [
           {
            "marker": {
             "colorbar": {
              "outlinewidth": 0,
              "ticks": ""
             }
            },
            "type": "scattergeo"
           }
          ],
          "scattergl": [
           {
            "marker": {
             "colorbar": {
              "outlinewidth": 0,
              "ticks": ""
             }
            },
            "type": "scattergl"
           }
          ],
          "scattermapbox": [
           {
            "marker": {
             "colorbar": {
              "outlinewidth": 0,
              "ticks": ""
             }
            },
            "type": "scattermapbox"
           }
          ],
          "scatterpolar": [
           {
            "marker": {
             "colorbar": {
              "outlinewidth": 0,
              "ticks": ""
             }
            },
            "type": "scatterpolar"
           }
          ],
          "scatterpolargl": [
           {
            "marker": {
             "colorbar": {
              "outlinewidth": 0,
              "ticks": ""
             }
            },
            "type": "scatterpolargl"
           }
          ],
          "scatterternary": [
           {
            "marker": {
             "colorbar": {
              "outlinewidth": 0,
              "ticks": ""
             }
            },
            "type": "scatterternary"
           }
          ],
          "surface": [
           {
            "colorbar": {
             "outlinewidth": 0,
             "ticks": ""
            },
            "colorscale": [
             [
              0,
              "#0d0887"
             ],
             [
              0.1111111111111111,
              "#46039f"
             ],
             [
              0.2222222222222222,
              "#7201a8"
             ],
             [
              0.3333333333333333,
              "#9c179e"
             ],
             [
              0.4444444444444444,
              "#bd3786"
             ],
             [
              0.5555555555555556,
              "#d8576b"
             ],
             [
              0.6666666666666666,
              "#ed7953"
             ],
             [
              0.7777777777777778,
              "#fb9f3a"
             ],
             [
              0.8888888888888888,
              "#fdca26"
             ],
             [
              1,
              "#f0f921"
             ]
            ],
            "type": "surface"
           }
          ],
          "table": [
           {
            "cells": {
             "fill": {
              "color": "#EBF0F8"
             },
             "line": {
              "color": "white"
             }
            },
            "header": {
             "fill": {
              "color": "#C8D4E3"
             },
             "line": {
              "color": "white"
             }
            },
            "type": "table"
           }
          ]
         },
         "layout": {
          "annotationdefaults": {
           "arrowcolor": "#2a3f5f",
           "arrowhead": 0,
           "arrowwidth": 1
          },
          "autotypenumbers": "strict",
          "coloraxis": {
           "colorbar": {
            "outlinewidth": 0,
            "ticks": ""
           }
          },
          "colorscale": {
           "diverging": [
            [
             0,
             "#8e0152"
            ],
            [
             0.1,
             "#c51b7d"
            ],
            [
             0.2,
             "#de77ae"
            ],
            [
             0.3,
             "#f1b6da"
            ],
            [
             0.4,
             "#fde0ef"
            ],
            [
             0.5,
             "#f7f7f7"
            ],
            [
             0.6,
             "#e6f5d0"
            ],
            [
             0.7,
             "#b8e186"
            ],
            [
             0.8,
             "#7fbc41"
            ],
            [
             0.9,
             "#4d9221"
            ],
            [
             1,
             "#276419"
            ]
           ],
           "sequential": [
            [
             0,
             "#0d0887"
            ],
            [
             0.1111111111111111,
             "#46039f"
            ],
            [
             0.2222222222222222,
             "#7201a8"
            ],
            [
             0.3333333333333333,
             "#9c179e"
            ],
            [
             0.4444444444444444,
             "#bd3786"
            ],
            [
             0.5555555555555556,
             "#d8576b"
            ],
            [
             0.6666666666666666,
             "#ed7953"
            ],
            [
             0.7777777777777778,
             "#fb9f3a"
            ],
            [
             0.8888888888888888,
             "#fdca26"
            ],
            [
             1,
             "#f0f921"
            ]
           ],
           "sequentialminus": [
            [
             0,
             "#0d0887"
            ],
            [
             0.1111111111111111,
             "#46039f"
            ],
            [
             0.2222222222222222,
             "#7201a8"
            ],
            [
             0.3333333333333333,
             "#9c179e"
            ],
            [
             0.4444444444444444,
             "#bd3786"
            ],
            [
             0.5555555555555556,
             "#d8576b"
            ],
            [
             0.6666666666666666,
             "#ed7953"
            ],
            [
             0.7777777777777778,
             "#fb9f3a"
            ],
            [
             0.8888888888888888,
             "#fdca26"
            ],
            [
             1,
             "#f0f921"
            ]
           ]
          },
          "colorway": [
           "#636efa",
           "#EF553B",
           "#00cc96",
           "#ab63fa",
           "#FFA15A",
           "#19d3f3",
           "#FF6692",
           "#B6E880",
           "#FF97FF",
           "#FECB52"
          ],
          "font": {
           "color": "#2a3f5f"
          },
          "geo": {
           "bgcolor": "white",
           "lakecolor": "white",
           "landcolor": "#E5ECF6",
           "showlakes": true,
           "showland": true,
           "subunitcolor": "white"
          },
          "hoverlabel": {
           "align": "left"
          },
          "hovermode": "closest",
          "mapbox": {
           "style": "light"
          },
          "paper_bgcolor": "white",
          "plot_bgcolor": "#E5ECF6",
          "polar": {
           "angularaxis": {
            "gridcolor": "white",
            "linecolor": "white",
            "ticks": ""
           },
           "bgcolor": "#E5ECF6",
           "radialaxis": {
            "gridcolor": "white",
            "linecolor": "white",
            "ticks": ""
           }
          },
          "scene": {
           "xaxis": {
            "backgroundcolor": "#E5ECF6",
            "gridcolor": "white",
            "gridwidth": 2,
            "linecolor": "white",
            "showbackground": true,
            "ticks": "",
            "zerolinecolor": "white"
           },
           "yaxis": {
            "backgroundcolor": "#E5ECF6",
            "gridcolor": "white",
            "gridwidth": 2,
            "linecolor": "white",
            "showbackground": true,
            "ticks": "",
            "zerolinecolor": "white"
           },
           "zaxis": {
            "backgroundcolor": "#E5ECF6",
            "gridcolor": "white",
            "gridwidth": 2,
            "linecolor": "white",
            "showbackground": true,
            "ticks": "",
            "zerolinecolor": "white"
           }
          },
          "shapedefaults": {
           "line": {
            "color": "#2a3f5f"
           }
          },
          "ternary": {
           "aaxis": {
            "gridcolor": "white",
            "linecolor": "white",
            "ticks": ""
           },
           "baxis": {
            "gridcolor": "white",
            "linecolor": "white",
            "ticks": ""
           },
           "bgcolor": "#E5ECF6",
           "caxis": {
            "gridcolor": "white",
            "linecolor": "white",
            "ticks": ""
           }
          },
          "title": {
           "x": 0.05
          },
          "xaxis": {
           "automargin": true,
           "gridcolor": "white",
           "linecolor": "white",
           "ticks": "",
           "title": {
            "standoff": 15
           },
           "zerolinecolor": "white",
           "zerolinewidth": 2
          },
          "yaxis": {
           "automargin": true,
           "gridcolor": "white",
           "linecolor": "white",
           "ticks": "",
           "title": {
            "standoff": 15
           },
           "zerolinecolor": "white",
           "zerolinewidth": 2
          }
         }
        },
        "title": {
         "text": "Latest Proposal Time vs Percentage of Validators Controlled"
        },
        "width": 900,
        "xaxis": {
         "gridcolor": "#e0e0e0",
         "showgrid": true,
         "tickvals": [
          0,
          1,
          2,
          3,
          4,
          5,
          6,
          7,
          8,
          9,
          10,
          11,
          12,
          13,
          14,
          15,
          16,
          17,
          18,
          19,
          20,
          21,
          22,
          23,
          24,
          25,
          26,
          27,
          28,
          29,
          30
         ],
         "title": {
          "text": "Percentage of Validators Controlled by Proposer (%)"
         }
        },
        "yaxis": {
         "gridcolor": "#e0e0e0",
         "showgrid": true,
         "title": {
          "text": "Latest Proposal Time (seconds in slot)"
         }
        }
       }
      },
      "text/html": [
       "<div>                            <div id=\"9993874a-da50-472a-859b-70399e25dc58\" class=\"plotly-graph-div\" style=\"height:500px; width:900px;\"></div>            <script type=\"text/javascript\">                require([\"plotly\"], function(Plotly) {                    window.PLOTLYENV=window.PLOTLYENV || {};                                    if (document.getElementById(\"9993874a-da50-472a-859b-70399e25dc58\")) {                    Plotly.newPlot(                        \"9993874a-da50-472a-859b-70399e25dc58\",                        [{\"line\":{\"color\":\"#FF6347\",\"width\":3},\"marker\":{\"color\":\"#4682B4\",\"size\":8},\"mode\":\"lines+markers\",\"name\":\"Latest Proposal Time\",\"x\":[1.0,2.0,3.0,4.0,5.0,6.000000000000001,6.999999999999999,8.0,9.0,10.0,11.0,12.0,13.0,14.000000000000002,15.000000000000002,16.0,17.0,18.000000000000004,19.0,20.0,21.000000000000004,22.0,23.0,24.000000000000004,25.0,26.0,27.0,28.000000000000004,29.000000000000004,30.0,31.0],\"y\":[3.4401501501501497,3.4800870870870866,3.493399399399399,3.533336336336336,3.573273273273273,3.5998978978978977,3.626522522522522,3.6531471471471466,3.6797717717717715,3.693084084084084,3.733021021021021,3.7729579579579577,3.826207207207207,3.8927687687687684,3.9460180180180178,3.999267267267267,4.025891891891892,4.092453453453453,4.119078078078078,4.145702702702702,4.159015015015015,4.172327327327327,4.198951951951952,4.212264264264264,4.252201201201201,4.252201201201201,4.265513513513513,4.292138138138138,4.318762762762763,4.3586996996997,4.372012012012012],\"type\":\"scatter\"},{\"line\":{\"color\":\"Green\",\"dash\":\"solid\",\"width\":2},\"mode\":\"lines\",\"name\":\"Slope Line\",\"x\":[5,30],\"y\":[3.573273273273273,4.3586996996997],\"type\":\"scatter\"}],                        {\"template\":{\"data\":{\"histogram2dcontour\":[{\"type\":\"histogram2dcontour\",\"colorbar\":{\"outlinewidth\":0,\"ticks\":\"\"},\"colorscale\":[[0.0,\"#0d0887\"],[0.1111111111111111,\"#46039f\"],[0.2222222222222222,\"#7201a8\"],[0.3333333333333333,\"#9c179e\"],[0.4444444444444444,\"#bd3786\"],[0.5555555555555556,\"#d8576b\"],[0.6666666666666666,\"#ed7953\"],[0.7777777777777778,\"#fb9f3a\"],[0.8888888888888888,\"#fdca26\"],[1.0,\"#f0f921\"]]}],\"choropleth\":[{\"type\":\"choropleth\",\"colorbar\":{\"outlinewidth\":0,\"ticks\":\"\"}}],\"histogram2d\":[{\"type\":\"histogram2d\",\"colorbar\":{\"outlinewidth\":0,\"ticks\":\"\"},\"colorscale\":[[0.0,\"#0d0887\"],[0.1111111111111111,\"#46039f\"],[0.2222222222222222,\"#7201a8\"],[0.3333333333333333,\"#9c179e\"],[0.4444444444444444,\"#bd3786\"],[0.5555555555555556,\"#d8576b\"],[0.6666666666666666,\"#ed7953\"],[0.7777777777777778,\"#fb9f3a\"],[0.8888888888888888,\"#fdca26\"],[1.0,\"#f0f921\"]]}],\"heatmap\":[{\"type\":\"heatmap\",\"colorbar\":{\"outlinewidth\":0,\"ticks\":\"\"},\"colorscale\":[[0.0,\"#0d0887\"],[0.1111111111111111,\"#46039f\"],[0.2222222222222222,\"#7201a8\"],[0.3333333333333333,\"#9c179e\"],[0.4444444444444444,\"#bd3786\"],[0.5555555555555556,\"#d8576b\"],[0.6666666666666666,\"#ed7953\"],[0.7777777777777778,\"#fb9f3a\"],[0.8888888888888888,\"#fdca26\"],[1.0,\"#f0f921\"]]}],\"heatmapgl\":[{\"type\":\"heatmapgl\",\"colorbar\":{\"outlinewidth\":0,\"ticks\":\"\"},\"colorscale\":[[0.0,\"#0d0887\"],[0.1111111111111111,\"#46039f\"],[0.2222222222222222,\"#7201a8\"],[0.3333333333333333,\"#9c179e\"],[0.4444444444444444,\"#bd3786\"],[0.5555555555555556,\"#d8576b\"],[0.6666666666666666,\"#ed7953\"],[0.7777777777777778,\"#fb9f3a\"],[0.8888888888888888,\"#fdca26\"],[1.0,\"#f0f921\"]]}],\"contourcarpet\":[{\"type\":\"contourcarpet\",\"colorbar\":{\"outlinewidth\":0,\"ticks\":\"\"}}],\"contour\":[{\"type\":\"contour\",\"colorbar\":{\"outlinewidth\":0,\"ticks\":\"\"},\"colorscale\":[[0.0,\"#0d0887\"],[0.1111111111111111,\"#46039f\"],[0.2222222222222222,\"#7201a8\"],[0.3333333333333333,\"#9c179e\"],[0.4444444444444444,\"#bd3786\"],[0.5555555555555556,\"#d8576b\"],[0.6666666666666666,\"#ed7953\"],[0.7777777777777778,\"#fb9f3a\"],[0.8888888888888888,\"#fdca26\"],[1.0,\"#f0f921\"]]}],\"surface\":[{\"type\":\"surface\",\"colorbar\":{\"outlinewidth\":0,\"ticks\":\"\"},\"colorscale\":[[0.0,\"#0d0887\"],[0.1111111111111111,\"#46039f\"],[0.2222222222222222,\"#7201a8\"],[0.3333333333333333,\"#9c179e\"],[0.4444444444444444,\"#bd3786\"],[0.5555555555555556,\"#d8576b\"],[0.6666666666666666,\"#ed7953\"],[0.7777777777777778,\"#fb9f3a\"],[0.8888888888888888,\"#fdca26\"],[1.0,\"#f0f921\"]]}],\"mesh3d\":[{\"type\":\"mesh3d\",\"colorbar\":{\"outlinewidth\":0,\"ticks\":\"\"}}],\"scatter\":[{\"fillpattern\":{\"fillmode\":\"overlay\",\"size\":10,\"solidity\":0.2},\"type\":\"scatter\"}],\"parcoords\":[{\"type\":\"parcoords\",\"line\":{\"colorbar\":{\"outlinewidth\":0,\"ticks\":\"\"}}}],\"scatterpolargl\":[{\"type\":\"scatterpolargl\",\"marker\":{\"colorbar\":{\"outlinewidth\":0,\"ticks\":\"\"}}}],\"bar\":[{\"error_x\":{\"color\":\"#2a3f5f\"},\"error_y\":{\"color\":\"#2a3f5f\"},\"marker\":{\"line\":{\"color\":\"#E5ECF6\",\"width\":0.5},\"pattern\":{\"fillmode\":\"overlay\",\"size\":10,\"solidity\":0.2}},\"type\":\"bar\"}],\"scattergeo\":[{\"type\":\"scattergeo\",\"marker\":{\"colorbar\":{\"outlinewidth\":0,\"ticks\":\"\"}}}],\"scatterpolar\":[{\"type\":\"scatterpolar\",\"marker\":{\"colorbar\":{\"outlinewidth\":0,\"ticks\":\"\"}}}],\"histogram\":[{\"marker\":{\"pattern\":{\"fillmode\":\"overlay\",\"size\":10,\"solidity\":0.2}},\"type\":\"histogram\"}],\"scattergl\":[{\"type\":\"scattergl\",\"marker\":{\"colorbar\":{\"outlinewidth\":0,\"ticks\":\"\"}}}],\"scatter3d\":[{\"type\":\"scatter3d\",\"line\":{\"colorbar\":{\"outlinewidth\":0,\"ticks\":\"\"}},\"marker\":{\"colorbar\":{\"outlinewidth\":0,\"ticks\":\"\"}}}],\"scattermapbox\":[{\"type\":\"scattermapbox\",\"marker\":{\"colorbar\":{\"outlinewidth\":0,\"ticks\":\"\"}}}],\"scatterternary\":[{\"type\":\"scatterternary\",\"marker\":{\"colorbar\":{\"outlinewidth\":0,\"ticks\":\"\"}}}],\"scattercarpet\":[{\"type\":\"scattercarpet\",\"marker\":{\"colorbar\":{\"outlinewidth\":0,\"ticks\":\"\"}}}],\"carpet\":[{\"aaxis\":{\"endlinecolor\":\"#2a3f5f\",\"gridcolor\":\"white\",\"linecolor\":\"white\",\"minorgridcolor\":\"white\",\"startlinecolor\":\"#2a3f5f\"},\"baxis\":{\"endlinecolor\":\"#2a3f5f\",\"gridcolor\":\"white\",\"linecolor\":\"white\",\"minorgridcolor\":\"white\",\"startlinecolor\":\"#2a3f5f\"},\"type\":\"carpet\"}],\"table\":[{\"cells\":{\"fill\":{\"color\":\"#EBF0F8\"},\"line\":{\"color\":\"white\"}},\"header\":{\"fill\":{\"color\":\"#C8D4E3\"},\"line\":{\"color\":\"white\"}},\"type\":\"table\"}],\"barpolar\":[{\"marker\":{\"line\":{\"color\":\"#E5ECF6\",\"width\":0.5},\"pattern\":{\"fillmode\":\"overlay\",\"size\":10,\"solidity\":0.2}},\"type\":\"barpolar\"}],\"pie\":[{\"automargin\":true,\"type\":\"pie\"}]},\"layout\":{\"autotypenumbers\":\"strict\",\"colorway\":[\"#636efa\",\"#EF553B\",\"#00cc96\",\"#ab63fa\",\"#FFA15A\",\"#19d3f3\",\"#FF6692\",\"#B6E880\",\"#FF97FF\",\"#FECB52\"],\"font\":{\"color\":\"#2a3f5f\"},\"hovermode\":\"closest\",\"hoverlabel\":{\"align\":\"left\"},\"paper_bgcolor\":\"white\",\"plot_bgcolor\":\"#E5ECF6\",\"polar\":{\"bgcolor\":\"#E5ECF6\",\"angularaxis\":{\"gridcolor\":\"white\",\"linecolor\":\"white\",\"ticks\":\"\"},\"radialaxis\":{\"gridcolor\":\"white\",\"linecolor\":\"white\",\"ticks\":\"\"}},\"ternary\":{\"bgcolor\":\"#E5ECF6\",\"aaxis\":{\"gridcolor\":\"white\",\"linecolor\":\"white\",\"ticks\":\"\"},\"baxis\":{\"gridcolor\":\"white\",\"linecolor\":\"white\",\"ticks\":\"\"},\"caxis\":{\"gridcolor\":\"white\",\"linecolor\":\"white\",\"ticks\":\"\"}},\"coloraxis\":{\"colorbar\":{\"outlinewidth\":0,\"ticks\":\"\"}},\"colorscale\":{\"sequential\":[[0.0,\"#0d0887\"],[0.1111111111111111,\"#46039f\"],[0.2222222222222222,\"#7201a8\"],[0.3333333333333333,\"#9c179e\"],[0.4444444444444444,\"#bd3786\"],[0.5555555555555556,\"#d8576b\"],[0.6666666666666666,\"#ed7953\"],[0.7777777777777778,\"#fb9f3a\"],[0.8888888888888888,\"#fdca26\"],[1.0,\"#f0f921\"]],\"sequentialminus\":[[0.0,\"#0d0887\"],[0.1111111111111111,\"#46039f\"],[0.2222222222222222,\"#7201a8\"],[0.3333333333333333,\"#9c179e\"],[0.4444444444444444,\"#bd3786\"],[0.5555555555555556,\"#d8576b\"],[0.6666666666666666,\"#ed7953\"],[0.7777777777777778,\"#fb9f3a\"],[0.8888888888888888,\"#fdca26\"],[1.0,\"#f0f921\"]],\"diverging\":[[0,\"#8e0152\"],[0.1,\"#c51b7d\"],[0.2,\"#de77ae\"],[0.3,\"#f1b6da\"],[0.4,\"#fde0ef\"],[0.5,\"#f7f7f7\"],[0.6,\"#e6f5d0\"],[0.7,\"#b8e186\"],[0.8,\"#7fbc41\"],[0.9,\"#4d9221\"],[1,\"#276419\"]]},\"xaxis\":{\"gridcolor\":\"white\",\"linecolor\":\"white\",\"ticks\":\"\",\"title\":{\"standoff\":15},\"zerolinecolor\":\"white\",\"automargin\":true,\"zerolinewidth\":2},\"yaxis\":{\"gridcolor\":\"white\",\"linecolor\":\"white\",\"ticks\":\"\",\"title\":{\"standoff\":15},\"zerolinecolor\":\"white\",\"automargin\":true,\"zerolinewidth\":2},\"scene\":{\"xaxis\":{\"backgroundcolor\":\"#E5ECF6\",\"gridcolor\":\"white\",\"linecolor\":\"white\",\"showbackground\":true,\"ticks\":\"\",\"zerolinecolor\":\"white\",\"gridwidth\":2},\"yaxis\":{\"backgroundcolor\":\"#E5ECF6\",\"gridcolor\":\"white\",\"linecolor\":\"white\",\"showbackground\":true,\"ticks\":\"\",\"zerolinecolor\":\"white\",\"gridwidth\":2},\"zaxis\":{\"backgroundcolor\":\"#E5ECF6\",\"gridcolor\":\"white\",\"linecolor\":\"white\",\"showbackground\":true,\"ticks\":\"\",\"zerolinecolor\":\"white\",\"gridwidth\":2}},\"shapedefaults\":{\"line\":{\"color\":\"#2a3f5f\"}},\"annotationdefaults\":{\"arrowcolor\":\"#2a3f5f\",\"arrowhead\":0,\"arrowwidth\":1},\"geo\":{\"bgcolor\":\"white\",\"landcolor\":\"#E5ECF6\",\"subunitcolor\":\"white\",\"showland\":true,\"showlakes\":true,\"lakecolor\":\"white\"},\"title\":{\"x\":0.05},\"mapbox\":{\"style\":\"light\"}}},\"shapes\":[{\"line\":{\"color\":\"Black\",\"dash\":\"dashdot\",\"width\":2},\"type\":\"line\",\"x0\":5,\"x1\":5,\"y0\":3.4,\"y1\":3.573273273273273},{\"line\":{\"color\":\"Black\",\"dash\":\"dashdot\",\"width\":2},\"type\":\"line\",\"x0\":0,\"x1\":5,\"y0\":3.573273273273273,\"y1\":3.573273273273273},{\"line\":{\"color\":\"Black\",\"dash\":\"dashdot\",\"width\":2},\"type\":\"line\",\"x0\":30,\"x1\":30,\"y0\":3.4,\"y1\":4.3586996996997},{\"line\":{\"color\":\"Black\",\"dash\":\"dashdot\",\"width\":2},\"type\":\"line\",\"x0\":0,\"x1\":30,\"y0\":4.3586996996997,\"y1\":4.3586996996997}],\"xaxis\":{\"title\":{\"text\":\"Percentage of Validators Controlled by Proposer (%)\"},\"showgrid\":true,\"gridcolor\":\"#e0e0e0\",\"tickvals\":[0,1,2,3,4,5,6,7,8,9,10,11,12,13,14,15,16,17,18,19,20,21,22,23,24,25,26,27,28,29,30]},\"yaxis\":{\"title\":{\"text\":\"Latest Proposal Time (seconds in slot)\"},\"showgrid\":true,\"gridcolor\":\"#e0e0e0\"},\"font\":{\"family\":\"Ubuntu Mono\",\"size\":14,\"color\":\"black\"},\"title\":{\"text\":\"Latest Proposal Time vs Percentage of Validators Controlled\"},\"plot_bgcolor\":\"#FFFFFF\",\"paper_bgcolor\":\"#FFFFFF\",\"showlegend\":false,\"height\":500,\"width\":900},                        {\"responsive\": true}                    ).then(function(){\n",
       "                            \n",
       "var gd = document.getElementById('9993874a-da50-472a-859b-70399e25dc58');\n",
       "var x = new MutationObserver(function (mutations, observer) {{\n",
       "        var display = window.getComputedStyle(gd).display;\n",
       "        if (!display || display === 'none') {{\n",
       "            console.log([gd, 'removed!']);\n",
       "            Plotly.purge(gd);\n",
       "            observer.disconnect();\n",
       "        }}\n",
       "}});\n",
       "\n",
       "// Listen for the removal of the full notebook cells\n",
       "var notebookContainer = gd.closest('#notebook-container');\n",
       "if (notebookContainer) {{\n",
       "    x.observe(notebookContainer, {childList: true});\n",
       "}}\n",
       "\n",
       "// Listen for the clearing of the current output cell\n",
       "var outputEl = gd.closest('.output');\n",
       "if (outputEl) {{\n",
       "    x.observe(outputEl, {childList: true});\n",
       "}}\n",
       "\n",
       "                        })                };                });            </script>        </div>"
      ]
     },
     "metadata": {},
     "output_type": "display_data"
    }
   ],
   "source": [
    "import plotly.graph_objects as go\n",
    "\n",
    "CONSTANT_BROADCAST_TIME = 0 \n",
    "\n",
    "x_values = np.linspace(0.01, 0.31, 31)\n",
    "latest_times = [calculate_latest_proposal_time(x)-CONSTANT_BROADCAST_TIME for x in x_values]\n",
    "\n",
    "x1, x2 = 5, 30\n",
    "y1 = calculate_latest_proposal_time(x1/100) - CONSTANT_BROADCAST_TIME\n",
    "y2 = calculate_latest_proposal_time(x2/100) - CONSTANT_BROADCAST_TIME\n",
    "\n",
    "slope = (y2 - y1) / (x2 - x1)\n",
    "print(f\"For every 1% increase in validators, the proposal time delay increases by {slope:.2f} seconds.\")\n",
    "\n",
    "fig = go.Figure()\n",
    "\n",
    "fig.add_trace(go.Scatter(\n",
    "    x=x_values * 100,\n",
    "    y=latest_times,\n",
    "    mode='lines+markers',\n",
    "    line=dict(color='#FF6347', width=3),\n",
    "    marker=dict(size=8, color='#4682B4'),\n",
    "    name=\"Latest Proposal Time\"\n",
    "))\n",
    "\n",
    "x_intersect = 5\n",
    "y_intersect = calculate_latest_proposal_time(x_intersect/100) - CONSTANT_BROADCAST_TIME\n",
    "\n",
    "fig.add_shape(\n",
    "    type=\"line\",\n",
    "    x0=x_intersect,\n",
    "    y0=3.4,\n",
    "    x1=x_intersect,\n",
    "    y1=y_intersect,\n",
    "    line=dict(color=\"Black\", width=2, dash=\"dashdot\")\n",
    ")\n",
    "\n",
    "fig.add_shape(\n",
    "    type=\"line\",\n",
    "    x0=0,\n",
    "    y0=y_intersect,\n",
    "    x1=x_intersect,\n",
    "    y1=y_intersect,\n",
    "    line=dict(color=\"Black\", width=2, dash=\"dashdot\")\n",
    ")\n",
    "\n",
    "x_intersect = 30\n",
    "y_intersect = calculate_latest_proposal_time(x_intersect/100) - CONSTANT_BROADCAST_TIME\n",
    "\n",
    "fig.add_shape(\n",
    "    type=\"line\",\n",
    "    x0=x_intersect,\n",
    "    y0=3.4,\n",
    "    x1=x_intersect,\n",
    "    y1=y_intersect,\n",
    "    line=dict(color=\"Black\", width=2, dash=\"dashdot\")\n",
    ")\n",
    "\n",
    "fig.add_shape(\n",
    "    type=\"line\",\n",
    "    x0=0,\n",
    "    y0=y_intersect,\n",
    "    x1=x_intersect,\n",
    "    y1=y_intersect,\n",
    "    line=dict(color=\"Black\", width=2, dash=\"dashdot\")\n",
    ")\n",
    "\n",
    "fig.add_trace(go.Scatter(\n",
    "    x=[x1, x2],\n",
    "    y=[y1, y1 + slope * (x2 - x1)],\n",
    "    mode='lines',\n",
    "    line=dict(color='Green', width=2, dash='solid'),\n",
    "    name=\"Slope Line\"\n",
    "))\n",
    "\n",
    "fig.update_layout(\n",
    "    title=\"Latest Proposal Time vs Percentage of Validators Controlled\",\n",
    "    xaxis_title=\"Percentage of Validators Controlled by Proposer (%)\",\n",
    "    yaxis_title=\"Latest Proposal Time (seconds in slot)\",\n",
    "    plot_bgcolor = \"#FFFFFF\",\n",
    "    paper_bgcolor = \"#FFFFFF\",\n",
    "    xaxis=dict(showgrid=True, gridcolor='#e0e0e0', tickvals=list(range(0, 31, 1))),\n",
    "    yaxis=dict(showgrid=True, gridcolor='#e0e0e0'),\n",
    "    showlegend=False,\n",
    "    height=500,\n",
    "    width=900,\n",
    "    font=dict(\n",
    "        family=\"Ubuntu Mono\",\n",
    "        size=14,\n",
    "        color=\"black\"\n",
    "    ),\n",
    "    \n",
    ")\n",
    "\n",
    "fig.write_image(\"att_pics/timing_games_proposer_share.png\")\n",
    "fig.show()"
   ]
  },
  {
   "cell_type": "code",
   "execution_count": 51,
   "id": "734bbeed",
   "metadata": {},
   "outputs": [],
   "source": [
    "timing_df.sort_values(\"slot\", inplace=True)\n",
    "timing_df.reset_index(drop=True, inplace=True)"
   ]
  },
  {
   "cell_type": "code",
   "execution_count": 52,
   "id": "a1482dc9",
   "metadata": {},
   "outputs": [],
   "source": [
    "all_kiln_slots = set(proposer_labels[proposer_labels[\"label\"] == \"kiln\"].slot.tolist())\n",
    "all_lido_slots = set(proposer_labels[proposer_labels[\"label\"] == \"lido\"].slot.tolist())\n",
    "all_coinbase_slots = set(proposer_labels[proposer_labels[\"label\"] == \"coinbase\"].slot.tolist())\n",
    "\n",
    "timing_df.columns = [\"slot\", \"attesting_validator_index\", \"seconds_in_slot\", \"label\"]\n",
    "\n",
    "kiln = timing_df[timing_df[\"slot\"].isin(all_kiln_slots)]\n",
    "lido = timing_df[timing_df[\"slot\"].isin(all_lido_slots)]\n",
    "coinbase = timing_df[timing_df[\"slot\"].isin(all_coinbase_slots)]\n",
    "\n",
    "timing_df = timing_df[timing_df[\"seconds_in_slot\"] < 12]"
   ]
  },
  {
   "cell_type": "code",
   "execution_count": null,
   "id": "6c9af586",
   "metadata": {},
   "outputs": [],
   "source": [
    "def hist_late_performer(_df, sec):   \n",
    "    df = _df.copy()\n",
    "\n",
    "    lido = df[df[\"label\"] == \"lido\"]\n",
    "    kiln = df[df[\"label\"] == \"kiln\"]\n",
    "    coinbase = df[df[\"label\"] == \"coinbase\"]\n",
    "    \n",
    "    def calculate_histogram(data, bins, x_range):\n",
    "        hist, bin_edges = np.histogram(data, bins=bins, range=x_range)\n",
    "        # Normalize to percentage\n",
    "        total_count = np.sum(hist)\n",
    "        hist_normalized = (hist / total_count) * 100\n",
    "        return bin_edges, hist_normalized\n",
    "\n",
    "    x_lido, y_lido = calculate_histogram(lido['seconds_in_slot'], 50, (0, 10.1))\n",
    "    x_kiln, y_kiln = calculate_histogram(kiln['seconds_in_slot'], 50, (0, 10.1))\n",
    "    x_coinbase, y_coinbase = calculate_histogram(coinbase['seconds_in_slot'], 50, (0, 10.1))\n",
    "\n",
    "    fig = go.Figure()\n",
    "\n",
    "    fig.add_trace(go.Scatter(\n",
    "        x=x_lido,\n",
    "        y=y_lido,\n",
    "        fill='tozeroy',\n",
    "        mode='lines',\n",
    "        name='Lido',\n",
    "        line=dict(color=COLORS[0]),\n",
    "        opacity=0.2\n",
    "    ))\n",
    "    \n",
    "    fig.add_trace(go.Scatter(\n",
    "        x=x_coinbase,\n",
    "        y=y_coinbase,\n",
    "        fill='tozeroy',\n",
    "        mode='lines',\n",
    "        name=f'Coinbase',\n",
    "        line=dict(color=COLORS[3]),\n",
    "        opacity=0.2\n",
    "    ))\n",
    "    \n",
    "    fig.add_trace(go.Scatter(\n",
    "        x=x_kiln,\n",
    "        y=y_kiln,\n",
    "        fill='tozeroy',\n",
    "        mode='lines',\n",
    "        name=f'Kiln',\n",
    "        line=dict(color=COLORS[2]),\n",
    "        opacity=0.5\n",
    "    ))\n",
    "    \n",
    "    maxes = [max(i, j) for i, j in zip(y_kiln, y_lido)]\n",
    "    fig.add_shape(\n",
    "        type=\"line\",\n",
    "        x0=sec, x1=sec, y0=0, y1=19,\n",
    "        line=dict(color=\"black\", width=2, dash=\"dash\")\n",
    "    )\n",
    "    \n",
    "    fig.add_annotation(\n",
    "        x=sec, y=20,\n",
    "        text=f\"block seen\", showarrow=False, \n",
    "        xanchor='center', yanchor='top',  font=dict(family=\"Ubuntu Mono\", size=FONTSIZE+3, color=\"#111111\"),\n",
    "    )\n",
    "\n",
    "    fig.update_layout(\n",
    "        title=f'Attestations first seen timing for blocks seen at second {sec:.2f}-{sec+0.2:.2f}s',\n",
    "        yaxis_title='%',\n",
    "        xaxis_title='seconds in slot',\n",
    "        barmode='stack',\n",
    "        legend_traceorder=\"normal\",\n",
    "        xaxis=dict(\n",
    "            tickmode='linear',\n",
    "            showgrid=True,\n",
    "            gridcolor='lightgrey',\n",
    "            range=[0, 10.01]\n",
    "        ),\n",
    "        yaxis=dict(\n",
    "            showgrid=True,\n",
    "            gridcolor='lightgrey',\n",
    "            range=[0, 20]\n",
    "        ),\n",
    "        height=500,\n",
    "        width=900,\n",
    "        font=dict(\n",
    "            family=\"Ubuntu Mono\",\n",
    "            size=FONTSIZE,\n",
    "            color=\"black\"\n",
    "        ),\n",
    "        legend=dict(\n",
    "            x=1,\n",
    "            y=1,\n",
    "            xanchor='right',\n",
    "            yanchor='top'\n",
    "        ),\n",
    "        plot_bgcolor = \"#FFFFFF\"\n",
    "    )\n",
    "    return fig\n",
    "\n",
    "for i in list(range(14,41, 2)):\n",
    "    fig = hist_late_performer(timing_df[timing_df[\"slot\"].isin(set(df[(df[\"seconds_in_slot\"] >= i/10) & (df[\"seconds_in_slot\"] < i/10 + 0.2)].slot.tolist()))], i/10)\n",
    "    fig.write_image(f\"att_pics/attestations_seen_late_{int(i):03}.png\")\n",
    "    print(f\"att_pics/attestations_seen_late_{int(i):03}_misses.png\")\n",
    "    #fig.show()"
   ]
  },
  {
   "cell_type": "code",
   "execution_count": 54,
   "id": "d0f26761",
   "metadata": {},
   "outputs": [
    {
     "name": "stdout",
     "output_type": "stream",
     "text": [
      "['att_pics/attestations_seen_late_014.png', 'att_pics/attestations_seen_late_016.png', 'att_pics/attestations_seen_late_018.png', 'att_pics/attestations_seen_late_020.png', 'att_pics/attestations_seen_late_022.png', 'att_pics/attestations_seen_late_024.png', 'att_pics/attestations_seen_late_026.png', 'att_pics/attestations_seen_late_028.png', 'att_pics/attestations_seen_late_030.png', 'att_pics/attestations_seen_late_032.png', 'att_pics/attestations_seen_late_034.png', 'att_pics/attestations_seen_late_036.png', 'att_pics/attestations_seen_late_038.png', 'att_pics/attestations_seen_late_040.png']\n",
      "GIF saved as att_pics/attestations_seen_late.gif\n"
     ]
    }
   ],
   "source": [
    "from PIL import Image\n",
    "import glob\n",
    "import re\n",
    "\n",
    "all_files = glob.glob('att_pics/*.png')\n",
    "pattern = re.compile(r'attestations_seen_late_\\d{3}\\.png')\n",
    "image_files = [f for f in all_files if pattern.search(f)]\n",
    "image_files = sorted(image_files, key=lambda x: int(x.split(\".\")[0][-3:]), reverse=False)\n",
    "print(image_files)\n",
    "image_files += [image_files[-1]]*5\n",
    "images = [Image.open(img) for img in image_files]\n",
    "output_path = \"att_pics/attestations_seen_late.gif\"\n",
    "images[0].save(output_path, save_all=True, append_images=images[1:], duration=800, loop=0)\n",
    "\n",
    "print(f\"GIF saved as {output_path}\")"
   ]
  },
  {
   "cell_type": "code",
   "execution_count": 55,
   "id": "b3f261af",
   "metadata": {},
   "outputs": [
    {
     "name": "stdout",
     "output_type": "stream",
     "text": [
      "att_pics/attestations_seen_late_000.png\n"
     ]
    },
    {
     "data": {
      "application/vnd.plotly.v1+json": {
       "config": {
        "plotlyServerURL": "https://plot.ly"
       },
       "data": [
        {
         "fill": "tozeroy",
         "line": {
          "color": "#377eb8"
         },
         "mode": "lines",
         "name": "Lido",
         "opacity": 0.2,
         "type": "scatter",
         "x": [
          0,
          0.20199999999999999,
          0.40399999999999997,
          0.606,
          0.8079999999999999,
          1.01,
          1.212,
          1.414,
          1.6159999999999999,
          1.8179999999999998,
          2.02,
          2.222,
          2.424,
          2.626,
          2.828,
          3.03,
          3.2319999999999998,
          3.4339999999999997,
          3.6359999999999997,
          3.8379999999999996,
          4.04,
          4.242,
          4.444,
          4.646,
          4.848,
          5.05,
          5.252,
          5.454,
          5.656,
          5.858,
          6.06,
          6.262,
          6.4639999999999995,
          6.6659999999999995,
          6.867999999999999,
          7.069999999999999,
          7.271999999999999,
          7.473999999999999,
          7.675999999999999,
          7.877999999999999,
          8.08,
          8.282,
          8.484,
          8.686,
          8.888,
          9.09,
          9.292,
          9.494,
          9.696,
          9.898,
          10.1
         ],
         "y": [
          0,
          0,
          0,
          0,
          0,
          0,
          0,
          0.006560880282680213,
          0.06032164655504519,
          0.24498759561041059,
          0.7200145540992644,
          1.1310188566428432,
          1.535149856033138,
          1.3735791668739472,
          1.01196171041428,
          0.8878096681420237,
          0.8080216734955096,
          0.9069155283058726,
          2.2357941921549656,
          4.455991273308248,
          9.786574324079128,
          12.19605159976131,
          10.699882504968125,
          8.726355296420811,
          6.0341353228421735,
          3.9181432852995184,
          2.7955117811059624,
          3.3655393247868854,
          4.51479887056729,
          5.017823724767948,
          5.4084003780797385,
          5.336855540711464,
          2.501954445380912,
          0.9968692825112646,
          0.6274652868150098,
          0.502496138573482,
          0.3936287844323048,
          0.3350855449868506,
          0.2906013347185683,
          0.22369477535233487,
          0.16080164824693519,
          0.13881188466212788,
          0.11687018613433654,
          0.09504865024908514,
          0.09608204897492854,
          0.09038633971853584,
          0.07973992958949798,
          0.06921368210300005,
          0.06351797284660735,
          0.039533509395637184
         ]
        },
        {
         "fill": "tozeroy",
         "line": {
          "color": "#984ea3"
         },
         "mode": "lines",
         "name": "Coinbase",
         "opacity": 0.2,
         "type": "scatter",
         "x": [
          0,
          0.20199999999999999,
          0.40399999999999997,
          0.606,
          0.8079999999999999,
          1.01,
          1.212,
          1.414,
          1.6159999999999999,
          1.8179999999999998,
          2.02,
          2.222,
          2.424,
          2.626,
          2.828,
          3.03,
          3.2319999999999998,
          3.4339999999999997,
          3.6359999999999997,
          3.8379999999999996,
          4.04,
          4.242,
          4.444,
          4.646,
          4.848,
          5.05,
          5.252,
          5.454,
          5.656,
          5.858,
          6.06,
          6.262,
          6.4639999999999995,
          6.6659999999999995,
          6.867999999999999,
          7.069999999999999,
          7.271999999999999,
          7.473999999999999,
          7.675999999999999,
          7.877999999999999,
          8.08,
          8.282,
          8.484,
          8.686,
          8.888,
          9.09,
          9.292,
          9.494,
          9.696,
          9.898,
          10.1
         ],
         "y": [
          0,
          0,
          0,
          0,
          0,
          0,
          0,
          0.002545361986836842,
          0.04254390749427294,
          0.21359223300970875,
          0.85975055452529,
          1.3311515944874732,
          1.578924402748991,
          1.925020908330606,
          2.3776589942183923,
          1.9272026471764663,
          1.5275080906148868,
          1.34336933202429,
          2.3476237227737173,
          5.442056652485364,
          6.207701538125886,
          5.284171484673285,
          5.1369768372059195,
          5.282280644340206,
          5.346423766408495,
          6.17846623759136,
          4.957856077960802,
          4.309952365368532,
          5.156248863677685,
          6.750881786116869,
          8.01825388167703,
          5.376677211737755,
          3.0387258645140176,
          1.857314279480746,
          1.2022108286971382,
          0.9207665175811789,
          0.6948110977782627,
          0.5573615504890731,
          0.4258754227119014,
          0.34522381004327113,
          0.2914075851787208,
          0.2565724882731537,
          0.22173739136758663,
          0.21090142176648122,
          0.2263917675720883,
          0.2111923202792626,
          0.18762954074397295,
          0.16770299261845023,
          0.1571579215301262,
          0.10217810261445039
         ]
        },
        {
         "fill": "tozeroy",
         "line": {
          "color": "#4daf4a"
         },
         "mode": "lines",
         "name": "Kiln",
         "opacity": 0.5,
         "type": "scatter",
         "x": [
          0,
          0.20199999999999999,
          0.40399999999999997,
          0.606,
          0.8079999999999999,
          1.01,
          1.212,
          1.414,
          1.6159999999999999,
          1.8179999999999998,
          2.02,
          2.222,
          2.424,
          2.626,
          2.828,
          3.03,
          3.2319999999999998,
          3.4339999999999997,
          3.6359999999999997,
          3.8379999999999996,
          4.04,
          4.242,
          4.444,
          4.646,
          4.848,
          5.05,
          5.252,
          5.454,
          5.656,
          5.858,
          6.06,
          6.262,
          6.4639999999999995,
          6.6659999999999995,
          6.867999999999999,
          7.069999999999999,
          7.271999999999999,
          7.473999999999999,
          7.675999999999999,
          7.877999999999999,
          8.08,
          8.282,
          8.484,
          8.686,
          8.888,
          9.09,
          9.292,
          9.494,
          9.696,
          9.898,
          10.1
         ],
         "y": [
          0,
          0,
          0,
          0,
          0,
          0,
          0,
          0,
          0.04373540999640152,
          0.3751649304754611,
          0.5774181345094529,
          1.072717039278827,
          1.6553022264460828,
          2.3067199365190674,
          2.4661604185312656,
          2.065529299956634,
          2.676902351931647,
          4.729514020243774,
          6.650550383376854,
          7.395897729264894,
          5.193072458686646,
          4.125891547255465,
          4.3585934544515075,
          4.099871746371529,
          3.3600605283311347,
          3.0421022522813463,
          2.9830502219064576,
          3.5933160483119426,
          4.421889849509592,
          5.209496304634661,
          7.411767962428145,
          8.39701418171417,
          4.822890043274066,
          2.0636839240074183,
          1.1740281788907445,
          0.7656464813294088,
          0.516336190590428,
          0.42554369388903757,
          0.37479585528561804,
          0.2565072569409203,
          0.18287675656723165,
          0.16479207226492218,
          0.15205897821533693,
          0.14504654960831895,
          0.15150536543057236,
          0.1511362902407293,
          0.13914134657083013,
          0.12179481264820675,
          0.10186475239668201,
          0.07861301543656982
         ]
        }
       ],
       "layout": {
        "annotations": [
         {
          "font": {
           "color": "#111111",
           "family": "Ubuntu Mono",
           "size": 19
          },
          "showarrow": false,
          "text": "block seen",
          "x": 3.1951988054112714,
          "xanchor": "center",
          "y": 20,
          "yanchor": "top"
         }
        ],
        "barmode": "stack",
        "font": {
         "color": "black",
         "family": "Ubuntu Mono",
         "size": 16
        },
        "height": 500,
        "legend": {
         "traceorder": "normal",
         "x": 1,
         "xanchor": "right",
         "y": 1,
         "yanchor": "top"
        },
        "plot_bgcolor": "#FFFFFF",
        "shapes": [
         {
          "line": {
           "color": "black",
           "dash": "dash",
           "width": 2
          },
          "type": "line",
          "x0": 3.1951988054112714,
          "x1": 3.1951988054112714,
          "y0": 0,
          "y1": 19
         }
        ],
        "template": {
         "data": {
          "bar": [
           {
            "error_x": {
             "color": "#2a3f5f"
            },
            "error_y": {
             "color": "#2a3f5f"
            },
            "marker": {
             "line": {
              "color": "#E5ECF6",
              "width": 0.5
             },
             "pattern": {
              "fillmode": "overlay",
              "size": 10,
              "solidity": 0.2
             }
            },
            "type": "bar"
           }
          ],
          "barpolar": [
           {
            "marker": {
             "line": {
              "color": "#E5ECF6",
              "width": 0.5
             },
             "pattern": {
              "fillmode": "overlay",
              "size": 10,
              "solidity": 0.2
             }
            },
            "type": "barpolar"
           }
          ],
          "carpet": [
           {
            "aaxis": {
             "endlinecolor": "#2a3f5f",
             "gridcolor": "white",
             "linecolor": "white",
             "minorgridcolor": "white",
             "startlinecolor": "#2a3f5f"
            },
            "baxis": {
             "endlinecolor": "#2a3f5f",
             "gridcolor": "white",
             "linecolor": "white",
             "minorgridcolor": "white",
             "startlinecolor": "#2a3f5f"
            },
            "type": "carpet"
           }
          ],
          "choropleth": [
           {
            "colorbar": {
             "outlinewidth": 0,
             "ticks": ""
            },
            "type": "choropleth"
           }
          ],
          "contour": [
           {
            "colorbar": {
             "outlinewidth": 0,
             "ticks": ""
            },
            "colorscale": [
             [
              0,
              "#0d0887"
             ],
             [
              0.1111111111111111,
              "#46039f"
             ],
             [
              0.2222222222222222,
              "#7201a8"
             ],
             [
              0.3333333333333333,
              "#9c179e"
             ],
             [
              0.4444444444444444,
              "#bd3786"
             ],
             [
              0.5555555555555556,
              "#d8576b"
             ],
             [
              0.6666666666666666,
              "#ed7953"
             ],
             [
              0.7777777777777778,
              "#fb9f3a"
             ],
             [
              0.8888888888888888,
              "#fdca26"
             ],
             [
              1,
              "#f0f921"
             ]
            ],
            "type": "contour"
           }
          ],
          "contourcarpet": [
           {
            "colorbar": {
             "outlinewidth": 0,
             "ticks": ""
            },
            "type": "contourcarpet"
           }
          ],
          "heatmap": [
           {
            "colorbar": {
             "outlinewidth": 0,
             "ticks": ""
            },
            "colorscale": [
             [
              0,
              "#0d0887"
             ],
             [
              0.1111111111111111,
              "#46039f"
             ],
             [
              0.2222222222222222,
              "#7201a8"
             ],
             [
              0.3333333333333333,
              "#9c179e"
             ],
             [
              0.4444444444444444,
              "#bd3786"
             ],
             [
              0.5555555555555556,
              "#d8576b"
             ],
             [
              0.6666666666666666,
              "#ed7953"
             ],
             [
              0.7777777777777778,
              "#fb9f3a"
             ],
             [
              0.8888888888888888,
              "#fdca26"
             ],
             [
              1,
              "#f0f921"
             ]
            ],
            "type": "heatmap"
           }
          ],
          "heatmapgl": [
           {
            "colorbar": {
             "outlinewidth": 0,
             "ticks": ""
            },
            "colorscale": [
             [
              0,
              "#0d0887"
             ],
             [
              0.1111111111111111,
              "#46039f"
             ],
             [
              0.2222222222222222,
              "#7201a8"
             ],
             [
              0.3333333333333333,
              "#9c179e"
             ],
             [
              0.4444444444444444,
              "#bd3786"
             ],
             [
              0.5555555555555556,
              "#d8576b"
             ],
             [
              0.6666666666666666,
              "#ed7953"
             ],
             [
              0.7777777777777778,
              "#fb9f3a"
             ],
             [
              0.8888888888888888,
              "#fdca26"
             ],
             [
              1,
              "#f0f921"
             ]
            ],
            "type": "heatmapgl"
           }
          ],
          "histogram": [
           {
            "marker": {
             "pattern": {
              "fillmode": "overlay",
              "size": 10,
              "solidity": 0.2
             }
            },
            "type": "histogram"
           }
          ],
          "histogram2d": [
           {
            "colorbar": {
             "outlinewidth": 0,
             "ticks": ""
            },
            "colorscale": [
             [
              0,
              "#0d0887"
             ],
             [
              0.1111111111111111,
              "#46039f"
             ],
             [
              0.2222222222222222,
              "#7201a8"
             ],
             [
              0.3333333333333333,
              "#9c179e"
             ],
             [
              0.4444444444444444,
              "#bd3786"
             ],
             [
              0.5555555555555556,
              "#d8576b"
             ],
             [
              0.6666666666666666,
              "#ed7953"
             ],
             [
              0.7777777777777778,
              "#fb9f3a"
             ],
             [
              0.8888888888888888,
              "#fdca26"
             ],
             [
              1,
              "#f0f921"
             ]
            ],
            "type": "histogram2d"
           }
          ],
          "histogram2dcontour": [
           {
            "colorbar": {
             "outlinewidth": 0,
             "ticks": ""
            },
            "colorscale": [
             [
              0,
              "#0d0887"
             ],
             [
              0.1111111111111111,
              "#46039f"
             ],
             [
              0.2222222222222222,
              "#7201a8"
             ],
             [
              0.3333333333333333,
              "#9c179e"
             ],
             [
              0.4444444444444444,
              "#bd3786"
             ],
             [
              0.5555555555555556,
              "#d8576b"
             ],
             [
              0.6666666666666666,
              "#ed7953"
             ],
             [
              0.7777777777777778,
              "#fb9f3a"
             ],
             [
              0.8888888888888888,
              "#fdca26"
             ],
             [
              1,
              "#f0f921"
             ]
            ],
            "type": "histogram2dcontour"
           }
          ],
          "mesh3d": [
           {
            "colorbar": {
             "outlinewidth": 0,
             "ticks": ""
            },
            "type": "mesh3d"
           }
          ],
          "parcoords": [
           {
            "line": {
             "colorbar": {
              "outlinewidth": 0,
              "ticks": ""
             }
            },
            "type": "parcoords"
           }
          ],
          "pie": [
           {
            "automargin": true,
            "type": "pie"
           }
          ],
          "scatter": [
           {
            "fillpattern": {
             "fillmode": "overlay",
             "size": 10,
             "solidity": 0.2
            },
            "type": "scatter"
           }
          ],
          "scatter3d": [
           {
            "line": {
             "colorbar": {
              "outlinewidth": 0,
              "ticks": ""
             }
            },
            "marker": {
             "colorbar": {
              "outlinewidth": 0,
              "ticks": ""
             }
            },
            "type": "scatter3d"
           }
          ],
          "scattercarpet": [
           {
            "marker": {
             "colorbar": {
              "outlinewidth": 0,
              "ticks": ""
             }
            },
            "type": "scattercarpet"
           }
          ],
          "scattergeo": [
           {
            "marker": {
             "colorbar": {
              "outlinewidth": 0,
              "ticks": ""
             }
            },
            "type": "scattergeo"
           }
          ],
          "scattergl": [
           {
            "marker": {
             "colorbar": {
              "outlinewidth": 0,
              "ticks": ""
             }
            },
            "type": "scattergl"
           }
          ],
          "scattermapbox": [
           {
            "marker": {
             "colorbar": {
              "outlinewidth": 0,
              "ticks": ""
             }
            },
            "type": "scattermapbox"
           }
          ],
          "scatterpolar": [
           {
            "marker": {
             "colorbar": {
              "outlinewidth": 0,
              "ticks": ""
             }
            },
            "type": "scatterpolar"
           }
          ],
          "scatterpolargl": [
           {
            "marker": {
             "colorbar": {
              "outlinewidth": 0,
              "ticks": ""
             }
            },
            "type": "scatterpolargl"
           }
          ],
          "scatterternary": [
           {
            "marker": {
             "colorbar": {
              "outlinewidth": 0,
              "ticks": ""
             }
            },
            "type": "scatterternary"
           }
          ],
          "surface": [
           {
            "colorbar": {
             "outlinewidth": 0,
             "ticks": ""
            },
            "colorscale": [
             [
              0,
              "#0d0887"
             ],
             [
              0.1111111111111111,
              "#46039f"
             ],
             [
              0.2222222222222222,
              "#7201a8"
             ],
             [
              0.3333333333333333,
              "#9c179e"
             ],
             [
              0.4444444444444444,
              "#bd3786"
             ],
             [
              0.5555555555555556,
              "#d8576b"
             ],
             [
              0.6666666666666666,
              "#ed7953"
             ],
             [
              0.7777777777777778,
              "#fb9f3a"
             ],
             [
              0.8888888888888888,
              "#fdca26"
             ],
             [
              1,
              "#f0f921"
             ]
            ],
            "type": "surface"
           }
          ],
          "table": [
           {
            "cells": {
             "fill": {
              "color": "#EBF0F8"
             },
             "line": {
              "color": "white"
             }
            },
            "header": {
             "fill": {
              "color": "#C8D4E3"
             },
             "line": {
              "color": "white"
             }
            },
            "type": "table"
           }
          ]
         },
         "layout": {
          "annotationdefaults": {
           "arrowcolor": "#2a3f5f",
           "arrowhead": 0,
           "arrowwidth": 1
          },
          "autotypenumbers": "strict",
          "coloraxis": {
           "colorbar": {
            "outlinewidth": 0,
            "ticks": ""
           }
          },
          "colorscale": {
           "diverging": [
            [
             0,
             "#8e0152"
            ],
            [
             0.1,
             "#c51b7d"
            ],
            [
             0.2,
             "#de77ae"
            ],
            [
             0.3,
             "#f1b6da"
            ],
            [
             0.4,
             "#fde0ef"
            ],
            [
             0.5,
             "#f7f7f7"
            ],
            [
             0.6,
             "#e6f5d0"
            ],
            [
             0.7,
             "#b8e186"
            ],
            [
             0.8,
             "#7fbc41"
            ],
            [
             0.9,
             "#4d9221"
            ],
            [
             1,
             "#276419"
            ]
           ],
           "sequential": [
            [
             0,
             "#0d0887"
            ],
            [
             0.1111111111111111,
             "#46039f"
            ],
            [
             0.2222222222222222,
             "#7201a8"
            ],
            [
             0.3333333333333333,
             "#9c179e"
            ],
            [
             0.4444444444444444,
             "#bd3786"
            ],
            [
             0.5555555555555556,
             "#d8576b"
            ],
            [
             0.6666666666666666,
             "#ed7953"
            ],
            [
             0.7777777777777778,
             "#fb9f3a"
            ],
            [
             0.8888888888888888,
             "#fdca26"
            ],
            [
             1,
             "#f0f921"
            ]
           ],
           "sequentialminus": [
            [
             0,
             "#0d0887"
            ],
            [
             0.1111111111111111,
             "#46039f"
            ],
            [
             0.2222222222222222,
             "#7201a8"
            ],
            [
             0.3333333333333333,
             "#9c179e"
            ],
            [
             0.4444444444444444,
             "#bd3786"
            ],
            [
             0.5555555555555556,
             "#d8576b"
            ],
            [
             0.6666666666666666,
             "#ed7953"
            ],
            [
             0.7777777777777778,
             "#fb9f3a"
            ],
            [
             0.8888888888888888,
             "#fdca26"
            ],
            [
             1,
             "#f0f921"
            ]
           ]
          },
          "colorway": [
           "#636efa",
           "#EF553B",
           "#00cc96",
           "#ab63fa",
           "#FFA15A",
           "#19d3f3",
           "#FF6692",
           "#B6E880",
           "#FF97FF",
           "#FECB52"
          ],
          "font": {
           "color": "#2a3f5f"
          },
          "geo": {
           "bgcolor": "white",
           "lakecolor": "white",
           "landcolor": "#E5ECF6",
           "showlakes": true,
           "showland": true,
           "subunitcolor": "white"
          },
          "hoverlabel": {
           "align": "left"
          },
          "hovermode": "closest",
          "mapbox": {
           "style": "light"
          },
          "paper_bgcolor": "white",
          "plot_bgcolor": "#E5ECF6",
          "polar": {
           "angularaxis": {
            "gridcolor": "white",
            "linecolor": "white",
            "ticks": ""
           },
           "bgcolor": "#E5ECF6",
           "radialaxis": {
            "gridcolor": "white",
            "linecolor": "white",
            "ticks": ""
           }
          },
          "scene": {
           "xaxis": {
            "backgroundcolor": "#E5ECF6",
            "gridcolor": "white",
            "gridwidth": 2,
            "linecolor": "white",
            "showbackground": true,
            "ticks": "",
            "zerolinecolor": "white"
           },
           "yaxis": {
            "backgroundcolor": "#E5ECF6",
            "gridcolor": "white",
            "gridwidth": 2,
            "linecolor": "white",
            "showbackground": true,
            "ticks": "",
            "zerolinecolor": "white"
           },
           "zaxis": {
            "backgroundcolor": "#E5ECF6",
            "gridcolor": "white",
            "gridwidth": 2,
            "linecolor": "white",
            "showbackground": true,
            "ticks": "",
            "zerolinecolor": "white"
           }
          },
          "shapedefaults": {
           "line": {
            "color": "#2a3f5f"
           }
          },
          "ternary": {
           "aaxis": {
            "gridcolor": "white",
            "linecolor": "white",
            "ticks": ""
           },
           "baxis": {
            "gridcolor": "white",
            "linecolor": "white",
            "ticks": ""
           },
           "bgcolor": "#E5ECF6",
           "caxis": {
            "gridcolor": "white",
            "linecolor": "white",
            "ticks": ""
           }
          },
          "title": {
           "x": 0.05
          },
          "xaxis": {
           "automargin": true,
           "gridcolor": "white",
           "linecolor": "white",
           "ticks": "",
           "title": {
            "standoff": 15
           },
           "zerolinecolor": "white",
           "zerolinewidth": 2
          },
          "yaxis": {
           "automargin": true,
           "gridcolor": "white",
           "linecolor": "white",
           "ticks": "",
           "title": {
            "standoff": 15
           },
           "zerolinecolor": "white",
           "zerolinewidth": 2
          }
         }
        },
        "title": {
         "text": "Attestations first seen timing for kiln blocks"
        },
        "width": 900,
        "xaxis": {
         "gridcolor": "lightgrey",
         "range": [
          0,
          10.01
         ],
         "showgrid": true,
         "tickmode": "linear",
         "title": {
          "text": "seconds in slot"
         }
        },
        "yaxis": {
         "gridcolor": "lightgrey",
         "range": [
          0,
          20
         ],
         "showgrid": true,
         "title": {
          "text": "%"
         }
        }
       }
      },
      "text/html": [
       "<div>                            <div id=\"a257b826-8167-4ba2-9b91-de23e1ca2e6a\" class=\"plotly-graph-div\" style=\"height:500px; width:900px;\"></div>            <script type=\"text/javascript\">                require([\"plotly\"], function(Plotly) {                    window.PLOTLYENV=window.PLOTLYENV || {};                                    if (document.getElementById(\"a257b826-8167-4ba2-9b91-de23e1ca2e6a\")) {                    Plotly.newPlot(                        \"a257b826-8167-4ba2-9b91-de23e1ca2e6a\",                        [{\"fill\":\"tozeroy\",\"line\":{\"color\":\"#377eb8\"},\"mode\":\"lines\",\"name\":\"Lido\",\"opacity\":0.2,\"x\":[0.0,0.20199999999999999,0.40399999999999997,0.606,0.8079999999999999,1.01,1.212,1.414,1.6159999999999999,1.8179999999999998,2.02,2.222,2.424,2.626,2.828,3.03,3.2319999999999998,3.4339999999999997,3.6359999999999997,3.8379999999999996,4.04,4.242,4.444,4.646,4.848,5.05,5.252,5.454,5.656,5.858,6.06,6.262,6.4639999999999995,6.6659999999999995,6.867999999999999,7.069999999999999,7.271999999999999,7.473999999999999,7.675999999999999,7.877999999999999,8.08,8.282,8.484,8.686,8.888,9.09,9.292,9.494,9.696,9.898,10.1],\"y\":[0.0,0.0,0.0,0.0,0.0,0.0,0.0,0.006560880282680213,0.06032164655504519,0.24498759561041059,0.7200145540992644,1.1310188566428432,1.535149856033138,1.3735791668739472,1.01196171041428,0.8878096681420237,0.8080216734955096,0.9069155283058726,2.2357941921549656,4.455991273308248,9.786574324079128,12.19605159976131,10.699882504968125,8.726355296420811,6.0341353228421735,3.9181432852995184,2.7955117811059624,3.3655393247868854,4.51479887056729,5.017823724767948,5.4084003780797385,5.336855540711464,2.501954445380912,0.9968692825112646,0.6274652868150098,0.502496138573482,0.3936287844323048,0.3350855449868506,0.2906013347185683,0.22369477535233487,0.16080164824693519,0.13881188466212788,0.11687018613433654,0.09504865024908514,0.09608204897492854,0.09038633971853584,0.07973992958949798,0.06921368210300005,0.06351797284660735,0.039533509395637184],\"type\":\"scatter\"},{\"fill\":\"tozeroy\",\"line\":{\"color\":\"#984ea3\"},\"mode\":\"lines\",\"name\":\"Coinbase\",\"opacity\":0.2,\"x\":[0.0,0.20199999999999999,0.40399999999999997,0.606,0.8079999999999999,1.01,1.212,1.414,1.6159999999999999,1.8179999999999998,2.02,2.222,2.424,2.626,2.828,3.03,3.2319999999999998,3.4339999999999997,3.6359999999999997,3.8379999999999996,4.04,4.242,4.444,4.646,4.848,5.05,5.252,5.454,5.656,5.858,6.06,6.262,6.4639999999999995,6.6659999999999995,6.867999999999999,7.069999999999999,7.271999999999999,7.473999999999999,7.675999999999999,7.877999999999999,8.08,8.282,8.484,8.686,8.888,9.09,9.292,9.494,9.696,9.898,10.1],\"y\":[0.0,0.0,0.0,0.0,0.0,0.0,0.0,0.002545361986836842,0.04254390749427294,0.21359223300970875,0.85975055452529,1.3311515944874732,1.578924402748991,1.925020908330606,2.3776589942183923,1.9272026471764663,1.5275080906148868,1.34336933202429,2.3476237227737173,5.442056652485364,6.207701538125886,5.284171484673285,5.1369768372059195,5.282280644340206,5.346423766408495,6.17846623759136,4.957856077960802,4.309952365368532,5.156248863677685,6.750881786116869,8.01825388167703,5.376677211737755,3.0387258645140176,1.857314279480746,1.2022108286971382,0.9207665175811789,0.6948110977782627,0.5573615504890731,0.4258754227119014,0.34522381004327113,0.2914075851787208,0.2565724882731537,0.22173739136758663,0.21090142176648122,0.2263917675720883,0.2111923202792626,0.18762954074397295,0.16770299261845023,0.1571579215301262,0.10217810261445039],\"type\":\"scatter\"},{\"fill\":\"tozeroy\",\"line\":{\"color\":\"#4daf4a\"},\"mode\":\"lines\",\"name\":\"Kiln\",\"opacity\":0.5,\"x\":[0.0,0.20199999999999999,0.40399999999999997,0.606,0.8079999999999999,1.01,1.212,1.414,1.6159999999999999,1.8179999999999998,2.02,2.222,2.424,2.626,2.828,3.03,3.2319999999999998,3.4339999999999997,3.6359999999999997,3.8379999999999996,4.04,4.242,4.444,4.646,4.848,5.05,5.252,5.454,5.656,5.858,6.06,6.262,6.4639999999999995,6.6659999999999995,6.867999999999999,7.069999999999999,7.271999999999999,7.473999999999999,7.675999999999999,7.877999999999999,8.08,8.282,8.484,8.686,8.888,9.09,9.292,9.494,9.696,9.898,10.1],\"y\":[0.0,0.0,0.0,0.0,0.0,0.0,0.0,0.0,0.04373540999640152,0.3751649304754611,0.5774181345094529,1.072717039278827,1.6553022264460828,2.3067199365190674,2.4661604185312656,2.065529299956634,2.676902351931647,4.729514020243774,6.650550383376854,7.395897729264894,5.193072458686646,4.125891547255465,4.3585934544515075,4.099871746371529,3.3600605283311347,3.0421022522813463,2.9830502219064576,3.5933160483119426,4.421889849509592,5.209496304634661,7.411767962428145,8.39701418171417,4.822890043274066,2.0636839240074183,1.1740281788907445,0.7656464813294088,0.516336190590428,0.42554369388903757,0.37479585528561804,0.2565072569409203,0.18287675656723165,0.16479207226492218,0.15205897821533693,0.14504654960831895,0.15150536543057236,0.1511362902407293,0.13914134657083013,0.12179481264820675,0.10186475239668201,0.07861301543656982],\"type\":\"scatter\"}],                        {\"template\":{\"data\":{\"histogram2dcontour\":[{\"type\":\"histogram2dcontour\",\"colorbar\":{\"outlinewidth\":0,\"ticks\":\"\"},\"colorscale\":[[0.0,\"#0d0887\"],[0.1111111111111111,\"#46039f\"],[0.2222222222222222,\"#7201a8\"],[0.3333333333333333,\"#9c179e\"],[0.4444444444444444,\"#bd3786\"],[0.5555555555555556,\"#d8576b\"],[0.6666666666666666,\"#ed7953\"],[0.7777777777777778,\"#fb9f3a\"],[0.8888888888888888,\"#fdca26\"],[1.0,\"#f0f921\"]]}],\"choropleth\":[{\"type\":\"choropleth\",\"colorbar\":{\"outlinewidth\":0,\"ticks\":\"\"}}],\"histogram2d\":[{\"type\":\"histogram2d\",\"colorbar\":{\"outlinewidth\":0,\"ticks\":\"\"},\"colorscale\":[[0.0,\"#0d0887\"],[0.1111111111111111,\"#46039f\"],[0.2222222222222222,\"#7201a8\"],[0.3333333333333333,\"#9c179e\"],[0.4444444444444444,\"#bd3786\"],[0.5555555555555556,\"#d8576b\"],[0.6666666666666666,\"#ed7953\"],[0.7777777777777778,\"#fb9f3a\"],[0.8888888888888888,\"#fdca26\"],[1.0,\"#f0f921\"]]}],\"heatmap\":[{\"type\":\"heatmap\",\"colorbar\":{\"outlinewidth\":0,\"ticks\":\"\"},\"colorscale\":[[0.0,\"#0d0887\"],[0.1111111111111111,\"#46039f\"],[0.2222222222222222,\"#7201a8\"],[0.3333333333333333,\"#9c179e\"],[0.4444444444444444,\"#bd3786\"],[0.5555555555555556,\"#d8576b\"],[0.6666666666666666,\"#ed7953\"],[0.7777777777777778,\"#fb9f3a\"],[0.8888888888888888,\"#fdca26\"],[1.0,\"#f0f921\"]]}],\"heatmapgl\":[{\"type\":\"heatmapgl\",\"colorbar\":{\"outlinewidth\":0,\"ticks\":\"\"},\"colorscale\":[[0.0,\"#0d0887\"],[0.1111111111111111,\"#46039f\"],[0.2222222222222222,\"#7201a8\"],[0.3333333333333333,\"#9c179e\"],[0.4444444444444444,\"#bd3786\"],[0.5555555555555556,\"#d8576b\"],[0.6666666666666666,\"#ed7953\"],[0.7777777777777778,\"#fb9f3a\"],[0.8888888888888888,\"#fdca26\"],[1.0,\"#f0f921\"]]}],\"contourcarpet\":[{\"type\":\"contourcarpet\",\"colorbar\":{\"outlinewidth\":0,\"ticks\":\"\"}}],\"contour\":[{\"type\":\"contour\",\"colorbar\":{\"outlinewidth\":0,\"ticks\":\"\"},\"colorscale\":[[0.0,\"#0d0887\"],[0.1111111111111111,\"#46039f\"],[0.2222222222222222,\"#7201a8\"],[0.3333333333333333,\"#9c179e\"],[0.4444444444444444,\"#bd3786\"],[0.5555555555555556,\"#d8576b\"],[0.6666666666666666,\"#ed7953\"],[0.7777777777777778,\"#fb9f3a\"],[0.8888888888888888,\"#fdca26\"],[1.0,\"#f0f921\"]]}],\"surface\":[{\"type\":\"surface\",\"colorbar\":{\"outlinewidth\":0,\"ticks\":\"\"},\"colorscale\":[[0.0,\"#0d0887\"],[0.1111111111111111,\"#46039f\"],[0.2222222222222222,\"#7201a8\"],[0.3333333333333333,\"#9c179e\"],[0.4444444444444444,\"#bd3786\"],[0.5555555555555556,\"#d8576b\"],[0.6666666666666666,\"#ed7953\"],[0.7777777777777778,\"#fb9f3a\"],[0.8888888888888888,\"#fdca26\"],[1.0,\"#f0f921\"]]}],\"mesh3d\":[{\"type\":\"mesh3d\",\"colorbar\":{\"outlinewidth\":0,\"ticks\":\"\"}}],\"scatter\":[{\"fillpattern\":{\"fillmode\":\"overlay\",\"size\":10,\"solidity\":0.2},\"type\":\"scatter\"}],\"parcoords\":[{\"type\":\"parcoords\",\"line\":{\"colorbar\":{\"outlinewidth\":0,\"ticks\":\"\"}}}],\"scatterpolargl\":[{\"type\":\"scatterpolargl\",\"marker\":{\"colorbar\":{\"outlinewidth\":0,\"ticks\":\"\"}}}],\"bar\":[{\"error_x\":{\"color\":\"#2a3f5f\"},\"error_y\":{\"color\":\"#2a3f5f\"},\"marker\":{\"line\":{\"color\":\"#E5ECF6\",\"width\":0.5},\"pattern\":{\"fillmode\":\"overlay\",\"size\":10,\"solidity\":0.2}},\"type\":\"bar\"}],\"scattergeo\":[{\"type\":\"scattergeo\",\"marker\":{\"colorbar\":{\"outlinewidth\":0,\"ticks\":\"\"}}}],\"scatterpolar\":[{\"type\":\"scatterpolar\",\"marker\":{\"colorbar\":{\"outlinewidth\":0,\"ticks\":\"\"}}}],\"histogram\":[{\"marker\":{\"pattern\":{\"fillmode\":\"overlay\",\"size\":10,\"solidity\":0.2}},\"type\":\"histogram\"}],\"scattergl\":[{\"type\":\"scattergl\",\"marker\":{\"colorbar\":{\"outlinewidth\":0,\"ticks\":\"\"}}}],\"scatter3d\":[{\"type\":\"scatter3d\",\"line\":{\"colorbar\":{\"outlinewidth\":0,\"ticks\":\"\"}},\"marker\":{\"colorbar\":{\"outlinewidth\":0,\"ticks\":\"\"}}}],\"scattermapbox\":[{\"type\":\"scattermapbox\",\"marker\":{\"colorbar\":{\"outlinewidth\":0,\"ticks\":\"\"}}}],\"scatterternary\":[{\"type\":\"scatterternary\",\"marker\":{\"colorbar\":{\"outlinewidth\":0,\"ticks\":\"\"}}}],\"scattercarpet\":[{\"type\":\"scattercarpet\",\"marker\":{\"colorbar\":{\"outlinewidth\":0,\"ticks\":\"\"}}}],\"carpet\":[{\"aaxis\":{\"endlinecolor\":\"#2a3f5f\",\"gridcolor\":\"white\",\"linecolor\":\"white\",\"minorgridcolor\":\"white\",\"startlinecolor\":\"#2a3f5f\"},\"baxis\":{\"endlinecolor\":\"#2a3f5f\",\"gridcolor\":\"white\",\"linecolor\":\"white\",\"minorgridcolor\":\"white\",\"startlinecolor\":\"#2a3f5f\"},\"type\":\"carpet\"}],\"table\":[{\"cells\":{\"fill\":{\"color\":\"#EBF0F8\"},\"line\":{\"color\":\"white\"}},\"header\":{\"fill\":{\"color\":\"#C8D4E3\"},\"line\":{\"color\":\"white\"}},\"type\":\"table\"}],\"barpolar\":[{\"marker\":{\"line\":{\"color\":\"#E5ECF6\",\"width\":0.5},\"pattern\":{\"fillmode\":\"overlay\",\"size\":10,\"solidity\":0.2}},\"type\":\"barpolar\"}],\"pie\":[{\"automargin\":true,\"type\":\"pie\"}]},\"layout\":{\"autotypenumbers\":\"strict\",\"colorway\":[\"#636efa\",\"#EF553B\",\"#00cc96\",\"#ab63fa\",\"#FFA15A\",\"#19d3f3\",\"#FF6692\",\"#B6E880\",\"#FF97FF\",\"#FECB52\"],\"font\":{\"color\":\"#2a3f5f\"},\"hovermode\":\"closest\",\"hoverlabel\":{\"align\":\"left\"},\"paper_bgcolor\":\"white\",\"plot_bgcolor\":\"#E5ECF6\",\"polar\":{\"bgcolor\":\"#E5ECF6\",\"angularaxis\":{\"gridcolor\":\"white\",\"linecolor\":\"white\",\"ticks\":\"\"},\"radialaxis\":{\"gridcolor\":\"white\",\"linecolor\":\"white\",\"ticks\":\"\"}},\"ternary\":{\"bgcolor\":\"#E5ECF6\",\"aaxis\":{\"gridcolor\":\"white\",\"linecolor\":\"white\",\"ticks\":\"\"},\"baxis\":{\"gridcolor\":\"white\",\"linecolor\":\"white\",\"ticks\":\"\"},\"caxis\":{\"gridcolor\":\"white\",\"linecolor\":\"white\",\"ticks\":\"\"}},\"coloraxis\":{\"colorbar\":{\"outlinewidth\":0,\"ticks\":\"\"}},\"colorscale\":{\"sequential\":[[0.0,\"#0d0887\"],[0.1111111111111111,\"#46039f\"],[0.2222222222222222,\"#7201a8\"],[0.3333333333333333,\"#9c179e\"],[0.4444444444444444,\"#bd3786\"],[0.5555555555555556,\"#d8576b\"],[0.6666666666666666,\"#ed7953\"],[0.7777777777777778,\"#fb9f3a\"],[0.8888888888888888,\"#fdca26\"],[1.0,\"#f0f921\"]],\"sequentialminus\":[[0.0,\"#0d0887\"],[0.1111111111111111,\"#46039f\"],[0.2222222222222222,\"#7201a8\"],[0.3333333333333333,\"#9c179e\"],[0.4444444444444444,\"#bd3786\"],[0.5555555555555556,\"#d8576b\"],[0.6666666666666666,\"#ed7953\"],[0.7777777777777778,\"#fb9f3a\"],[0.8888888888888888,\"#fdca26\"],[1.0,\"#f0f921\"]],\"diverging\":[[0,\"#8e0152\"],[0.1,\"#c51b7d\"],[0.2,\"#de77ae\"],[0.3,\"#f1b6da\"],[0.4,\"#fde0ef\"],[0.5,\"#f7f7f7\"],[0.6,\"#e6f5d0\"],[0.7,\"#b8e186\"],[0.8,\"#7fbc41\"],[0.9,\"#4d9221\"],[1,\"#276419\"]]},\"xaxis\":{\"gridcolor\":\"white\",\"linecolor\":\"white\",\"ticks\":\"\",\"title\":{\"standoff\":15},\"zerolinecolor\":\"white\",\"automargin\":true,\"zerolinewidth\":2},\"yaxis\":{\"gridcolor\":\"white\",\"linecolor\":\"white\",\"ticks\":\"\",\"title\":{\"standoff\":15},\"zerolinecolor\":\"white\",\"automargin\":true,\"zerolinewidth\":2},\"scene\":{\"xaxis\":{\"backgroundcolor\":\"#E5ECF6\",\"gridcolor\":\"white\",\"linecolor\":\"white\",\"showbackground\":true,\"ticks\":\"\",\"zerolinecolor\":\"white\",\"gridwidth\":2},\"yaxis\":{\"backgroundcolor\":\"#E5ECF6\",\"gridcolor\":\"white\",\"linecolor\":\"white\",\"showbackground\":true,\"ticks\":\"\",\"zerolinecolor\":\"white\",\"gridwidth\":2},\"zaxis\":{\"backgroundcolor\":\"#E5ECF6\",\"gridcolor\":\"white\",\"linecolor\":\"white\",\"showbackground\":true,\"ticks\":\"\",\"zerolinecolor\":\"white\",\"gridwidth\":2}},\"shapedefaults\":{\"line\":{\"color\":\"#2a3f5f\"}},\"annotationdefaults\":{\"arrowcolor\":\"#2a3f5f\",\"arrowhead\":0,\"arrowwidth\":1},\"geo\":{\"bgcolor\":\"white\",\"landcolor\":\"#E5ECF6\",\"subunitcolor\":\"white\",\"showland\":true,\"showlakes\":true,\"lakecolor\":\"white\"},\"title\":{\"x\":0.05},\"mapbox\":{\"style\":\"light\"}}},\"shapes\":[{\"line\":{\"color\":\"black\",\"dash\":\"dash\",\"width\":2},\"type\":\"line\",\"x0\":3.1951988054112714,\"x1\":3.1951988054112714,\"y0\":0,\"y1\":19}],\"annotations\":[{\"font\":{\"color\":\"#111111\",\"family\":\"Ubuntu Mono\",\"size\":19},\"showarrow\":false,\"text\":\"block seen\",\"x\":3.1951988054112714,\"xanchor\":\"center\",\"y\":20,\"yanchor\":\"top\"}],\"legend\":{\"traceorder\":\"normal\",\"x\":1,\"y\":1,\"xanchor\":\"right\",\"yanchor\":\"top\"},\"xaxis\":{\"title\":{\"text\":\"seconds in slot\"},\"tickmode\":\"linear\",\"showgrid\":true,\"gridcolor\":\"lightgrey\",\"range\":[0,10.01]},\"yaxis\":{\"title\":{\"text\":\"%\"},\"showgrid\":true,\"gridcolor\":\"lightgrey\",\"range\":[0,20]},\"font\":{\"family\":\"Ubuntu Mono\",\"size\":16,\"color\":\"black\"},\"title\":{\"text\":\"Attestations first seen timing for kiln blocks\"},\"barmode\":\"stack\",\"height\":500,\"width\":900,\"plot_bgcolor\":\"#FFFFFF\"},                        {\"responsive\": true}                    ).then(function(){\n",
       "                            \n",
       "var gd = document.getElementById('a257b826-8167-4ba2-9b91-de23e1ca2e6a');\n",
       "var x = new MutationObserver(function (mutations, observer) {{\n",
       "        var display = window.getComputedStyle(gd).display;\n",
       "        if (!display || display === 'none') {{\n",
       "            console.log([gd, 'removed!']);\n",
       "            Plotly.purge(gd);\n",
       "            observer.disconnect();\n",
       "        }}\n",
       "}});\n",
       "\n",
       "// Listen for the removal of the full notebook cells\n",
       "var notebookContainer = gd.closest('#notebook-container');\n",
       "if (notebookContainer) {{\n",
       "    x.observe(notebookContainer, {childList: true});\n",
       "}}\n",
       "\n",
       "// Listen for the clearing of the current output cell\n",
       "var outputEl = gd.closest('.output');\n",
       "if (outputEl) {{\n",
       "    x.observe(outputEl, {childList: true});\n",
       "}}\n",
       "\n",
       "                        })                };                });            </script>        </div>"
      ]
     },
     "metadata": {},
     "output_type": "display_data"
    },
    {
     "name": "stdout",
     "output_type": "stream",
     "text": [
      "att_pics/attestations_seen_late_001.png\n"
     ]
    },
    {
     "data": {
      "application/vnd.plotly.v1+json": {
       "config": {
        "plotlyServerURL": "https://plot.ly"
       },
       "data": [
        {
         "fill": "tozeroy",
         "line": {
          "color": "#377eb8"
         },
         "mode": "lines",
         "name": "Lido",
         "opacity": 0.2,
         "type": "scatter",
         "x": [
          0,
          0.20199999999999999,
          0.40399999999999997,
          0.606,
          0.8079999999999999,
          1.01,
          1.212,
          1.414,
          1.6159999999999999,
          1.8179999999999998,
          2.02,
          2.222,
          2.424,
          2.626,
          2.828,
          3.03,
          3.2319999999999998,
          3.4339999999999997,
          3.6359999999999997,
          3.8379999999999996,
          4.04,
          4.242,
          4.444,
          4.646,
          4.848,
          5.05,
          5.252,
          5.454,
          5.656,
          5.858,
          6.06,
          6.262,
          6.4639999999999995,
          6.6659999999999995,
          6.867999999999999,
          7.069999999999999,
          7.271999999999999,
          7.473999999999999,
          7.675999999999999,
          7.877999999999999,
          8.08,
          8.282,
          8.484,
          8.686,
          8.888,
          9.09,
          9.292,
          9.494,
          9.696,
          9.898,
          10.1
         ],
         "y": [
          0,
          0,
          0,
          0,
          0.0006529554360693416,
          0.027963163866390868,
          0.13042437518763786,
          0.32399648737760733,
          0.6826996400826281,
          1.4256851273839646,
          2.7655691319346474,
          4.4848258019091585,
          5.83624905720876,
          6.110429212614933,
          5.483605886657217,
          4.461341634480826,
          3.453078413974024,
          2.731798832487895,
          2.3444934531492665,
          2.1540916479914465,
          6.3804415673653425,
          8.649675654806634,
          8.263581716191947,
          8.502866265974312,
          8.256785422589285,
          6.017920709259644,
          3.8113370012757635,
          2.551666488145872,
          1.6023248547764595,
          0.9540790334481285,
          0.6817716098032783,
          0.48599889886706676,
          0.2811376039675239,
          0.17692591637085703,
          0.15628974605729531,
          0.15028255604545737,
          0.12123298547479792,
          0.09982438277303507,
          0.09071079200576934,
          0.07642079282404754,
          0.05936059547312942,
          0.0458069077405922,
          0.03706286196480404,
          0.02910236271229908,
          0.023720342798825404,
          0.019208003955520674,
          0.017457527680100737,
          0.016109938801404437,
          0.013828762575817503,
          0.010163876532517666
         ]
        },
        {
         "fill": "tozeroy",
         "line": {
          "color": "#984ea3"
         },
         "mode": "lines",
         "name": "Coinbase",
         "opacity": 0.2,
         "type": "scatter",
         "x": [
          0,
          0.20199999999999999,
          0.40399999999999997,
          0.606,
          0.8079999999999999,
          1.01,
          1.212,
          1.414,
          1.6159999999999999,
          1.8179999999999998,
          2.02,
          2.222,
          2.424,
          2.626,
          2.828,
          3.03,
          3.2319999999999998,
          3.4339999999999997,
          3.6359999999999997,
          3.8379999999999996,
          4.04,
          4.242,
          4.444,
          4.646,
          4.848,
          5.05,
          5.252,
          5.454,
          5.656,
          5.858,
          6.06,
          6.262,
          6.4639999999999995,
          6.6659999999999995,
          6.867999999999999,
          7.069999999999999,
          7.271999999999999,
          7.473999999999999,
          7.675999999999999,
          7.877999999999999,
          8.08,
          8.282,
          8.484,
          8.686,
          8.888,
          9.09,
          9.292,
          9.494,
          9.696,
          9.898,
          10.1
         ],
         "y": [
          0,
          0,
          0,
          0,
          4.690212261809524e-05,
          0.05023217332398001,
          0.19149354962924656,
          0.2987665210772667,
          0.6318575788905428,
          1.5350048520245847,
          3.0473716128655024,
          4.80498957287644,
          6.523108128622505,
          8.12068041221963,
          8.79059124659432,
          8.167324573163324,
          6.837610311838143,
          5.213022405612996,
          3.868244745906969,
          2.8676817640951433,
          2.5857374709969,
          3.0290406999422634,
          3.1538550652494517,
          3.3083193890717113,
          4.731486129713448,
          7.816512330020845,
          6.145037935218475,
          3.4679663974432713,
          1.5286183463280876,
          0.7810532309387038,
          0.6143083680109389,
          0.41972709530933433,
          0.27754331059257864,
          0.20545474812856623,
          0.15617625129782084,
          0.14715540971427385,
          0.1228601101981005,
          0.10186359330606651,
          0.0887388159934362,
          0.08046840837177874,
          0.0586354702930554,
          0.046128237594896676,
          0.03890531071171001,
          0.03293310709833921,
          0.027093792832386353,
          0.02310711240984826,
          0.019362759620836986,
          0.017643015124840164,
          0.015383896218735241,
          0.01085784138608905
         ]
        },
        {
         "fill": "tozeroy",
         "line": {
          "color": "#4daf4a"
         },
         "mode": "lines",
         "name": "Kiln",
         "opacity": 0.5,
         "type": "scatter",
         "x": [
          0,
          0.20199999999999999,
          0.40399999999999997,
          0.606,
          0.8079999999999999,
          1.01,
          1.212,
          1.414,
          1.6159999999999999,
          1.8179999999999998,
          2.02,
          2.222,
          2.424,
          2.626,
          2.828,
          3.03,
          3.2319999999999998,
          3.4339999999999997,
          3.6359999999999997,
          3.8379999999999996,
          4.04,
          4.242,
          4.444,
          4.646,
          4.848,
          5.05,
          5.252,
          5.454,
          5.656,
          5.858,
          6.06,
          6.262,
          6.4639999999999995,
          6.6659999999999995,
          6.867999999999999,
          7.069999999999999,
          7.271999999999999,
          7.473999999999999,
          7.675999999999999,
          7.877999999999999,
          8.08,
          8.282,
          8.484,
          8.686,
          8.888,
          9.09,
          9.292,
          9.494,
          9.696,
          9.898,
          10.1
         ],
         "y": [
          0,
          0,
          0,
          0,
          0,
          0.015778628306769658,
          0.12058900612322684,
          0.2642080952644196,
          0.6513104430571686,
          1.5487674876999438,
          2.97191023683833,
          4.937972085927948,
          7.372043717319496,
          9.705467843043605,
          10.852025785635808,
          10.610735868224058,
          9.058275510069338,
          7.607357898904427,
          5.784266088997283,
          4.452102239244739,
          3.5592109253460498,
          2.6005865173523506,
          2.687066829093284,
          2.6497128849173994,
          2.646355729958512,
          2.338728430559152,
          1.8279708751140593,
          1.2722274432198786,
          0.9097889938584206,
          0.7263988089709448,
          0.6859786632659434,
          0.6009083566077427,
          0.4386234858951373,
          0.2413346794778684,
          0.16779060484518032,
          0.1235656835201068,
          0.09959559711365244,
          0.079228857029737,
          0.07269359537643667,
          0.062487844301419695,
          0.05483353099515697,
          0.039636809547927754,
          0.031960115208605776,
          0.029005818844785074,
          0.024238658803165305,
          0.018800067769768104,
          0.017904826447398194,
          0.017166252356443017,
          0.01356290603390413,
          0.009825273513009759
         ]
        }
       ],
       "layout": {
        "annotations": [
         {
          "font": {
           "color": "#111111",
           "family": "Ubuntu Mono",
           "size": 19
          },
          "showarrow": false,
          "text": "block seen",
          "x": 2.247594931798345,
          "xanchor": "center",
          "y": 20,
          "yanchor": "top"
         }
        ],
        "barmode": "stack",
        "font": {
         "color": "black",
         "family": "Ubuntu Mono",
         "size": 16
        },
        "height": 500,
        "legend": {
         "traceorder": "normal",
         "x": 1,
         "xanchor": "right",
         "y": 1,
         "yanchor": "top"
        },
        "plot_bgcolor": "#FFFFFF",
        "shapes": [
         {
          "line": {
           "color": "black",
           "dash": "dash",
           "width": 2
          },
          "type": "line",
          "x0": 2.247594931798345,
          "x1": 2.247594931798345,
          "y0": 0,
          "y1": 19
         }
        ],
        "template": {
         "data": {
          "bar": [
           {
            "error_x": {
             "color": "#2a3f5f"
            },
            "error_y": {
             "color": "#2a3f5f"
            },
            "marker": {
             "line": {
              "color": "#E5ECF6",
              "width": 0.5
             },
             "pattern": {
              "fillmode": "overlay",
              "size": 10,
              "solidity": 0.2
             }
            },
            "type": "bar"
           }
          ],
          "barpolar": [
           {
            "marker": {
             "line": {
              "color": "#E5ECF6",
              "width": 0.5
             },
             "pattern": {
              "fillmode": "overlay",
              "size": 10,
              "solidity": 0.2
             }
            },
            "type": "barpolar"
           }
          ],
          "carpet": [
           {
            "aaxis": {
             "endlinecolor": "#2a3f5f",
             "gridcolor": "white",
             "linecolor": "white",
             "minorgridcolor": "white",
             "startlinecolor": "#2a3f5f"
            },
            "baxis": {
             "endlinecolor": "#2a3f5f",
             "gridcolor": "white",
             "linecolor": "white",
             "minorgridcolor": "white",
             "startlinecolor": "#2a3f5f"
            },
            "type": "carpet"
           }
          ],
          "choropleth": [
           {
            "colorbar": {
             "outlinewidth": 0,
             "ticks": ""
            },
            "type": "choropleth"
           }
          ],
          "contour": [
           {
            "colorbar": {
             "outlinewidth": 0,
             "ticks": ""
            },
            "colorscale": [
             [
              0,
              "#0d0887"
             ],
             [
              0.1111111111111111,
              "#46039f"
             ],
             [
              0.2222222222222222,
              "#7201a8"
             ],
             [
              0.3333333333333333,
              "#9c179e"
             ],
             [
              0.4444444444444444,
              "#bd3786"
             ],
             [
              0.5555555555555556,
              "#d8576b"
             ],
             [
              0.6666666666666666,
              "#ed7953"
             ],
             [
              0.7777777777777778,
              "#fb9f3a"
             ],
             [
              0.8888888888888888,
              "#fdca26"
             ],
             [
              1,
              "#f0f921"
             ]
            ],
            "type": "contour"
           }
          ],
          "contourcarpet": [
           {
            "colorbar": {
             "outlinewidth": 0,
             "ticks": ""
            },
            "type": "contourcarpet"
           }
          ],
          "heatmap": [
           {
            "colorbar": {
             "outlinewidth": 0,
             "ticks": ""
            },
            "colorscale": [
             [
              0,
              "#0d0887"
             ],
             [
              0.1111111111111111,
              "#46039f"
             ],
             [
              0.2222222222222222,
              "#7201a8"
             ],
             [
              0.3333333333333333,
              "#9c179e"
             ],
             [
              0.4444444444444444,
              "#bd3786"
             ],
             [
              0.5555555555555556,
              "#d8576b"
             ],
             [
              0.6666666666666666,
              "#ed7953"
             ],
             [
              0.7777777777777778,
              "#fb9f3a"
             ],
             [
              0.8888888888888888,
              "#fdca26"
             ],
             [
              1,
              "#f0f921"
             ]
            ],
            "type": "heatmap"
           }
          ],
          "heatmapgl": [
           {
            "colorbar": {
             "outlinewidth": 0,
             "ticks": ""
            },
            "colorscale": [
             [
              0,
              "#0d0887"
             ],
             [
              0.1111111111111111,
              "#46039f"
             ],
             [
              0.2222222222222222,
              "#7201a8"
             ],
             [
              0.3333333333333333,
              "#9c179e"
             ],
             [
              0.4444444444444444,
              "#bd3786"
             ],
             [
              0.5555555555555556,
              "#d8576b"
             ],
             [
              0.6666666666666666,
              "#ed7953"
             ],
             [
              0.7777777777777778,
              "#fb9f3a"
             ],
             [
              0.8888888888888888,
              "#fdca26"
             ],
             [
              1,
              "#f0f921"
             ]
            ],
            "type": "heatmapgl"
           }
          ],
          "histogram": [
           {
            "marker": {
             "pattern": {
              "fillmode": "overlay",
              "size": 10,
              "solidity": 0.2
             }
            },
            "type": "histogram"
           }
          ],
          "histogram2d": [
           {
            "colorbar": {
             "outlinewidth": 0,
             "ticks": ""
            },
            "colorscale": [
             [
              0,
              "#0d0887"
             ],
             [
              0.1111111111111111,
              "#46039f"
             ],
             [
              0.2222222222222222,
              "#7201a8"
             ],
             [
              0.3333333333333333,
              "#9c179e"
             ],
             [
              0.4444444444444444,
              "#bd3786"
             ],
             [
              0.5555555555555556,
              "#d8576b"
             ],
             [
              0.6666666666666666,
              "#ed7953"
             ],
             [
              0.7777777777777778,
              "#fb9f3a"
             ],
             [
              0.8888888888888888,
              "#fdca26"
             ],
             [
              1,
              "#f0f921"
             ]
            ],
            "type": "histogram2d"
           }
          ],
          "histogram2dcontour": [
           {
            "colorbar": {
             "outlinewidth": 0,
             "ticks": ""
            },
            "colorscale": [
             [
              0,
              "#0d0887"
             ],
             [
              0.1111111111111111,
              "#46039f"
             ],
             [
              0.2222222222222222,
              "#7201a8"
             ],
             [
              0.3333333333333333,
              "#9c179e"
             ],
             [
              0.4444444444444444,
              "#bd3786"
             ],
             [
              0.5555555555555556,
              "#d8576b"
             ],
             [
              0.6666666666666666,
              "#ed7953"
             ],
             [
              0.7777777777777778,
              "#fb9f3a"
             ],
             [
              0.8888888888888888,
              "#fdca26"
             ],
             [
              1,
              "#f0f921"
             ]
            ],
            "type": "histogram2dcontour"
           }
          ],
          "mesh3d": [
           {
            "colorbar": {
             "outlinewidth": 0,
             "ticks": ""
            },
            "type": "mesh3d"
           }
          ],
          "parcoords": [
           {
            "line": {
             "colorbar": {
              "outlinewidth": 0,
              "ticks": ""
             }
            },
            "type": "parcoords"
           }
          ],
          "pie": [
           {
            "automargin": true,
            "type": "pie"
           }
          ],
          "scatter": [
           {
            "fillpattern": {
             "fillmode": "overlay",
             "size": 10,
             "solidity": 0.2
            },
            "type": "scatter"
           }
          ],
          "scatter3d": [
           {
            "line": {
             "colorbar": {
              "outlinewidth": 0,
              "ticks": ""
             }
            },
            "marker": {
             "colorbar": {
              "outlinewidth": 0,
              "ticks": ""
             }
            },
            "type": "scatter3d"
           }
          ],
          "scattercarpet": [
           {
            "marker": {
             "colorbar": {
              "outlinewidth": 0,
              "ticks": ""
             }
            },
            "type": "scattercarpet"
           }
          ],
          "scattergeo": [
           {
            "marker": {
             "colorbar": {
              "outlinewidth": 0,
              "ticks": ""
             }
            },
            "type": "scattergeo"
           }
          ],
          "scattergl": [
           {
            "marker": {
             "colorbar": {
              "outlinewidth": 0,
              "ticks": ""
             }
            },
            "type": "scattergl"
           }
          ],
          "scattermapbox": [
           {
            "marker": {
             "colorbar": {
              "outlinewidth": 0,
              "ticks": ""
             }
            },
            "type": "scattermapbox"
           }
          ],
          "scatterpolar": [
           {
            "marker": {
             "colorbar": {
              "outlinewidth": 0,
              "ticks": ""
             }
            },
            "type": "scatterpolar"
           }
          ],
          "scatterpolargl": [
           {
            "marker": {
             "colorbar": {
              "outlinewidth": 0,
              "ticks": ""
             }
            },
            "type": "scatterpolargl"
           }
          ],
          "scatterternary": [
           {
            "marker": {
             "colorbar": {
              "outlinewidth": 0,
              "ticks": ""
             }
            },
            "type": "scatterternary"
           }
          ],
          "surface": [
           {
            "colorbar": {
             "outlinewidth": 0,
             "ticks": ""
            },
            "colorscale": [
             [
              0,
              "#0d0887"
             ],
             [
              0.1111111111111111,
              "#46039f"
             ],
             [
              0.2222222222222222,
              "#7201a8"
             ],
             [
              0.3333333333333333,
              "#9c179e"
             ],
             [
              0.4444444444444444,
              "#bd3786"
             ],
             [
              0.5555555555555556,
              "#d8576b"
             ],
             [
              0.6666666666666666,
              "#ed7953"
             ],
             [
              0.7777777777777778,
              "#fb9f3a"
             ],
             [
              0.8888888888888888,
              "#fdca26"
             ],
             [
              1,
              "#f0f921"
             ]
            ],
            "type": "surface"
           }
          ],
          "table": [
           {
            "cells": {
             "fill": {
              "color": "#EBF0F8"
             },
             "line": {
              "color": "white"
             }
            },
            "header": {
             "fill": {
              "color": "#C8D4E3"
             },
             "line": {
              "color": "white"
             }
            },
            "type": "table"
           }
          ]
         },
         "layout": {
          "annotationdefaults": {
           "arrowcolor": "#2a3f5f",
           "arrowhead": 0,
           "arrowwidth": 1
          },
          "autotypenumbers": "strict",
          "coloraxis": {
           "colorbar": {
            "outlinewidth": 0,
            "ticks": ""
           }
          },
          "colorscale": {
           "diverging": [
            [
             0,
             "#8e0152"
            ],
            [
             0.1,
             "#c51b7d"
            ],
            [
             0.2,
             "#de77ae"
            ],
            [
             0.3,
             "#f1b6da"
            ],
            [
             0.4,
             "#fde0ef"
            ],
            [
             0.5,
             "#f7f7f7"
            ],
            [
             0.6,
             "#e6f5d0"
            ],
            [
             0.7,
             "#b8e186"
            ],
            [
             0.8,
             "#7fbc41"
            ],
            [
             0.9,
             "#4d9221"
            ],
            [
             1,
             "#276419"
            ]
           ],
           "sequential": [
            [
             0,
             "#0d0887"
            ],
            [
             0.1111111111111111,
             "#46039f"
            ],
            [
             0.2222222222222222,
             "#7201a8"
            ],
            [
             0.3333333333333333,
             "#9c179e"
            ],
            [
             0.4444444444444444,
             "#bd3786"
            ],
            [
             0.5555555555555556,
             "#d8576b"
            ],
            [
             0.6666666666666666,
             "#ed7953"
            ],
            [
             0.7777777777777778,
             "#fb9f3a"
            ],
            [
             0.8888888888888888,
             "#fdca26"
            ],
            [
             1,
             "#f0f921"
            ]
           ],
           "sequentialminus": [
            [
             0,
             "#0d0887"
            ],
            [
             0.1111111111111111,
             "#46039f"
            ],
            [
             0.2222222222222222,
             "#7201a8"
            ],
            [
             0.3333333333333333,
             "#9c179e"
            ],
            [
             0.4444444444444444,
             "#bd3786"
            ],
            [
             0.5555555555555556,
             "#d8576b"
            ],
            [
             0.6666666666666666,
             "#ed7953"
            ],
            [
             0.7777777777777778,
             "#fb9f3a"
            ],
            [
             0.8888888888888888,
             "#fdca26"
            ],
            [
             1,
             "#f0f921"
            ]
           ]
          },
          "colorway": [
           "#636efa",
           "#EF553B",
           "#00cc96",
           "#ab63fa",
           "#FFA15A",
           "#19d3f3",
           "#FF6692",
           "#B6E880",
           "#FF97FF",
           "#FECB52"
          ],
          "font": {
           "color": "#2a3f5f"
          },
          "geo": {
           "bgcolor": "white",
           "lakecolor": "white",
           "landcolor": "#E5ECF6",
           "showlakes": true,
           "showland": true,
           "subunitcolor": "white"
          },
          "hoverlabel": {
           "align": "left"
          },
          "hovermode": "closest",
          "mapbox": {
           "style": "light"
          },
          "paper_bgcolor": "white",
          "plot_bgcolor": "#E5ECF6",
          "polar": {
           "angularaxis": {
            "gridcolor": "white",
            "linecolor": "white",
            "ticks": ""
           },
           "bgcolor": "#E5ECF6",
           "radialaxis": {
            "gridcolor": "white",
            "linecolor": "white",
            "ticks": ""
           }
          },
          "scene": {
           "xaxis": {
            "backgroundcolor": "#E5ECF6",
            "gridcolor": "white",
            "gridwidth": 2,
            "linecolor": "white",
            "showbackground": true,
            "ticks": "",
            "zerolinecolor": "white"
           },
           "yaxis": {
            "backgroundcolor": "#E5ECF6",
            "gridcolor": "white",
            "gridwidth": 2,
            "linecolor": "white",
            "showbackground": true,
            "ticks": "",
            "zerolinecolor": "white"
           },
           "zaxis": {
            "backgroundcolor": "#E5ECF6",
            "gridcolor": "white",
            "gridwidth": 2,
            "linecolor": "white",
            "showbackground": true,
            "ticks": "",
            "zerolinecolor": "white"
           }
          },
          "shapedefaults": {
           "line": {
            "color": "#2a3f5f"
           }
          },
          "ternary": {
           "aaxis": {
            "gridcolor": "white",
            "linecolor": "white",
            "ticks": ""
           },
           "baxis": {
            "gridcolor": "white",
            "linecolor": "white",
            "ticks": ""
           },
           "bgcolor": "#E5ECF6",
           "caxis": {
            "gridcolor": "white",
            "linecolor": "white",
            "ticks": ""
           }
          },
          "title": {
           "x": 0.05
          },
          "xaxis": {
           "automargin": true,
           "gridcolor": "white",
           "linecolor": "white",
           "ticks": "",
           "title": {
            "standoff": 15
           },
           "zerolinecolor": "white",
           "zerolinewidth": 2
          },
          "yaxis": {
           "automargin": true,
           "gridcolor": "white",
           "linecolor": "white",
           "ticks": "",
           "title": {
            "standoff": 15
           },
           "zerolinecolor": "white",
           "zerolinewidth": 2
          }
         }
        },
        "title": {
         "text": "Attestations first seen timing for lido blocks"
        },
        "width": 900,
        "xaxis": {
         "gridcolor": "lightgrey",
         "range": [
          0,
          10.01
         ],
         "showgrid": true,
         "tickmode": "linear",
         "title": {
          "text": "seconds in slot"
         }
        },
        "yaxis": {
         "gridcolor": "lightgrey",
         "range": [
          0,
          20
         ],
         "showgrid": true,
         "title": {
          "text": "%"
         }
        }
       }
      },
      "text/html": [
       "<div>                            <div id=\"97fed0f6-a8c9-40c4-b6e5-59ed88ff12a2\" class=\"plotly-graph-div\" style=\"height:500px; width:900px;\"></div>            <script type=\"text/javascript\">                require([\"plotly\"], function(Plotly) {                    window.PLOTLYENV=window.PLOTLYENV || {};                                    if (document.getElementById(\"97fed0f6-a8c9-40c4-b6e5-59ed88ff12a2\")) {                    Plotly.newPlot(                        \"97fed0f6-a8c9-40c4-b6e5-59ed88ff12a2\",                        [{\"fill\":\"tozeroy\",\"line\":{\"color\":\"#377eb8\"},\"mode\":\"lines\",\"name\":\"Lido\",\"opacity\":0.2,\"x\":[0.0,0.20199999999999999,0.40399999999999997,0.606,0.8079999999999999,1.01,1.212,1.414,1.6159999999999999,1.8179999999999998,2.02,2.222,2.424,2.626,2.828,3.03,3.2319999999999998,3.4339999999999997,3.6359999999999997,3.8379999999999996,4.04,4.242,4.444,4.646,4.848,5.05,5.252,5.454,5.656,5.858,6.06,6.262,6.4639999999999995,6.6659999999999995,6.867999999999999,7.069999999999999,7.271999999999999,7.473999999999999,7.675999999999999,7.877999999999999,8.08,8.282,8.484,8.686,8.888,9.09,9.292,9.494,9.696,9.898,10.1],\"y\":[0.0,0.0,0.0,0.0,0.0006529554360693416,0.027963163866390868,0.13042437518763786,0.32399648737760733,0.6826996400826281,1.4256851273839646,2.7655691319346474,4.4848258019091585,5.83624905720876,6.110429212614933,5.483605886657217,4.461341634480826,3.453078413974024,2.731798832487895,2.3444934531492665,2.1540916479914465,6.3804415673653425,8.649675654806634,8.263581716191947,8.502866265974312,8.256785422589285,6.017920709259644,3.8113370012757635,2.551666488145872,1.6023248547764595,0.9540790334481285,0.6817716098032783,0.48599889886706676,0.2811376039675239,0.17692591637085703,0.15628974605729531,0.15028255604545737,0.12123298547479792,0.09982438277303507,0.09071079200576934,0.07642079282404754,0.05936059547312942,0.0458069077405922,0.03706286196480404,0.02910236271229908,0.023720342798825404,0.019208003955520674,0.017457527680100737,0.016109938801404437,0.013828762575817503,0.010163876532517666],\"type\":\"scatter\"},{\"fill\":\"tozeroy\",\"line\":{\"color\":\"#984ea3\"},\"mode\":\"lines\",\"name\":\"Coinbase\",\"opacity\":0.2,\"x\":[0.0,0.20199999999999999,0.40399999999999997,0.606,0.8079999999999999,1.01,1.212,1.414,1.6159999999999999,1.8179999999999998,2.02,2.222,2.424,2.626,2.828,3.03,3.2319999999999998,3.4339999999999997,3.6359999999999997,3.8379999999999996,4.04,4.242,4.444,4.646,4.848,5.05,5.252,5.454,5.656,5.858,6.06,6.262,6.4639999999999995,6.6659999999999995,6.867999999999999,7.069999999999999,7.271999999999999,7.473999999999999,7.675999999999999,7.877999999999999,8.08,8.282,8.484,8.686,8.888,9.09,9.292,9.494,9.696,9.898,10.1],\"y\":[0.0,0.0,0.0,0.0,4.690212261809524e-05,0.05023217332398001,0.19149354962924656,0.2987665210772667,0.6318575788905428,1.5350048520245847,3.0473716128655024,4.80498957287644,6.523108128622505,8.12068041221963,8.79059124659432,8.167324573163324,6.837610311838143,5.213022405612996,3.868244745906969,2.8676817640951433,2.5857374709969,3.0290406999422634,3.1538550652494517,3.3083193890717113,4.731486129713448,7.816512330020845,6.145037935218475,3.4679663974432713,1.5286183463280876,0.7810532309387038,0.6143083680109389,0.41972709530933433,0.27754331059257864,0.20545474812856623,0.15617625129782084,0.14715540971427385,0.1228601101981005,0.10186359330606651,0.0887388159934362,0.08046840837177874,0.0586354702930554,0.046128237594896676,0.03890531071171001,0.03293310709833921,0.027093792832386353,0.02310711240984826,0.019362759620836986,0.017643015124840164,0.015383896218735241,0.01085784138608905],\"type\":\"scatter\"},{\"fill\":\"tozeroy\",\"line\":{\"color\":\"#4daf4a\"},\"mode\":\"lines\",\"name\":\"Kiln\",\"opacity\":0.5,\"x\":[0.0,0.20199999999999999,0.40399999999999997,0.606,0.8079999999999999,1.01,1.212,1.414,1.6159999999999999,1.8179999999999998,2.02,2.222,2.424,2.626,2.828,3.03,3.2319999999999998,3.4339999999999997,3.6359999999999997,3.8379999999999996,4.04,4.242,4.444,4.646,4.848,5.05,5.252,5.454,5.656,5.858,6.06,6.262,6.4639999999999995,6.6659999999999995,6.867999999999999,7.069999999999999,7.271999999999999,7.473999999999999,7.675999999999999,7.877999999999999,8.08,8.282,8.484,8.686,8.888,9.09,9.292,9.494,9.696,9.898,10.1],\"y\":[0.0,0.0,0.0,0.0,0.0,0.015778628306769658,0.12058900612322684,0.2642080952644196,0.6513104430571686,1.5487674876999438,2.97191023683833,4.937972085927948,7.372043717319496,9.705467843043605,10.852025785635808,10.610735868224058,9.058275510069338,7.607357898904427,5.784266088997283,4.452102239244739,3.5592109253460498,2.6005865173523506,2.687066829093284,2.6497128849173994,2.646355729958512,2.338728430559152,1.8279708751140593,1.2722274432198786,0.9097889938584206,0.7263988089709448,0.6859786632659434,0.6009083566077427,0.4386234858951373,0.2413346794778684,0.16779060484518032,0.1235656835201068,0.09959559711365244,0.079228857029737,0.07269359537643667,0.062487844301419695,0.05483353099515697,0.039636809547927754,0.031960115208605776,0.029005818844785074,0.024238658803165305,0.018800067769768104,0.017904826447398194,0.017166252356443017,0.01356290603390413,0.009825273513009759],\"type\":\"scatter\"}],                        {\"template\":{\"data\":{\"histogram2dcontour\":[{\"type\":\"histogram2dcontour\",\"colorbar\":{\"outlinewidth\":0,\"ticks\":\"\"},\"colorscale\":[[0.0,\"#0d0887\"],[0.1111111111111111,\"#46039f\"],[0.2222222222222222,\"#7201a8\"],[0.3333333333333333,\"#9c179e\"],[0.4444444444444444,\"#bd3786\"],[0.5555555555555556,\"#d8576b\"],[0.6666666666666666,\"#ed7953\"],[0.7777777777777778,\"#fb9f3a\"],[0.8888888888888888,\"#fdca26\"],[1.0,\"#f0f921\"]]}],\"choropleth\":[{\"type\":\"choropleth\",\"colorbar\":{\"outlinewidth\":0,\"ticks\":\"\"}}],\"histogram2d\":[{\"type\":\"histogram2d\",\"colorbar\":{\"outlinewidth\":0,\"ticks\":\"\"},\"colorscale\":[[0.0,\"#0d0887\"],[0.1111111111111111,\"#46039f\"],[0.2222222222222222,\"#7201a8\"],[0.3333333333333333,\"#9c179e\"],[0.4444444444444444,\"#bd3786\"],[0.5555555555555556,\"#d8576b\"],[0.6666666666666666,\"#ed7953\"],[0.7777777777777778,\"#fb9f3a\"],[0.8888888888888888,\"#fdca26\"],[1.0,\"#f0f921\"]]}],\"heatmap\":[{\"type\":\"heatmap\",\"colorbar\":{\"outlinewidth\":0,\"ticks\":\"\"},\"colorscale\":[[0.0,\"#0d0887\"],[0.1111111111111111,\"#46039f\"],[0.2222222222222222,\"#7201a8\"],[0.3333333333333333,\"#9c179e\"],[0.4444444444444444,\"#bd3786\"],[0.5555555555555556,\"#d8576b\"],[0.6666666666666666,\"#ed7953\"],[0.7777777777777778,\"#fb9f3a\"],[0.8888888888888888,\"#fdca26\"],[1.0,\"#f0f921\"]]}],\"heatmapgl\":[{\"type\":\"heatmapgl\",\"colorbar\":{\"outlinewidth\":0,\"ticks\":\"\"},\"colorscale\":[[0.0,\"#0d0887\"],[0.1111111111111111,\"#46039f\"],[0.2222222222222222,\"#7201a8\"],[0.3333333333333333,\"#9c179e\"],[0.4444444444444444,\"#bd3786\"],[0.5555555555555556,\"#d8576b\"],[0.6666666666666666,\"#ed7953\"],[0.7777777777777778,\"#fb9f3a\"],[0.8888888888888888,\"#fdca26\"],[1.0,\"#f0f921\"]]}],\"contourcarpet\":[{\"type\":\"contourcarpet\",\"colorbar\":{\"outlinewidth\":0,\"ticks\":\"\"}}],\"contour\":[{\"type\":\"contour\",\"colorbar\":{\"outlinewidth\":0,\"ticks\":\"\"},\"colorscale\":[[0.0,\"#0d0887\"],[0.1111111111111111,\"#46039f\"],[0.2222222222222222,\"#7201a8\"],[0.3333333333333333,\"#9c179e\"],[0.4444444444444444,\"#bd3786\"],[0.5555555555555556,\"#d8576b\"],[0.6666666666666666,\"#ed7953\"],[0.7777777777777778,\"#fb9f3a\"],[0.8888888888888888,\"#fdca26\"],[1.0,\"#f0f921\"]]}],\"surface\":[{\"type\":\"surface\",\"colorbar\":{\"outlinewidth\":0,\"ticks\":\"\"},\"colorscale\":[[0.0,\"#0d0887\"],[0.1111111111111111,\"#46039f\"],[0.2222222222222222,\"#7201a8\"],[0.3333333333333333,\"#9c179e\"],[0.4444444444444444,\"#bd3786\"],[0.5555555555555556,\"#d8576b\"],[0.6666666666666666,\"#ed7953\"],[0.7777777777777778,\"#fb9f3a\"],[0.8888888888888888,\"#fdca26\"],[1.0,\"#f0f921\"]]}],\"mesh3d\":[{\"type\":\"mesh3d\",\"colorbar\":{\"outlinewidth\":0,\"ticks\":\"\"}}],\"scatter\":[{\"fillpattern\":{\"fillmode\":\"overlay\",\"size\":10,\"solidity\":0.2},\"type\":\"scatter\"}],\"parcoords\":[{\"type\":\"parcoords\",\"line\":{\"colorbar\":{\"outlinewidth\":0,\"ticks\":\"\"}}}],\"scatterpolargl\":[{\"type\":\"scatterpolargl\",\"marker\":{\"colorbar\":{\"outlinewidth\":0,\"ticks\":\"\"}}}],\"bar\":[{\"error_x\":{\"color\":\"#2a3f5f\"},\"error_y\":{\"color\":\"#2a3f5f\"},\"marker\":{\"line\":{\"color\":\"#E5ECF6\",\"width\":0.5},\"pattern\":{\"fillmode\":\"overlay\",\"size\":10,\"solidity\":0.2}},\"type\":\"bar\"}],\"scattergeo\":[{\"type\":\"scattergeo\",\"marker\":{\"colorbar\":{\"outlinewidth\":0,\"ticks\":\"\"}}}],\"scatterpolar\":[{\"type\":\"scatterpolar\",\"marker\":{\"colorbar\":{\"outlinewidth\":0,\"ticks\":\"\"}}}],\"histogram\":[{\"marker\":{\"pattern\":{\"fillmode\":\"overlay\",\"size\":10,\"solidity\":0.2}},\"type\":\"histogram\"}],\"scattergl\":[{\"type\":\"scattergl\",\"marker\":{\"colorbar\":{\"outlinewidth\":0,\"ticks\":\"\"}}}],\"scatter3d\":[{\"type\":\"scatter3d\",\"line\":{\"colorbar\":{\"outlinewidth\":0,\"ticks\":\"\"}},\"marker\":{\"colorbar\":{\"outlinewidth\":0,\"ticks\":\"\"}}}],\"scattermapbox\":[{\"type\":\"scattermapbox\",\"marker\":{\"colorbar\":{\"outlinewidth\":0,\"ticks\":\"\"}}}],\"scatterternary\":[{\"type\":\"scatterternary\",\"marker\":{\"colorbar\":{\"outlinewidth\":0,\"ticks\":\"\"}}}],\"scattercarpet\":[{\"type\":\"scattercarpet\",\"marker\":{\"colorbar\":{\"outlinewidth\":0,\"ticks\":\"\"}}}],\"carpet\":[{\"aaxis\":{\"endlinecolor\":\"#2a3f5f\",\"gridcolor\":\"white\",\"linecolor\":\"white\",\"minorgridcolor\":\"white\",\"startlinecolor\":\"#2a3f5f\"},\"baxis\":{\"endlinecolor\":\"#2a3f5f\",\"gridcolor\":\"white\",\"linecolor\":\"white\",\"minorgridcolor\":\"white\",\"startlinecolor\":\"#2a3f5f\"},\"type\":\"carpet\"}],\"table\":[{\"cells\":{\"fill\":{\"color\":\"#EBF0F8\"},\"line\":{\"color\":\"white\"}},\"header\":{\"fill\":{\"color\":\"#C8D4E3\"},\"line\":{\"color\":\"white\"}},\"type\":\"table\"}],\"barpolar\":[{\"marker\":{\"line\":{\"color\":\"#E5ECF6\",\"width\":0.5},\"pattern\":{\"fillmode\":\"overlay\",\"size\":10,\"solidity\":0.2}},\"type\":\"barpolar\"}],\"pie\":[{\"automargin\":true,\"type\":\"pie\"}]},\"layout\":{\"autotypenumbers\":\"strict\",\"colorway\":[\"#636efa\",\"#EF553B\",\"#00cc96\",\"#ab63fa\",\"#FFA15A\",\"#19d3f3\",\"#FF6692\",\"#B6E880\",\"#FF97FF\",\"#FECB52\"],\"font\":{\"color\":\"#2a3f5f\"},\"hovermode\":\"closest\",\"hoverlabel\":{\"align\":\"left\"},\"paper_bgcolor\":\"white\",\"plot_bgcolor\":\"#E5ECF6\",\"polar\":{\"bgcolor\":\"#E5ECF6\",\"angularaxis\":{\"gridcolor\":\"white\",\"linecolor\":\"white\",\"ticks\":\"\"},\"radialaxis\":{\"gridcolor\":\"white\",\"linecolor\":\"white\",\"ticks\":\"\"}},\"ternary\":{\"bgcolor\":\"#E5ECF6\",\"aaxis\":{\"gridcolor\":\"white\",\"linecolor\":\"white\",\"ticks\":\"\"},\"baxis\":{\"gridcolor\":\"white\",\"linecolor\":\"white\",\"ticks\":\"\"},\"caxis\":{\"gridcolor\":\"white\",\"linecolor\":\"white\",\"ticks\":\"\"}},\"coloraxis\":{\"colorbar\":{\"outlinewidth\":0,\"ticks\":\"\"}},\"colorscale\":{\"sequential\":[[0.0,\"#0d0887\"],[0.1111111111111111,\"#46039f\"],[0.2222222222222222,\"#7201a8\"],[0.3333333333333333,\"#9c179e\"],[0.4444444444444444,\"#bd3786\"],[0.5555555555555556,\"#d8576b\"],[0.6666666666666666,\"#ed7953\"],[0.7777777777777778,\"#fb9f3a\"],[0.8888888888888888,\"#fdca26\"],[1.0,\"#f0f921\"]],\"sequentialminus\":[[0.0,\"#0d0887\"],[0.1111111111111111,\"#46039f\"],[0.2222222222222222,\"#7201a8\"],[0.3333333333333333,\"#9c179e\"],[0.4444444444444444,\"#bd3786\"],[0.5555555555555556,\"#d8576b\"],[0.6666666666666666,\"#ed7953\"],[0.7777777777777778,\"#fb9f3a\"],[0.8888888888888888,\"#fdca26\"],[1.0,\"#f0f921\"]],\"diverging\":[[0,\"#8e0152\"],[0.1,\"#c51b7d\"],[0.2,\"#de77ae\"],[0.3,\"#f1b6da\"],[0.4,\"#fde0ef\"],[0.5,\"#f7f7f7\"],[0.6,\"#e6f5d0\"],[0.7,\"#b8e186\"],[0.8,\"#7fbc41\"],[0.9,\"#4d9221\"],[1,\"#276419\"]]},\"xaxis\":{\"gridcolor\":\"white\",\"linecolor\":\"white\",\"ticks\":\"\",\"title\":{\"standoff\":15},\"zerolinecolor\":\"white\",\"automargin\":true,\"zerolinewidth\":2},\"yaxis\":{\"gridcolor\":\"white\",\"linecolor\":\"white\",\"ticks\":\"\",\"title\":{\"standoff\":15},\"zerolinecolor\":\"white\",\"automargin\":true,\"zerolinewidth\":2},\"scene\":{\"xaxis\":{\"backgroundcolor\":\"#E5ECF6\",\"gridcolor\":\"white\",\"linecolor\":\"white\",\"showbackground\":true,\"ticks\":\"\",\"zerolinecolor\":\"white\",\"gridwidth\":2},\"yaxis\":{\"backgroundcolor\":\"#E5ECF6\",\"gridcolor\":\"white\",\"linecolor\":\"white\",\"showbackground\":true,\"ticks\":\"\",\"zerolinecolor\":\"white\",\"gridwidth\":2},\"zaxis\":{\"backgroundcolor\":\"#E5ECF6\",\"gridcolor\":\"white\",\"linecolor\":\"white\",\"showbackground\":true,\"ticks\":\"\",\"zerolinecolor\":\"white\",\"gridwidth\":2}},\"shapedefaults\":{\"line\":{\"color\":\"#2a3f5f\"}},\"annotationdefaults\":{\"arrowcolor\":\"#2a3f5f\",\"arrowhead\":0,\"arrowwidth\":1},\"geo\":{\"bgcolor\":\"white\",\"landcolor\":\"#E5ECF6\",\"subunitcolor\":\"white\",\"showland\":true,\"showlakes\":true,\"lakecolor\":\"white\"},\"title\":{\"x\":0.05},\"mapbox\":{\"style\":\"light\"}}},\"shapes\":[{\"line\":{\"color\":\"black\",\"dash\":\"dash\",\"width\":2},\"type\":\"line\",\"x0\":2.247594931798345,\"x1\":2.247594931798345,\"y0\":0,\"y1\":19}],\"annotations\":[{\"font\":{\"color\":\"#111111\",\"family\":\"Ubuntu Mono\",\"size\":19},\"showarrow\":false,\"text\":\"block seen\",\"x\":2.247594931798345,\"xanchor\":\"center\",\"y\":20,\"yanchor\":\"top\"}],\"legend\":{\"traceorder\":\"normal\",\"x\":1,\"y\":1,\"xanchor\":\"right\",\"yanchor\":\"top\"},\"xaxis\":{\"title\":{\"text\":\"seconds in slot\"},\"tickmode\":\"linear\",\"showgrid\":true,\"gridcolor\":\"lightgrey\",\"range\":[0,10.01]},\"yaxis\":{\"title\":{\"text\":\"%\"},\"showgrid\":true,\"gridcolor\":\"lightgrey\",\"range\":[0,20]},\"font\":{\"family\":\"Ubuntu Mono\",\"size\":16,\"color\":\"black\"},\"title\":{\"text\":\"Attestations first seen timing for lido blocks\"},\"barmode\":\"stack\",\"height\":500,\"width\":900,\"plot_bgcolor\":\"#FFFFFF\"},                        {\"responsive\": true}                    ).then(function(){\n",
       "                            \n",
       "var gd = document.getElementById('97fed0f6-a8c9-40c4-b6e5-59ed88ff12a2');\n",
       "var x = new MutationObserver(function (mutations, observer) {{\n",
       "        var display = window.getComputedStyle(gd).display;\n",
       "        if (!display || display === 'none') {{\n",
       "            console.log([gd, 'removed!']);\n",
       "            Plotly.purge(gd);\n",
       "            observer.disconnect();\n",
       "        }}\n",
       "}});\n",
       "\n",
       "// Listen for the removal of the full notebook cells\n",
       "var notebookContainer = gd.closest('#notebook-container');\n",
       "if (notebookContainer) {{\n",
       "    x.observe(notebookContainer, {childList: true});\n",
       "}}\n",
       "\n",
       "// Listen for the clearing of the current output cell\n",
       "var outputEl = gd.closest('.output');\n",
       "if (outputEl) {{\n",
       "    x.observe(outputEl, {childList: true});\n",
       "}}\n",
       "\n",
       "                        })                };                });            </script>        </div>"
      ]
     },
     "metadata": {},
     "output_type": "display_data"
    },
    {
     "name": "stdout",
     "output_type": "stream",
     "text": [
      "att_pics/attestations_seen_late_002.png\n"
     ]
    },
    {
     "data": {
      "application/vnd.plotly.v1+json": {
       "config": {
        "plotlyServerURL": "https://plot.ly"
       },
       "data": [
        {
         "fill": "tozeroy",
         "line": {
          "color": "#377eb8"
         },
         "mode": "lines",
         "name": "Lido",
         "opacity": 0.2,
         "type": "scatter",
         "x": [
          0,
          0.20199999999999999,
          0.40399999999999997,
          0.606,
          0.8079999999999999,
          1.01,
          1.212,
          1.414,
          1.6159999999999999,
          1.8179999999999998,
          2.02,
          2.222,
          2.424,
          2.626,
          2.828,
          3.03,
          3.2319999999999998,
          3.4339999999999997,
          3.6359999999999997,
          3.8379999999999996,
          4.04,
          4.242,
          4.444,
          4.646,
          4.848,
          5.05,
          5.252,
          5.454,
          5.656,
          5.858,
          6.06,
          6.262,
          6.4639999999999995,
          6.6659999999999995,
          6.867999999999999,
          7.069999999999999,
          7.271999999999999,
          7.473999999999999,
          7.675999999999999,
          7.877999999999999,
          8.08,
          8.282,
          8.484,
          8.686,
          8.888,
          9.09,
          9.292,
          9.494,
          9.696,
          9.898,
          10.1
         ],
         "y": [
          0,
          0,
          0,
          0,
          0,
          0,
          0,
          0.0004588496143707487,
          0.07042965474349705,
          0.5439398903996324,
          1.667391799499869,
          3.380608383438207,
          5.097352843919822,
          6.174724216337514,
          6.390488844839326,
          5.793721071788451,
          4.753915190750554,
          3.5501119442616567,
          2.6854436955416965,
          2.08760025864074,
          5.088679833995732,
          7.568897397916492,
          7.764382377888082,
          8.575643540345219,
          8.599240445923595,
          6.976718121009324,
          4.634463848517645,
          3.0670260437023416,
          1.7659617232164966,
          0.8382956790808807,
          0.5713505132646653,
          0.4413681962757057,
          0.2963416296352462,
          0.21990179715597485,
          0.1933712628955547,
          0.18106506668062772,
          0.175761968678474,
          0.16500533017765154,
          0.15393276243414755,
          0.11899249261853889,
          0.09089735639436274,
          0.06741328268837131,
          0.05214336929209885,
          0.04590752781155212,
          0.0352035441845099,
          0.02801239285109292,
          0.026094251020526676,
          0.021874338993280937,
          0.022325666482825936,
          0.01754159509364895
         ]
        },
        {
         "fill": "tozeroy",
         "line": {
          "color": "#984ea3"
         },
         "mode": "lines",
         "name": "Coinbase",
         "opacity": 0.2,
         "type": "scatter",
         "x": [
          0,
          0.20199999999999999,
          0.40399999999999997,
          0.606,
          0.8079999999999999,
          1.01,
          1.212,
          1.414,
          1.6159999999999999,
          1.8179999999999998,
          2.02,
          2.222,
          2.424,
          2.626,
          2.828,
          3.03,
          3.2319999999999998,
          3.4339999999999997,
          3.6359999999999997,
          3.8379999999999996,
          4.04,
          4.242,
          4.444,
          4.646,
          4.848,
          5.05,
          5.252,
          5.454,
          5.656,
          5.858,
          6.06,
          6.262,
          6.4639999999999995,
          6.6659999999999995,
          6.867999999999999,
          7.069999999999999,
          7.271999999999999,
          7.473999999999999,
          7.675999999999999,
          7.877999999999999,
          8.08,
          8.282,
          8.484,
          8.686,
          8.888,
          9.09,
          9.292,
          9.494,
          9.696,
          9.898,
          10.1
         ],
         "y": [
          0,
          0,
          0,
          0,
          0,
          0,
          0,
          0.0006736433664653596,
          0.11788758913143793,
          0.7222719969820778,
          1.7794710552286515,
          3.240393003539996,
          4.954120676472669,
          7.164702434883948,
          9.024863334602028,
          9.38962016618782,
          8.453824273391424,
          7.2091839484258635,
          5.61757518702024,
          3.7483411532100788,
          2.6872054915407237,
          2.7549277012256943,
          3.0027021519537342,
          3.2551921062470317,
          4.423247600987561,
          7.316945835705119,
          6.6416815148892026,
          4.060427494080359,
          1.4845836715584402,
          0.5360727602200119,
          0.39862846210587655,
          0.3445685819470314,
          0.2797093565695385,
          0.2200498159269501,
          0.19491449781571138,
          0.1762840484619038,
          0.14508594005247683,
          0.1312130969743308,
          0.1201611354932585,
          0.09268911695459307,
          0.0762059058313938,
          0.060122670457033345,
          0.04090278315756855,
          0.03425055491372313,
          0.024482726099975413,
          0.018083114118554493,
          0.015893773177542078,
          0.015556951494309398,
          0.014083356630166424,
          0.011199320967486603
         ]
        },
        {
         "fill": "tozeroy",
         "line": {
          "color": "#4daf4a"
         },
         "mode": "lines",
         "name": "Kiln",
         "opacity": 0.5,
         "type": "scatter",
         "x": [
          0,
          0.20199999999999999,
          0.40399999999999997,
          0.606,
          0.8079999999999999,
          1.01,
          1.212,
          1.414,
          1.6159999999999999,
          1.8179999999999998,
          2.02,
          2.222,
          2.424,
          2.626,
          2.828,
          3.03,
          3.2319999999999998,
          3.4339999999999997,
          3.6359999999999997,
          3.8379999999999996,
          4.04,
          4.242,
          4.444,
          4.646,
          4.848,
          5.05,
          5.252,
          5.454,
          5.656,
          5.858,
          6.06,
          6.262,
          6.4639999999999995,
          6.6659999999999995,
          6.867999999999999,
          7.069999999999999,
          7.271999999999999,
          7.473999999999999,
          7.675999999999999,
          7.877999999999999,
          8.08,
          8.282,
          8.484,
          8.686,
          8.888,
          9.09,
          9.292,
          9.494,
          9.696,
          9.898,
          10.1
         ],
         "y": [
          0,
          0,
          0,
          0,
          0,
          0,
          0,
          0,
          0.11537058559055319,
          0.7932333697300061,
          1.8482319336570656,
          3.5684897723733497,
          5.714843177199282,
          8.278869610636393,
          10.131888454094746,
          11.214941945085055,
          10.787392127896535,
          9.597390588814143,
          8.238998893557305,
          5.870084479868924,
          3.8128039536239333,
          2.5676620611342913,
          2.7221156444695436,
          2.781618751113411,
          2.793495134924203,
          2.489920222209565,
          2.0998173703020115,
          1.4839420383995,
          0.7549380913196965,
          0.39385966719464055,
          0.29127437233917497,
          0.2566147216260466,
          0.21862241219050205,
          0.1789334764962729,
          0.1468187651711714,
          0.13427584961589592,
          0.12342956031930506,
          0.12197530924043254,
          0.11137139512365375,
          0.09119366140429755,
          0.06429001644515596,
          0.04150674954281982,
          0.04490000206018903,
          0.03120580440080614,
          0.019087045410201814,
          0.015814980482738647,
          0.013936572839194975,
          0.011331039656215045,
          0.011573414836027132,
          0.011936977605745261
         ]
        }
       ],
       "layout": {
        "annotations": [
         {
          "font": {
           "color": "#111111",
           "family": "Ubuntu Mono",
           "size": 19
          },
          "showarrow": false,
          "text": "block seen",
          "x": 2.6674978652055197,
          "xanchor": "center",
          "y": 20,
          "yanchor": "top"
         }
        ],
        "barmode": "stack",
        "font": {
         "color": "black",
         "family": "Ubuntu Mono",
         "size": 16
        },
        "height": 500,
        "legend": {
         "traceorder": "normal",
         "x": 1,
         "xanchor": "right",
         "y": 1,
         "yanchor": "top"
        },
        "plot_bgcolor": "#FFFFFF",
        "shapes": [
         {
          "line": {
           "color": "black",
           "dash": "dash",
           "width": 2
          },
          "type": "line",
          "x0": 2.6674978652055197,
          "x1": 2.6674978652055197,
          "y0": 0,
          "y1": 19
         }
        ],
        "template": {
         "data": {
          "bar": [
           {
            "error_x": {
             "color": "#2a3f5f"
            },
            "error_y": {
             "color": "#2a3f5f"
            },
            "marker": {
             "line": {
              "color": "#E5ECF6",
              "width": 0.5
             },
             "pattern": {
              "fillmode": "overlay",
              "size": 10,
              "solidity": 0.2
             }
            },
            "type": "bar"
           }
          ],
          "barpolar": [
           {
            "marker": {
             "line": {
              "color": "#E5ECF6",
              "width": 0.5
             },
             "pattern": {
              "fillmode": "overlay",
              "size": 10,
              "solidity": 0.2
             }
            },
            "type": "barpolar"
           }
          ],
          "carpet": [
           {
            "aaxis": {
             "endlinecolor": "#2a3f5f",
             "gridcolor": "white",
             "linecolor": "white",
             "minorgridcolor": "white",
             "startlinecolor": "#2a3f5f"
            },
            "baxis": {
             "endlinecolor": "#2a3f5f",
             "gridcolor": "white",
             "linecolor": "white",
             "minorgridcolor": "white",
             "startlinecolor": "#2a3f5f"
            },
            "type": "carpet"
           }
          ],
          "choropleth": [
           {
            "colorbar": {
             "outlinewidth": 0,
             "ticks": ""
            },
            "type": "choropleth"
           }
          ],
          "contour": [
           {
            "colorbar": {
             "outlinewidth": 0,
             "ticks": ""
            },
            "colorscale": [
             [
              0,
              "#0d0887"
             ],
             [
              0.1111111111111111,
              "#46039f"
             ],
             [
              0.2222222222222222,
              "#7201a8"
             ],
             [
              0.3333333333333333,
              "#9c179e"
             ],
             [
              0.4444444444444444,
              "#bd3786"
             ],
             [
              0.5555555555555556,
              "#d8576b"
             ],
             [
              0.6666666666666666,
              "#ed7953"
             ],
             [
              0.7777777777777778,
              "#fb9f3a"
             ],
             [
              0.8888888888888888,
              "#fdca26"
             ],
             [
              1,
              "#f0f921"
             ]
            ],
            "type": "contour"
           }
          ],
          "contourcarpet": [
           {
            "colorbar": {
             "outlinewidth": 0,
             "ticks": ""
            },
            "type": "contourcarpet"
           }
          ],
          "heatmap": [
           {
            "colorbar": {
             "outlinewidth": 0,
             "ticks": ""
            },
            "colorscale": [
             [
              0,
              "#0d0887"
             ],
             [
              0.1111111111111111,
              "#46039f"
             ],
             [
              0.2222222222222222,
              "#7201a8"
             ],
             [
              0.3333333333333333,
              "#9c179e"
             ],
             [
              0.4444444444444444,
              "#bd3786"
             ],
             [
              0.5555555555555556,
              "#d8576b"
             ],
             [
              0.6666666666666666,
              "#ed7953"
             ],
             [
              0.7777777777777778,
              "#fb9f3a"
             ],
             [
              0.8888888888888888,
              "#fdca26"
             ],
             [
              1,
              "#f0f921"
             ]
            ],
            "type": "heatmap"
           }
          ],
          "heatmapgl": [
           {
            "colorbar": {
             "outlinewidth": 0,
             "ticks": ""
            },
            "colorscale": [
             [
              0,
              "#0d0887"
             ],
             [
              0.1111111111111111,
              "#46039f"
             ],
             [
              0.2222222222222222,
              "#7201a8"
             ],
             [
              0.3333333333333333,
              "#9c179e"
             ],
             [
              0.4444444444444444,
              "#bd3786"
             ],
             [
              0.5555555555555556,
              "#d8576b"
             ],
             [
              0.6666666666666666,
              "#ed7953"
             ],
             [
              0.7777777777777778,
              "#fb9f3a"
             ],
             [
              0.8888888888888888,
              "#fdca26"
             ],
             [
              1,
              "#f0f921"
             ]
            ],
            "type": "heatmapgl"
           }
          ],
          "histogram": [
           {
            "marker": {
             "pattern": {
              "fillmode": "overlay",
              "size": 10,
              "solidity": 0.2
             }
            },
            "type": "histogram"
           }
          ],
          "histogram2d": [
           {
            "colorbar": {
             "outlinewidth": 0,
             "ticks": ""
            },
            "colorscale": [
             [
              0,
              "#0d0887"
             ],
             [
              0.1111111111111111,
              "#46039f"
             ],
             [
              0.2222222222222222,
              "#7201a8"
             ],
             [
              0.3333333333333333,
              "#9c179e"
             ],
             [
              0.4444444444444444,
              "#bd3786"
             ],
             [
              0.5555555555555556,
              "#d8576b"
             ],
             [
              0.6666666666666666,
              "#ed7953"
             ],
             [
              0.7777777777777778,
              "#fb9f3a"
             ],
             [
              0.8888888888888888,
              "#fdca26"
             ],
             [
              1,
              "#f0f921"
             ]
            ],
            "type": "histogram2d"
           }
          ],
          "histogram2dcontour": [
           {
            "colorbar": {
             "outlinewidth": 0,
             "ticks": ""
            },
            "colorscale": [
             [
              0,
              "#0d0887"
             ],
             [
              0.1111111111111111,
              "#46039f"
             ],
             [
              0.2222222222222222,
              "#7201a8"
             ],
             [
              0.3333333333333333,
              "#9c179e"
             ],
             [
              0.4444444444444444,
              "#bd3786"
             ],
             [
              0.5555555555555556,
              "#d8576b"
             ],
             [
              0.6666666666666666,
              "#ed7953"
             ],
             [
              0.7777777777777778,
              "#fb9f3a"
             ],
             [
              0.8888888888888888,
              "#fdca26"
             ],
             [
              1,
              "#f0f921"
             ]
            ],
            "type": "histogram2dcontour"
           }
          ],
          "mesh3d": [
           {
            "colorbar": {
             "outlinewidth": 0,
             "ticks": ""
            },
            "type": "mesh3d"
           }
          ],
          "parcoords": [
           {
            "line": {
             "colorbar": {
              "outlinewidth": 0,
              "ticks": ""
             }
            },
            "type": "parcoords"
           }
          ],
          "pie": [
           {
            "automargin": true,
            "type": "pie"
           }
          ],
          "scatter": [
           {
            "fillpattern": {
             "fillmode": "overlay",
             "size": 10,
             "solidity": 0.2
            },
            "type": "scatter"
           }
          ],
          "scatter3d": [
           {
            "line": {
             "colorbar": {
              "outlinewidth": 0,
              "ticks": ""
             }
            },
            "marker": {
             "colorbar": {
              "outlinewidth": 0,
              "ticks": ""
             }
            },
            "type": "scatter3d"
           }
          ],
          "scattercarpet": [
           {
            "marker": {
             "colorbar": {
              "outlinewidth": 0,
              "ticks": ""
             }
            },
            "type": "scattercarpet"
           }
          ],
          "scattergeo": [
           {
            "marker": {
             "colorbar": {
              "outlinewidth": 0,
              "ticks": ""
             }
            },
            "type": "scattergeo"
           }
          ],
          "scattergl": [
           {
            "marker": {
             "colorbar": {
              "outlinewidth": 0,
              "ticks": ""
             }
            },
            "type": "scattergl"
           }
          ],
          "scattermapbox": [
           {
            "marker": {
             "colorbar": {
              "outlinewidth": 0,
              "ticks": ""
             }
            },
            "type": "scattermapbox"
           }
          ],
          "scatterpolar": [
           {
            "marker": {
             "colorbar": {
              "outlinewidth": 0,
              "ticks": ""
             }
            },
            "type": "scatterpolar"
           }
          ],
          "scatterpolargl": [
           {
            "marker": {
             "colorbar": {
              "outlinewidth": 0,
              "ticks": ""
             }
            },
            "type": "scatterpolargl"
           }
          ],
          "scatterternary": [
           {
            "marker": {
             "colorbar": {
              "outlinewidth": 0,
              "ticks": ""
             }
            },
            "type": "scatterternary"
           }
          ],
          "surface": [
           {
            "colorbar": {
             "outlinewidth": 0,
             "ticks": ""
            },
            "colorscale": [
             [
              0,
              "#0d0887"
             ],
             [
              0.1111111111111111,
              "#46039f"
             ],
             [
              0.2222222222222222,
              "#7201a8"
             ],
             [
              0.3333333333333333,
              "#9c179e"
             ],
             [
              0.4444444444444444,
              "#bd3786"
             ],
             [
              0.5555555555555556,
              "#d8576b"
             ],
             [
              0.6666666666666666,
              "#ed7953"
             ],
             [
              0.7777777777777778,
              "#fb9f3a"
             ],
             [
              0.8888888888888888,
              "#fdca26"
             ],
             [
              1,
              "#f0f921"
             ]
            ],
            "type": "surface"
           }
          ],
          "table": [
           {
            "cells": {
             "fill": {
              "color": "#EBF0F8"
             },
             "line": {
              "color": "white"
             }
            },
            "header": {
             "fill": {
              "color": "#C8D4E3"
             },
             "line": {
              "color": "white"
             }
            },
            "type": "table"
           }
          ]
         },
         "layout": {
          "annotationdefaults": {
           "arrowcolor": "#2a3f5f",
           "arrowhead": 0,
           "arrowwidth": 1
          },
          "autotypenumbers": "strict",
          "coloraxis": {
           "colorbar": {
            "outlinewidth": 0,
            "ticks": ""
           }
          },
          "colorscale": {
           "diverging": [
            [
             0,
             "#8e0152"
            ],
            [
             0.1,
             "#c51b7d"
            ],
            [
             0.2,
             "#de77ae"
            ],
            [
             0.3,
             "#f1b6da"
            ],
            [
             0.4,
             "#fde0ef"
            ],
            [
             0.5,
             "#f7f7f7"
            ],
            [
             0.6,
             "#e6f5d0"
            ],
            [
             0.7,
             "#b8e186"
            ],
            [
             0.8,
             "#7fbc41"
            ],
            [
             0.9,
             "#4d9221"
            ],
            [
             1,
             "#276419"
            ]
           ],
           "sequential": [
            [
             0,
             "#0d0887"
            ],
            [
             0.1111111111111111,
             "#46039f"
            ],
            [
             0.2222222222222222,
             "#7201a8"
            ],
            [
             0.3333333333333333,
             "#9c179e"
            ],
            [
             0.4444444444444444,
             "#bd3786"
            ],
            [
             0.5555555555555556,
             "#d8576b"
            ],
            [
             0.6666666666666666,
             "#ed7953"
            ],
            [
             0.7777777777777778,
             "#fb9f3a"
            ],
            [
             0.8888888888888888,
             "#fdca26"
            ],
            [
             1,
             "#f0f921"
            ]
           ],
           "sequentialminus": [
            [
             0,
             "#0d0887"
            ],
            [
             0.1111111111111111,
             "#46039f"
            ],
            [
             0.2222222222222222,
             "#7201a8"
            ],
            [
             0.3333333333333333,
             "#9c179e"
            ],
            [
             0.4444444444444444,
             "#bd3786"
            ],
            [
             0.5555555555555556,
             "#d8576b"
            ],
            [
             0.6666666666666666,
             "#ed7953"
            ],
            [
             0.7777777777777778,
             "#fb9f3a"
            ],
            [
             0.8888888888888888,
             "#fdca26"
            ],
            [
             1,
             "#f0f921"
            ]
           ]
          },
          "colorway": [
           "#636efa",
           "#EF553B",
           "#00cc96",
           "#ab63fa",
           "#FFA15A",
           "#19d3f3",
           "#FF6692",
           "#B6E880",
           "#FF97FF",
           "#FECB52"
          ],
          "font": {
           "color": "#2a3f5f"
          },
          "geo": {
           "bgcolor": "white",
           "lakecolor": "white",
           "landcolor": "#E5ECF6",
           "showlakes": true,
           "showland": true,
           "subunitcolor": "white"
          },
          "hoverlabel": {
           "align": "left"
          },
          "hovermode": "closest",
          "mapbox": {
           "style": "light"
          },
          "paper_bgcolor": "white",
          "plot_bgcolor": "#E5ECF6",
          "polar": {
           "angularaxis": {
            "gridcolor": "white",
            "linecolor": "white",
            "ticks": ""
           },
           "bgcolor": "#E5ECF6",
           "radialaxis": {
            "gridcolor": "white",
            "linecolor": "white",
            "ticks": ""
           }
          },
          "scene": {
           "xaxis": {
            "backgroundcolor": "#E5ECF6",
            "gridcolor": "white",
            "gridwidth": 2,
            "linecolor": "white",
            "showbackground": true,
            "ticks": "",
            "zerolinecolor": "white"
           },
           "yaxis": {
            "backgroundcolor": "#E5ECF6",
            "gridcolor": "white",
            "gridwidth": 2,
            "linecolor": "white",
            "showbackground": true,
            "ticks": "",
            "zerolinecolor": "white"
           },
           "zaxis": {
            "backgroundcolor": "#E5ECF6",
            "gridcolor": "white",
            "gridwidth": 2,
            "linecolor": "white",
            "showbackground": true,
            "ticks": "",
            "zerolinecolor": "white"
           }
          },
          "shapedefaults": {
           "line": {
            "color": "#2a3f5f"
           }
          },
          "ternary": {
           "aaxis": {
            "gridcolor": "white",
            "linecolor": "white",
            "ticks": ""
           },
           "baxis": {
            "gridcolor": "white",
            "linecolor": "white",
            "ticks": ""
           },
           "bgcolor": "#E5ECF6",
           "caxis": {
            "gridcolor": "white",
            "linecolor": "white",
            "ticks": ""
           }
          },
          "title": {
           "x": 0.05
          },
          "xaxis": {
           "automargin": true,
           "gridcolor": "white",
           "linecolor": "white",
           "ticks": "",
           "title": {
            "standoff": 15
           },
           "zerolinecolor": "white",
           "zerolinewidth": 2
          },
          "yaxis": {
           "automargin": true,
           "gridcolor": "white",
           "linecolor": "white",
           "ticks": "",
           "title": {
            "standoff": 15
           },
           "zerolinecolor": "white",
           "zerolinewidth": 2
          }
         }
        },
        "title": {
         "text": "Attestations first seen timing for coinbase blocks"
        },
        "width": 900,
        "xaxis": {
         "gridcolor": "lightgrey",
         "range": [
          0,
          10.01
         ],
         "showgrid": true,
         "tickmode": "linear",
         "title": {
          "text": "seconds in slot"
         }
        },
        "yaxis": {
         "gridcolor": "lightgrey",
         "range": [
          0,
          20
         ],
         "showgrid": true,
         "title": {
          "text": "%"
         }
        }
       }
      },
      "text/html": [
       "<div>                            <div id=\"bd85be02-00f0-4300-95d0-5763519a4272\" class=\"plotly-graph-div\" style=\"height:500px; width:900px;\"></div>            <script type=\"text/javascript\">                require([\"plotly\"], function(Plotly) {                    window.PLOTLYENV=window.PLOTLYENV || {};                                    if (document.getElementById(\"bd85be02-00f0-4300-95d0-5763519a4272\")) {                    Plotly.newPlot(                        \"bd85be02-00f0-4300-95d0-5763519a4272\",                        [{\"fill\":\"tozeroy\",\"line\":{\"color\":\"#377eb8\"},\"mode\":\"lines\",\"name\":\"Lido\",\"opacity\":0.2,\"x\":[0.0,0.20199999999999999,0.40399999999999997,0.606,0.8079999999999999,1.01,1.212,1.414,1.6159999999999999,1.8179999999999998,2.02,2.222,2.424,2.626,2.828,3.03,3.2319999999999998,3.4339999999999997,3.6359999999999997,3.8379999999999996,4.04,4.242,4.444,4.646,4.848,5.05,5.252,5.454,5.656,5.858,6.06,6.262,6.4639999999999995,6.6659999999999995,6.867999999999999,7.069999999999999,7.271999999999999,7.473999999999999,7.675999999999999,7.877999999999999,8.08,8.282,8.484,8.686,8.888,9.09,9.292,9.494,9.696,9.898,10.1],\"y\":[0.0,0.0,0.0,0.0,0.0,0.0,0.0,0.0004588496143707487,0.07042965474349705,0.5439398903996324,1.667391799499869,3.380608383438207,5.097352843919822,6.174724216337514,6.390488844839326,5.793721071788451,4.753915190750554,3.5501119442616567,2.6854436955416965,2.08760025864074,5.088679833995732,7.568897397916492,7.764382377888082,8.575643540345219,8.599240445923595,6.976718121009324,4.634463848517645,3.0670260437023416,1.7659617232164966,0.8382956790808807,0.5713505132646653,0.4413681962757057,0.2963416296352462,0.21990179715597485,0.1933712628955547,0.18106506668062772,0.175761968678474,0.16500533017765154,0.15393276243414755,0.11899249261853889,0.09089735639436274,0.06741328268837131,0.05214336929209885,0.04590752781155212,0.0352035441845099,0.02801239285109292,0.026094251020526676,0.021874338993280937,0.022325666482825936,0.01754159509364895],\"type\":\"scatter\"},{\"fill\":\"tozeroy\",\"line\":{\"color\":\"#984ea3\"},\"mode\":\"lines\",\"name\":\"Coinbase\",\"opacity\":0.2,\"x\":[0.0,0.20199999999999999,0.40399999999999997,0.606,0.8079999999999999,1.01,1.212,1.414,1.6159999999999999,1.8179999999999998,2.02,2.222,2.424,2.626,2.828,3.03,3.2319999999999998,3.4339999999999997,3.6359999999999997,3.8379999999999996,4.04,4.242,4.444,4.646,4.848,5.05,5.252,5.454,5.656,5.858,6.06,6.262,6.4639999999999995,6.6659999999999995,6.867999999999999,7.069999999999999,7.271999999999999,7.473999999999999,7.675999999999999,7.877999999999999,8.08,8.282,8.484,8.686,8.888,9.09,9.292,9.494,9.696,9.898,10.1],\"y\":[0.0,0.0,0.0,0.0,0.0,0.0,0.0,0.0006736433664653596,0.11788758913143793,0.7222719969820778,1.7794710552286515,3.240393003539996,4.954120676472669,7.164702434883948,9.024863334602028,9.38962016618782,8.453824273391424,7.2091839484258635,5.61757518702024,3.7483411532100788,2.6872054915407237,2.7549277012256943,3.0027021519537342,3.2551921062470317,4.423247600987561,7.316945835705119,6.6416815148892026,4.060427494080359,1.4845836715584402,0.5360727602200119,0.39862846210587655,0.3445685819470314,0.2797093565695385,0.2200498159269501,0.19491449781571138,0.1762840484619038,0.14508594005247683,0.1312130969743308,0.1201611354932585,0.09268911695459307,0.0762059058313938,0.060122670457033345,0.04090278315756855,0.03425055491372313,0.024482726099975413,0.018083114118554493,0.015893773177542078,0.015556951494309398,0.014083356630166424,0.011199320967486603],\"type\":\"scatter\"},{\"fill\":\"tozeroy\",\"line\":{\"color\":\"#4daf4a\"},\"mode\":\"lines\",\"name\":\"Kiln\",\"opacity\":0.5,\"x\":[0.0,0.20199999999999999,0.40399999999999997,0.606,0.8079999999999999,1.01,1.212,1.414,1.6159999999999999,1.8179999999999998,2.02,2.222,2.424,2.626,2.828,3.03,3.2319999999999998,3.4339999999999997,3.6359999999999997,3.8379999999999996,4.04,4.242,4.444,4.646,4.848,5.05,5.252,5.454,5.656,5.858,6.06,6.262,6.4639999999999995,6.6659999999999995,6.867999999999999,7.069999999999999,7.271999999999999,7.473999999999999,7.675999999999999,7.877999999999999,8.08,8.282,8.484,8.686,8.888,9.09,9.292,9.494,9.696,9.898,10.1],\"y\":[0.0,0.0,0.0,0.0,0.0,0.0,0.0,0.0,0.11537058559055319,0.7932333697300061,1.8482319336570656,3.5684897723733497,5.714843177199282,8.278869610636393,10.131888454094746,11.214941945085055,10.787392127896535,9.597390588814143,8.238998893557305,5.870084479868924,3.8128039536239333,2.5676620611342913,2.7221156444695436,2.781618751113411,2.793495134924203,2.489920222209565,2.0998173703020115,1.4839420383995,0.7549380913196965,0.39385966719464055,0.29127437233917497,0.2566147216260466,0.21862241219050205,0.1789334764962729,0.1468187651711714,0.13427584961589592,0.12342956031930506,0.12197530924043254,0.11137139512365375,0.09119366140429755,0.06429001644515596,0.04150674954281982,0.04490000206018903,0.03120580440080614,0.019087045410201814,0.015814980482738647,0.013936572839194975,0.011331039656215045,0.011573414836027132,0.011936977605745261],\"type\":\"scatter\"}],                        {\"template\":{\"data\":{\"histogram2dcontour\":[{\"type\":\"histogram2dcontour\",\"colorbar\":{\"outlinewidth\":0,\"ticks\":\"\"},\"colorscale\":[[0.0,\"#0d0887\"],[0.1111111111111111,\"#46039f\"],[0.2222222222222222,\"#7201a8\"],[0.3333333333333333,\"#9c179e\"],[0.4444444444444444,\"#bd3786\"],[0.5555555555555556,\"#d8576b\"],[0.6666666666666666,\"#ed7953\"],[0.7777777777777778,\"#fb9f3a\"],[0.8888888888888888,\"#fdca26\"],[1.0,\"#f0f921\"]]}],\"choropleth\":[{\"type\":\"choropleth\",\"colorbar\":{\"outlinewidth\":0,\"ticks\":\"\"}}],\"histogram2d\":[{\"type\":\"histogram2d\",\"colorbar\":{\"outlinewidth\":0,\"ticks\":\"\"},\"colorscale\":[[0.0,\"#0d0887\"],[0.1111111111111111,\"#46039f\"],[0.2222222222222222,\"#7201a8\"],[0.3333333333333333,\"#9c179e\"],[0.4444444444444444,\"#bd3786\"],[0.5555555555555556,\"#d8576b\"],[0.6666666666666666,\"#ed7953\"],[0.7777777777777778,\"#fb9f3a\"],[0.8888888888888888,\"#fdca26\"],[1.0,\"#f0f921\"]]}],\"heatmap\":[{\"type\":\"heatmap\",\"colorbar\":{\"outlinewidth\":0,\"ticks\":\"\"},\"colorscale\":[[0.0,\"#0d0887\"],[0.1111111111111111,\"#46039f\"],[0.2222222222222222,\"#7201a8\"],[0.3333333333333333,\"#9c179e\"],[0.4444444444444444,\"#bd3786\"],[0.5555555555555556,\"#d8576b\"],[0.6666666666666666,\"#ed7953\"],[0.7777777777777778,\"#fb9f3a\"],[0.8888888888888888,\"#fdca26\"],[1.0,\"#f0f921\"]]}],\"heatmapgl\":[{\"type\":\"heatmapgl\",\"colorbar\":{\"outlinewidth\":0,\"ticks\":\"\"},\"colorscale\":[[0.0,\"#0d0887\"],[0.1111111111111111,\"#46039f\"],[0.2222222222222222,\"#7201a8\"],[0.3333333333333333,\"#9c179e\"],[0.4444444444444444,\"#bd3786\"],[0.5555555555555556,\"#d8576b\"],[0.6666666666666666,\"#ed7953\"],[0.7777777777777778,\"#fb9f3a\"],[0.8888888888888888,\"#fdca26\"],[1.0,\"#f0f921\"]]}],\"contourcarpet\":[{\"type\":\"contourcarpet\",\"colorbar\":{\"outlinewidth\":0,\"ticks\":\"\"}}],\"contour\":[{\"type\":\"contour\",\"colorbar\":{\"outlinewidth\":0,\"ticks\":\"\"},\"colorscale\":[[0.0,\"#0d0887\"],[0.1111111111111111,\"#46039f\"],[0.2222222222222222,\"#7201a8\"],[0.3333333333333333,\"#9c179e\"],[0.4444444444444444,\"#bd3786\"],[0.5555555555555556,\"#d8576b\"],[0.6666666666666666,\"#ed7953\"],[0.7777777777777778,\"#fb9f3a\"],[0.8888888888888888,\"#fdca26\"],[1.0,\"#f0f921\"]]}],\"surface\":[{\"type\":\"surface\",\"colorbar\":{\"outlinewidth\":0,\"ticks\":\"\"},\"colorscale\":[[0.0,\"#0d0887\"],[0.1111111111111111,\"#46039f\"],[0.2222222222222222,\"#7201a8\"],[0.3333333333333333,\"#9c179e\"],[0.4444444444444444,\"#bd3786\"],[0.5555555555555556,\"#d8576b\"],[0.6666666666666666,\"#ed7953\"],[0.7777777777777778,\"#fb9f3a\"],[0.8888888888888888,\"#fdca26\"],[1.0,\"#f0f921\"]]}],\"mesh3d\":[{\"type\":\"mesh3d\",\"colorbar\":{\"outlinewidth\":0,\"ticks\":\"\"}}],\"scatter\":[{\"fillpattern\":{\"fillmode\":\"overlay\",\"size\":10,\"solidity\":0.2},\"type\":\"scatter\"}],\"parcoords\":[{\"type\":\"parcoords\",\"line\":{\"colorbar\":{\"outlinewidth\":0,\"ticks\":\"\"}}}],\"scatterpolargl\":[{\"type\":\"scatterpolargl\",\"marker\":{\"colorbar\":{\"outlinewidth\":0,\"ticks\":\"\"}}}],\"bar\":[{\"error_x\":{\"color\":\"#2a3f5f\"},\"error_y\":{\"color\":\"#2a3f5f\"},\"marker\":{\"line\":{\"color\":\"#E5ECF6\",\"width\":0.5},\"pattern\":{\"fillmode\":\"overlay\",\"size\":10,\"solidity\":0.2}},\"type\":\"bar\"}],\"scattergeo\":[{\"type\":\"scattergeo\",\"marker\":{\"colorbar\":{\"outlinewidth\":0,\"ticks\":\"\"}}}],\"scatterpolar\":[{\"type\":\"scatterpolar\",\"marker\":{\"colorbar\":{\"outlinewidth\":0,\"ticks\":\"\"}}}],\"histogram\":[{\"marker\":{\"pattern\":{\"fillmode\":\"overlay\",\"size\":10,\"solidity\":0.2}},\"type\":\"histogram\"}],\"scattergl\":[{\"type\":\"scattergl\",\"marker\":{\"colorbar\":{\"outlinewidth\":0,\"ticks\":\"\"}}}],\"scatter3d\":[{\"type\":\"scatter3d\",\"line\":{\"colorbar\":{\"outlinewidth\":0,\"ticks\":\"\"}},\"marker\":{\"colorbar\":{\"outlinewidth\":0,\"ticks\":\"\"}}}],\"scattermapbox\":[{\"type\":\"scattermapbox\",\"marker\":{\"colorbar\":{\"outlinewidth\":0,\"ticks\":\"\"}}}],\"scatterternary\":[{\"type\":\"scatterternary\",\"marker\":{\"colorbar\":{\"outlinewidth\":0,\"ticks\":\"\"}}}],\"scattercarpet\":[{\"type\":\"scattercarpet\",\"marker\":{\"colorbar\":{\"outlinewidth\":0,\"ticks\":\"\"}}}],\"carpet\":[{\"aaxis\":{\"endlinecolor\":\"#2a3f5f\",\"gridcolor\":\"white\",\"linecolor\":\"white\",\"minorgridcolor\":\"white\",\"startlinecolor\":\"#2a3f5f\"},\"baxis\":{\"endlinecolor\":\"#2a3f5f\",\"gridcolor\":\"white\",\"linecolor\":\"white\",\"minorgridcolor\":\"white\",\"startlinecolor\":\"#2a3f5f\"},\"type\":\"carpet\"}],\"table\":[{\"cells\":{\"fill\":{\"color\":\"#EBF0F8\"},\"line\":{\"color\":\"white\"}},\"header\":{\"fill\":{\"color\":\"#C8D4E3\"},\"line\":{\"color\":\"white\"}},\"type\":\"table\"}],\"barpolar\":[{\"marker\":{\"line\":{\"color\":\"#E5ECF6\",\"width\":0.5},\"pattern\":{\"fillmode\":\"overlay\",\"size\":10,\"solidity\":0.2}},\"type\":\"barpolar\"}],\"pie\":[{\"automargin\":true,\"type\":\"pie\"}]},\"layout\":{\"autotypenumbers\":\"strict\",\"colorway\":[\"#636efa\",\"#EF553B\",\"#00cc96\",\"#ab63fa\",\"#FFA15A\",\"#19d3f3\",\"#FF6692\",\"#B6E880\",\"#FF97FF\",\"#FECB52\"],\"font\":{\"color\":\"#2a3f5f\"},\"hovermode\":\"closest\",\"hoverlabel\":{\"align\":\"left\"},\"paper_bgcolor\":\"white\",\"plot_bgcolor\":\"#E5ECF6\",\"polar\":{\"bgcolor\":\"#E5ECF6\",\"angularaxis\":{\"gridcolor\":\"white\",\"linecolor\":\"white\",\"ticks\":\"\"},\"radialaxis\":{\"gridcolor\":\"white\",\"linecolor\":\"white\",\"ticks\":\"\"}},\"ternary\":{\"bgcolor\":\"#E5ECF6\",\"aaxis\":{\"gridcolor\":\"white\",\"linecolor\":\"white\",\"ticks\":\"\"},\"baxis\":{\"gridcolor\":\"white\",\"linecolor\":\"white\",\"ticks\":\"\"},\"caxis\":{\"gridcolor\":\"white\",\"linecolor\":\"white\",\"ticks\":\"\"}},\"coloraxis\":{\"colorbar\":{\"outlinewidth\":0,\"ticks\":\"\"}},\"colorscale\":{\"sequential\":[[0.0,\"#0d0887\"],[0.1111111111111111,\"#46039f\"],[0.2222222222222222,\"#7201a8\"],[0.3333333333333333,\"#9c179e\"],[0.4444444444444444,\"#bd3786\"],[0.5555555555555556,\"#d8576b\"],[0.6666666666666666,\"#ed7953\"],[0.7777777777777778,\"#fb9f3a\"],[0.8888888888888888,\"#fdca26\"],[1.0,\"#f0f921\"]],\"sequentialminus\":[[0.0,\"#0d0887\"],[0.1111111111111111,\"#46039f\"],[0.2222222222222222,\"#7201a8\"],[0.3333333333333333,\"#9c179e\"],[0.4444444444444444,\"#bd3786\"],[0.5555555555555556,\"#d8576b\"],[0.6666666666666666,\"#ed7953\"],[0.7777777777777778,\"#fb9f3a\"],[0.8888888888888888,\"#fdca26\"],[1.0,\"#f0f921\"]],\"diverging\":[[0,\"#8e0152\"],[0.1,\"#c51b7d\"],[0.2,\"#de77ae\"],[0.3,\"#f1b6da\"],[0.4,\"#fde0ef\"],[0.5,\"#f7f7f7\"],[0.6,\"#e6f5d0\"],[0.7,\"#b8e186\"],[0.8,\"#7fbc41\"],[0.9,\"#4d9221\"],[1,\"#276419\"]]},\"xaxis\":{\"gridcolor\":\"white\",\"linecolor\":\"white\",\"ticks\":\"\",\"title\":{\"standoff\":15},\"zerolinecolor\":\"white\",\"automargin\":true,\"zerolinewidth\":2},\"yaxis\":{\"gridcolor\":\"white\",\"linecolor\":\"white\",\"ticks\":\"\",\"title\":{\"standoff\":15},\"zerolinecolor\":\"white\",\"automargin\":true,\"zerolinewidth\":2},\"scene\":{\"xaxis\":{\"backgroundcolor\":\"#E5ECF6\",\"gridcolor\":\"white\",\"linecolor\":\"white\",\"showbackground\":true,\"ticks\":\"\",\"zerolinecolor\":\"white\",\"gridwidth\":2},\"yaxis\":{\"backgroundcolor\":\"#E5ECF6\",\"gridcolor\":\"white\",\"linecolor\":\"white\",\"showbackground\":true,\"ticks\":\"\",\"zerolinecolor\":\"white\",\"gridwidth\":2},\"zaxis\":{\"backgroundcolor\":\"#E5ECF6\",\"gridcolor\":\"white\",\"linecolor\":\"white\",\"showbackground\":true,\"ticks\":\"\",\"zerolinecolor\":\"white\",\"gridwidth\":2}},\"shapedefaults\":{\"line\":{\"color\":\"#2a3f5f\"}},\"annotationdefaults\":{\"arrowcolor\":\"#2a3f5f\",\"arrowhead\":0,\"arrowwidth\":1},\"geo\":{\"bgcolor\":\"white\",\"landcolor\":\"#E5ECF6\",\"subunitcolor\":\"white\",\"showland\":true,\"showlakes\":true,\"lakecolor\":\"white\"},\"title\":{\"x\":0.05},\"mapbox\":{\"style\":\"light\"}}},\"shapes\":[{\"line\":{\"color\":\"black\",\"dash\":\"dash\",\"width\":2},\"type\":\"line\",\"x0\":2.6674978652055197,\"x1\":2.6674978652055197,\"y0\":0,\"y1\":19}],\"annotations\":[{\"font\":{\"color\":\"#111111\",\"family\":\"Ubuntu Mono\",\"size\":19},\"showarrow\":false,\"text\":\"block seen\",\"x\":2.6674978652055197,\"xanchor\":\"center\",\"y\":20,\"yanchor\":\"top\"}],\"legend\":{\"traceorder\":\"normal\",\"x\":1,\"y\":1,\"xanchor\":\"right\",\"yanchor\":\"top\"},\"xaxis\":{\"title\":{\"text\":\"seconds in slot\"},\"tickmode\":\"linear\",\"showgrid\":true,\"gridcolor\":\"lightgrey\",\"range\":[0,10.01]},\"yaxis\":{\"title\":{\"text\":\"%\"},\"showgrid\":true,\"gridcolor\":\"lightgrey\",\"range\":[0,20]},\"font\":{\"family\":\"Ubuntu Mono\",\"size\":16,\"color\":\"black\"},\"title\":{\"text\":\"Attestations first seen timing for coinbase blocks\"},\"barmode\":\"stack\",\"height\":500,\"width\":900,\"plot_bgcolor\":\"#FFFFFF\"},                        {\"responsive\": true}                    ).then(function(){\n",
       "                            \n",
       "var gd = document.getElementById('bd85be02-00f0-4300-95d0-5763519a4272');\n",
       "var x = new MutationObserver(function (mutations, observer) {{\n",
       "        var display = window.getComputedStyle(gd).display;\n",
       "        if (!display || display === 'none') {{\n",
       "            console.log([gd, 'removed!']);\n",
       "            Plotly.purge(gd);\n",
       "            observer.disconnect();\n",
       "        }}\n",
       "}});\n",
       "\n",
       "// Listen for the removal of the full notebook cells\n",
       "var notebookContainer = gd.closest('#notebook-container');\n",
       "if (notebookContainer) {{\n",
       "    x.observe(notebookContainer, {childList: true});\n",
       "}}\n",
       "\n",
       "// Listen for the clearing of the current output cell\n",
       "var outputEl = gd.closest('.output');\n",
       "if (outputEl) {{\n",
       "    x.observe(outputEl, {childList: true});\n",
       "}}\n",
       "\n",
       "                        })                };                });            </script>        </div>"
      ]
     },
     "metadata": {},
     "output_type": "display_data"
    }
   ],
   "source": [
    "def hist_late_performer(_df, sec=0, entity=None):   \n",
    "    df = _df.copy()\n",
    "\n",
    "    lido = df[df[\"label\"] == \"lido\"]\n",
    "    kiln = df[df[\"label\"] == \"kiln\"]\n",
    "    coinbase = df[df[\"label\"] == \"coinbase\"]\n",
    "\n",
    "    def calculate_histogram(data, bins, x_range):\n",
    "        hist, bin_edges = np.histogram(data, bins=bins, range=x_range)\n",
    "        # Normalize to percentage\n",
    "        total_count = np.sum(hist)\n",
    "        hist_normalized = (hist / total_count) * 100\n",
    "        return bin_edges, hist_normalized\n",
    "\n",
    "    x_lido, y_lido = calculate_histogram(lido['seconds_in_slot'], 50, (0, 10.1))\n",
    "    x_kiln, y_kiln = calculate_histogram(kiln['seconds_in_slot'], 50, (0, 10.1))\n",
    "    x_coinbase, y_coinbase = calculate_histogram(coinbase['seconds_in_slot'], 50, (0, 10.1))\n",
    "\n",
    "    fig = go.Figure()\n",
    "\n",
    "    fig.add_trace(go.Scatter(\n",
    "        x=x_lido,\n",
    "        y=y_lido,\n",
    "        fill='tozeroy',\n",
    "        mode='lines',\n",
    "        name='Lido',\n",
    "        line=dict(color=COLORS[0]),\n",
    "        opacity=0.2\n",
    "    ))\n",
    "\n",
    "    fig.add_trace(go.Scatter(\n",
    "        x=x_coinbase,\n",
    "        y=y_coinbase,\n",
    "        fill='tozeroy',\n",
    "        mode='lines',\n",
    "        name=f'Coinbase',\n",
    "        line=dict(color=COLORS[3]),\n",
    "        opacity=0.2\n",
    "    ))\n",
    "    fig.add_trace(go.Scatter(\n",
    "        x=x_kiln,\n",
    "        y=y_kiln,\n",
    "        fill='tozeroy',\n",
    "        mode='lines',\n",
    "        name=f'Kiln',\n",
    "        line=dict(color=COLORS[2]),\n",
    "        opacity=0.5\n",
    "    ))\n",
    "    \n",
    "    maxes = [max(i, j) for i, j in zip(y_kiln, y_lido)]\n",
    "    fig.add_shape(\n",
    "        type=\"line\",\n",
    "        x0=sec, x1=sec, y0=0, y1=19,\n",
    "        line=dict(color=\"black\", width=2, dash=\"dash\")\n",
    "    )\n",
    "    \n",
    "    fig.add_annotation(\n",
    "        x=sec, y=20,\n",
    "        text=f\"block seen\", showarrow=False, \n",
    "        xanchor='center', yanchor='top',  font=dict(family=\"Ubuntu Mono\", size=FONTSIZE+3, color=\"#111111\"),\n",
    "    )\n",
    "\n",
    "    fig.update_layout(\n",
    "        title=f'Attestations first seen timing for {entity} blocks',\n",
    "        yaxis_title='%',\n",
    "        xaxis_title='seconds in slot',\n",
    "        barmode='stack',\n",
    "        legend_traceorder=\"normal\",\n",
    "        xaxis=dict(\n",
    "            tickmode='linear',\n",
    "            showgrid=True,\n",
    "            gridcolor='lightgrey',\n",
    "            range=[0, 10.01]\n",
    "        ),\n",
    "        yaxis=dict(\n",
    "            showgrid=True,\n",
    "            gridcolor='lightgrey',\n",
    "            range=[0, 20]\n",
    "        ),\n",
    "        height=500,\n",
    "        width=900,\n",
    "        font=dict(\n",
    "            family=\"Ubuntu Mono\",\n",
    "            size=FONTSIZE,\n",
    "            color=\"black\"\n",
    "        ),\n",
    "        legend=dict(\n",
    "            x=1,\n",
    "            y=1,\n",
    "            xanchor='right',\n",
    "            yanchor='top'\n",
    "        ),\n",
    "        plot_bgcolor = \"#FFFFFF\"\n",
    "    )\n",
    "\n",
    "    return fig\n",
    "\n",
    "    \n",
    "for ix,  i in enumerate([kiln, lido, coinbase]):\n",
    "    slottiming = df[df[\"label\"] == [\"kiln\", \"lido\", \"coinbase\"][ix]].seconds_in_slot.mean()\n",
    "    fig = hist_late_performer(i, slottiming, [\"kiln\", \"lido\", \"coinbase\"][ix])\n",
    "    fig.write_image(f\"att_pics/attestations_seen_late_by_proposer_{int(ix):03}.png\")\n",
    "    print(f\"att_pics/attestations_seen_late_{int(ix):03}.png\")\n",
    "    fig.show()\n",
    "    #break"
   ]
  },
  {
   "cell_type": "code",
   "execution_count": 61,
   "id": "d0be3d42",
   "metadata": {},
   "outputs": [
    {
     "name": "stdout",
     "output_type": "stream",
     "text": [
      "['att_pics/attestations_seen_late_by_proposer_misses_000.png', 'att_pics/attestations_seen_late_by_proposer_000.png', 'att_pics/attestations_seen_late_by_proposer_001.png', 'att_pics/attestations_seen_late_by_proposer_misses_001.png', 'att_pics/attestations_seen_late_by_proposer_002.png', 'att_pics/attestations_seen_late_by_proposer_misses_002.png']\n",
      "GIF saved as att_pics/attestations_seen_late_by_proposer_misses.gif\n"
     ]
    }
   ],
   "source": [
    "from PIL import Image\n",
    "import glob\n",
    "\n",
    "image_files = sorted(glob.glob('att_pics/attestations_seen_late_by_proposer_*.png'), key=lambda x: int(x.split(\".\")[0][-3:]), reverse=False)\n",
    "print(image_files)\n",
    "images = [Image.open(img) for img in image_files if not \"misses\" in img]\n",
    "output_path = \"att_pics/attestations_seen_late_by_proposer_misses.gif\"\n",
    "images[0].save(output_path, save_all=True, append_images=images[1:], duration=800, loop=0)\n",
    "print(f\"GIF saved as {output_path}\")"
   ]
  },
  {
   "cell_type": "code",
   "execution_count": 64,
   "id": "060f3245",
   "metadata": {},
   "outputs": [
    {
     "name": "stderr",
     "output_type": "stream",
     "text": [
      "2024-08-14 13:21:11,797 - INFO - Executing query: SELECT slot, proposer_validator_index FROM default.canonical_beacon_proposer_duty WHERE slot_start_date_time > NOW() - INTERVAL '365 day' AND meta_network_name = 'mainnet' ORDER BY slot\n"
     ]
    },
    {
     "name": "stdout",
     "output_type": "stream",
     "text": [
      "Downloading: 100%|\u001b[32m████████████████████████████████████████████████████████████████████████████████████████████████████████████████████████████████████████████████\u001b[0m|\u001b[0m"
     ]
    },
    {
     "name": "stderr",
     "output_type": "stream",
     "text": [
      "2024-08-14 13:21:58,695 - INFO - Total time taken 45.09 s.\n",
      "Finished at 2024-08-14 13:21:58.\n"
     ]
    },
    {
     "name": "stdout",
     "output_type": "stream",
     "text": [
      "\n"
     ]
    },
    {
     "name": "stderr",
     "output_type": "stream",
     "text": [
      "2024-08-14 13:21:59,705 - INFO - Executing query: SELECT slot-depth FROM default.beacon_api_eth_v1_events_chain_reorg WHERE slot_start_date_time > NOW() - INTERVAL '370 day' AND meta_network_name = 'mainnet'\n",
      "2024-08-14 13:22:00,012 - INFO - Executing query: SELECT slot, block_root FROM default.canonical_beacon_block WHERE slot_start_date_time > NOW() - INTERVAL '370 day' AND meta_network_name = 'mainnet'\n"
     ]
    }
   ],
   "source": [
    "proposer = xatu.get_proposers( \n",
    "    time_interval=\"365 day\", \n",
    "    columns=\"slot, proposer_validator_index\",\n",
    "    orderby=\"slot\"\n",
    ")\n",
    "\n",
    "proposer_labels = pandas_gbq.read_gbq(\"\"\"\n",
    "    SELECT DISTINCT validator_id, label FROM `ethereum-data-nero.ethdata.beaconchain_validators_db` \n",
    "\"\"\")\n",
    "proposer_labels = pd.merge(proposer, proposer_labels, how=\"left\", right_on=\"validator_id\", left_on=\"proposer_validator_index\")[[\"slot\", \"label\"]]\n",
    "proposer_labels[\"label\"] = proposer_labels[\"label\"].fillna(\"unidentified\")\n",
    "proposer_labels[\"label\"] = proposer_labels[\"label\"].apply(lambda x: \"solo staker\" if x.endswith(\".eth\") else x.lower())\n",
    "proposer_labels\n",
    "\n",
    "potential_reorgs = xatu.get_reorgs( \n",
    "    time_interval=\"370 day\", \n",
    "    columns=\"slot-depth\",\n",
    ")\n",
    "\n",
    "canonical = xatu.get_slots( \n",
    "    time_interval=\"370 day\", \n",
    "    columns=\"slot, block_root\",\n",
    ")\n",
    "missed = set(range(canonical.slot.min(), canonical.slot.max()+1)) - set(canonical.slot.tolist())\n",
    "\n",
    "reorgs = sorted(set(potential_reorgs[\"slot-depth\"].tolist()).intersection(missed))"
   ]
  },
  {
   "cell_type": "code",
   "execution_count": 65,
   "id": "44dfe75b",
   "metadata": {},
   "outputs": [
    {
     "name": "stdout",
     "output_type": "stream",
     "text": [
      "Downloading: 100%|\u001b[32m████████████████████████████████████████████████████████████████████████████████████████████████████████████████████████████████████████████████\u001b[0m|\u001b[0m"
     ]
    },
    {
     "name": "stderr",
     "output_type": "stream",
     "text": [
      "2024-08-14 13:22:40,422 - INFO - Total time taken 35.02 s.\n",
      "Finished at 2024-08-14 13:22:40.\n"
     ]
    },
    {
     "name": "stdout",
     "output_type": "stream",
     "text": [
      "\n"
     ]
    },
    {
     "data": {
      "text/html": [
       "<div>\n",
       "<style scoped>\n",
       "    .dataframe tbody tr th:only-of-type {\n",
       "        vertical-align: middle;\n",
       "    }\n",
       "\n",
       "    .dataframe tbody tr th {\n",
       "        vertical-align: top;\n",
       "    }\n",
       "\n",
       "    .dataframe thead th {\n",
       "        text-align: right;\n",
       "    }\n",
       "</style>\n",
       "<table border=\"1\" class=\"dataframe\">\n",
       "  <thead>\n",
       "    <tr style=\"text-align: right;\">\n",
       "      <th></th>\n",
       "      <th>label</th>\n",
       "      <th>validator_id</th>\n",
       "      <th>share</th>\n",
       "    </tr>\n",
       "  </thead>\n",
       "  <tbody>\n",
       "    <tr>\n",
       "      <th>46</th>\n",
       "      <td>lido</td>\n",
       "      <td>304461</td>\n",
       "      <td>28.598038</td>\n",
       "    </tr>\n",
       "    <tr>\n",
       "      <th>82</th>\n",
       "      <td>unidentified</td>\n",
       "      <td>266942</td>\n",
       "      <td>25.073876</td>\n",
       "    </tr>\n",
       "    <tr>\n",
       "      <th>18</th>\n",
       "      <td>coinbase</td>\n",
       "      <td>109792</td>\n",
       "      <td>10.312768</td>\n",
       "    </tr>\n",
       "    <tr>\n",
       "      <th>30</th>\n",
       "      <td>ether.fi</td>\n",
       "      <td>52089</td>\n",
       "      <td>4.892722</td>\n",
       "    </tr>\n",
       "    <tr>\n",
       "      <th>42</th>\n",
       "      <td>kiln</td>\n",
       "      <td>38144</td>\n",
       "      <td>3.582868</td>\n",
       "    </tr>\n",
       "    <tr>\n",
       "      <th>...</th>\n",
       "      <td>...</td>\n",
       "      <td>...</td>\n",
       "      <td>...</td>\n",
       "    </tr>\n",
       "    <tr>\n",
       "      <th>35</th>\n",
       "      <td>florisgamer.polygon</td>\n",
       "      <td>1</td>\n",
       "      <td>0.000094</td>\n",
       "    </tr>\n",
       "    <tr>\n",
       "      <th>49</th>\n",
       "      <td>mauser</td>\n",
       "      <td>1</td>\n",
       "      <td>0.000094</td>\n",
       "    </tr>\n",
       "    <tr>\n",
       "      <th>38</th>\n",
       "      <td>gooch: eth2 depositor</td>\n",
       "      <td>1</td>\n",
       "      <td>0.000094</td>\n",
       "    </tr>\n",
       "    <tr>\n",
       "      <th>79</th>\n",
       "      <td>sybil delegate: mengboshen</td>\n",
       "      <td>1</td>\n",
       "      <td>0.000094</td>\n",
       "    </tr>\n",
       "    <tr>\n",
       "      <th>58</th>\n",
       "      <td>poloniex</td>\n",
       "      <td>0</td>\n",
       "      <td>0.000000</td>\n",
       "    </tr>\n",
       "  </tbody>\n",
       "</table>\n",
       "<p>89 rows × 3 columns</p>\n",
       "</div>"
      ],
      "text/plain": [
       "                         label  validator_id      share\n",
       "46                        lido        304461  28.598038\n",
       "82                unidentified        266942  25.073876\n",
       "18                    coinbase        109792  10.312768\n",
       "30                    ether.fi         52089   4.892722\n",
       "42                        kiln         38144   3.582868\n",
       "..                         ...           ...        ...\n",
       "35         florisgamer.polygon             1   0.000094\n",
       "49                      mauser             1   0.000094\n",
       "38       gooch: eth2 depositor             1   0.000094\n",
       "79  sybil delegate: mengboshen             1   0.000094\n",
       "58                    poloniex             0   0.000000\n",
       "\n",
       "[89 rows x 3 columns]"
      ]
     },
     "execution_count": 65,
     "metadata": {},
     "output_type": "execute_result"
    }
   ],
   "source": [
    "validator_labels = pandas_gbq.read_gbq(\"\"\"\n",
    "    SELECT DISTINCT validator_id, label FROM `ethereum-data-nero.ethdata.beaconchain_validators_db` \n",
    "    where withdrawn = 0\n",
    "\"\"\")\n",
    "validator_labels[\"label\"] = validator_labels[\"label\"].apply(lambda x: \"unidentified\" if x == None else x)\n",
    "validator_labels[\"label\"] = validator_labels[\"label\"].fillna(\"unidentified\")\n",
    "validator_labels[\"label\"] = validator_labels[\"label\"].apply(lambda x: \"solo staker\" if x.endswith(\".eth\") else x.lower())\n",
    "share = validator_labels.groupby(\"label\")[\"validator_id\"].nunique().reset_index().sort_values(\"validator_id\", ascending=False)\n",
    "share[\"share\"] = share[\"validator_id\"]/validator_labels.validator_id.nunique()*100\n",
    "share"
   ]
  },
  {
   "cell_type": "code",
   "execution_count": null,
   "id": "5dff97e0",
   "metadata": {},
   "outputs": [],
   "source": [
    "import pickle\n",
    "\n",
    "def merge_labels(df, labels, left_on=\"validator\", right_on=\"validator_id\", nlargest=15, add=None):\n",
    "    \n",
    "    df = pd.merge(df, labels, how=\"left\", left_on=left_on, right_on=right_on).drop(right_on, axis=1)\n",
    "    df[\"label\"] = df[\"label\"].apply(lambda x: \"unidentified\" if x == None else x)\n",
    "    df[\"label\"] = df[\"label\"].fillna(\"unidentified\")\n",
    "    df[\"label\"] = df[\"label\"].apply(lambda x: \"solo staker\" if x.endswith(\".eth\") else x.lower())\n",
    "    largest = df.groupby(\"label\")[left_on].sum().reset_index().sort_values(left_on, ascending=False)[\"label\"].tolist()[0:nlargest]\n",
    "    if add:\n",
    "        largest += add\n",
    "    if \"solo staker\" not in largest:\n",
    "        largest.append(\"solo staker\")\n",
    "    df[\"label\"] = df[\"label\"].apply(lambda x: x if x in largest else \"other\")\n",
    "    if \"other\" not in largest:\n",
    "        largest.append(\"other\")\n",
    "    return df, largest\n",
    "\n",
    "def get_reorg_votes(entity):\n",
    "    entity_reorged_slots = sorted(set(proposer_labels[proposer_labels[\"label\"] == entity].slot.tolist()).intersection(set(reorgs)))\n",
    "    voted_for_reorged_block = []\n",
    "    voted_for_parent_block = []\n",
    "    chunks = len(entity_reorged_slots) // 50 + 1\n",
    "    for i in range(0, chunks):\n",
    "        res_wrong = None\n",
    "        res_right = None\n",
    "        _entity_reorged_slots = entity_reorged_slots[i*50: (i+1)*50]\n",
    "        _res = xatu.client.execute_query(f\"\"\"\n",
    "            SELECT DISTINCT\n",
    "                        block_slot, slot, validators, source_root, target_root, beacon_block_root\n",
    "                    FROM default.canonical_beacon_elaborated_attestation\n",
    "                    WHERE\n",
    "                        block_slot_start_date_time > NOW() - INTERVAL '365 day'\n",
    "                        AND meta_network_name = 'mainnet'\n",
    "                        AND slot in {str(_entity_reorged_slots)}\n",
    "            \"\"\",  \"block_slot, slot, validators, source_root, target_root, beacon_block_root\"\n",
    "        )\n",
    "\n",
    "        _res[\"validators\"] = _res[\"validators\"].apply(lambda x: eval(x))\n",
    "        _res = _res.explode(\"validators\").reset_index(drop=True)\n",
    "        _res, _ = merge_labels(_res, validator_labels, left_on=\"validators\", right_on=\"validator_id\", add=[\"binance us (kiln)\"])\n",
    "\n",
    "        for slot in _entity_reorged_slots:\n",
    "            print(slot)\n",
    "            res_wrong = None\n",
    "            res_right = None\n",
    "            res = _res[_res[\"slot\"] == slot].copy()\n",
    "            for root in res.groupby(\"beacon_block_root\")[\"validators\"].nunique().reset_index()[\"beacon_block_root\"].tolist():\n",
    "                canonical_root = None\n",
    "                _s = slot\n",
    "                while canonical_root == None:\n",
    "                    if len(canonical[canonical[\"slot\"] == _s]) == 0:\n",
    "                        _s -= 1\n",
    "                        continue\n",
    "                    canonical_root = canonical[canonical[\"slot\"] == _s].block_root.values[0]\n",
    "                if root == canonical_root:\n",
    "                    res_right = res[res[\"beacon_block_root\"] == canonical_root]\n",
    "                else:\n",
    "                    if res_wrong is not None and isinstance(res_wrong, pd.DataFrame):\n",
    "                        res_wrong = pd.concat([res_wrong, res[res[\"beacon_block_root\"] == root]])\n",
    "                    else:\n",
    "                        res_wrong = res[res[\"beacon_block_root\"] == root]\n",
    "            if not isinstance(res_wrong, pd.DataFrame):\n",
    "                print(f\"Slot {slot} had noone voting wrong\")\n",
    "                continue\n",
    "\n",
    "            res_wrong = res_wrong.groupby(\"label\").validators.nunique().reset_index()\n",
    "            res_wrong.columns = [\"label\", \"validators_wrong_vote\"]\n",
    "            res_right = res_right.groupby(\"label\").validators.nunique().reset_index()\n",
    "            res_right.columns = [\"label\", \"validators_right_vote\"]\n",
    "\n",
    "            res_both = pd.merge(res_wrong, res_right, how=\"outer\", left_on=\"label\", right_on=\"label\")\n",
    "            res_both.fillna(0, inplace=True)\n",
    "            if entity not in res_both.label.tolist():\n",
    "                print(\"something went wrong\")\n",
    "                continue\n",
    "            voted_for_reorged_block.append(res_both[res_both[\"label\"] == entity][\"validators_wrong_vote\"].values[0])\n",
    "            voted_for_parent_block.append(res_both[res_both[\"label\"] == entity][\"validators_right_vote\"].values[0])\n",
    "            print(f'slot={slot} | {entity}: correct={res_both[res_both[\"label\"] == entity][\"validators_right_vote\"].values[0]} | false={res_both[res_both[\"label\"] == entity][\"validators_wrong_vote\"].values[0]}')\n",
    "    with open(f'att_pics/{entity}_votes.pickle', 'wb') as handle:\n",
    "        pickle.dump([voted_for_reorged_block, voted_for_parent_block], handle)\n",
    "    return (\n",
    "        voted_for_reorged_block,\n",
    "        voted_for_parent_block\n",
    "    )\n",
    "\n",
    "entities = share.label.tolist()[:10]\n",
    "vote = {}\n",
    "for entity in entities:\n",
    "    voted_for_reorged_block, voted_for_parent_block = get_reorg_votes(entity)\n",
    "    vote[entity] = (voted_for_reorged_block, voted_for_parent_block)\n",
    "    totals = [i+j for i, j in zip(voted_for_reorged_block, voted_for_parent_block)]\n",
    "    print(entity, np.sum(voted_for_reorged_block)/sum(totals)*100,np.sum(voted_for_parent_block)/sum(totals)*100)"
   ]
  },
  {
   "cell_type": "code",
   "execution_count": 67,
   "id": "b2dceaa9",
   "metadata": {},
   "outputs": [
    {
     "name": "stdout",
     "output_type": "stream",
     "text": [
      "Renamed: coinbase_votes.pickle -> att_pics/coinbase_votes.pickle\n",
      "Renamed: figment_votes.pickle -> att_pics/figment_votes.pickle\n",
      "Renamed: binance_us_kiln_votes.pickle -> att_pics/binance_us_kiln_votes.pickle\n",
      "Renamed: ether.fi_votes.pickle -> att_pics/ether.fi_votes.pickle\n",
      "Renamed: staked.us_votes.pickle -> att_pics/staked.us_votes.pickle\n",
      "Renamed: bitpanda_kiln_votes.pickle -> att_pics/bitpanda_kiln_votes.pickle\n",
      "Renamed: binance_votes.pickle -> att_pics/binance_votes.pickle\n",
      "Renamed: lido_votes.pickle -> att_pics/lido_votes.pickle\n",
      "Renamed: unidentified_votes.pickle -> att_pics/unidentified_votes.pickle\n",
      "Renamed: rocketpool_votes.pickle -> att_pics/rocketpool_votes.pickle\n",
      "Renamed: kiln_votes.pickle -> att_pics/kiln_votes.pickle\n",
      "Renamed: kraken_votes.pickle -> att_pics/kraken_votes.pickle\n",
      "coinbase_votes 1.2351676876723974 98.7648323123276\n",
      "figment_votes 0.7965267332148229 99.20347326678518\n",
      "binance_us_kiln_votes 41.46341463414634 58.536585365853654\n",
      "ether 4.215222141296431 95.78477785870358\n",
      "staked 2.8503562945368173 97.14964370546319\n",
      "binance_votes 0.11722134447785537 99.88277865552215\n",
      "lido_votes 2.7077205439799243 97.29227945602008\n",
      "unidentified_votes 1.7599536105417157 98.24004638945829\n",
      "rocketpool_votes 1.52102872021042 98.47897127978959\n",
      "kiln_votes 11.673751270311323 88.32624872968869\n",
      "kraken_votes 1.234146685804372 98.76585331419562\n"
     ]
    }
   ],
   "source": [
    "j = [i for i in os.listdir(f'att_pics') if i.endswith(\"_votes.pickle\")]\n",
    "for file_name in j:\n",
    "    new_name = \"att_pics/\" + file_name.replace(' ', '_').replace('(', '').replace(')', '')\n",
    "    os.rename(\"att_pics/\" + file_name, new_name)\n",
    "    print(f\"Renamed: {file_name} -> {new_name}\")\n",
    "j = [i for i in os.listdir(f'att_pics') if i.endswith(\"_votes.pickle\")]\n",
    "\n",
    "vote = {}\n",
    "for entity in j:\n",
    "    with open(f'att_pics/{entity}', 'rb') as handle:\n",
    "        result = pickle.load(handle)\n",
    "    voted_for_reorged_block, voted_for_parent_block = result\n",
    "    if voted_for_reorged_block:\n",
    "        vote[entity.split(\".\")[0]] = (voted_for_reorged_block, voted_for_parent_block)\n",
    "        totals = [i+j for i, j in zip(voted_for_reorged_block, voted_for_parent_block)]\n",
    "        print(entity.split(\".\")[0], np.sum(voted_for_reorged_block)/sum(totals)*100,np.sum(voted_for_parent_block)/sum(totals)*100)\n",
    "    "
   ]
  },
  {
   "cell_type": "code",
   "execution_count": 68,
   "id": "3168adc8",
   "metadata": {},
   "outputs": [
    {
     "name": "stdout",
     "output_type": "stream",
     "text": [
      "{'coinbase_votes': 1223}\n",
      "coinbase_votes 1.2351676876723974 98.7648323123276\n",
      "{'figment_votes': 110}\n",
      "figment_votes 0.7965267332148229 99.20347326678518\n",
      "{'binance_us_kiln_votes': 3}\n",
      "binance_us_kiln_votes 41.46341463414634 58.536585365853654\n",
      "{'ether': 96}\n",
      "ether 4.215222141296431 95.78477785870358\n",
      "{'staked': 89}\n",
      "staked 2.8503562945368173 97.14964370546319\n",
      "{'binance_votes': 43}\n",
      "binance_votes 0.11722134447785537 99.88277865552215\n",
      "{'lido_votes': 807}\n",
      "lido_votes 2.7077205439799243 97.29227945602008\n",
      "{'unidentified_votes': 1900}\n",
      "unidentified_votes 1.7599536105417157 98.24004638945829\n",
      "{'rocketpool_votes': 240}\n",
      "rocketpool_votes 1.52102872021042 98.47897127978959\n",
      "{'kiln_votes': 208}\n",
      "kiln_votes 11.673751270311323 88.32624872968869\n",
      "{'kraken_votes': 163}\n",
      "kraken_votes 1.234146685804372 98.76585331419562\n"
     ]
    },
    {
     "data": {
      "text/plain": [
       "(                   entity votes_for_parent votes_for_wrong\n",
       " 0          coinbase_votes        98.764832        1.235168\n",
       " 1           figment_votes        99.203473        0.796527\n",
       " 2   binance_us_kiln_votes        58.536585       41.463415\n",
       " 3                   ether        95.784778        4.215222\n",
       " 4                  staked        97.149644        2.850356\n",
       " 5           binance_votes        99.882779        0.117221\n",
       " 6              lido_votes        97.292279        2.707721\n",
       " 7      unidentified_votes        98.240046        1.759954\n",
       " 8        rocketpool_votes        98.478971        1.521029\n",
       " 9              kiln_votes        88.326249       11.673751\n",
       " 10           kraken_votes        98.765853        1.234147,\n",
       " {'coinbase': 1223,\n",
       "  'figment': 110,\n",
       "  'binance_us_kiln': 3,\n",
       "  'ether': 96,\n",
       "  'staked': 89,\n",
       "  'binance': 43,\n",
       "  'lido': 807,\n",
       "  'unidentified': 1900,\n",
       "  'rocketpool': 240,\n",
       "  'kiln': 208,\n",
       "  'kraken': 163})"
      ]
     },
     "execution_count": 68,
     "metadata": {},
     "output_type": "execute_result"
    }
   ],
   "source": [
    "with open('att_pics/votes.pickle', 'wb') as handle:\n",
    "    pickle.dump(vote, handle)\n",
    "\n",
    "with open('att_pics/votes.pickle', 'rb') as handle:\n",
    "    b = pickle.load(handle)\n",
    "\n",
    "tt = pd.DataFrame(columns = [\"entity\", \"votes_for_parent\", \"votes_for_wrong\"])\n",
    "ns = {}\n",
    "for i in vote.keys():\n",
    "    print({i: len(vote[i][0])})\n",
    "    ns[i.replace(\"_votes\", \"\")] = len(vote[i][0])\n",
    "    totals = [i+j for i, j in zip(*vote[i])]\n",
    "    print(i, np.sum(vote[i][0])/sum(totals)*100,np.sum(vote[i][1])/sum(totals)*100)\n",
    "    tt.loc[len(tt), (\"entity\", \"votes_for_parent\", \"votes_for_wrong\")] = i, np.sum(vote[i][1])/sum(totals)*100, np.sum(vote[i][0])/sum(totals)*100\n",
    "tt, ns"
   ]
  },
  {
   "cell_type": "code",
   "execution_count": 69,
   "id": "41176a09",
   "metadata": {},
   "outputs": [],
   "source": [
    "tt[\"entity\"] = tt[\"entity\"].str.replace(\"_votes\", \"\")\n",
    "tt = tt[tt[\"entity\"].isin(largest)]\n",
    "largest = [i for i in largest if i in tt.entity.tolist()]\n",
    "tt.set_index(\"entity\", inplace=True)\n",
    "tt = tt.loc[largest]\n",
    "tt.reset_index(inplace=True)\n",
    "tt"
   ]
  },
  {
   "cell_type": "code",
   "execution_count": 71,
   "id": "049d9ed4",
   "metadata": {},
   "outputs": [],
   "source": [
    "def hex_to_rgba(hex_color, alpha=1.0):\n",
    "    hex_color = hex_color.lstrip('#')\n",
    "    if len(hex_color) == 6:\n",
    "        r, g, b = int(hex_color[0:2], 16), int(hex_color[2:4], 16), int(hex_color[4:6], 16)\n",
    "    elif len(hex_color) == 8:\n",
    "        r, g, b = int(hex_color[0:2], 16), int(hex_color[2:4], 16), int(hex_color[4:6], 16)\n",
    "        alpha = int(hex_color[6:8], 16) / 255.0\n",
    "    else:\n",
    "        return None\n",
    "    return f'rgba({r}, {g}, {b}, {alpha})'"
   ]
  },
  {
   "cell_type": "code",
   "execution_count": 72,
   "id": "48343ae9",
   "metadata": {},
   "outputs": [
    {
     "data": {
      "application/vnd.plotly.v1+json": {
       "config": {
        "plotlyServerURL": "https://plot.ly"
       },
       "data": [
        {
         "marker": {
          "color": "rgba(228, 26, 28, 0.9)"
         },
         "name": "Votes for Own/Local Block",
         "type": "bar",
         "x": [
          "lido",
          "unidentified",
          "coinbase",
          "kiln",
          "binance",
          "figment",
          "kraken",
          "rocketpool"
         ],
         "y": [
          2.7077205439799243,
          1.7599536105417157,
          1.2351676876723974,
          11.673751270311323,
          0.11722134447785537,
          0.7965267332148229,
          1.234146685804372,
          1.52102872021042
         ]
        },
        {
         "marker": {
          "color": "rgba(55, 126, 184, 0.9)"
         },
         "name": "Votes for Parent/Reorg Block",
         "type": "bar",
         "x": [
          "lido",
          "unidentified",
          "coinbase",
          "kiln",
          "binance",
          "figment",
          "kraken",
          "rocketpool"
         ],
         "y": [
          97.29227945602008,
          98.24004638945829,
          98.7648323123276,
          88.32624872968869,
          99.88277865552215,
          99.20347326678518,
          98.76585331419562,
          98.47897127978959
         ]
        }
       ],
       "layout": {
        "annotations": [
         {
          "font": {
           "color": "white",
           "family": "Ubuntu Mono",
           "size": 19
          },
          "showarrow": false,
          "text": "n=807",
          "x": 0,
          "xanchor": "center",
          "y": 10,
          "yanchor": "top"
         },
         {
          "font": {
           "color": "white",
           "family": "Ubuntu Mono",
           "size": 19
          },
          "showarrow": false,
          "text": "n=1,900",
          "x": 1,
          "xanchor": "center",
          "y": 10,
          "yanchor": "top"
         },
         {
          "font": {
           "color": "white",
           "family": "Ubuntu Mono",
           "size": 19
          },
          "showarrow": false,
          "text": "n=1,223",
          "x": 2,
          "xanchor": "center",
          "y": 10,
          "yanchor": "top"
         },
         {
          "font": {
           "color": "white",
           "family": "Ubuntu Mono",
           "size": 19
          },
          "showarrow": false,
          "text": "n=208",
          "x": 3,
          "xanchor": "center",
          "y": 10,
          "yanchor": "top"
         },
         {
          "font": {
           "color": "white",
           "family": "Ubuntu Mono",
           "size": 19
          },
          "showarrow": false,
          "text": "n=43",
          "x": 4,
          "xanchor": "center",
          "y": 10,
          "yanchor": "top"
         },
         {
          "font": {
           "color": "white",
           "family": "Ubuntu Mono",
           "size": 19
          },
          "showarrow": false,
          "text": "n=110",
          "x": 5,
          "xanchor": "center",
          "y": 10,
          "yanchor": "top"
         },
         {
          "font": {
           "color": "white",
           "family": "Ubuntu Mono",
           "size": 19
          },
          "showarrow": false,
          "text": "n=163",
          "x": 6,
          "xanchor": "center",
          "y": 10,
          "yanchor": "top"
         },
         {
          "font": {
           "color": "white",
           "family": "Ubuntu Mono",
           "size": 19
          },
          "showarrow": false,
          "text": "n=240",
          "x": 7,
          "xanchor": "center",
          "y": 10,
          "yanchor": "top"
         }
        ],
        "barmode": "stack",
        "font": {
         "family": "Ubuntu Mono",
         "size": 16
        },
        "height": 550,
        "legend": {
         "bgcolor": "rgba(255,255,255,0.9)",
         "x": 0.98,
         "xanchor": "right",
         "y": 0.94,
         "yanchor": "top"
        },
        "plot_bgcolor": "white",
        "template": {
         "data": {
          "bar": [
           {
            "error_x": {
             "color": "#2a3f5f"
            },
            "error_y": {
             "color": "#2a3f5f"
            },
            "marker": {
             "line": {
              "color": "#E5ECF6",
              "width": 0.5
             },
             "pattern": {
              "fillmode": "overlay",
              "size": 10,
              "solidity": 0.2
             }
            },
            "type": "bar"
           }
          ],
          "barpolar": [
           {
            "marker": {
             "line": {
              "color": "#E5ECF6",
              "width": 0.5
             },
             "pattern": {
              "fillmode": "overlay",
              "size": 10,
              "solidity": 0.2
             }
            },
            "type": "barpolar"
           }
          ],
          "carpet": [
           {
            "aaxis": {
             "endlinecolor": "#2a3f5f",
             "gridcolor": "white",
             "linecolor": "white",
             "minorgridcolor": "white",
             "startlinecolor": "#2a3f5f"
            },
            "baxis": {
             "endlinecolor": "#2a3f5f",
             "gridcolor": "white",
             "linecolor": "white",
             "minorgridcolor": "white",
             "startlinecolor": "#2a3f5f"
            },
            "type": "carpet"
           }
          ],
          "choropleth": [
           {
            "colorbar": {
             "outlinewidth": 0,
             "ticks": ""
            },
            "type": "choropleth"
           }
          ],
          "contour": [
           {
            "colorbar": {
             "outlinewidth": 0,
             "ticks": ""
            },
            "colorscale": [
             [
              0,
              "#0d0887"
             ],
             [
              0.1111111111111111,
              "#46039f"
             ],
             [
              0.2222222222222222,
              "#7201a8"
             ],
             [
              0.3333333333333333,
              "#9c179e"
             ],
             [
              0.4444444444444444,
              "#bd3786"
             ],
             [
              0.5555555555555556,
              "#d8576b"
             ],
             [
              0.6666666666666666,
              "#ed7953"
             ],
             [
              0.7777777777777778,
              "#fb9f3a"
             ],
             [
              0.8888888888888888,
              "#fdca26"
             ],
             [
              1,
              "#f0f921"
             ]
            ],
            "type": "contour"
           }
          ],
          "contourcarpet": [
           {
            "colorbar": {
             "outlinewidth": 0,
             "ticks": ""
            },
            "type": "contourcarpet"
           }
          ],
          "heatmap": [
           {
            "colorbar": {
             "outlinewidth": 0,
             "ticks": ""
            },
            "colorscale": [
             [
              0,
              "#0d0887"
             ],
             [
              0.1111111111111111,
              "#46039f"
             ],
             [
              0.2222222222222222,
              "#7201a8"
             ],
             [
              0.3333333333333333,
              "#9c179e"
             ],
             [
              0.4444444444444444,
              "#bd3786"
             ],
             [
              0.5555555555555556,
              "#d8576b"
             ],
             [
              0.6666666666666666,
              "#ed7953"
             ],
             [
              0.7777777777777778,
              "#fb9f3a"
             ],
             [
              0.8888888888888888,
              "#fdca26"
             ],
             [
              1,
              "#f0f921"
             ]
            ],
            "type": "heatmap"
           }
          ],
          "heatmapgl": [
           {
            "colorbar": {
             "outlinewidth": 0,
             "ticks": ""
            },
            "colorscale": [
             [
              0,
              "#0d0887"
             ],
             [
              0.1111111111111111,
              "#46039f"
             ],
             [
              0.2222222222222222,
              "#7201a8"
             ],
             [
              0.3333333333333333,
              "#9c179e"
             ],
             [
              0.4444444444444444,
              "#bd3786"
             ],
             [
              0.5555555555555556,
              "#d8576b"
             ],
             [
              0.6666666666666666,
              "#ed7953"
             ],
             [
              0.7777777777777778,
              "#fb9f3a"
             ],
             [
              0.8888888888888888,
              "#fdca26"
             ],
             [
              1,
              "#f0f921"
             ]
            ],
            "type": "heatmapgl"
           }
          ],
          "histogram": [
           {
            "marker": {
             "pattern": {
              "fillmode": "overlay",
              "size": 10,
              "solidity": 0.2
             }
            },
            "type": "histogram"
           }
          ],
          "histogram2d": [
           {
            "colorbar": {
             "outlinewidth": 0,
             "ticks": ""
            },
            "colorscale": [
             [
              0,
              "#0d0887"
             ],
             [
              0.1111111111111111,
              "#46039f"
             ],
             [
              0.2222222222222222,
              "#7201a8"
             ],
             [
              0.3333333333333333,
              "#9c179e"
             ],
             [
              0.4444444444444444,
              "#bd3786"
             ],
             [
              0.5555555555555556,
              "#d8576b"
             ],
             [
              0.6666666666666666,
              "#ed7953"
             ],
             [
              0.7777777777777778,
              "#fb9f3a"
             ],
             [
              0.8888888888888888,
              "#fdca26"
             ],
             [
              1,
              "#f0f921"
             ]
            ],
            "type": "histogram2d"
           }
          ],
          "histogram2dcontour": [
           {
            "colorbar": {
             "outlinewidth": 0,
             "ticks": ""
            },
            "colorscale": [
             [
              0,
              "#0d0887"
             ],
             [
              0.1111111111111111,
              "#46039f"
             ],
             [
              0.2222222222222222,
              "#7201a8"
             ],
             [
              0.3333333333333333,
              "#9c179e"
             ],
             [
              0.4444444444444444,
              "#bd3786"
             ],
             [
              0.5555555555555556,
              "#d8576b"
             ],
             [
              0.6666666666666666,
              "#ed7953"
             ],
             [
              0.7777777777777778,
              "#fb9f3a"
             ],
             [
              0.8888888888888888,
              "#fdca26"
             ],
             [
              1,
              "#f0f921"
             ]
            ],
            "type": "histogram2dcontour"
           }
          ],
          "mesh3d": [
           {
            "colorbar": {
             "outlinewidth": 0,
             "ticks": ""
            },
            "type": "mesh3d"
           }
          ],
          "parcoords": [
           {
            "line": {
             "colorbar": {
              "outlinewidth": 0,
              "ticks": ""
             }
            },
            "type": "parcoords"
           }
          ],
          "pie": [
           {
            "automargin": true,
            "type": "pie"
           }
          ],
          "scatter": [
           {
            "fillpattern": {
             "fillmode": "overlay",
             "size": 10,
             "solidity": 0.2
            },
            "type": "scatter"
           }
          ],
          "scatter3d": [
           {
            "line": {
             "colorbar": {
              "outlinewidth": 0,
              "ticks": ""
             }
            },
            "marker": {
             "colorbar": {
              "outlinewidth": 0,
              "ticks": ""
             }
            },
            "type": "scatter3d"
           }
          ],
          "scattercarpet": [
           {
            "marker": {
             "colorbar": {
              "outlinewidth": 0,
              "ticks": ""
             }
            },
            "type": "scattercarpet"
           }
          ],
          "scattergeo": [
           {
            "marker": {
             "colorbar": {
              "outlinewidth": 0,
              "ticks": ""
             }
            },
            "type": "scattergeo"
           }
          ],
          "scattergl": [
           {
            "marker": {
             "colorbar": {
              "outlinewidth": 0,
              "ticks": ""
             }
            },
            "type": "scattergl"
           }
          ],
          "scattermapbox": [
           {
            "marker": {
             "colorbar": {
              "outlinewidth": 0,
              "ticks": ""
             }
            },
            "type": "scattermapbox"
           }
          ],
          "scatterpolar": [
           {
            "marker": {
             "colorbar": {
              "outlinewidth": 0,
              "ticks": ""
             }
            },
            "type": "scatterpolar"
           }
          ],
          "scatterpolargl": [
           {
            "marker": {
             "colorbar": {
              "outlinewidth": 0,
              "ticks": ""
             }
            },
            "type": "scatterpolargl"
           }
          ],
          "scatterternary": [
           {
            "marker": {
             "colorbar": {
              "outlinewidth": 0,
              "ticks": ""
             }
            },
            "type": "scatterternary"
           }
          ],
          "surface": [
           {
            "colorbar": {
             "outlinewidth": 0,
             "ticks": ""
            },
            "colorscale": [
             [
              0,
              "#0d0887"
             ],
             [
              0.1111111111111111,
              "#46039f"
             ],
             [
              0.2222222222222222,
              "#7201a8"
             ],
             [
              0.3333333333333333,
              "#9c179e"
             ],
             [
              0.4444444444444444,
              "#bd3786"
             ],
             [
              0.5555555555555556,
              "#d8576b"
             ],
             [
              0.6666666666666666,
              "#ed7953"
             ],
             [
              0.7777777777777778,
              "#fb9f3a"
             ],
             [
              0.8888888888888888,
              "#fdca26"
             ],
             [
              1,
              "#f0f921"
             ]
            ],
            "type": "surface"
           }
          ],
          "table": [
           {
            "cells": {
             "fill": {
              "color": "#EBF0F8"
             },
             "line": {
              "color": "white"
             }
            },
            "header": {
             "fill": {
              "color": "#C8D4E3"
             },
             "line": {
              "color": "white"
             }
            },
            "type": "table"
           }
          ]
         },
         "layout": {
          "annotationdefaults": {
           "arrowcolor": "#2a3f5f",
           "arrowhead": 0,
           "arrowwidth": 1
          },
          "autotypenumbers": "strict",
          "coloraxis": {
           "colorbar": {
            "outlinewidth": 0,
            "ticks": ""
           }
          },
          "colorscale": {
           "diverging": [
            [
             0,
             "#8e0152"
            ],
            [
             0.1,
             "#c51b7d"
            ],
            [
             0.2,
             "#de77ae"
            ],
            [
             0.3,
             "#f1b6da"
            ],
            [
             0.4,
             "#fde0ef"
            ],
            [
             0.5,
             "#f7f7f7"
            ],
            [
             0.6,
             "#e6f5d0"
            ],
            [
             0.7,
             "#b8e186"
            ],
            [
             0.8,
             "#7fbc41"
            ],
            [
             0.9,
             "#4d9221"
            ],
            [
             1,
             "#276419"
            ]
           ],
           "sequential": [
            [
             0,
             "#0d0887"
            ],
            [
             0.1111111111111111,
             "#46039f"
            ],
            [
             0.2222222222222222,
             "#7201a8"
            ],
            [
             0.3333333333333333,
             "#9c179e"
            ],
            [
             0.4444444444444444,
             "#bd3786"
            ],
            [
             0.5555555555555556,
             "#d8576b"
            ],
            [
             0.6666666666666666,
             "#ed7953"
            ],
            [
             0.7777777777777778,
             "#fb9f3a"
            ],
            [
             0.8888888888888888,
             "#fdca26"
            ],
            [
             1,
             "#f0f921"
            ]
           ],
           "sequentialminus": [
            [
             0,
             "#0d0887"
            ],
            [
             0.1111111111111111,
             "#46039f"
            ],
            [
             0.2222222222222222,
             "#7201a8"
            ],
            [
             0.3333333333333333,
             "#9c179e"
            ],
            [
             0.4444444444444444,
             "#bd3786"
            ],
            [
             0.5555555555555556,
             "#d8576b"
            ],
            [
             0.6666666666666666,
             "#ed7953"
            ],
            [
             0.7777777777777778,
             "#fb9f3a"
            ],
            [
             0.8888888888888888,
             "#fdca26"
            ],
            [
             1,
             "#f0f921"
            ]
           ]
          },
          "colorway": [
           "#636efa",
           "#EF553B",
           "#00cc96",
           "#ab63fa",
           "#FFA15A",
           "#19d3f3",
           "#FF6692",
           "#B6E880",
           "#FF97FF",
           "#FECB52"
          ],
          "font": {
           "color": "#2a3f5f"
          },
          "geo": {
           "bgcolor": "white",
           "lakecolor": "white",
           "landcolor": "#E5ECF6",
           "showlakes": true,
           "showland": true,
           "subunitcolor": "white"
          },
          "hoverlabel": {
           "align": "left"
          },
          "hovermode": "closest",
          "mapbox": {
           "style": "light"
          },
          "paper_bgcolor": "white",
          "plot_bgcolor": "#E5ECF6",
          "polar": {
           "angularaxis": {
            "gridcolor": "white",
            "linecolor": "white",
            "ticks": ""
           },
           "bgcolor": "#E5ECF6",
           "radialaxis": {
            "gridcolor": "white",
            "linecolor": "white",
            "ticks": ""
           }
          },
          "scene": {
           "xaxis": {
            "backgroundcolor": "#E5ECF6",
            "gridcolor": "white",
            "gridwidth": 2,
            "linecolor": "white",
            "showbackground": true,
            "ticks": "",
            "zerolinecolor": "white"
           },
           "yaxis": {
            "backgroundcolor": "#E5ECF6",
            "gridcolor": "white",
            "gridwidth": 2,
            "linecolor": "white",
            "showbackground": true,
            "ticks": "",
            "zerolinecolor": "white"
           },
           "zaxis": {
            "backgroundcolor": "#E5ECF6",
            "gridcolor": "white",
            "gridwidth": 2,
            "linecolor": "white",
            "showbackground": true,
            "ticks": "",
            "zerolinecolor": "white"
           }
          },
          "shapedefaults": {
           "line": {
            "color": "#2a3f5f"
           }
          },
          "ternary": {
           "aaxis": {
            "gridcolor": "white",
            "linecolor": "white",
            "ticks": ""
           },
           "baxis": {
            "gridcolor": "white",
            "linecolor": "white",
            "ticks": ""
           },
           "bgcolor": "#E5ECF6",
           "caxis": {
            "gridcolor": "white",
            "linecolor": "white",
            "ticks": ""
           }
          },
          "title": {
           "x": 0.05
          },
          "xaxis": {
           "automargin": true,
           "gridcolor": "white",
           "linecolor": "white",
           "ticks": "",
           "title": {
            "standoff": 15
           },
           "zerolinecolor": "white",
           "zerolinewidth": 2
          },
          "yaxis": {
           "automargin": true,
           "gridcolor": "white",
           "linecolor": "white",
           "ticks": "",
           "title": {
            "standoff": 15
           },
           "zerolinecolor": "white",
           "zerolinewidth": 2
          }
         }
        },
        "title": {
         "text": "Wrong votes for reorged local block vs parent block <span style=\"font-size: 16px;\">(2023-08-15 - 2024-08-14)</span>"
        },
        "width": 1200,
        "xaxis": {
         "gridcolor": "#888888",
         "showgrid": true,
         "tickformat": ",d",
         "title": {
          "text": "block proposer"
         }
        },
        "yaxis": {
         "gridcolor": "#888888",
         "showgrid": true,
         "tickvals": [
          0,
          10,
          20,
          30,
          40,
          50,
          60,
          70,
          80,
          90,
          100
         ],
         "title": {
          "text": "% of validators"
         }
        }
       }
      },
      "text/html": [
       "<div>                            <div id=\"4a94a9b8-4519-42e1-9f1e-ae1810b2be45\" class=\"plotly-graph-div\" style=\"height:550px; width:1200px;\"></div>            <script type=\"text/javascript\">                require([\"plotly\"], function(Plotly) {                    window.PLOTLYENV=window.PLOTLYENV || {};                                    if (document.getElementById(\"4a94a9b8-4519-42e1-9f1e-ae1810b2be45\")) {                    Plotly.newPlot(                        \"4a94a9b8-4519-42e1-9f1e-ae1810b2be45\",                        [{\"marker\":{\"color\":\"rgba(228, 26, 28, 0.9)\"},\"name\":\"Votes for Own\\u002fLocal Block\",\"x\":[\"lido\",\"unidentified\",\"coinbase\",\"kiln\",\"binance\",\"figment\",\"kraken\",\"rocketpool\"],\"y\":[2.7077205439799243,1.7599536105417157,1.2351676876723974,11.673751270311323,0.11722134447785537,0.7965267332148229,1.234146685804372,1.52102872021042],\"type\":\"bar\"},{\"marker\":{\"color\":\"rgba(55, 126, 184, 0.9)\"},\"name\":\"Votes for Parent\\u002fReorg Block\",\"x\":[\"lido\",\"unidentified\",\"coinbase\",\"kiln\",\"binance\",\"figment\",\"kraken\",\"rocketpool\"],\"y\":[97.29227945602008,98.24004638945829,98.7648323123276,88.32624872968869,99.88277865552215,99.20347326678518,98.76585331419562,98.47897127978959],\"type\":\"bar\"}],                        {\"template\":{\"data\":{\"histogram2dcontour\":[{\"type\":\"histogram2dcontour\",\"colorbar\":{\"outlinewidth\":0,\"ticks\":\"\"},\"colorscale\":[[0.0,\"#0d0887\"],[0.1111111111111111,\"#46039f\"],[0.2222222222222222,\"#7201a8\"],[0.3333333333333333,\"#9c179e\"],[0.4444444444444444,\"#bd3786\"],[0.5555555555555556,\"#d8576b\"],[0.6666666666666666,\"#ed7953\"],[0.7777777777777778,\"#fb9f3a\"],[0.8888888888888888,\"#fdca26\"],[1.0,\"#f0f921\"]]}],\"choropleth\":[{\"type\":\"choropleth\",\"colorbar\":{\"outlinewidth\":0,\"ticks\":\"\"}}],\"histogram2d\":[{\"type\":\"histogram2d\",\"colorbar\":{\"outlinewidth\":0,\"ticks\":\"\"},\"colorscale\":[[0.0,\"#0d0887\"],[0.1111111111111111,\"#46039f\"],[0.2222222222222222,\"#7201a8\"],[0.3333333333333333,\"#9c179e\"],[0.4444444444444444,\"#bd3786\"],[0.5555555555555556,\"#d8576b\"],[0.6666666666666666,\"#ed7953\"],[0.7777777777777778,\"#fb9f3a\"],[0.8888888888888888,\"#fdca26\"],[1.0,\"#f0f921\"]]}],\"heatmap\":[{\"type\":\"heatmap\",\"colorbar\":{\"outlinewidth\":0,\"ticks\":\"\"},\"colorscale\":[[0.0,\"#0d0887\"],[0.1111111111111111,\"#46039f\"],[0.2222222222222222,\"#7201a8\"],[0.3333333333333333,\"#9c179e\"],[0.4444444444444444,\"#bd3786\"],[0.5555555555555556,\"#d8576b\"],[0.6666666666666666,\"#ed7953\"],[0.7777777777777778,\"#fb9f3a\"],[0.8888888888888888,\"#fdca26\"],[1.0,\"#f0f921\"]]}],\"heatmapgl\":[{\"type\":\"heatmapgl\",\"colorbar\":{\"outlinewidth\":0,\"ticks\":\"\"},\"colorscale\":[[0.0,\"#0d0887\"],[0.1111111111111111,\"#46039f\"],[0.2222222222222222,\"#7201a8\"],[0.3333333333333333,\"#9c179e\"],[0.4444444444444444,\"#bd3786\"],[0.5555555555555556,\"#d8576b\"],[0.6666666666666666,\"#ed7953\"],[0.7777777777777778,\"#fb9f3a\"],[0.8888888888888888,\"#fdca26\"],[1.0,\"#f0f921\"]]}],\"contourcarpet\":[{\"type\":\"contourcarpet\",\"colorbar\":{\"outlinewidth\":0,\"ticks\":\"\"}}],\"contour\":[{\"type\":\"contour\",\"colorbar\":{\"outlinewidth\":0,\"ticks\":\"\"},\"colorscale\":[[0.0,\"#0d0887\"],[0.1111111111111111,\"#46039f\"],[0.2222222222222222,\"#7201a8\"],[0.3333333333333333,\"#9c179e\"],[0.4444444444444444,\"#bd3786\"],[0.5555555555555556,\"#d8576b\"],[0.6666666666666666,\"#ed7953\"],[0.7777777777777778,\"#fb9f3a\"],[0.8888888888888888,\"#fdca26\"],[1.0,\"#f0f921\"]]}],\"surface\":[{\"type\":\"surface\",\"colorbar\":{\"outlinewidth\":0,\"ticks\":\"\"},\"colorscale\":[[0.0,\"#0d0887\"],[0.1111111111111111,\"#46039f\"],[0.2222222222222222,\"#7201a8\"],[0.3333333333333333,\"#9c179e\"],[0.4444444444444444,\"#bd3786\"],[0.5555555555555556,\"#d8576b\"],[0.6666666666666666,\"#ed7953\"],[0.7777777777777778,\"#fb9f3a\"],[0.8888888888888888,\"#fdca26\"],[1.0,\"#f0f921\"]]}],\"mesh3d\":[{\"type\":\"mesh3d\",\"colorbar\":{\"outlinewidth\":0,\"ticks\":\"\"}}],\"scatter\":[{\"fillpattern\":{\"fillmode\":\"overlay\",\"size\":10,\"solidity\":0.2},\"type\":\"scatter\"}],\"parcoords\":[{\"type\":\"parcoords\",\"line\":{\"colorbar\":{\"outlinewidth\":0,\"ticks\":\"\"}}}],\"scatterpolargl\":[{\"type\":\"scatterpolargl\",\"marker\":{\"colorbar\":{\"outlinewidth\":0,\"ticks\":\"\"}}}],\"bar\":[{\"error_x\":{\"color\":\"#2a3f5f\"},\"error_y\":{\"color\":\"#2a3f5f\"},\"marker\":{\"line\":{\"color\":\"#E5ECF6\",\"width\":0.5},\"pattern\":{\"fillmode\":\"overlay\",\"size\":10,\"solidity\":0.2}},\"type\":\"bar\"}],\"scattergeo\":[{\"type\":\"scattergeo\",\"marker\":{\"colorbar\":{\"outlinewidth\":0,\"ticks\":\"\"}}}],\"scatterpolar\":[{\"type\":\"scatterpolar\",\"marker\":{\"colorbar\":{\"outlinewidth\":0,\"ticks\":\"\"}}}],\"histogram\":[{\"marker\":{\"pattern\":{\"fillmode\":\"overlay\",\"size\":10,\"solidity\":0.2}},\"type\":\"histogram\"}],\"scattergl\":[{\"type\":\"scattergl\",\"marker\":{\"colorbar\":{\"outlinewidth\":0,\"ticks\":\"\"}}}],\"scatter3d\":[{\"type\":\"scatter3d\",\"line\":{\"colorbar\":{\"outlinewidth\":0,\"ticks\":\"\"}},\"marker\":{\"colorbar\":{\"outlinewidth\":0,\"ticks\":\"\"}}}],\"scattermapbox\":[{\"type\":\"scattermapbox\",\"marker\":{\"colorbar\":{\"outlinewidth\":0,\"ticks\":\"\"}}}],\"scatterternary\":[{\"type\":\"scatterternary\",\"marker\":{\"colorbar\":{\"outlinewidth\":0,\"ticks\":\"\"}}}],\"scattercarpet\":[{\"type\":\"scattercarpet\",\"marker\":{\"colorbar\":{\"outlinewidth\":0,\"ticks\":\"\"}}}],\"carpet\":[{\"aaxis\":{\"endlinecolor\":\"#2a3f5f\",\"gridcolor\":\"white\",\"linecolor\":\"white\",\"minorgridcolor\":\"white\",\"startlinecolor\":\"#2a3f5f\"},\"baxis\":{\"endlinecolor\":\"#2a3f5f\",\"gridcolor\":\"white\",\"linecolor\":\"white\",\"minorgridcolor\":\"white\",\"startlinecolor\":\"#2a3f5f\"},\"type\":\"carpet\"}],\"table\":[{\"cells\":{\"fill\":{\"color\":\"#EBF0F8\"},\"line\":{\"color\":\"white\"}},\"header\":{\"fill\":{\"color\":\"#C8D4E3\"},\"line\":{\"color\":\"white\"}},\"type\":\"table\"}],\"barpolar\":[{\"marker\":{\"line\":{\"color\":\"#E5ECF6\",\"width\":0.5},\"pattern\":{\"fillmode\":\"overlay\",\"size\":10,\"solidity\":0.2}},\"type\":\"barpolar\"}],\"pie\":[{\"automargin\":true,\"type\":\"pie\"}]},\"layout\":{\"autotypenumbers\":\"strict\",\"colorway\":[\"#636efa\",\"#EF553B\",\"#00cc96\",\"#ab63fa\",\"#FFA15A\",\"#19d3f3\",\"#FF6692\",\"#B6E880\",\"#FF97FF\",\"#FECB52\"],\"font\":{\"color\":\"#2a3f5f\"},\"hovermode\":\"closest\",\"hoverlabel\":{\"align\":\"left\"},\"paper_bgcolor\":\"white\",\"plot_bgcolor\":\"#E5ECF6\",\"polar\":{\"bgcolor\":\"#E5ECF6\",\"angularaxis\":{\"gridcolor\":\"white\",\"linecolor\":\"white\",\"ticks\":\"\"},\"radialaxis\":{\"gridcolor\":\"white\",\"linecolor\":\"white\",\"ticks\":\"\"}},\"ternary\":{\"bgcolor\":\"#E5ECF6\",\"aaxis\":{\"gridcolor\":\"white\",\"linecolor\":\"white\",\"ticks\":\"\"},\"baxis\":{\"gridcolor\":\"white\",\"linecolor\":\"white\",\"ticks\":\"\"},\"caxis\":{\"gridcolor\":\"white\",\"linecolor\":\"white\",\"ticks\":\"\"}},\"coloraxis\":{\"colorbar\":{\"outlinewidth\":0,\"ticks\":\"\"}},\"colorscale\":{\"sequential\":[[0.0,\"#0d0887\"],[0.1111111111111111,\"#46039f\"],[0.2222222222222222,\"#7201a8\"],[0.3333333333333333,\"#9c179e\"],[0.4444444444444444,\"#bd3786\"],[0.5555555555555556,\"#d8576b\"],[0.6666666666666666,\"#ed7953\"],[0.7777777777777778,\"#fb9f3a\"],[0.8888888888888888,\"#fdca26\"],[1.0,\"#f0f921\"]],\"sequentialminus\":[[0.0,\"#0d0887\"],[0.1111111111111111,\"#46039f\"],[0.2222222222222222,\"#7201a8\"],[0.3333333333333333,\"#9c179e\"],[0.4444444444444444,\"#bd3786\"],[0.5555555555555556,\"#d8576b\"],[0.6666666666666666,\"#ed7953\"],[0.7777777777777778,\"#fb9f3a\"],[0.8888888888888888,\"#fdca26\"],[1.0,\"#f0f921\"]],\"diverging\":[[0,\"#8e0152\"],[0.1,\"#c51b7d\"],[0.2,\"#de77ae\"],[0.3,\"#f1b6da\"],[0.4,\"#fde0ef\"],[0.5,\"#f7f7f7\"],[0.6,\"#e6f5d0\"],[0.7,\"#b8e186\"],[0.8,\"#7fbc41\"],[0.9,\"#4d9221\"],[1,\"#276419\"]]},\"xaxis\":{\"gridcolor\":\"white\",\"linecolor\":\"white\",\"ticks\":\"\",\"title\":{\"standoff\":15},\"zerolinecolor\":\"white\",\"automargin\":true,\"zerolinewidth\":2},\"yaxis\":{\"gridcolor\":\"white\",\"linecolor\":\"white\",\"ticks\":\"\",\"title\":{\"standoff\":15},\"zerolinecolor\":\"white\",\"automargin\":true,\"zerolinewidth\":2},\"scene\":{\"xaxis\":{\"backgroundcolor\":\"#E5ECF6\",\"gridcolor\":\"white\",\"linecolor\":\"white\",\"showbackground\":true,\"ticks\":\"\",\"zerolinecolor\":\"white\",\"gridwidth\":2},\"yaxis\":{\"backgroundcolor\":\"#E5ECF6\",\"gridcolor\":\"white\",\"linecolor\":\"white\",\"showbackground\":true,\"ticks\":\"\",\"zerolinecolor\":\"white\",\"gridwidth\":2},\"zaxis\":{\"backgroundcolor\":\"#E5ECF6\",\"gridcolor\":\"white\",\"linecolor\":\"white\",\"showbackground\":true,\"ticks\":\"\",\"zerolinecolor\":\"white\",\"gridwidth\":2}},\"shapedefaults\":{\"line\":{\"color\":\"#2a3f5f\"}},\"annotationdefaults\":{\"arrowcolor\":\"#2a3f5f\",\"arrowhead\":0,\"arrowwidth\":1},\"geo\":{\"bgcolor\":\"white\",\"landcolor\":\"#E5ECF6\",\"subunitcolor\":\"white\",\"showland\":true,\"showlakes\":true,\"lakecolor\":\"white\"},\"title\":{\"x\":0.05},\"mapbox\":{\"style\":\"light\"}}},\"font\":{\"family\":\"Ubuntu Mono\",\"size\":16},\"legend\":{\"x\":0.98,\"y\":0.94,\"xanchor\":\"right\",\"yanchor\":\"top\",\"bgcolor\":\"rgba(255,255,255,0.9)\"},\"xaxis\":{\"title\":{\"text\":\"block proposer\"},\"showgrid\":true,\"gridcolor\":\"#888888\",\"tickformat\":\",d\"},\"yaxis\":{\"title\":{\"text\":\"% of validators\"},\"showgrid\":true,\"gridcolor\":\"#888888\",\"tickvals\":[0,10,20,30,40,50,60,70,80,90,100]},\"title\":{\"text\":\"Wrong votes for reorged local block vs parent block \\u003cspan style=\\\"font-size: 16px;\\\"\\u003e(2023-08-15 - 2024-08-14)\\u003c\\u002fspan\\u003e\"},\"barmode\":\"stack\",\"plot_bgcolor\":\"white\",\"annotations\":[{\"font\":{\"color\":\"white\",\"family\":\"Ubuntu Mono\",\"size\":19},\"showarrow\":false,\"text\":\"n=807\",\"x\":0,\"xanchor\":\"center\",\"y\":10,\"yanchor\":\"top\"},{\"font\":{\"color\":\"white\",\"family\":\"Ubuntu Mono\",\"size\":19},\"showarrow\":false,\"text\":\"n=1,900\",\"x\":1,\"xanchor\":\"center\",\"y\":10,\"yanchor\":\"top\"},{\"font\":{\"color\":\"white\",\"family\":\"Ubuntu Mono\",\"size\":19},\"showarrow\":false,\"text\":\"n=1,223\",\"x\":2,\"xanchor\":\"center\",\"y\":10,\"yanchor\":\"top\"},{\"font\":{\"color\":\"white\",\"family\":\"Ubuntu Mono\",\"size\":19},\"showarrow\":false,\"text\":\"n=208\",\"x\":3,\"xanchor\":\"center\",\"y\":10,\"yanchor\":\"top\"},{\"font\":{\"color\":\"white\",\"family\":\"Ubuntu Mono\",\"size\":19},\"showarrow\":false,\"text\":\"n=43\",\"x\":4,\"xanchor\":\"center\",\"y\":10,\"yanchor\":\"top\"},{\"font\":{\"color\":\"white\",\"family\":\"Ubuntu Mono\",\"size\":19},\"showarrow\":false,\"text\":\"n=110\",\"x\":5,\"xanchor\":\"center\",\"y\":10,\"yanchor\":\"top\"},{\"font\":{\"color\":\"white\",\"family\":\"Ubuntu Mono\",\"size\":19},\"showarrow\":false,\"text\":\"n=163\",\"x\":6,\"xanchor\":\"center\",\"y\":10,\"yanchor\":\"top\"},{\"font\":{\"color\":\"white\",\"family\":\"Ubuntu Mono\",\"size\":19},\"showarrow\":false,\"text\":\"n=240\",\"x\":7,\"xanchor\":\"center\",\"y\":10,\"yanchor\":\"top\"}],\"height\":550,\"width\":1200},                        {\"responsive\": true}                    ).then(function(){\n",
       "                            \n",
       "var gd = document.getElementById('4a94a9b8-4519-42e1-9f1e-ae1810b2be45');\n",
       "var x = new MutationObserver(function (mutations, observer) {{\n",
       "        var display = window.getComputedStyle(gd).display;\n",
       "        if (!display || display === 'none') {{\n",
       "            console.log([gd, 'removed!']);\n",
       "            Plotly.purge(gd);\n",
       "            observer.disconnect();\n",
       "        }}\n",
       "}});\n",
       "\n",
       "// Listen for the removal of the full notebook cells\n",
       "var notebookContainer = gd.closest('#notebook-container');\n",
       "if (notebookContainer) {{\n",
       "    x.observe(notebookContainer, {childList: true});\n",
       "}}\n",
       "\n",
       "// Listen for the clearing of the current output cell\n",
       "var outputEl = gd.closest('.output');\n",
       "if (outputEl) {{\n",
       "    x.observe(outputEl, {childList: true});\n",
       "}}\n",
       "\n",
       "                        })                };                });            </script>        </div>"
      ]
     },
     "metadata": {},
     "output_type": "display_data"
    }
   ],
   "source": [
    "fig = go.Figure(data=[\n",
    "    go.Bar(name='Votes for Own/Local Block', x=tt[\"entity\"], y=tt[\"votes_for_wrong\"], marker_color=hex_to_rgba(COLORS[6], 0.9)),\n",
    "    go.Bar(name='Votes for Parent/Reorg Block', x=tt[\"entity\"], y=tt[\"votes_for_parent\"], marker_color=hex_to_rgba(COLORS[0], 0.9)),\n",
    "])\n",
    "annotations = [\n",
    "    dict(\n",
    "        x=ix, y=10, text=f\"n={ns[entity]:,}\", showarrow=False, \n",
    "        xanchor='center', yanchor='top',  font=dict(family=\"Ubuntu Mono\", size=FONTSIZE+3, color=\"white\"),\n",
    "    ) \n",
    "    for ix, entity in enumerate(tt[\"entity\"].unique().tolist())\n",
    "]\n",
    "fig.update_layout (\n",
    "    title=f'Wrong votes for reorged local block vs parent block <span style=\"font-size: 16px;\">({slot_to_day(proposer_labels.slot.min())} - {slot_to_day(proposer_labels.slot.max())})</span>',\n",
    "    xaxis_title=\"block proposer\",\n",
    "    barmode='stack',\n",
    "    yaxis_title=f'% of validators',\n",
    "    plot_bgcolor='white',\n",
    "    font=dict(family=\"Ubuntu Mono\", size=FONTSIZE),\n",
    "    legend=dict(\n",
    "        x=0.98,\n",
    "        y=0.94,\n",
    "        xanchor='right',\n",
    "        yanchor='top',\n",
    "        bgcolor=\"rgba(255,255,255,0.9)\"\n",
    "    ),\n",
    "        annotations=annotations,\n",
    "\n",
    "    xaxis=dict(showgrid=True, gridcolor='#888888', tickformat=\",d\"),\n",
    "    yaxis=dict(showgrid=True, gridcolor='#888888',\n",
    "              tickvals=list(range(0,101,10))),\n",
    "    height=550,\n",
    "    width=1200,\n",
    ")\n",
    "\n",
    "\n",
    "fig.write_image(f\"att_pics/votes_for_local_reorged_block.png\")\n",
    "fig.show()"
   ]
  },
  {
   "cell_type": "code",
   "execution_count": null,
   "id": "19c90af7",
   "metadata": {},
   "outputs": [],
   "source": []
  }
 ],
 "metadata": {
  "kernelspec": {
   "display_name": "datanalysis",
   "language": "python",
   "name": "datanalysis"
  },
  "language_info": {
   "codemirror_mode": {
    "name": "ipython",
    "version": 3
   },
   "file_extension": ".py",
   "mimetype": "text/x-python",
   "name": "python",
   "nbconvert_exporter": "python",
   "pygments_lexer": "ipython3",
   "version": "3.11.2"
  }
 },
 "nbformat": 4,
 "nbformat_minor": 5
}
